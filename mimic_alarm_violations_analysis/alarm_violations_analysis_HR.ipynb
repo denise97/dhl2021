{
 "metadata": {
  "language_info": {
   "codemirror_mode": {
    "name": "ipython",
    "version": 3
   },
   "file_extension": ".py",
   "mimetype": "text/x-python",
   "name": "python",
   "nbconvert_exporter": "python",
   "pygments_lexer": "ipython3",
   "version": "3.9.0"
  },
  "orig_nbformat": 2,
  "kernelspec": {
   "name": "python390jvsc74a57bd0e2bfb1b1dd0bcdebdb315279aa118b1f834444d4ba3ba6d660e9f6ce7703f6a2",
   "display_name": "Python 3.9.0 64-bit"
  },
  "metadata": {
   "interpreter": {
    "hash": "e2bfb1b1dd0bcdebdb315279aa118b1f834444d4ba3ba6d660e9f6ce7703f6a2"
   }
  }
 },
 "nbformat": 4,
 "nbformat_minor": 2,
 "cells": [
  {
   "source": [
    "# Analysis of `alarm_violations.csv`\n",
    "\n",
    "For each parameter ...\n",
    "* Concerning alarm violations ...\n",
    "  * Create a boxplot and stripplot based on the VALUENUM\n",
    "  * Clean the data if necessary\n",
    "  * Create histogram for cleaned VALUENUM  \n",
    "* Concerning alarm thresholds ...\n",
    "  * Create a boxplot and stripplot based on the THRESHOLD_VALUE (stratified by THRESHOLD_TYPE)\n",
    "  * Clean the data if necessary\n",
    "  * Create histogram for cleaned THRESHOLD_VALUE (stratified by THRESHOLD_TYPE)\n"
   ],
   "cell_type": "markdown",
   "metadata": {}
  },
  {
   "source": [
    "## Import Data"
   ],
   "cell_type": "markdown",
   "metadata": {}
  },
  {
   "cell_type": "code",
   "execution_count": null,
   "metadata": {},
   "outputs": [],
   "source": [
    "# Overview: Import all libraries used.\n",
    "import numpy as np\n",
    "import pandas as pd\n",
    "#import scipy\n",
    "#import matplotlib.pyplot as plt\n",
    "import seaborn as sns\n",
    "#import sklearn"
   ]
  },
  {
   "cell_type": "code",
   "execution_count": null,
   "metadata": {},
   "outputs": [],
   "source": [
    "import pandas as pd\n",
    "alarm_violations = pd.read_csv('./alarm_violations.csv')\n",
    "alarm_violations.head()"
   ]
  },
  {
   "source": [
    "## Parameter: Heart Rate\n",
    "\n",
    "* `220045` **Heart Rate** (HR), metavision, in bpm (numeric)\n",
    "* `220046` **Heart rate Alarm - High** (HR Alarm - High), metavision, in bpm (numeric)\n",
    "* `220047` **Heart rate Alarm - Low** (HR Alarm - Low), metavision, in bpm (numeric)"
   ],
   "cell_type": "markdown",
   "metadata": {}
  },
  {
   "source": [
    "### Heart Rate - Alarm Violations"
   ],
   "cell_type": "markdown",
   "metadata": {}
  },
  {
   "cell_type": "code",
   "execution_count": null,
   "metadata": {},
   "outputs": [],
   "source": [
    "HR_violations = alarm_violations[(alarm_violations[\"ITEMID\"] == 220045)]\n",
    "display(HR_violations)"
   ]
  },
  {
   "cell_type": "code",
   "execution_count": null,
   "metadata": {},
   "outputs": [],
   "source": [
    "HR_violations.VALUENUM.describe()"
   ]
  },
  {
   "cell_type": "code",
   "execution_count": null,
   "metadata": {},
   "outputs": [],
   "source": [
    "import seaborn as sns\n",
    "sns.boxplot(data=HR_violations, x='VALUENUM')"
   ]
  },
  {
   "source": [
    "Among the VALUENUM values is at least one negative heart rate (min = -88) and a maximum heart rate of 86101 bpm.\n",
    "These appear to be implausible outliers.\n",
    "\n",
    "Let's check whether the unit (VALUEUOM) is \"bpm\" for all heart rates (what is expected according to `D_ITEMS.csv`)."
   ],
   "cell_type": "markdown",
   "metadata": {}
  },
  {
   "source": [
    "HR_violations.VALUEUOM.unique()"
   ],
   "cell_type": "code",
   "metadata": {},
   "execution_count": null,
   "outputs": []
  },
  {
   "source": [
    "All heart rates are given in bpm as expected.\n",
    "\n",
    "Let's check the literature to see what heart rates can be expected based on medical knowledge.\n",
    "\n",
    "* General guideline: \"*To estimate your maximum age-related heart rate, subtract your age from 220.*\" (https://www.cdc.gov/physicalactivity/basics/measuring/heartrate.htm)\n",
    "  * First idea: Let's take >220 as upper cut off when removing implausible outliers\n",
    "* \"*The fastest human ventricular conduction rate reported to date is a conducted tachyarrhythmia with ventricular rate of 480 beats per minute*\" (https://www.ncbi.nlm.nih.gov/pmc/articles/PMC3273956/)\n",
    "  * Second idea: Let's take >480 as upper cut off when removing implausible outliers\n",
    "* Pacemakers may be the reason why heart rates are recorded around 1000 and higher.\n",
    "  * Came to my attention via https://www.quora.com/What-is-the-fastest-heartbeat-rate-ever-recorded\n",
    "  * Investigate later and find literature on this.\n",
    "\n",
    "Decision for now: Consider heart rates below 0 and above 480 bpm as implausible values to be removed before further analysis."
   ],
   "cell_type": "markdown",
   "metadata": {}
  },
  {
   "cell_type": "code",
   "execution_count": null,
   "metadata": {},
   "outputs": [],
   "source": [
    "HR_violations_clean = HR_violations[(HR_violations[\"VALUENUM\"] >= 0) & (HR_violations[\"VALUENUM\"] <= 480)]\n",
    "HR_violations_removed_too_low = HR_violations[(HR_violations[\"VALUENUM\"] < 0)]\n",
    "HR_violations_removed_too_high = HR_violations[(HR_violations[\"VALUENUM\"] > 480)]"
   ]
  },
  {
   "cell_type": "code",
   "execution_count": null,
   "metadata": {},
   "outputs": [],
   "source": [
    "# Check rows that were removed because of too low VALUENUM\n",
    "display(HR_violations_removed_too_low.sort_values(by=['VALUENUM']))\n",
    "HR_violations_removed_too_low.VALUENUM.describe()\n",
    "# To me, seems to make sense to remove them."
   ]
  },
  {
   "cell_type": "code",
   "execution_count": null,
   "metadata": {},
   "outputs": [],
   "source": [
    "display(HR_violations_removed_too_low[[\"VALUENUM\",\"THRESHOLD_VALUE\",\"THRESHOLD_TYPE\"]].sort_values(by=['VALUENUM']))"
   ]
  },
  {
   "cell_type": "code",
   "execution_count": null,
   "metadata": {},
   "outputs": [],
   "source": [
    "# Check rows that were removed because of too high VALUENUM\n",
    "display(HR_violations_removed_too_high.sort_values(by=['VALUENUM']))\n",
    "HR_violations_removed_too_high.VALUENUM.describe()\n",
    "# To me, seems to make sense to remove them. Maybe we will reconsider after following up on the pacemaker issue.\n",
    "# Question that came to my mind: Should we train the ML model only on clean data or should we include outliers as they appear in the real data and might have a 'hidden meaning'?"
   ]
  },
  {
   "cell_type": "code",
   "execution_count": null,
   "metadata": {},
   "outputs": [],
   "source": [
    "display(HR_violations_removed_too_high[[\"VALUENUM\",\"THRESHOLD_VALUE\",\"THRESHOLD_TYPE\"]].sort_values(by=['VALUENUM']))"
   ]
  },
  {
   "cell_type": "code",
   "execution_count": null,
   "metadata": {},
   "outputs": [],
   "source": [
    "# Check cleaned HR_violations\n",
    "display(HR_violations_clean.sort_values(by=['VALUENUM']))\n",
    "HR_violations_clean.VALUENUM.describe()"
   ]
  },
  {
   "cell_type": "code",
   "execution_count": null,
   "metadata": {},
   "outputs": [],
   "source": [
    "import matplotlib.pyplot as plt\n",
    "import seaborn as sns\n",
    "sns.set_style(\"whitegrid\")\n",
    "\n",
    "fig, axs = plt.subplots(1, 3, figsize=(25, 5))\n",
    "fig.suptitle(\"Heart Rate - Alarm Violations\", fontsize=18)\n",
    "\n",
    "sns.stripplot(data=HR_violations_clean, x='VALUENUM', ax=axs[0])\n",
    "axs[0].set_title(\"HR_violations_clean scatter plot\")\n",
    "axs[0].set_xlabel(\"HR_violations_clean VALUENUM\")\n",
    "\n",
    "sns.boxplot(data=HR_violations_clean, x='VALUENUM', ax=axs[1])\n",
    "axs[1].set_title(\"HR_violations_clean boxplot\")\n",
    "axs[1].set_xlabel(\"HR_violations_clean VALUENUM\")\n",
    "\n",
    "sns.histplot(data=HR_violations_clean, x='VALUENUM', ax=axs[2])\n",
    "axs[2].set_title(\"HR_violations_clean histogram\")\n",
    "axs[2].set_xlabel(\"HR_violations_clean VALUENUM\")\n",
    "\n",
    "plt.show(fig)"
   ]
  },
  {
   "source": [
    "### Heart Rate - Alarm Thresholds"
   ],
   "cell_type": "markdown",
   "metadata": {}
  },
  {
   "cell_type": "code",
   "execution_count": null,
   "metadata": {},
   "outputs": [],
   "source": [
    "display(HR_violations)"
   ]
  },
  {
   "cell_type": "code",
   "execution_count": null,
   "metadata": {},
   "outputs": [],
   "source": [
    "# Check Heart rate Alarm - High threshold\n",
    "HR_violations[(HR_violations[\"THRESHOLD_TYPE\"] == \"HIGH\")].THRESHOLD_VALUE.describe()"
   ]
  },
  {
   "cell_type": "code",
   "execution_count": null,
   "metadata": {},
   "outputs": [],
   "source": [
    "import seaborn as sns\n",
    "import matplotlib.pyplot as plt\n",
    "sns.set_style(\"whitegrid\")\n",
    "\n",
    "fig, (fig_box, fig_hist) = plt.subplots(2, sharex=True, gridspec_kw={\"height_ratios\": (.15, .85)}, figsize=(7, 5))\n",
    "fig.suptitle(\"Heart rate alarm thresholds of type HIGH\", fontsize=16)\n",
    "sns.boxplot(data=HR_violations[(HR_violations[\"THRESHOLD_TYPE\"] == \"HIGH\")], x=\"THRESHOLD_VALUE\", ax=fig_box)\n",
    "fig_box.set(xlabel=\"\")\n",
    "sns.histplot(data=HR_violations[(HR_violations[\"THRESHOLD_TYPE\"] == \"HIGH\")], x=\"THRESHOLD_VALUE\", kde=True, ax=fig_hist)\n",
    "fig_hist.set_xlabel(\"THRESHOLD_VALUE (Heart rate in bpm)\", fontsize=12)\n",
    "fig_hist.set_ylabel(\"Count\", fontsize=12)\n",
    "\n",
    "plt.show()"
   ]
  },
  {
   "source": [
    "The minimum value of the HIGH alarm thresholds is 0, which is surprisingly low.\n",
    "\n",
    "Let's check the suspiciously low HIGH alarm thresholds."
   ],
   "cell_type": "markdown",
   "metadata": {}
  },
  {
   "cell_type": "code",
   "execution_count": null,
   "metadata": {},
   "outputs": [],
   "source": [
    "# Looking at THRESHOLD_VALUE smaller than 40 ...\n",
    "HR_threshold_check_high = HR_violations[(HR_violations[\"THRESHOLD_TYPE\"] == \"HIGH\") & (HR_violations[\"THRESHOLD_VALUE\"] < 40)].sort_values(by=['THRESHOLD_VALUE'])\n",
    "display(HR_threshold_check_high)\n",
    "HR_threshold_check_high.THRESHOLD_VALUE.describe()"
   ]
  },
  {
   "cell_type": "code",
   "execution_count": null,
   "metadata": {},
   "outputs": [],
   "source": [
    "sns.boxplot(data=HR_threshold_check_high, x='THRESHOLD_VALUE')"
   ]
  },
  {
   "cell_type": "code",
   "execution_count": null,
   "metadata": {},
   "outputs": [],
   "source": [
    "# Now, let's refine and look only on THRESHOLD_VALUE smaller than 10 ...\n",
    "HR_threshold_check_high = HR_violations[(HR_violations[\"THRESHOLD_TYPE\"] == \"HIGH\") & (HR_violations[\"THRESHOLD_VALUE\"] < 10)].sort_values(by=['THRESHOLD_VALUE'])\n",
    "display(HR_threshold_check_high)\n",
    "HR_threshold_check_high.THRESHOLD_VALUE.describe()"
   ]
  },
  {
   "source": [
    "There are 111 THRESHOLD_VALUEs that are 0 >= x =< 1 for thresholds of type HIGH, which is suspicious.\n",
    "\n",
    " A possible explanation could be that ICU staff sets a too low threshold by mistake (e.g. typing 0 instead of 100). This would directly trigger an alarm.\n",
    "\n",
    "Keeping in mind that the data set includes only the violated thresholds; unusually high thresholds will rarely trigger an alarm, while unusually low alarms (such as 0 bpm) will immediately cause an alarm in living people."
   ],
   "cell_type": "markdown",
   "metadata": {}
  },
  {
   "cell_type": "code",
   "execution_count": null,
   "metadata": {},
   "outputs": [],
   "source": [
    "# Check Heart rate Alarm - Low threshold\n",
    "HR_violations[(HR_violations[\"THRESHOLD_TYPE\"] == \"LOW\")].THRESHOLD_VALUE.describe()"
   ]
  },
  {
   "cell_type": "code",
   "execution_count": null,
   "metadata": {},
   "outputs": [],
   "source": [
    "import seaborn as sns\n",
    "import matplotlib.pyplot as plt\n",
    "sns.set_style(\"whitegrid\")\n",
    "\n",
    "fig = sns.stripplot(data=HR_violations[(HR_violations[\"THRESHOLD_TYPE\"] == \"LOW\")], x=\"THRESHOLD_VALUE\")\n",
    "fig.set_title(\"Scatterplot for heart rate alarm thresholds of type LOW\", fontsize=14)\n",
    "fig.set_xlabel(\"THRESHOLD_VALUE (Heart rate in bpm)\", fontsize=12)\n",
    "\n",
    "plt.show(fig)"
   ]
  },
  {
   "source": [
    "The maximum value of the LOW alarm thresholds is 85160, which is surprisingly high.\n",
    "\n",
    "Let's check the suspiciously low HIGH alarm thresholds."
   ],
   "cell_type": "markdown",
   "metadata": {}
  },
  {
   "cell_type": "code",
   "execution_count": null,
   "metadata": {},
   "outputs": [],
   "source": [
    "HR_threshold_check_low = HR_violations[(HR_violations[\"THRESHOLD_TYPE\"] == \"LOW\") & (HR_violations[\"THRESHOLD_VALUE\"] > 480)].sort_values(by=['THRESHOLD_VALUE'])\n",
    "display(HR_threshold_check_low)\n",
    "HR_threshold_check_low.THRESHOLD_VALUE.describe()"
   ]
  },
  {
   "cell_type": "code",
   "execution_count": null,
   "metadata": {},
   "outputs": [],
   "source": [
    "HR_threshold_check_low_01 = HR_violations[(HR_violations[\"THRESHOLD_TYPE\"] == \"LOW\") & (HR_violations[\"THRESHOLD_VALUE\"] > 100) & (HR_violations[\"THRESHOLD_VALUE\"] <= 1000)].sort_values(by=['THRESHOLD_VALUE'])\n",
    "HR_threshold_check_low_02 = HR_violations[(HR_violations[\"THRESHOLD_TYPE\"] == \"LOW\") & (HR_violations[\"THRESHOLD_VALUE\"] > 1000) & (HR_violations[\"THRESHOLD_VALUE\"] <= 90000)].sort_values(by=['THRESHOLD_VALUE'])\n",
    "\n",
    "import matplotlib.pyplot as plt\n",
    "import seaborn as sns\n",
    "\n",
    "sns.set_style(\"whitegrid\")\n",
    "fig, axs = plt.subplots(1, 2, figsize=(15, 5))\n",
    "fig.suptitle(\"A closer look at the suspiciously high LOW thresholds\", fontsize=16)\n",
    "\n",
    "sns.stripplot(ax=axs[0], data=HR_threshold_check_low_01, x=\"THRESHOLD_VALUE\")\n",
    "axs[0].set_title(\"Scatterplot for heart rate alarm thresholds of type LOW\", fontsize=14)\n",
    "axs[0].set_xlabel(\"THRESHOLD_VALUE (Heart rate in bpm)\", fontsize=12)\n",
    "\n",
    "sns.stripplot(ax=axs[1], data=HR_threshold_check_low_02, x=\"THRESHOLD_VALUE\")\n",
    "axs[1].set_title(\"Scatterplot for heart rate alarm thresholds of type LOW\", fontsize=14)\n",
    "axs[1].set_xlabel(\"THRESHOLD_VALUE (Heart rate in bpm)\", fontsize=12)\n",
    "\n",
    "plt.show(fig)"
   ]
  },
  {
   "cell_type": "code",
   "execution_count": null,
   "metadata": {},
   "outputs": [],
   "source": [
    "HR_threshold_check_low_01.THRESHOLD_VALUE.describe()"
   ]
  },
  {
   "cell_type": "code",
   "execution_count": null,
   "metadata": {},
   "outputs": [],
   "source": [
    "HR_threshold_check_low_02.THRESHOLD_VALUE.describe()"
   ]
  },
  {
   "source": [
    "## Additional Visualizations"
   ],
   "cell_type": "markdown",
   "metadata": {}
  },
  {
   "cell_type": "code",
   "execution_count": null,
   "metadata": {},
   "outputs": [],
   "source": [
    "import matplotlib.pyplot as plt\n",
    "import seaborn as sns\n",
    "\n",
    "sns.set_style(\"whitegrid\")\n",
    "fig, axs = plt.subplots(1, 2, figsize=(20, 5))\n",
    "fig.suptitle(\"Distribution of heart rate alarm violations stratified by threshold type in cleaned data set\", fontsize=18)\n",
    "\n",
    "sns.histplot(ax=axs[0], data=HR_violations_clean, x=\"VALUENUM\", hue=\"THRESHOLD_TYPE\", palette=[\"darkblue\", \"darkgreen\"])\n",
    "axs[0].set_title(\"Histogram\", fontsize=12)\n",
    "axs[0].set_xlabel(\"VALUENUM (Heart rate in bpm)\", fontsize=12)\n",
    "axs[0].set_ylabel(\"Count\", fontsize=12)\n",
    "\n",
    "sns.kdeplot(ax=axs[1], data=HR_violations_clean, x=\"VALUENUM\", hue=\"THRESHOLD_TYPE\", palette=[\"darkblue\", \"darkgreen\"])\n",
    "axs[1].set_title(\"Kernel density estimate (KDE)\", fontsize=12)\n",
    "axs[1].set_xlabel(\"VALUENUM (Heart rate in bpm)\", fontsize=12)\n",
    "axs[1].set_ylabel(\"Density\", fontsize=12)\n",
    "\n",
    "plt.show(fig)"
   ]
  },
  {
   "cell_type": "code",
   "execution_count": null,
   "metadata": {},
   "outputs": [],
   "source": [
    "import seaborn as sns\n",
    "import matplotlib.pyplot as plt\n",
    "sns.set_style(\"whitegrid\")\n",
    "\n",
    "fig, (fig_box, fig_hist) = plt.subplots(2, sharex=True, gridspec_kw={\"height_ratios\": (.15, .85)}, figsize=(10, 5))\n",
    "fig.suptitle(\"Heart rate alarm violations in cleaned data set\", fontsize=18)\n",
    "sns.boxplot(data=HR_violations_clean, x=\"VALUENUM\", ax=fig_box)\n",
    "fig_box.set(xlabel=\"\")\n",
    "sns.histplot(data=HR_violations_clean, x=\"VALUENUM\", kde=True, ax=fig_hist)\n",
    "fig_hist.set_xlabel(\"VALUENUM (Heart rate in bpm)\", fontsize=12)\n",
    "fig_hist.set_ylabel(\"Count\", fontsize=12)\n",
    "\n",
    "plt.show()"
   ]
  },
  {
   "cell_type": "code",
   "execution_count": null,
   "metadata": {},
   "outputs": [],
   "source": [
    "import matplotlib.pyplot as plt\n",
    "import seaborn as sns\n",
    "\n",
    "sns.set_style(\"whitegrid\")\n",
    "fig, axs = plt.subplots(1, 2, figsize=(20, 5))\n",
    "fig.suptitle(\"Distribution of heart rate alarm violations stratified by threshold type in cleaned data set\", fontsize=18)\n",
    "\n",
    "sns.histplot(ax=axs[0], data=HR_violations_clean, x=\"THRESHOLD_VALUE\", hue=\"THRESHOLD_TYPE\", palette=[\"darkblue\", \"darkgreen\"])\n",
    "axs[0].set_title(\"Histogram\", fontsize=12)\n",
    "axs[0].set_xlabel(\"VALUENUM (Heart rate in bpm)\", fontsize=12)\n",
    "axs[0].set_ylabel(\"Count\", fontsize=12)\n",
    "\n",
    "sns.kdeplot(ax=axs[1], data=HR_violations_clean, x=\"THRESHOLD_VALUE\", hue=\"THRESHOLD_TYPE\", palette=[\"darkblue\", \"darkgreen\"])\n",
    "axs[1].set_title(\"Kernel density estimate (KDE)\", fontsize=12)\n",
    "axs[1].set_xlabel(\"VALUENUM (Heart rate in bpm)\", fontsize=12)\n",
    "axs[1].set_ylabel(\"Density\", fontsize=12)\n",
    "\n",
    "plt.show(fig)"
   ]
  }
 ]
}