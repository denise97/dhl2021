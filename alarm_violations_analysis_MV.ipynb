{
 "cells": [
  {
   "cell_type": "markdown",
   "source": [
    "# Analysis of `alarm_violations.csv` for Minute Volume\n",
    "\n",
    "For each parameter ...\n",
    "* Concerning alarm violations ...\n",
    "  * Create a boxplot and stripplot based on the VALUENUM\n",
    "  * Clean the data if necessary\n",
    "  * Create histogram for cleaned VALUENUM  \n",
    "* Concerning alarm thresholds ...\n",
    "  * Create a boxplot and stripplot based on the THRESHOLD_VALUE (stratified by THRESHOLD_TYPE)\n",
    "  * Clean the data if necessary\n",
    "  * Create histogram for cleaned THRESHOLD_VALUE (stratified by THRESHOLD_TYPE)\n"
   ],
   "metadata": {
    "collapsed": false
   }
  },
  {
   "cell_type": "markdown",
   "source": [
    "## Import Data"
   ],
   "metadata": {
    "collapsed": false
   }
  },
  {
   "cell_type": "code",
   "execution_count": null,
   "outputs": [],
   "source": [
    "# Overview of libraries used\n",
    "import pandas as pd\n",
    "import seaborn as sns\n",
    "import matplotlib.pyplot as plt"
   ],
   "metadata": {
    "collapsed": false,
    "pycharm": {
     "name": "#%%\n"
    }
   }
  },
  {
   "cell_type": "code",
   "execution_count": null,
   "outputs": [],
   "source": [
    "alarm_violations = pd.read_csv('./alarm_violations.csv')\n",
    "alarm_violations.head()"
   ],
   "metadata": {
    "collapsed": false,
    "pycharm": {
     "name": "#%%\n"
    }
   }
  },
  {
   "cell_type": "markdown",
   "source": [
    "## Parameter: Minute Volume (Volume of Breathing Air Inhaled and Exhaled per Minute)\n",
    "\n",
    "* `224687` **Minute Volume** (Minute Volume), metavision, in L/min (numeric)\n",
    "* `220293` **Minute Volume Alarm - High** (MV Alarm - High), metavision, in L/min (numeric)\n",
    "* `220292` **Minute Volume Alarm - Low** (MV Alarm - Low), metavision, in L/min (numeric)"
   ],
   "metadata": {
    "collapsed": false
   }
  },
  {
   "cell_type": "markdown",
   "source": [
    "### Minute Volume - Alarm Violations"
   ],
   "metadata": {
    "collapsed": false
   }
  },
  {
   "cell_type": "code",
   "execution_count": null,
   "outputs": [],
   "source": [
    "MV_violations = alarm_violations[(alarm_violations['ITEMID'] == 224687)]\n",
    "display(MV_violations)"
   ],
   "metadata": {
    "collapsed": false,
    "pycharm": {
     "name": "#%%\n"
    }
   }
  },
  {
   "cell_type": "code",
   "execution_count": null,
   "outputs": [],
   "source": [
    "MV_violations.VALUENUM.describe() # values from 0 to 18,918.4"
   ],
   "metadata": {
    "collapsed": false,
    "pycharm": {
     "name": "#%%\n"
    }
   }
  },
  {
   "cell_type": "code",
   "execution_count": null,
   "outputs": [],
   "source": [
    "MV_violations.boxplot(column='VALUENUM')"
   ],
   "metadata": {
    "collapsed": false,
    "pycharm": {
     "name": "#%%\n"
    }
   }
  },
  {
   "cell_type": "markdown",
   "source": [
    "Among the VALUENUM values is a maximum minute volume of 18,918.4 L/min.\n",
    "This appears to be at least one implausible outlier.\n",
    "\n",
    "Let's check whether the unit (VALUEUOM) is \"L/min\" for all minute volumes (what is expected according to `D_ITEMS.csv`)."
   ],
   "metadata": {
    "collapsed": false
   }
  },
  {
   "cell_type": "code",
   "execution_count": null,
   "outputs": [],
   "source": [
    "MV_violations.VALUEUOM.unique()"
   ],
   "metadata": {
    "collapsed": false,
    "pycharm": {
     "name": "#%%\n"
    }
   }
  },
  {
   "cell_type": "markdown",
   "source": [
    "All minute volumes are given in L/min as expected.\n",
    "\n",
    "Let's check the literature to see what minute volumes can be expected based on medical knowledge.\n",
    "\n",
    "* Calculation: MV = RR * Tidal Volume\n",
    "    * Tidal Volume: volume of air moved into or out of the lungs during a normal breath (average volume per breath)\n",
    "* Average of adults:\n",
    "    * 13 insp/min * 0.6 L = 7.8 L/min (Hollmann, Wildor. Spiroergometrie: kardiopulmonale Leistungsdiagnostik des Gesunden und Kranken; mit 15 Tabellen. Schattauer Verlag, 2006.)\n",
    "    * 17 insp/min * 0.5 L = 8.5 L/min (https://www.tu-braunschweig.de/index.php?eID=dumpFile&t=f&f=38200&token=393c8215e4092c382e1d6d057e0d3cd339b59443)\n",
    "* can be increased:\n",
    "    * to the three- to fourfold during physical exertion -> 34 L/min (Schwimming 43 L/min)\n",
    "    * due to pathological conditions (Fever, pulmonary embolism, hyperacidity of the blood or disorders of the respiratory center)\n",
    "    * by a factor of 15 from trained athletes -> 127.5 L/min, but patients on ICUs don't exercise that heavily\n",
    "* can be decreased:\n",
    "    * when asleep\n",
    "    * when taking sedatives, in people with chronically elevated levels of carbon dioxide, or when the respiratory center is damaged\n",
    "\n",
    "Decision for now: Consider minute volumes over 50 L/min as implausible values for ICU patients to be removed before further analysis. Assume also a threshold range up to 50 L/min."
   ],
   "metadata": {
    "collapsed": false
   }
  },
  {
   "cell_type": "code",
   "execution_count": null,
   "outputs": [],
   "source": [
    "MV_violations_removed = MV_violations[MV_violations['VALUENUM'] > 50]\n",
    "MV_violations_removed.VALUENUM.describe()"
   ],
   "metadata": {
    "collapsed": false,
    "pycharm": {
     "name": "#%%\n"
    }
   }
  },
  {
   "cell_type": "code",
   "execution_count": null,
   "outputs": [],
   "source": [
    "sns.stripplot(data=MV_violations_removed, x='VALUENUM') # 4 outliers in range 6,321 to 1,819.4"
   ],
   "metadata": {
    "collapsed": false,
    "pycharm": {
     "name": "#%%\n"
    }
   }
  },
  {
   "cell_type": "code",
   "execution_count": null,
   "outputs": [],
   "source": [
    "MV_violations_removed_without_outliers = MV_violations[(MV_violations['VALUENUM'] > 50) & (MV_violations['VALUENUM'] < 6000)]\n",
    "MV_violations_removed_without_outliers.VALUENUM.describe() # range of 52 to 935"
   ],
   "metadata": {
    "collapsed": false,
    "pycharm": {
     "name": "#%%\n"
    }
   }
  },
  {
   "cell_type": "code",
   "execution_count": null,
   "outputs": [],
   "source": [
    "sns.stripplot(data=MV_violations_removed_without_outliers, x='VALUENUM')"
   ],
   "metadata": {
    "collapsed": false,
    "pycharm": {
     "name": "#%%\n"
    }
   }
  },
  {
   "cell_type": "markdown",
   "source": [
    "### Minute Volume - Cleaned Alarm Violations"
   ],
   "metadata": {
    "collapsed": false
   }
  },
  {
   "cell_type": "code",
   "execution_count": null,
   "outputs": [],
   "source": [
    "MV_violations_cleaned = MV_violations[MV_violations['VALUENUM'] <= 50]\n",
    "MV_violations_cleaned.VALUENUM.describe()"
   ],
   "metadata": {
    "collapsed": false,
    "pycharm": {
     "name": "#%%\n"
    }
   }
  },
  {
   "cell_type": "code",
   "execution_count": null,
   "outputs": [],
   "source": [
    "sns.stripplot(data=MV_violations_cleaned, x='VALUENUM')"
   ],
   "metadata": {
    "collapsed": false,
    "pycharm": {
     "name": "#%%\n"
    }
   }
  },
  {
   "cell_type": "markdown",
   "source": [
    "### Minute Volume - Alarm Thresholds\n",
    "\n",
    "Tbc.\n",
    "\n",
    "### Minute Volume - Cleaned Alarm Thresholds\n",
    "\n",
    "Tbc."
   ],
   "metadata": {
    "collapsed": false
   }
  }
 ],
 "metadata": {
  "kernelspec": {
   "display_name": "Python 3",
   "language": "python",
   "name": "python3"
  },
  "language_info": {
   "codemirror_mode": {
    "name": "ipython",
    "version": 3
   },
   "file_extension": ".py",
   "mimetype": "text/x-python",
   "name": "python",
   "nbconvert_exporter": "python",
   "pygments_lexer": "ipython3",
   "version": "3.7.7"
  },
  "metadata": {
   "interpreter": {
    "hash": "e2bfb1b1dd0bcdebdb315279aa118b1f834444d4ba3ba6d660e9f6ce7703f6a2"
   }
  }
 },
 "nbformat": 4,
 "nbformat_minor": 2
}