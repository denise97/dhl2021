{
 "metadata": {
  "language_info": {
   "codemirror_mode": {
    "name": "ipython",
    "version": 3
   },
   "file_extension": ".py",
   "mimetype": "text/x-python",
   "name": "python",
   "nbconvert_exporter": "python",
   "pygments_lexer": "ipython3",
   "version": "3.7.4"
  },
  "orig_nbformat": 2,
  "kernelspec": {
   "name": "python374jvsc74a57bd0c24247fa39158f46a54dbb99bb8811b81cd84bf3c9aa6e8294d53a41a5837da9",
   "display_name": "Python 3.7.4 64-bit ('base': conda)"
  }
 },
 "nbformat": 4,
 "nbformat_minor": 2,
 "cells": [
  {
   "source": [
    "# Analysis of Difference between Measurements\n",
    "\n",
    "### Aim: Provide an overview of difference between measurements by ICUSTAY & ITEMID \n",
    "The histograms shall be used to identify the need for chunking and determine possible chunking rules"
   ],
   "cell_type": "markdown",
   "metadata": {}
  },
  {
   "source": [
    "## Load and Prepare Data"
   ],
   "cell_type": "markdown",
   "metadata": {}
  },
  {
   "cell_type": "code",
   "execution_count": 1,
   "metadata": {},
   "outputs": [],
   "source": [
    "import pandas as pd\n",
    "import pyarrow as pa\n",
    "import datetime as dt\n",
    "chunk_analysis_data = pd.read_parquet('./data/chunk_analysis_data.parquet', engine='pyarrow')"
   ]
  },
  {
   "cell_type": "code",
   "execution_count": 2,
   "metadata": {},
   "outputs": [],
   "source": [
    "# create subsets for ITEMIDs\n",
    "chunk_analysis_data_HR = chunk_analysis_data[chunk_analysis_data['ITEMID'] == 220045]\n",
    "chunk_analysis_data_O2 = chunk_analysis_data[chunk_analysis_data['ITEMID'] == 220277]\n",
    "chunk_analysis_data_NBP = chunk_analysis_data[chunk_analysis_data['ITEMID'] == 220179]"
   ]
  },
  {
   "source": [
    "## Analysis of Difference between Measurements - General\n",
    "Descriptve Statistics and Histogram+Boxplot on ALL data without stratifying by ITEMID"
   ],
   "cell_type": "markdown",
   "metadata": {}
  },
  {
   "cell_type": "code",
   "execution_count": 4,
   "metadata": {},
   "outputs": [
    {
     "output_type": "execute_result",
     "data": {
      "text/plain": [
       "count   6650040.00\n",
       "mean         51.22\n",
       "std         174.44\n",
       "min           0.00\n",
       "25%          20.00\n",
       "50%          60.00\n",
       "75%          60.00\n",
       "max       40185.00\n",
       "Name: DIF_CHARTTIME_NEXT_MIN, dtype: float64"
      ]
     },
     "metadata": {},
     "execution_count": 4
    }
   ],
   "source": [
    "pd.set_option('display.float_format', '{:.2f}'.format)\n",
    "chunk_analysis_data[\"DIF_CHARTTIME_NEXT_MIN\"].describe()"
   ]
  },
  {
   "source": [
    "### Change this cell to type Code only when needed - as histogram for 6 mio rows takes a lot of time\n",
    "import seaborn as sns\n",
    "import matplotlib.pyplot as plt\n",
    "\n",
    "### Set variables\n",
    "title = \"Analysis of Difference between Measurements\"\n",
    "xlabel = \"Difference between Measurements (min)\"\n",
    "plotdata = chunk_analysis_data\n",
    "xvalue = \"DIF_CHARTTIME_NEXT_MIN\"\n",
    "\n",
    "sns.set_style(\"whitegrid\")\n",
    "fig, (fig_box, fig_hist) = plt.subplots(\n",
    "    2, \n",
    "    sharex=True, \n",
    "    gridspec_kw={\"height_ratios\": (.15, .85)}, \n",
    "    figsize=(10, 5)\n",
    "    )\n",
    "fig.suptitle(title, fontweight='bold', color= 'black', fontsize=14, y=1)\n",
    "sns.boxplot(ax=fig_box, data=plotdata, x=xvalue, palette=sns.color_palette(\"colorblind\"))\n",
    "fig_box.set(xlabel=\"\")\n",
    "sns.histplot(ax=fig_hist, data=plotdata, x=xvalue, kde=True, palette=sns.color_palette(\"colorblind\"))\n",
    "fig_hist.set_xlabel(xlabel, fontsize=12, labelpad=15)\n",
    "fig_hist.set_ylabel(\"Count\", fontsize=12, labelpad=15)\n",
    "\n",
    "### Save plot as PNG file\n",
    "path = './plots/'\n",
    "timestamp = dt.datetime.today().strftime('%Y-%m-%dT%H-%M-%S')\n",
    "plt.savefig(str(path + 'analysis_of_difference_between_measurementsplot_300-DPI_' + timestamp + '.png'), dpi=300, bbox_inches='tight')\n",
    "\n",
    "plt.show()"
   ],
   "cell_type": "markdown",
   "metadata": {}
  },
  {
   "source": [
    "### Analysis of Difference between Measurements - General by ITEMID\n",
    "Descriptve Statistics and Histogram+Boxplot on ALL data stratified by ITEMID\n"
   ],
   "cell_type": "markdown",
   "metadata": {}
  },
  {
   "cell_type": "code",
   "execution_count": 5,
   "metadata": {},
   "outputs": [
    {
     "output_type": "execute_result",
     "data": {
      "text/plain": [
       "count   2737997.00\n",
       "mean         43.03\n",
       "std          32.22\n",
       "min           1.00\n",
       "25%          10.00\n",
       "50%          60.00\n",
       "75%          60.00\n",
       "max        9060.00\n",
       "Name: DIF_CHARTTIME_NEXT_MIN, dtype: float64"
      ]
     },
     "metadata": {},
     "execution_count": 5
    }
   ],
   "source": [
    "chunk_analysis_data_HR[\"DIF_CHARTTIME_NEXT_MIN\"].describe()"
   ]
  },
  {
   "cell_type": "code",
   "execution_count": 6,
   "metadata": {},
   "outputs": [
    {
     "output_type": "execute_result",
     "data": {
      "text/plain": [
       "count   2646202.00\n",
       "mean         44.31\n",
       "std          42.94\n",
       "min           1.00\n",
       "25%          14.00\n",
       "50%          60.00\n",
       "75%          60.00\n",
       "max       37023.00\n",
       "Name: DIF_CHARTTIME_NEXT_MIN, dtype: float64"
      ]
     },
     "metadata": {},
     "execution_count": 6
    }
   ],
   "source": [
    "chunk_analysis_data_O2[\"DIF_CHARTTIME_NEXT_MIN\"].describe()"
   ]
  },
  {
   "cell_type": "code",
   "execution_count": 7,
   "metadata": {},
   "outputs": [
    {
     "output_type": "execute_result",
     "data": {
      "text/plain": [
       "count   1265841.00\n",
       "mean         83.39\n",
       "std         390.49\n",
       "min           0.00\n",
       "25%          60.00\n",
       "50%          60.00\n",
       "75%          60.00\n",
       "max       40185.00\n",
       "Name: DIF_CHARTTIME_NEXT_MIN, dtype: float64"
      ]
     },
     "metadata": {},
     "execution_count": 7
    }
   ],
   "source": [
    "chunk_analysis_data_NBP[\"DIF_CHARTTIME_NEXT_MIN\"].describe()"
   ]
  },
  {
   "source": [
    "## Analysis of Differences between Measurements within 75% \n",
    "The above analysis shows us that regardless of the ITEMID, 75% of differences to the next timestamp are less than or equal to 60 minutes -> Observe the distribution of the differences to the next timestamp that fall within the 75%\n",
    "\n",
    "Chunking Option 1: Chunk after **60min** difference to next measurement"
   ],
   "cell_type": "markdown",
   "metadata": {}
  },
  {
   "cell_type": "code",
   "execution_count": 8,
   "metadata": {},
   "outputs": [],
   "source": [
    "# Filter data on 75% \n",
    "chunk_analysis_data_Q3 = chunk_analysis_data[chunk_analysis_data[\"DIF_CHARTTIME_NEXT_MIN\"] <= 60]"
   ]
  },
  {
   "source": [
    "### Histogram and Boxplott Cross ITEMID"
   ],
   "cell_type": "markdown",
   "metadata": {}
  },
  {
   "cell_type": "code",
   "execution_count": 9,
   "metadata": {},
   "outputs": [
    {
     "output_type": "stream",
     "name": "stderr",
     "text": [
      "C:\\Users\\D067665\\AppData\\Local\\Continuum\\anaconda3\\lib\\site-packages\\matplotlib\\cbook\\__init__.py:1402: FutureWarning: Support for multi-dimensional indexing (e.g. `obj[:, None]`) is deprecated and will be removed in a future version.  Convert to a numpy array before indexing instead.\n  x[:, None]\nC:\\Users\\D067665\\AppData\\Local\\Continuum\\anaconda3\\lib\\site-packages\\matplotlib\\axes\\_base.py:276: FutureWarning: Support for multi-dimensional indexing (e.g. `obj[:, None]`) is deprecated and will be removed in a future version.  Convert to a numpy array before indexing instead.\n  x = x[:, np.newaxis]\nC:\\Users\\D067665\\AppData\\Local\\Continuum\\anaconda3\\lib\\site-packages\\matplotlib\\axes\\_base.py:278: FutureWarning: Support for multi-dimensional indexing (e.g. `obj[:, None]`) is deprecated and will be removed in a future version.  Convert to a numpy array before indexing instead.\n  y = y[:, np.newaxis]\n"
     ]
    },
    {
     "output_type": "display_data",
     "data": {
      "text/plain": "<Figure size 1000x500 with 2 Axes>"
     },
     "metadata": {}
    }
   ],
   "source": [
    "# Histogram and Boxplott - Cross ITEMID\n",
    "import seaborn as sns\n",
    "import matplotlib.pyplot as plt\n",
    "import datetime as dt\n",
    "\n",
    "# Set variables\n",
    "title = \"Analysis of Difference between Measurements - Values within 75%\"\n",
    "xlabel = \"Difference between Measurements (min)\"\n",
    "plotdata = chunk_analysis_data_Q3\n",
    "xvalue = \"DIF_CHARTTIME_NEXT_MIN\"\n",
    "\n",
    "sns.set_style(\"whitegrid\")\n",
    "fig, (fig_box, fig_hist) = plt.subplots(\n",
    "    2, \n",
    "    sharex=True, \n",
    "    gridspec_kw={\"height_ratios\": (.15, .85)}, \n",
    "    figsize=(10, 5)\n",
    "    )\n",
    "fig.suptitle(title, fontweight='bold', color= 'black', fontsize=14, y=1)\n",
    "sns.boxplot(ax=fig_box, data=plotdata, x=xvalue, palette=sns.color_palette(\"colorblind\"))\n",
    "fig_box.set(xlabel=\"\")\n",
    "sns.histplot(ax=fig_hist, data=plotdata, x=xvalue, kde=True, palette=sns.color_palette(\"colorblind\"))\n",
    "fig_hist.set_xlabel(xlabel, fontsize=12, labelpad=15)\n",
    "fig_hist.set_ylabel(\"Count\", fontsize=12, labelpad=15)\n",
    "\n",
    "# Save plot as PNG file\n",
    "path = './plots/'\n",
    "timestamp = dt.datetime.today().strftime('%Y-%m-%dT%H-%M-%S')\n",
    "plt.savefig(str(path + 'analysis_of_difference_between_measurementsplot_Q3_300-DPI_' + timestamp + '.png'), dpi=300, bbox_inches='tight')\n",
    "\n",
    "plt.show()"
   ]
  },
  {
   "source": [
    "### Histogram and Boxplot and KDE Curve Stratified by ITEMID"
   ],
   "cell_type": "markdown",
   "metadata": {}
  },
  {
   "cell_type": "code",
   "execution_count": 10,
   "metadata": {},
   "outputs": [
    {
     "output_type": "stream",
     "name": "stderr",
     "text": [
      "C:\\Users\\D067665\\AppData\\Local\\Continuum\\anaconda3\\lib\\site-packages\\matplotlib\\cbook\\__init__.py:1402: FutureWarning: Support for multi-dimensional indexing (e.g. `obj[:, None]`) is deprecated and will be removed in a future version.  Convert to a numpy array before indexing instead.\n  x[:, None]\nC:\\Users\\D067665\\AppData\\Local\\Continuum\\anaconda3\\lib\\site-packages\\matplotlib\\axes\\_base.py:276: FutureWarning: Support for multi-dimensional indexing (e.g. `obj[:, None]`) is deprecated and will be removed in a future version.  Convert to a numpy array before indexing instead.\n  x = x[:, np.newaxis]\nC:\\Users\\D067665\\AppData\\Local\\Continuum\\anaconda3\\lib\\site-packages\\matplotlib\\axes\\_base.py:278: FutureWarning: Support for multi-dimensional indexing (e.g. `obj[:, None]`) is deprecated and will be removed in a future version.  Convert to a numpy array before indexing instead.\n  y = y[:, np.newaxis]\n"
     ]
    },
    {
     "output_type": "display_data",
     "data": {
      "text/plain": "<Figure size 1440x360 with 3 Axes>",
      "image/png": "[encoded data removed]"
     },
     "metadata": {}
    }
   ],
   "source": [
    "# Histogram and Boxplot and KDE Curve Stratified by ITEMID\n",
    "import matplotlib.pyplot as plt\n",
    "import seaborn as sns\n",
    "\n",
    "# Set variables\n",
    "title = \"Analysis of Difference between Measurements - Values within 75% - Stratified by ITEMID\"\n",
    "xlabel = \"Difference between Measurements (min)\"\n",
    "plotdata = chunk_analysis_data_Q3\n",
    "xvalue = \"DIF_CHARTTIME_NEXT_MIN\"\n",
    "stratify_by = \"ITEMID\"\n",
    "\n",
    "sns.set_style(\"whitegrid\")\n",
    "fig, axs = plt.subplots(1, 3, figsize=(20, 5))\n",
    "fig.suptitle(title, fontweight='bold', color= 'black', fontsize=14, y=1)\n",
    "\n",
    "sns.histplot(ax=axs[0], data=plotdata, x=xvalue, hue=stratify_by, palette=[sns.color_palette(\"colorblind\")[0],sns.color_palette(\"colorblind\")[1],sns.color_palette(\"colorblind\")[2]])\n",
    "axs[0].set_title(\"Histogram (overlapping)\", fontsize=12)\n",
    "axs[0].set_xlabel(xlabel, fontsize=12)\n",
    "axs[0].set_ylabel(\"Count\", fontsize=12)\n",
    "\n",
    "sns.histplot(ax=axs[1], data=plotdata, x=xvalue, hue=stratify_by, multiple=\"stack\", palette=[sns.color_palette(\"colorblind\")[0],sns.color_palette(\"colorblind\")[1],sns.color_palette(\"colorblind\")[2]])\n",
    "axs[1].set_title(\"Histogram (stacked)\", fontsize=12)\n",
    "axs[1].set_xlabel(xlabel, fontsize=12)\n",
    "axs[1].set_ylabel(\"Count\", fontsize=12)\n",
    "\n",
    "sns.kdeplot(ax=axs[2], data=plotdata, x=xvalue, hue=stratify_by, palette=[sns.color_palette(\"colorblind\")[0],sns.color_palette(\"colorblind\")[1],sns.color_palette(\"colorblind\")[2]])\n",
    "axs[2].set_title(\"Kernel Density Estimate (KDE)\", fontsize=12)\n",
    "axs[2].set_xlabel(xlabel, fontsize=12)\n",
    "axs[2].set_ylabel(\"Density\", fontsize=12)\n",
    "\n",
    "# Save plot as PNG file\n",
    "path = './plots/'\n",
    "timestamp = dt.datetime.today().strftime('%Y-%m-%dT%H-%M-%S')\n",
    "plt.savefig(str(path + 'analysis_of_difference_between_measurementsplot_Q3_by_ITEMID_300-DPI_' + timestamp + '.png'), dpi=300, bbox_inches='tight')\n",
    "\n",
    "plt.show(fig)"
   ]
  },
  {
   "cell_type": "code",
   "execution_count": null,
   "metadata": {},
   "outputs": [],
   "source": [
    "# Analyze observable second peak <10min\n",
    "chunk_analysis_data_10 = chunk_analysis_data[chunk_analysis_data[\"DIF_CHARTTIME_NEXT_MIN\"] <=10]\n",
    "chunk_analysis_data_10[\"DIF_CHARTTIME_NEXT_MIN\"].value_counts()\n",
    "# Second peak (next to peak at 60 min) occurs at 1 min"
   ]
  },
  {
   "source": [
    "## Analysis of Differences between Measurements above 75%\n",
    "\n",
    "The following analysis shows that of the differences that are above 60 minutes, 75% of values are less or equal than 120 minutes (difference to next measurement)\n",
    "\n",
    "Chunking Option 2: Chunk after **120 min** difference to the next measurement"
   ],
   "cell_type": "markdown",
   "metadata": {}
  },
  {
   "cell_type": "code",
   "execution_count": null,
   "metadata": {},
   "outputs": [],
   "source": [
    "# Filter data on differences that are above the 75% \n",
    "chunk_analysis_data_above_Q3 = chunk_analysis_data[chunk_analysis_data[\"DIF_CHARTTIME_NEXT_MIN\"] > 60]"
   ]
  },
  {
   "cell_type": "code",
   "execution_count": null,
   "metadata": {},
   "outputs": [],
   "source": [
    "chunk_analysis_data_above_Q3[\"DIF_CHARTTIME_NEXT_MIN\"].describe()\n",
    "# We could derive another rule - e.g at 120min"
   ]
  },
  {
   "source": [
    "### Histogram and Boxplot and KDE Curve Stratified by ITEMID"
   ],
   "cell_type": "markdown",
   "metadata": {}
  },
  {
   "cell_type": "code",
   "execution_count": null,
   "metadata": {},
   "outputs": [],
   "source": [
    "# Histogram and Boxplot and KDE Curve Stratified by ITEMID\n",
    "import matplotlib.pyplot as plt\n",
    "import seaborn as sns\n",
    "\n",
    "# Set variables\n",
    "title = \"Analysis of Difference between Measurements - Values above 75% - Stratified by ITEMID\"\n",
    "xlabel = \"Difference between Measurements (min)\"\n",
    "plotdata = chunk_analysis_data_above_Q3\n",
    "xvalue = \"DIF_CHARTTIME_NEXT_MIN\"\n",
    "stratify_by = \"ITEMID\"\n",
    "\n",
    "sns.set_style(\"whitegrid\")\n",
    "fig, axs = plt.subplots(1, 3, figsize=(20, 5))\n",
    "fig.suptitle(title, fontweight='bold', color= 'black', fontsize=14, y=1)\n",
    "\n",
    "sns.histplot(ax=axs[0], data=plotdata, x=xvalue, hue=stratify_by, palette=[sns.color_palette(\"colorblind\")[0],sns.color_palette(\"colorblind\")[1],sns.color_palette(\"colorblind\")[2]])\n",
    "axs[0].set_title(\"Histogram (overlapping)\", fontsize=12)\n",
    "axs[0].set_xlabel(xlabel, fontsize=12)\n",
    "axs[0].set_ylabel(\"Count\", fontsize=12)\n",
    "\n",
    "sns.histplot(ax=axs[1], data=plotdata, x=xvalue, hue=stratify_by, multiple=\"stack\", palette=[sns.color_palette(\"colorblind\")[0],sns.color_palette(\"colorblind\")[1],sns.color_palette(\"colorblind\")[2]])\n",
    "axs[1].set_title(\"Histogram (stacked)\", fontsize=12)\n",
    "axs[1].set_xlabel(xlabel, fontsize=12)\n",
    "axs[1].set_ylabel(\"Count\", fontsize=12)\n",
    "\n",
    "sns.kdeplot(ax=axs[2], data=plotdata, x=xvalue, hue=stratify_by, palette=[sns.color_palette(\"colorblind\")[0],sns.color_palette(\"colorblind\")[1],sns.color_palette(\"colorblind\")[2]])\n",
    "axs[2].set_title(\"Kernel Density Estimate (KDE)\", fontsize=12)\n",
    "axs[2].set_xlabel(xlabel, fontsize=12)\n",
    "axs[2].set_ylabel(\"Density\", fontsize=12)\n",
    "\n",
    "# Save plot as PNG file\n",
    "path = './plots/'\n",
    "timestamp = dt.datetime.today().strftime('%Y-%m-%dT%H-%M-%S')\n",
    "plt.savefig(str(path + 'analysis_of_difference_between_measurementsplot_above_Q3_by_ITEMID_300-DPI_' + timestamp + '.png'), dpi=300, bbox_inches='tight')\n",
    "\n",
    "plt.show(fig)"
   ]
  },
  {
   "source": [
    "## Analyze Amount of ICUSTAY_IDs that Would be Affected by the Chunking Rule Options "
   ],
   "cell_type": "markdown",
   "metadata": {}
  },
  {
   "source": [
    "First: Chunk after 60 min"
   ],
   "cell_type": "markdown",
   "metadata": {}
  },
  {
   "cell_type": "code",
   "execution_count": null,
   "metadata": {},
   "outputs": [],
   "source": [
    "len(chunk_analysis_data_above_Q3[\"ICUSTAY_ID\"].value_counts())\n",
    "#"
   ]
  },
  {
   "source": [
    "Second: Chunk after 120 min"
   ],
   "cell_type": "markdown",
   "metadata": {}
  },
  {
   "cell_type": "code",
   "execution_count": null,
   "metadata": {},
   "outputs": [],
   "source": [
    "chunk_analysis_data_above_120 = chunk_analysis_data[chunk_analysis_data[\"DIF_CHARTTIME_NEXT_MIN\"] > 120]\n",
    "len(chunk_analysis_data_above_120[\"ICUSTAY_ID\"].value_counts())"
   ]
  }
 ]
}