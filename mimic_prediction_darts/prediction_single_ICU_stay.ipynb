{
 "cells": [
  {
   "cell_type": "markdown",
   "source": [
    "# Prediction with Darts using one ICU Stay\n",
    "\n",
    "This prediction approach is inspired by the workflow described [in this blogpost](https://medium.com/unit8-machine-learning-publication/training-forecasting-models-on-multiple-time-series-with-darts-dc4be70b1844). For further information, see [documentation of Darts](https://unit8co.github.io/darts/generated_api/darts.html).\n",
    "\n",
    "<ins>Darts provides two categories of models:</ins>\n",
    "\n",
    "1. **Deep Learning Forecasting Models**:\n",
    " * Available approaches: RNN, TCN, N-BEATS and Transformer\n",
    " * \"Global\": can be trained on multiple series and can forecast future values of any series\n",
    "\n",
    "2. **Non Neural-Net Forecasting Models**:\n",
    " * Available approaches: ARIMA, Exponential Smoothing, FFT, Prophet amd Theta method\n",
    " * \"Local\": can only be trained on single time series and can forecast the future of only this series\n",
    "\n",
    "Since we want to train our model on multiple series and are already familiar with RNNs, we take an `RNNModel` for our first attempt with Darts. So let's start with the prediction of a heart rate (HR) series using only this series or the corresponding blood pressure series as second series or as covariate."
   ],
   "metadata": {
    "collapsed": false
   }
  },
  {
   "cell_type": "markdown",
   "source": [
    "## Imports\n",
    "\n",
    "**Note for Windows user:** Either use `pip install u8darts[torch]` to install core and neural networks of Darts or follow [instructions here](https://www.lucasmelin.com/getting-started-with-fbprophet-on-windows-10) to setup fbprophet first before executing `pip install darts`."
   ],
   "metadata": {
    "collapsed": false
   }
  },
  {
   "cell_type": "code",
   "execution_count": null,
   "outputs": [],
   "source": [
    "from darts import TimeSeries\n",
    "from darts.dataprocessing.transformers import Scaler, MissingValuesFiller\n",
    "from darts.metrics import mape\n",
    "from darts.models import RNNModel\n",
    "\n",
    "import matplotlib.pyplot as plt\n",
    "import pandas as pd\n",
    "import seaborn as sns"
   ],
   "metadata": {
    "collapsed": false,
    "pycharm": {
     "name": "#%%\n"
    }
   }
  },
  {
   "cell_type": "markdown",
   "source": [
    "## Read and Preprocess Data"
   ],
   "metadata": {
    "collapsed": false
   }
  },
  {
   "cell_type": "code",
   "execution_count": null,
   "outputs": [],
   "source": [
    "# Read cleaned chartevents\n",
    "chartevents_subset = pd.read_parquet('../../data/chartevents_clean.parquet', engine='pyarrow')\n",
    "\n",
    "# Extract heart rate series to predict\n",
    "heart_rate_series = chartevents_subset[(chartevents_subset['ITEMID'] == 220045)\n",
    "                                       & (chartevents_subset['ICUSTAY_ID'] == 208809)]\n",
    "heart_rate_series = TimeSeries.from_dataframe(\n",
    "    df=heart_rate_series,\n",
    "    time_col='CHARTTIME',\n",
    "    value_cols=['VALUENUM_CLEAN'],\n",
    "    freq='H' # can be any offset alias: https://pandas.pydata.org/pandas-docs/stable/user_guide/timeseries.html#offset-aliases\n",
    ")\n",
    "\n",
    "# Extract blood pressure series for covariate use\n",
    "blood_pressure_series = chartevents_subset[(chartevents_subset['ITEMID'] == 220179)\n",
    "                                           & (chartevents_subset['ICUSTAY_ID'] == 208809)]\n",
    "blood_pressure_series = TimeSeries.from_dataframe(\n",
    "    df=blood_pressure_series,\n",
    "    time_col='CHARTTIME',\n",
    "    value_cols=['VALUENUM_CLEAN'],\n",
    "    freq='H'\n",
    ")"
   ],
   "metadata": {
    "collapsed": false,
    "pycharm": {
     "name": "#%%\n"
    }
   }
  },
  {
   "cell_type": "code",
   "execution_count": null,
   "outputs": [],
   "source": [
    "# Plot pure series\n",
    "sns.set_style('whitegrid')\n",
    "plt.figure(figsize=(8,5))\n",
    "heart_rate_series.plot(label='Heart Rate')\n",
    "blood_pressure_series.plot(label='Blood Pressure')\n",
    "\n",
    "# Adjust texts\n",
    "plt.legend()\n",
    "plt.title('TimeSeries of Heart Rate and Blood Pressure', fontweight='bold')\n",
    "plt.xlabel('Time')\n",
    "plt.ylabel('Cleaned Value')\n",
    "\n",
    "plt.show()\n",
    "#plt.savefig('../../plots/darts/single_stay/HR_NBPs_as_timeseries.png', dpi=1200)"
   ],
   "metadata": {
    "collapsed": false,
    "pycharm": {
     "name": "#%%\n"
    }
   }
  },
  {
   "cell_type": "code",
   "execution_count": null,
   "outputs": [],
   "source": [
    "# Apply filler\n",
    "# Method must be in ['linear', 'time', 'index', 'values', 'nearest', 'zero', 'slinear', 'quadratic', 'cubic', 'barycentric', 'krogh', 'spline', 'polynomial', 'from_derivatives', 'piecewise_polynomial', 'pchip', 'akima', 'cubicspline']\n",
    "filler = MissingValuesFiller()\n",
    "heart_rate_filled = filler.transform(heart_rate_series, method='time')\n",
    "blood_pressure_filled = filler.transform(blood_pressure_series, method='time')\n",
    "\n",
    "# Plot filled series\n",
    "sns.set_style('whitegrid')\n",
    "plt.figure(figsize=(8,5))\n",
    "heart_rate_filled.plot(label='Heart Rate')\n",
    "blood_pressure_filled.plot(label='Blood Pressure')\n",
    "\n",
    "# Adjust texts\n",
    "plt.legend()\n",
    "plt.title('TimeSeries of Filled Heart Rate and Blood Pressure', fontweight='bold')\n",
    "plt.xlabel('Time')\n",
    "plt.ylabel('Cleaned Value')\n",
    "\n",
    "plt.show()\n",
    "#plt.savefig('../../plots/darts/single_stay/HR_NBPs_as_timeseries_filled.png', dpi=1200)"
   ],
   "metadata": {
    "collapsed": false,
    "pycharm": {
     "name": "#%%\n"
    }
   }
  },
  {
   "cell_type": "code",
   "execution_count": null,
   "outputs": [],
   "source": [
    "# Normalize both value series between 0 and 1\n",
    "heart_rate_scaler, blood_pressure_scaler = Scaler(), Scaler()\n",
    "heart_rate_scaled = heart_rate_scaler.fit_transform(heart_rate_filled)\n",
    "blood_pressure_scaled = blood_pressure_scaler.fit_transform(blood_pressure_filled)\n",
    "\n",
    "# Extract train and test data sets (ca. 80/20 division, looked up date manually)\n",
    "heart_rate_train, heart_rate_test = heart_rate_scaled.split_after(pd.Timestamp('2114-04-06'))\n",
    "blood_pressure_train, blood_pressure_test = blood_pressure_scaled.split_after(pd.Timestamp('2114-04-06'))"
   ],
   "metadata": {
    "collapsed": false,
    "pycharm": {
     "name": "#%%\n"
    }
   }
  },
  {
   "cell_type": "markdown",
   "source": [
    "## Create LSTM Models"
   ],
   "metadata": {
    "collapsed": false
   }
  },
  {
   "cell_type": "code",
   "execution_count": null,
   "outputs": [],
   "source": [
    "print(len(heart_rate_train)) # 182\n",
    "print(len(heart_rate_test))  # 66\n",
    "\n",
    "print(len(blood_pressure_train)) # 182\n",
    "print(len(blood_pressure_test))  # 65 -> not needed"
   ],
   "metadata": {
    "collapsed": false,
    "pycharm": {
     "name": "#%%\n"
    }
   }
  },
  {
   "cell_type": "code",
   "execution_count": null,
   "outputs": [],
   "source": [
    "### Create models\n",
    "### (input and output lengths: https://unit8co.github.io/darts/examples/02-multi-time-series-and-covariates.html#Training-Process-(behind-the-scenes))\n",
    "\n",
    "# Create model for training only with heart rate series\n",
    "rnn_model_single = RNNModel(model='LSTM',\n",
    "                            input_chunk_length=14, # 182 : 14 = 13 chunks\n",
    "                            output_chunk_length=11 #  66 : 11 =  6 chunks\n",
    "                            )\n",
    "\n",
    "# Create model for training with both series\n",
    "rnn_model_both = RNNModel(model='LSTM',\n",
    "                          input_chunk_length=14,\n",
    "                          output_chunk_length=11\n",
    "                          )\n",
    "\n",
    "# Create model for training with both series (but blood pressure series as covariate)\n",
    "rnn_model_cov = RNNModel(model='LSTM',\n",
    "                          input_chunk_length=14,\n",
    "                          output_chunk_length=66 # otherwise, we do not predict whole test data\n",
    "                          )"
   ],
   "metadata": {
    "collapsed": false,
    "pycharm": {
     "name": "#%%\n"
    }
   }
  },
  {
   "cell_type": "markdown",
   "source": [
    "## Train Models and Predict Series"
   ],
   "metadata": {
    "collapsed": false
   }
  },
  {
   "cell_type": "code",
   "execution_count": null,
   "outputs": [],
   "source": [
    "### Train models\n",
    "### (note: can built train data with Sequence’s of TimeSeries + use fit_from_dataset(), if dataset do not fit in memory)\n",
    "\n",
    "# Train only with heart rate series\n",
    "rnn_model_single.fit(\n",
    "    series=heart_rate_train)\n",
    "\n",
    "# Train with heart rate and blood pressure series\n",
    "rnn_model_both.fit(\n",
    "    series=[heart_rate_train, blood_pressure_train])\n",
    "\n",
    "# Train with heart rate series and blood pressure series as covariate\n",
    "rnn_model_cov.fit(\n",
    "    series=heart_rate_train,\n",
    "    covariates=blood_pressure_train)\n",
    "\n",
    "### Predict heart rate series\n",
    "### (note: forecast horizon \"n\" can be bigger than output_chunk_length if no covariates are used)\n",
    "\n",
    "heart_rate_predicted_single = rnn_model_single.predict(\n",
    "    n=len(heart_rate_test), # predict 66 values\n",
    "    series=heart_rate_train) # specifies what should be predicted (want to know what comes after heart_rate_train)\n",
    "\n",
    "heart_rate_predicted_both = rnn_model_both.predict(\n",
    "    n=len(heart_rate_test),\n",
    "    series=heart_rate_train)\n",
    "\n",
    "heart_rate_predicted_cov = rnn_model_cov.predict(\n",
    "    n=len(heart_rate_test),\n",
    "    series=heart_rate_train,\n",
    "    covariates=blood_pressure_train)"
   ],
   "metadata": {
    "collapsed": false,
    "pycharm": {
     "name": "#%%\n"
    }
   }
  },
  {
   "cell_type": "markdown",
   "source": [
    "## Check Accuracy of Prediction with MAPE"
   ],
   "metadata": {
    "collapsed": false
   }
  },
  {
   "cell_type": "code",
   "execution_count": null,
   "outputs": [],
   "source": [
    "# Look into predicted time series\n",
    "print(heart_rate_predicted_single)"
   ],
   "metadata": {
    "collapsed": false,
    "pycharm": {
     "name": "#%%\n"
    }
   }
  },
  {
   "cell_type": "code",
   "execution_count": null,
   "outputs": [],
   "source": [
    "### Calculate mean absolute percentage errors: MAPE < 20% is good\n",
    "\n",
    "heart_rate_mape_both = mape(heart_rate_test, heart_rate_predicted_both)\n",
    "print(heart_rate_mape_both)\n",
    "\n",
    "heart_rate_mape_cov = mape(heart_rate_test, heart_rate_predicted_cov)\n",
    "print(heart_rate_mape_cov) # better MAPE if less values are predicted\n",
    "\n",
    "heart_rate_mape_single = mape(heart_rate_test, heart_rate_predicted_single)\n",
    "print(heart_rate_mape_single)"
   ],
   "metadata": {
    "collapsed": false,
    "pycharm": {
     "name": "#%%\n"
    }
   }
  },
  {
   "cell_type": "code",
   "execution_count": null,
   "outputs": [],
   "source": [
    "# Plot prediction using only heart rate series\n",
    "sns.set_style('whitegrid')\n",
    "plt.figure(figsize=(8,5))\n",
    "heart_rate_scaled.plot(label='Heart Rate - actual')\n",
    "heart_rate_predicted_single.plot(label='Heart Rate - predicted')\n",
    "\n",
    "# Adjust texts\n",
    "plt.legend()\n",
    "plt.suptitle('Prediction of Heart Rate (LSTM Model and HR Series Only)', fontweight='bold')\n",
    "plt.title(f'MAPE = {round(heart_rate_mape_single, 2)}%')\n",
    "plt.xlabel('Time')\n",
    "plt.ylabel('Scaled Value')\n",
    "\n",
    "plt.show()\n",
    "#plt.savefig('../../plots/darts/single_stay/HR_prediction_LSTM_single.png', dpi=1200)"
   ],
   "metadata": {
    "collapsed": false,
    "pycharm": {
     "name": "#%%\n"
    }
   }
  },
  {
   "cell_type": "code",
   "execution_count": null,
   "outputs": [],
   "source": [
    "# Plot prediction using both series\n",
    "sns.set_style('whitegrid')\n",
    "plt.figure(figsize=(8,5))\n",
    "heart_rate_scaled.plot(label='Heart Rate - actual')\n",
    "blood_pressure_scaled.plot(label='Blood Pressure - actual')\n",
    "heart_rate_predicted_both.plot(label='Heart Rate - predicted')\n",
    "\n",
    "# Adjust texts\n",
    "plt.legend()\n",
    "plt.suptitle('Prediction of Heart Rate (LSTM Model and Both Series Used)', fontweight='bold')\n",
    "plt.title(f'MAPE = {round(heart_rate_mape_both, 2)}%')\n",
    "plt.xlabel('Time')\n",
    "plt.ylabel('Scaled Value')\n",
    "\n",
    "plt.show()\n",
    "#plt.savefig('../../plots/darts/single_stay/HR_prediction_LSTM_both.png', dpi=1200)"
   ],
   "metadata": {
    "collapsed": false,
    "pycharm": {
     "name": "#%%\n"
    }
   }
  },
  {
   "cell_type": "code",
   "execution_count": null,
   "outputs": [],
   "source": [
    "# Plot prediction with covariate\n",
    "sns.set_style('whitegrid')\n",
    "plt.figure(figsize=(8,5))\n",
    "heart_rate_scaled.plot(label='Heart Rate - actual')\n",
    "blood_pressure_scaled.plot(label='Blood Pressure - actual')\n",
    "heart_rate_predicted_cov.plot(label='Heart Rate - predicted')\n",
    "\n",
    "# Adjust texts\n",
    "plt.legend()\n",
    "plt.suptitle('Prediction of Heart Rate (LSTM Model and BP as Covariate)', fontweight='bold')\n",
    "plt.title(f'MAPE = {round(heart_rate_mape_cov, 2)}%')\n",
    "plt.xlabel('Time')\n",
    "plt.ylabel('Scaled Value')\n",
    "\n",
    "plt.show()\n",
    "#plt.savefig('../../plots/darts/single_stay/HR_prediction_LSTM_cov.png', dpi=1200)"
   ],
   "metadata": {
    "collapsed": false,
    "pycharm": {
     "name": "#%%\n"
    }
   }
  },
  {
   "cell_type": "code",
   "execution_count": null,
   "outputs": [],
   "source": [
    "# Rescale\n",
    "hr_predicted_cov_rescaled = heart_rate_scaler.inverse_transform(heart_rate_predicted_cov)\n",
    "hr_test_rescaled = heart_rate_scaler.inverse_transform(heart_rate_test)\n",
    "hr_mape_cov_rescaled = mape(hr_test_rescaled, hr_predicted_cov_rescaled)\n",
    "\n",
    "# Plot rescaled prediction with covariate\n",
    "sns.set_style('whitegrid')\n",
    "plt.figure(figsize=(8,5))\n",
    "heart_rate_filled.plot(label='Heart Rate - actual')\n",
    "blood_pressure_filled.plot(label='Blood Pressure - actual')\n",
    "hr_predicted_cov_rescaled.plot(label='Heart Rate - predicted')\n",
    "\n",
    "# Adjust texts\n",
    "plt.legend()\n",
    "plt.suptitle('Prediction of Heart Rate (LSTM Model and BP as Covariate)', fontweight='bold')\n",
    "plt.title(f'MAPE = {round(hr_mape_cov_rescaled, 2)}%') # TODO: different MAPE than with scaled values?\n",
    "plt.xlabel('Time')\n",
    "plt.ylabel('Value')\n",
    "\n",
    "plt.show()\n",
    "#plt.savefig('../../plots/darts/single_stay/HR_prediction_LSTM_cov_rescaled.png', dpi=1200)"
   ],
   "metadata": {
    "collapsed": false,
    "pycharm": {
     "name": "#%%\n"
    }
   }
  },
  {
   "cell_type": "markdown",
   "source": [
    "## Conclusion\n",
    "\n",
    "Using only one ICU stay was more of a test approach to learn about Darts. Since the results for taking such a small data set are quite ok, the next step is to use the BP series as covariates with a larger subset of CHARTEVENTS/ with more ICU stays."
   ],
   "metadata": {
    "collapsed": false,
    "pycharm": {
     "name": "#%% md\n"
    }
   }
  }
 ],
 "metadata": {
  "kernelspec": {
   "name": "python3",
   "language": "python",
   "display_name": "Python 3"
  },
  "language_info": {
   "codemirror_mode": {
    "name": "ipython",
    "version": 2
   },
   "file_extension": ".py",
   "mimetype": "text/x-python",
   "name": "python",
   "nbconvert_exporter": "python",
   "pygments_lexer": "ipython2",
   "version": "2.7.6"
  }
 },
 "nbformat": 4,
 "nbformat_minor": 0
}