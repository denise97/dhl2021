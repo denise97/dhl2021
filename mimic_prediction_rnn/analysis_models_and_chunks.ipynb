{
 "cells": [
  {
   "cell_type": "markdown",
   "source": [
    "# Analysis of Predictions Produced with Chunks\n",
    "\n",
    "This script analyzes all pickle files in `./data/darts/{n_chunks}_chunks/`, starting with `confusion_matrix`, i.e. all model-level and all chunk-level matrices. At the moment, the paths are adapted for local execution."
   ],
   "metadata": {
    "collapsed": false
   }
  },
  {
   "cell_type": "markdown",
   "source": [
    "## Analysis of Model-level Matrices\n",
    "\n",
    "### Extract All Generated Model-level Matrices"
   ],
   "metadata": {
    "collapsed": false
   }
  },
  {
   "cell_type": "code",
   "execution_count": null,
   "outputs": [],
   "source": [
    "import os\n",
    "import pandas as pd\n",
    "import pickle5 as pickle\n",
    "\n",
    "# Define number of chunks taken to adjust\n",
    "n_chunks = 1000\n",
    "\n",
    "# Define path to all model-level matrices produced by prediction\n",
    "path_to_model_matrices = f'../../data/darts/{n_chunks}_chunks'\n",
    "\n",
    "# Collect pickle file names of model-level matrices\n",
    "model_matrix_filenames = list()\n",
    "\n",
    "for file in os.listdir(path_to_model_matrices):\n",
    "    if os.path.isfile(os.path.join(path_to_model_matrices, file)) and \\\n",
    "            file.startswith('confusion_matrix_models') and file.endswith('.pickle'):\n",
    "        model_matrix_filenames.append(file)\n",
    "\n",
    "# Concat all found matrices into result matrix\n",
    "result_matrix_models = pd.DataFrame(columns=['ID', 'PARAMETER', 'MODEL', 'ENDOGENOUS', 'EXOGENOUS', 'FORECAST_TYPE',\n",
    "                                             'FIRST_FORECAST', 'ALARM_TYPE', 'FP', 'TP', 'FN', 'TN', 'N_CHUNKS',\n",
    "                                             'N_ITERATIONS'])\n",
    "\n",
    "for filename in model_matrix_filenames:\n",
    "    # Read file\n",
    "    current_matrix_f = open(f'{path_to_model_matrices}/{filename}', 'rb')\n",
    "    current_matrix = pickle.load(current_matrix_f)\n",
    "    current_matrix_f.close()\n",
    "\n",
    "    # Append current matrix to result matrix\n",
    "    result_matrix_models = pd.concat([result_matrix_models, current_matrix])\n",
    "\n",
    "# Sort result matrix for better readability\n",
    "result_matrix_models.sort_values(by=['PARAMETER', 'MODEL', 'ENDOGENOUS'], inplace=True)\n",
    "\n",
    "# Show result matrix\n",
    "print(result_matrix_models)"
   ],
   "metadata": {
    "collapsed": false,
    "pycharm": {
     "name": "#%%\n"
    }
   }
  },
  {
   "cell_type": "markdown",
   "source": [
    "### Add Accuracy Metrics and Save as Parquet File"
   ],
   "metadata": {
    "collapsed": false
   }
  },
  {
   "cell_type": "code",
   "execution_count": null,
   "outputs": [],
   "source": [
    "# Calculate metrics (see https://en.wikipedia.org/wiki/Sensitivity_and_specificity for more information)\n",
    "result_matrix_models['FPR'] = result_matrix_models['FP'] / (result_matrix_models['FP'] + result_matrix_models['TN'])\n",
    "result_matrix_models['TPR'] = result_matrix_models['TP'] / (result_matrix_models['TP'] + result_matrix_models['FN'])\n",
    "result_matrix_models['FNR'] = result_matrix_models['FN'] / (result_matrix_models['TP'] + result_matrix_models['FN'])\n",
    "result_matrix_models['TNR'] = result_matrix_models['TN'] / (result_matrix_models['FP'] + result_matrix_models['TN'])\n",
    "\n",
    "result_matrix_models['ACC'] = (result_matrix_models['TP'] + result_matrix_models['TN']) / \\\n",
    "                              (result_matrix_models['TP'] + result_matrix_models['FN'] + result_matrix_models['FP'] + result_matrix_models['TN'])\n",
    "result_matrix_models['F1S'] = result_matrix_models['TP'] / \\\n",
    "                              (result_matrix_models['TP'] + 0.5 * (result_matrix_models['FP'] + result_matrix_models['FN']))\n",
    "\n",
    "# Round all floats to 4 decimal places\n",
    "# Note: round() does not work for floats with many decimal places\n",
    "decimals = 4\n",
    "for col in ['FPR', 'TPR', 'FNR', 'TNR', 'ACC', 'F1S']:\n",
    "    result_matrix_models[col] = result_matrix_models[col].apply(lambda x: round(x, decimals))\n",
    "\n",
    "# Move cols to end for similarity with ARIMA results and reset index\n",
    "result_matrix_models = result_matrix_models[['ID', 'PARAMETER', 'MODEL', 'ENDOGENOUS', 'EXOGENOUS', 'FORECAST_TYPE',\n",
    "                                             'FIRST_FORECAST', 'ALARM_TYPE', 'FP', 'TP', 'FN', 'TN', 'FPR', 'TPR',\n",
    "                                             'FNR', 'TNR', 'ACC', 'F1S', 'N_CHUNKS', 'N_ITERATIONS']].reset_index(drop=True)\n",
    "\n",
    "# Show complemented result matrix\n",
    "print(result_matrix_models)\n",
    "\n",
    "# Save result matrix as parquet\n",
    "result_matrix_models.to_parquet('../../data/darts/1000_chunks/result_matrix_models.parquet', engine='pyarrow')"
   ],
   "metadata": {
    "collapsed": false,
    "pycharm": {
     "name": "#%%\n"
    }
   }
  },
  {
   "cell_type": "markdown",
   "source": [
    "### Plot Ratios"
   ],
   "metadata": {
    "collapsed": false
   }
  },
  {
   "cell_type": "code",
   "execution_count": null,
   "outputs": [],
   "source": [
    "import matplotlib.pyplot as plt\n",
    "import seaborn as sns\n",
    "\n",
    "# \"Group\" result matrix by prefix of ID\n",
    "plotdata = result_matrix_models.replace(['_H', '_L', '_B'], ['', '', ''], regex=True)\n",
    "\n",
    "# Create subplots\n",
    "sns.set_style('whitegrid')\n",
    "fig, axs = plt.subplots(\n",
    "    nrows=4,\n",
    "    ncols=2, # TODO: adjust if O2 is added\n",
    "    figsize=(15, 13),\n",
    "    dpi=72\n",
    "    )\n",
    "\n",
    "# Define y-limits\n",
    "fpr_ylimits = [0, max(result_matrix_models.FPR)]\n",
    "tpr_ylimits = [0, max(result_matrix_models.TPR)]\n",
    "fnr_ylimits = [0, max(result_matrix_models.FNR)]\n",
    "tnr_ylimits = [0, max(result_matrix_models.TNR)]\n",
    "\n",
    "# Actual plots\n",
    "# TODO: execute again with O2\n",
    "for i, parameter in enumerate(['HR', 'BP']):\n",
    "    sns.barplot(\n",
    "        ax=axs[0, i],\n",
    "        data=plotdata[plotdata.PARAMETER == parameter],\n",
    "        x='ID',\n",
    "        y='FPR',\n",
    "        hue='MODEL',\n",
    "        palette=sns.color_palette('colorblind'),\n",
    "        ci=None,\n",
    "        order=[f'{parameter}_R_01', f'{parameter}_R_02', f'{parameter}_R_03'])\n",
    "    axs[0, i].set_title(str(parameter), fontweight='bold', color= 'black', fontsize=14)\n",
    "    axs[0, i].set_ylim(fpr_ylimits)\n",
    "\n",
    "    sns.barplot(\n",
    "        ax=axs[1, i],\n",
    "        data=plotdata[plotdata.PARAMETER == parameter],\n",
    "        x='ID',\n",
    "        y='TPR',\n",
    "        hue='MODEL',\n",
    "        palette=sns.color_palette('colorblind'),\n",
    "        ci=None,\n",
    "        order=[f'{parameter}_R_01', f'{parameter}_R_02', f'{parameter}_R_03'])\n",
    "    axs[1, i].set_ylim(tpr_ylimits)\n",
    "\n",
    "    sns.barplot(\n",
    "        ax=axs[2, i],\n",
    "        data=plotdata[plotdata.PARAMETER == parameter],\n",
    "        x='ID',\n",
    "        y='FNR',\n",
    "        hue='MODEL',\n",
    "        palette=sns.color_palette('colorblind'),\n",
    "        ci=None,\n",
    "        order=[f'{parameter}_R_01', f'{parameter}_R_02', f'{parameter}_R_03'])\n",
    "    axs[2, i].set_ylim(fnr_ylimits)\n",
    "\n",
    "    sns.barplot(\n",
    "        ax = axs[3, i],\n",
    "        data = plotdata[plotdata.PARAMETER == parameter],\n",
    "        x='ID',\n",
    "        y='TNR',\n",
    "        hue='MODEL',\n",
    "        palette = sns.color_palette('colorblind'),\n",
    "        ci=None,\n",
    "        order=[f'{parameter}_R_01', f'{parameter}_R_02', f'{parameter}_R_03'])\n",
    "    axs[3, i].set_ylim(tnr_ylimits)\n",
    "\n",
    "plt.show(fig)"
   ],
   "metadata": {
    "collapsed": false,
    "pycharm": {
     "name": "#%%\n"
    }
   }
  },
  {
   "cell_type": "markdown",
   "source": [
    "### Plot Accuracy and F1 Score"
   ],
   "metadata": {
    "collapsed": false
   }
  },
  {
   "cell_type": "code",
   "execution_count": null,
   "outputs": [],
   "source": [
    "import matplotlib.pyplot as plt\n",
    "import seaborn as sns\n",
    "\n",
    "# \"Group\" result matrix by prefix of ID\n",
    "plotdata = result_matrix_models.replace(['_H', '_L', '_B'], ['', '', ''], regex=True)\n",
    "\n",
    "# Create subplots\n",
    "sns.set_style('whitegrid')\n",
    "fig, axs = plt.subplots(\n",
    "    nrows=2,\n",
    "    ncols=2, # TODO: adjust if O2 is added\n",
    "    figsize=(15, 7),\n",
    "    dpi=72\n",
    "    )\n",
    "\n",
    "# Define y-limits\n",
    "acc_ylimits = [0, max(result_matrix_models.ACC)]\n",
    "f1s_ylimits = [0, max(result_matrix_models.F1S)]\n",
    "\n",
    "# Actual plot\n",
    "# TODO: execute again with O2\n",
    "for i, parameter in enumerate(['HR', 'BP']):\n",
    "\n",
    "    sns.barplot(\n",
    "        ax=axs[0, i],\n",
    "        data=plotdata[plotdata.PARAMETER == parameter],\n",
    "        x='ID',\n",
    "        y='ACC',\n",
    "        hue='MODEL',\n",
    "        palette=sns.color_palette('colorblind'),\n",
    "        ci=None,\n",
    "        order=[f'{parameter}_R_01', f'{parameter}_R_02', f'{parameter}_R_03'])\n",
    "    axs[0, i].set_title(str(parameter), fontweight='bold', color= 'black', fontsize=14)\n",
    "    axs[0, i].set_ylim(acc_ylimits)\n",
    "\n",
    "    sns.barplot(\n",
    "        ax=axs[1, i],\n",
    "        data=plotdata[plotdata.PARAMETER == parameter],\n",
    "        x='ID',\n",
    "        y='F1S',\n",
    "        hue='MODEL',\n",
    "        palette=sns.color_palette('colorblind'),\n",
    "        ci=None,\n",
    "        order=[f'{parameter}_R_01', f'{parameter}_R_02', f'{parameter}_R_03'])\n",
    "    axs[1, i].set_ylim(f1s_ylimits)\n",
    "\n",
    "plt.show(fig)"
   ],
   "metadata": {
    "collapsed": false,
    "pycharm": {
     "name": "#%%\n"
    }
   }
  },
  {
   "cell_type": "markdown",
   "source": [
    "## Analysis of Chunk-level Matrices\n",
    "\n",
    "### Print Results of Selected Chunk/s"
   ],
   "metadata": {
    "collapsed": false
   }
  },
  {
   "cell_type": "code",
   "execution_count": null,
   "outputs": [],
   "source": [
    "import pickle5 as pickle\n",
    "\n",
    "# TODO: as soon as we decided for a uniform layout, complement chunk-level matrices\n",
    "\n",
    "# => Proposal: change\n",
    "#              ['CHUNK_ID', 'ALARM_TYPE', 'N_ITERATIONS', 'FP', 'TP', 'FN', 'TN']\n",
    "#              to\n",
    "#              ['CHUNK_ID', 'PARAMETER', 'MODEL', 'ENDOGENOUS', 'EXOGENOUS', 'FORECAST_TYPE', 'FIRST_FORECAST',\n",
    "#               'ALARM_TYPE', 'FP', 'TP', 'FN', 'TN', 'N_ITERATIONS']\n",
    "#              and insert metrics in analysis script\n",
    "\n",
    "# Define parameters to adjust\n",
    "n_chunks = 1000\n",
    "model_type = 'RNN'\n",
    "parameter = 'hr'\n",
    "endogenous_input = 'MEDIAN'\n",
    "\n",
    "# Define path to all chunk-level matrices produced by prediction\n",
    "path_to_chunk_matrices = f'../../data/darts/{n_chunks}_chunks'\n",
    "\n",
    "# Read chunk-specific matrix\n",
    "chunks_matrix_f = open(f'{path_to_chunk_matrices}/confusion_matrix_chunks_{model_type}_{parameter}_{endogenous_input}.pickle', 'rb')\n",
    "chunks_matrix = pickle.load(chunks_matrix_f)\n",
    "chunks_matrix_f.close()\n",
    "\n",
    "# Show chunk-specific matrix\n",
    "#print(chunks_matrix)\n",
    "\n",
    "# Show one chunk result\n",
    "print(chunks_matrix[chunks_matrix['CHUNK_ID'] == '200033.0_220045.0_2198-08-07 19:53:00'])"
   ],
   "metadata": {
    "collapsed": false,
    "pycharm": {
     "name": "#%%\n"
    }
   }
  },
  {
   "cell_type": "markdown",
   "source": [
    "### Plot Correlation Between Chunk Length and Chunk Accuracy"
   ],
   "metadata": {
    "collapsed": false
   }
  },
  {
   "cell_type": "code",
   "execution_count": null,
   "outputs": [],
   "source": [
    "import matplotlib.pyplot as plt\n",
    "import seaborn as sns\n",
    "\n",
    "# Define input length to adjust\n",
    "input_length = 12\n",
    "\n",
    "# Add accuracy column to all chunks of matrix\n",
    "chunks_matrix['ACC'] = (chunks_matrix['TP'] + chunks_matrix['TN']) / \\\n",
    "                      (chunks_matrix['TP'] + chunks_matrix['FN'] + chunks_matrix['FP'] + chunks_matrix['TN'])\n",
    "\n",
    "# Add column for chunk length to all chunks of matrix\n",
    "chunks_matrix['LENGTH'] = chunks_matrix['N_ITERATIONS'] + input_length\n",
    "\n",
    "# Extract chunks for high and low analysis plot\n",
    "high_chunks = chunks_matrix[chunks_matrix['ALARM_TYPE'] == 'High'][['ACC', 'LENGTH']]\n",
    "low_chunks = chunks_matrix[chunks_matrix['ALARM_TYPE'] == 'Low'][['ACC', 'LENGTH']]\n",
    "\n",
    "# Introduce mean value for each length\n",
    "high_chunks_prep = high_chunks.astype(float)\n",
    "high_chunks_prep = high_chunks_prep.groupby('LENGTH').mean()\n",
    "\n",
    "low_chunks_prep = low_chunks.astype(float)\n",
    "low_chunks_prep = low_chunks_prep.groupby('LENGTH').mean()\n",
    "\n",
    "# Reset indices to make access via column names possible again\n",
    "high_chunks_prep.reset_index(level=0, inplace=True)\n",
    "low_chunks_prep.reset_index(level=0, inplace=True)\n",
    "\n",
    "# Define background color, subplots and suptitle\n",
    "sns.set_style('whitegrid')\n",
    "fig, (ax1, ax2) = plt.subplots(1, 2, figsize=(8, 4))\n",
    "fig.suptitle('Correlation of Chunk Accuracy and Its Mean Chunk Length', fontsize=14)\n",
    "\n",
    "# Add left plot (high threshold analysis)\n",
    "ax1.plot('LENGTH', 'ACC', data=high_chunks_prep, marker='o', color=sns.color_palette('colorblind')[0])\n",
    "ax1.set_title('Accuracy Regarding High Thresholds', fontsize=10)\n",
    "ax1.set_xlabel('Chunk Length', fontsize=8)\n",
    "ax1.set_ylabel('Chunk Accuracy', fontsize=8)\n",
    "ax1.set_ylim(bottom=0, top=1.1)\n",
    "\n",
    "# Add right plot (low threshold analysis)\n",
    "ax2.plot('LENGTH', 'ACC', data=low_chunks_prep, marker='o', color=sns.color_palette('colorblind')[1])\n",
    "ax2.set_title('Accuracy Regarding Low Thresholds', fontsize=10)\n",
    "ax2.set_xlabel('Chunk Length', fontsize=8)\n",
    "ax2.set_ylabel('Chunk Accuracy', fontsize=8)\n",
    "ax2.set_ylim(bottom=0, top=1.1)\n",
    "\n",
    "# Improve layout and save figure\n",
    "fig.tight_layout()\n",
    "#fig.show()\n",
    "fig.savefig(f'../../plots/darts/1000_chunks/correlation_chunk_length_and_accuracy_{model_type}_{parameter}_{endogenous_input}.png', dpi=1200)"
   ],
   "metadata": {
    "collapsed": false,
    "pycharm": {
     "name": "#%%\n"
    }
   }
  }
 ],
 "metadata": {
  "kernelspec": {
   "display_name": "Python 3",
   "language": "python",
   "name": "python3"
  },
  "language_info": {
   "codemirror_mode": {
    "name": "ipython",
    "version": 2
   },
   "file_extension": ".py",
   "mimetype": "text/x-python",
   "name": "python",
   "nbconvert_exporter": "python",
   "pygments_lexer": "ipython2",
   "version": "2.7.6"
  }
 },
 "nbformat": 4,
 "nbformat_minor": 0
}