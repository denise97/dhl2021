{
 "cells": [
  {
   "cell_type": "markdown",
   "source": [
    "# Analysis of Predictions Produced with Chunks and RNNModel by Darts\n",
    "\n",
    "This script analyzes all pickle files in `./data/darts/{n_chunks}_chunks/`, starting with `confusion_matrix`, i.e. all model-level and all chunk-level matrices. At the moment, the paths are adapted for local execution."
   ],
   "metadata": {
    "collapsed": false
   }
  },
  {
   "cell_type": "markdown",
   "source": [
    "## Analysis of Model-level Matrices\n",
    "\n",
    "### Extract All Generated Model-level Matrices"
   ],
   "metadata": {
    "collapsed": false
   }
  },
  {
   "cell_type": "code",
   "execution_count": null,
   "outputs": [],
   "source": [
    "from IPython.display import display\n",
    "\n",
    "import os\n",
    "import pandas as pd\n",
    "import pickle5 as pickle\n",
    "\n",
    "# Define number of chunks taken to adjust\n",
    "n_chunks = 1000\n",
    "\n",
    "# Define path to all model-level matrices produced by prediction\n",
    "path_to_model_matrices = f'../../data/darts/{n_chunks}_chunks'\n",
    "\n",
    "# Collect pickle file names of model-level matrices\n",
    "model_matrix_filenames = list()\n",
    "\n",
    "for file in os.listdir(path_to_model_matrices):\n",
    "    if os.path.isfile(os.path.join(path_to_model_matrices, file)) and \\\n",
    "            file.startswith('confusion_matrix_models') and file.endswith('.pickle'):\n",
    "        model_matrix_filenames.append(file)\n",
    "\n",
    "# Concat all found matrices into result matrix\n",
    "result_matrix_models = pd.DataFrame(columns=['ID', 'PARAMETER', 'MODEL', 'ENDOGENOUS', 'EXOGENOUS', 'FIRST_FORECAST',\n",
    "                                             'ALARM_TYPE', 'FP', 'TP', 'FN', 'TN', 'N_CHUNKS', 'N_ITERATIONS'])\n",
    "\n",
    "for filename in model_matrix_filenames:\n",
    "    # Read file\n",
    "    current_matrix_f = open(f'{path_to_model_matrices}/{filename}', 'rb')\n",
    "    current_matrix = pickle.load(current_matrix_f)\n",
    "    current_matrix_f.close()\n",
    "\n",
    "    # Append current matrix to result matrix\n",
    "    result_matrix_models = pd.concat([result_matrix_models, current_matrix])\n",
    "\n",
    "# Sort result matrix for better readability\n",
    "result_matrix_models.sort_values(by=['ID'], inplace=True)\n",
    "\n",
    "# Reset index\n",
    "result_matrix_models.reset_index(inplace=True, drop=True)\n",
    "\n",
    "# Show result matrix per parameter\n",
    "display(result_matrix_models[result_matrix_models['PARAMETER'] == 'HR'])\n",
    "display(result_matrix_models[result_matrix_models['PARAMETER'] == 'BP'])"
   ],
   "metadata": {
    "collapsed": false,
    "pycharm": {
     "name": "#%%\n"
    }
   }
  },
  {
   "cell_type": "markdown",
   "source": [
    "### Add Accuracy Metrics and Save as Parquet Files (Normal + Scaled)"
   ],
   "metadata": {
    "collapsed": false
   }
  },
  {
   "cell_type": "code",
   "execution_count": null,
   "outputs": [],
   "source": [
    "# Calculate metrics (see https://en.wikipedia.org/wiki/Sensitivity_and_specificity for more information)\n",
    "result_matrix_models['FPR'] = result_matrix_models['FP'] / (result_matrix_models['FP'] + result_matrix_models['TN'])\n",
    "result_matrix_models['TPR'] = result_matrix_models['TP'] / (result_matrix_models['TP'] + result_matrix_models['FN'])\n",
    "result_matrix_models['FNR'] = result_matrix_models['FN'] / (result_matrix_models['TP'] + result_matrix_models['FN'])\n",
    "result_matrix_models['TNR'] = result_matrix_models['TN'] / (result_matrix_models['FP'] + result_matrix_models['TN'])\n",
    "\n",
    "result_matrix_models['ACC'] = (result_matrix_models['TP'] + result_matrix_models['TN']) / \\\n",
    "                              (result_matrix_models['TP'] + result_matrix_models['FN'] + result_matrix_models['FP'] + result_matrix_models['TN'])\n",
    "result_matrix_models['F1S'] = result_matrix_models['TP'] / \\\n",
    "                              (result_matrix_models['TP'] + 0.5 * (result_matrix_models['FP'] + result_matrix_models['FN']))\n",
    "\n",
    "# Round all floats to 4 decimal places\n",
    "# Note: round() does not work for floats with many decimal places\n",
    "decimals = 4\n",
    "for col in ['FPR', 'TPR', 'FNR', 'TNR', 'ACC', 'F1S']:\n",
    "    result_matrix_models[col] = result_matrix_models[col].apply(lambda x: round(x, decimals))\n",
    "\n",
    "# Move cols to end for similarity with ARIMA results\n",
    "result_matrix_models = result_matrix_models[['ID', 'PARAMETER', 'MODEL', 'ENDOGENOUS', 'EXOGENOUS', 'FIRST_FORECAST',\n",
    "                                             'ALARM_TYPE', 'FP', 'TP', 'FN', 'TN', 'FPR', 'TPR', 'FNR', 'TNR', 'ACC',\n",
    "                                             'F1S', 'N_CHUNKS', 'N_ITERATIONS']]\n",
    "\n",
    "# Extract normal and scaled rows\n",
    "normal_model_numbers = [str(nr) for nr in list(range(20))][10:]\n",
    "result_matrix_models_normal = result_matrix_models[result_matrix_models['ID'].split('_')[2].isin(normal_model_numbers)]\n",
    "\n",
    "scaled_model_numbers = ['0' + str(nr) for nr in list(range(10))]\n",
    "result_matrix_models_scaled = result_matrix_models[result_matrix_models['ID'].split('_')[2].isin(scaled_model_numbers)]\n",
    "\n",
    "# Show complemented result matrices per parameter\n",
    "display(result_matrix_models_normal[result_matrix_models_normal['PARAMETER'] == 'HR'])\n",
    "display(result_matrix_models_normal[result_matrix_models_normal['PARAMETER'] == 'BP'])\n",
    "\n",
    "display(result_matrix_models_scaled[result_matrix_models_scaled['PARAMETER'] == 'HR'])\n",
    "display(result_matrix_models_scaled[result_matrix_models_scaled['PARAMETER'] == 'BP'])\n",
    "\n",
    "# Save result matrices as parquet\n",
    "result_matrix_models_normal.to_parquet(f'../../data/darts/{n_chunks}_chunks/result_matrix_models_normal.parquet', engine='pyarrow')\n",
    "result_matrix_models_normal.to_parquet(f'../../data/darts/{n_chunks}_chunks/result_matrix_models_scaled.parquet', engine='pyarrow')"
   ],
   "metadata": {
    "collapsed": false,
    "pycharm": {
     "name": "#%%\n"
    }
   }
  },
  {
   "cell_type": "markdown",
   "source": [
    "### Plot Ratios"
   ],
   "metadata": {
    "collapsed": false
   }
  },
  {
   "cell_type": "code",
   "execution_count": null,
   "outputs": [],
   "source": [
    "import matplotlib.pyplot as plt\n",
    "import seaborn as sns\n",
    "\n",
    "for version, matrix in [('normal', result_matrix_models_normal), ('scaled', result_matrix_models_scaled)]:\n",
    "\n",
    "    # \"Group\" result matrix by prefix of ID\n",
    "    plotdata = matrix.replace(['_H', '_L'], ['', ''], regex=True)\n",
    "\n",
    "    # Create subplots\n",
    "    sns.set_style('whitegrid')\n",
    "    fig, axs = plt.subplots(\n",
    "        nrows=4,\n",
    "        ncols=2, # TODO: adjust if O2 is added\n",
    "        figsize=(15, 13),\n",
    "        dpi=72\n",
    "        )\n",
    "\n",
    "    # Define y-limits\n",
    "    fpr_ylimits = [0, max(result_matrix_models.FPR)]\n",
    "    tpr_ylimits = [0, max(result_matrix_models.TPR)]\n",
    "    fnr_ylimits = [0, max(result_matrix_models.FNR)]\n",
    "    tnr_ylimits = [0, max(result_matrix_models.TNR)]\n",
    "\n",
    "    # Actual plots\n",
    "    # TODO: execute again with O2\n",
    "    for i, parameter in enumerate(['HR', 'BP']):\n",
    "        sns.barplot(\n",
    "            ax=axs[0, i],\n",
    "            data=plotdata[plotdata.PARAMETER == parameter],\n",
    "            x='ID',\n",
    "            y='FPR',\n",
    "            hue='ALARM_TYPE',\n",
    "            palette=sns.color_palette('colorblind'),\n",
    "            ci=None)\n",
    "            #order=[f'{parameter}_R_01', f'{parameter}_R_02', f'{parameter}_R_03'])\n",
    "        axs[0, i].set_title(str(parameter), fontweight='bold', color= 'black', fontsize=14)\n",
    "        axs[0, i].set_ylim(fpr_ylimits)\n",
    "\n",
    "        sns.barplot(\n",
    "            ax=axs[1, i],\n",
    "            data=plotdata[plotdata.PARAMETER == parameter],\n",
    "            x='ID',\n",
    "            y='TPR',\n",
    "            hue='ALARM_TYPE',\n",
    "            palette=sns.color_palette('colorblind'),\n",
    "            ci=None)\n",
    "            #order=[f'{parameter}_R_01', f'{parameter}_R_02', f'{parameter}_R_03'])\n",
    "        axs[1, i].set_ylim(tpr_ylimits)\n",
    "\n",
    "        sns.barplot(\n",
    "            ax=axs[2, i],\n",
    "            data=plotdata[plotdata.PARAMETER == parameter],\n",
    "            x='ID',\n",
    "            y='FNR',\n",
    "            hue='MODEL',\n",
    "            palette=sns.color_palette('colorblind'),\n",
    "            ci=None)\n",
    "            #order=[f'{parameter}_R_01', f'{parameter}_R_02', f'{parameter}_R_03'])\n",
    "        axs[2, i].set_ylim(fnr_ylimits)\n",
    "\n",
    "        sns.barplot(\n",
    "            ax = axs[3, i],\n",
    "            data = plotdata[plotdata.PARAMETER == parameter],\n",
    "            x='ID',\n",
    "            y='TNR',\n",
    "            hue='ALARM_TYPE')\n",
    "            palette = sns.color_palette('colorblind'),\n",
    "            ci=None,\n",
    "            #order=[f'{parameter}_R_01', f'{parameter}_R_02', f'{parameter}_R_03'])\n",
    "        axs[3, i].set_ylim(tnr_ylimits)\n",
    "\n",
    "    plt.show(fig)\n",
    "    #fig.savefig(f'../../plots/darts/{n_chunks}_chunks/ratios_model_result_matrix_{version}.png', dpi=1200)"
   ],
   "metadata": {
    "collapsed": false,
    "pycharm": {
     "name": "#%%\n"
    }
   }
  },
  {
   "cell_type": "markdown",
   "source": [
    "### Plot Accuracy and F1 Score"
   ],
   "metadata": {
    "collapsed": false
   }
  },
  {
   "cell_type": "code",
   "execution_count": null,
   "outputs": [],
   "source": [
    "import matplotlib.pyplot as plt\n",
    "import seaborn as sns\n",
    "\n",
    "for version, matrix in [('normal', result_matrix_models_normal), ('scaled', result_matrix_models_scaled)]:\n",
    "\n",
    "    # \"Group\" result matrix by prefix of ID\n",
    "    plotdata = result_matrix_models.replace(['_H', '_L'], ['', ''], regex=True)\n",
    "\n",
    "    # Create subplots\n",
    "    sns.set_style('whitegrid')\n",
    "    fig, axs = plt.subplots(\n",
    "        nrows=2,\n",
    "        ncols=2, # TODO: adjust if O2 is added\n",
    "        figsize=(15, 7),\n",
    "        dpi=72\n",
    "        )\n",
    "\n",
    "    # Define y-limits\n",
    "    acc_ylimits = [0, max(result_matrix_models.ACC)]\n",
    "    f1s_ylimits = [0, max(result_matrix_models.F1S)]\n",
    "\n",
    "    # Actual plot\n",
    "    # TODO: execute again with O2\n",
    "    for i, parameter in enumerate(['HR', 'BP']):\n",
    "\n",
    "        sns.barplot(\n",
    "            ax=axs[0, i],\n",
    "            data=plotdata[plotdata.PARAMETER == parameter],\n",
    "            x='ID',\n",
    "            y='ACC',\n",
    "            hue='ALARM_TYPE',\n",
    "            palette=sns.color_palette('colorblind'),\n",
    "            ci=None)\n",
    "            #order=[f'{parameter}_R_01', f'{parameter}_R_02', f'{parameter}_R_03'])\n",
    "        axs[0, i].set_title(str(parameter), fontweight='bold', color= 'black', fontsize=14)\n",
    "        axs[0, i].set_ylim(acc_ylimits)\n",
    "\n",
    "        sns.barplot(\n",
    "            ax=axs[1, i],\n",
    "            data=plotdata[plotdata.PARAMETER == parameter],\n",
    "            x='ID',\n",
    "            y='F1S',\n",
    "            hue='ALARM_TYPE',\n",
    "            palette=sns.color_palette('colorblind'),\n",
    "            ci=None)\n",
    "            #order=[f'{parameter}_R_01', f'{parameter}_R_02', f'{parameter}_R_03'])\n",
    "        axs[1, i].set_ylim(f1s_ylimits)\n",
    "\n",
    "    plt.show(fig)\n",
    "    #fig.savefig(f'../../plots/darts/{n_chunks}_chunks/acc_f1s_model_result_matrix_{version}.png', dpi=1200)"
   ],
   "metadata": {
    "collapsed": false,
    "pycharm": {
     "name": "#%%\n"
    }
   }
  },
  {
   "cell_type": "markdown",
   "source": [
    "## Analysis of Chunk-level Matrices\n",
    "\n",
    "### Print One Chunk-level Matrix"
   ],
   "metadata": {
    "collapsed": false
   }
  },
  {
   "cell_type": "code",
   "execution_count": null,
   "outputs": [],
   "source": [
    "import pickle5 as pickle\n",
    "\n",
    "# Define parameters to adjust\n",
    "n_chunks = 1000\n",
    "model_type = 'RNN'\n",
    "parameter = 'bp'\n",
    "endogenous_input = 'MEDIAN'\n",
    "version = 'scaled'\n",
    "\n",
    "# Define path to all chunk-level matrices produced by prediction\n",
    "path_to_chunk_matrices = f'../../data/darts/{n_chunks}_chunks'\n",
    "\n",
    "# Read chunk-specific matrix\n",
    "chunks_matrix_f = open(f'{path_to_chunk_matrices}/confusion_matrix_chunks_{model_type}_{parameter}_{endogenous_input}_{version}.pickle', 'rb')\n",
    "chunks_matrix = pickle.load(chunks_matrix_f)\n",
    "chunks_matrix_f.close()\n",
    "\n",
    "# Show chunk-specific matrix\n",
    "display(chunks_matrix)"
   ],
   "metadata": {
    "collapsed": false,
    "pycharm": {
     "name": "#%%\n"
    }
   }
  },
  {
   "cell_type": "markdown",
   "source": [
    "### Add Metrics (and Other Remaining Columns) to Each Chunk"
   ],
   "metadata": {
    "collapsed": false,
    "pycharm": {
     "name": "#%% md\n"
    }
   }
  },
  {
   "cell_type": "code",
   "execution_count": null,
   "outputs": [],
   "source": [
    "import numpy as np\n",
    "\n",
    "# Note: To avoid dividing by zero, zeros are converted to NaN before division (since any value divided by NaN gives NaN)\n",
    "\n",
    "chunks_matrix['fp_tn_divisor'] = chunks_matrix['FP'] + chunks_matrix['TN']\n",
    "chunks_matrix['TNR'] = chunks_matrix.TN.div(chunks_matrix.fp_tn_divisor.where(chunks_matrix.fp_tn_divisor != 0, np.nan))\n",
    "chunks_matrix['FPR'] = chunks_matrix.FP.div(chunks_matrix.fp_tn_divisor.where(chunks_matrix.fp_tn_divisor != 0, np.nan)) # 1 - TNR\n",
    "\n",
    "chunks_matrix['fn_tp_divisor'] = chunks_matrix['FN'] + chunks_matrix['TP']\n",
    "chunks_matrix['TPR'] = chunks_matrix.TP.div(chunks_matrix.fn_tp_divisor.where(chunks_matrix.fn_tp_divisor != 0, np.nan))\n",
    "chunks_matrix['FNR'] = chunks_matrix.FN.div(chunks_matrix.fn_tp_divisor.where(chunks_matrix.fn_tp_divisor != 0, np.nan)) # 1 - TPR\n",
    "\n",
    "chunks_matrix['F1S_divisor'] = chunks_matrix['TP'] + 0.5 * (chunks_matrix['FP'] + chunks_matrix['FN'])\n",
    "chunks_matrix['F1S'] = chunks_matrix.TP.div(chunks_matrix.F1S_divisor.where(chunks_matrix.F1S_divisor != 0, np.nan))\n",
    "\n",
    "chunks_matrix['ACC_dividend'] = chunks_matrix['TN'] + chunks_matrix['TP']\n",
    "chunks_matrix['ACC_divisor'] = chunks_matrix['fp_tn_divisor'] + chunks_matrix['fn_tp_divisor']\n",
    "chunks_matrix['ACC'] = chunks_matrix.ACC_dividend.div(chunks_matrix.ACC_divisor.where(chunks_matrix.ACC_divisor != 0, np.nan))\n",
    "\n",
    "# Round all floats to 4 decimal places\n",
    "# Note: round() does not work for floats with many decimal places\n",
    "decimals = 4\n",
    "for col in ['FPR', 'TPR', 'FNR', 'TNR', 'ACC', 'F1S']:\n",
    "    chunks_matrix[col] = chunks_matrix[col].apply(lambda x: round(x, decimals))\n",
    "\n",
    "# Sort and remove helper columns for similarity with model-level matrices\n",
    "chunks_matrix = chunks_matrix[['CHUNK_ID', 'PARAMETER', 'MODEL', 'ENDOGENOUS', 'EXOGENOUS', 'FIRST_FORECAST',\n",
    "                               'ALARM_TYPE', 'FP', 'TP', 'FN', 'TN', 'FPR', 'TPR', 'FNR', 'TNR', 'ACC', 'F1S',\n",
    "                               'N_ITERATIONS']]\n",
    "\n",
    "# Show complemented chunk-level matrix for one chunk\n",
    "display(chunks_matrix[chunks_matrix['CHUNK_ID'] == '200063.0_220179.0_2141-04-02 15:24:00'])"
   ],
   "metadata": {
    "collapsed": false,
    "pycharm": {
     "name": "#%%\n"
    }
   }
  },
  {
   "cell_type": "markdown",
   "source": [
    "### Plot Correlation Between Chunk Length and F1 Score/ Specificity of Chunk"
   ],
   "metadata": {
    "collapsed": false
   }
  },
  {
   "cell_type": "code",
   "execution_count": null,
   "outputs": [],
   "source": [
    "import matplotlib.pyplot as plt\n",
    "import seaborn as sns\n",
    "\n",
    "# Define input length to adjust\n",
    "input_length = 12\n",
    "\n",
    "# Add column for chunk length to all chunks of matrix\n",
    "chunks_matrix['LENGTH'] = chunks_matrix['N_ITERATIONS'] + input_length\n",
    "\n",
    "for metric in ['F1S', 'TNR']:\n",
    "\n",
    "    # Define background color, subplots and suptitle\n",
    "    sns.set_style('whitegrid')\n",
    "    fig, (ax1, ax2) = plt.subplots(1, 2, figsize=(8, 4))\n",
    "    fig.suptitle(f'Correlation of Chunk Length and {metric} of Chunk', fontsize=14)\n",
    "\n",
    "    if endogenous_input == 'MIN':\n",
    "        ax1.set_visible(False)\n",
    "        ax2.set_position([1, 0.2, 0.05, 0.2])\n",
    "    else:\n",
    "        # Extract chunks for high and low analysis plot\n",
    "        high_chunks = chunks_matrix[chunks_matrix['ALARM_TYPE'] == 'High'][[metric, 'LENGTH']]\n",
    "\n",
    "        # Introduce mean value for each length\n",
    "        # Note: If mean value of metric is used, lines can be drawn again (with default of linestyle parameter)\n",
    "        #high_chunks = high_chunks.astype(float)\n",
    "        #high_chunks = high_chunks.groupby('LENGTH').mean()\n",
    "\n",
    "        # Reset indices to make access via column names possible again\n",
    "        high_chunks.reset_index(level=0, inplace=True)\n",
    "\n",
    "        # Add left plot (high threshold analysis)\n",
    "        ax1.plot('LENGTH', metric, data=high_chunks, marker='o', color=sns.color_palette('colorblind')[0], linestyle='None')\n",
    "        ax1.set_title(f'{metric} Regarding High Thresholds', fontsize=10)\n",
    "        ax1.set_xlabel('Chunk Length', fontsize=8)\n",
    "        ax1.set_ylabel(f'{metric} of Chunk', fontsize=8)\n",
    "        ax1.set_ylim(bottom=0, top=1.1)\n",
    "\n",
    "    if endogenous_input == 'MAX':\n",
    "        ax2.set_visible(False)\n",
    "        ax1.set_position([0, 0.2, 0.05, 0.2])\n",
    "    else:\n",
    "        # Extract chunks for high and low analysis plot\n",
    "        low_chunks = chunks_matrix[chunks_matrix['ALARM_TYPE'] == 'Low'][[metric, 'LENGTH']]\n",
    "\n",
    "        # Introduce mean value for each length\n",
    "        # Note: If mean value of metric is used, lines can be drawn again (with default of linestyle parameter)\n",
    "        #low_chunks = vlow_chunks.astype(float)\n",
    "        #low_chunks = low_chunks.groupby('LENGTH').mean()\n",
    "\n",
    "        # Reset indices to make access via column names possible again\n",
    "        low_chunks.reset_index(level=0, inplace=True)\n",
    "\n",
    "        # Add right plot (low threshold analysis)\n",
    "        ax2.plot('LENGTH', metric, data=low_chunks, marker='o', color=sns.color_palette('colorblind')[1], linestyle='None')\n",
    "        ax2.set_title(f'{metric} Regarding Low Thresholds', fontsize=10)\n",
    "        ax2.set_xlabel('Chunk Length', fontsize=8)\n",
    "        ax2.set_ylabel(f'{metric} of Chunk', fontsize=8)\n",
    "        ax2.set_ylim(bottom=0, top=1.1)\n",
    "\n",
    "    # Improve layout and save figure\n",
    "    fig.tight_layout()\n",
    "    fig.show()\n",
    "    #fig.savefig(f'../../plots/darts/{n_chunks}_chunks/correlation_chunk_length_and_{metric}_{model_type}_{parameter}_{endogenous_input}_{version}.png', dpi=1200)"
   ],
   "metadata": {
    "collapsed": false,
    "pycharm": {
     "name": "#%%\n"
    }
   }
  },
  {
   "cell_type": "markdown",
   "source": [
    "### Time-Series Plot of Chunk with Prediction"
   ],
   "metadata": {
    "collapsed": false
   }
  },
  {
   "cell_type": "code",
   "execution_count": null,
   "outputs": [],
   "source": [
    "from darts import TimeSeries\n",
    "import pandas as pd\n",
    "\n",
    "# Define chunk IDs of current \"model type-parameter-input\" chunk-level matrix\n",
    "chunk_ids = ['200063.0_220179.0_2141-03-20 16:00:00', '200063.0_220179.0_2141-04-02 15:24:00',\n",
    "             '200098.0_220179.0_2136-03-28 00:15:00', '200098.0_220179.0_2136-03-31 01:00:00',\n",
    "             '200108.0_220179.0_2110-12-10 02:00:00', '200116.0_220179.0_2198-03-19 21:43:00']\n",
    "\n",
    "for chunk_id in chunk_ids:\n",
    "\n",
    "    # Format chunk IDs into Windows format that have to be used when loading from or saving to Windows machine\n",
    "    chunk_id_windows = chunk_id.replace(':', '%3A')\n",
    "\n",
    "    # Extract predicted series of chunk\n",
    "    prediction_chunk_f = open(f'../../data/darts/{n_chunks}_chunks/{model_type}/{parameter}/{endogenous_input}/'\n",
    "                              f'05_prediction_{chunk_id_windows}_{version}.pickle', 'rb')\n",
    "    prediction_chunk = pickle.load(prediction_chunk_f)\n",
    "    prediction_chunk_f.close()\n",
    "\n",
    "    # Convert predicted series of chunk to TimeSeries object\n",
    "    prediction_chunk = TimeSeries.from_dataframe(\n",
    "        df=prediction_chunk,\n",
    "        time_col='Time',\n",
    "        value_cols=['Value'],\n",
    "        freq='H')\n",
    "\n",
    "    # Extract original series of chunk\n",
    "    resampled_chunks = pd.read_parquet(f'../../data/resampling/resample_output_{parameter}_first{n_chunks}.parquet', engine='pyarrow')\n",
    "    original_chunk = resampled_chunks[resampled_chunks['CHUNK_ID_FILLED_TH'] == chunk_id]\n",
    "\n",
    "    # Convert original series of chunk to TimeSeries object\n",
    "    original_chunk = TimeSeries.from_dataframe(\n",
    "        df=original_chunk,\n",
    "        time_col='CHARTTIME',\n",
    "        value_cols=[f'VITAL_PARAMTER_VALUE_{endogenous_input}_RESAMPLING'],\n",
    "        freq='H')\n",
    "\n",
    "    # Actual plot\n",
    "    sns.set_style('whitegrid')\n",
    "    plt.figure(figsize=(8, 5))\n",
    "    original_chunk.plot(label=f'{parameter.upper()} - actual')\n",
    "    prediction_chunk.plot(label=f'{parameter.upper()} - predicted')\n",
    "\n",
    "    # Adjust texts of plot\n",
    "    plt.legend()\n",
    "    plt.suptitle(f'Prediction of {parameter.upper()} with {n_chunks} Chunks, {endogenous_input} Input, and {model_type} Model', fontweight='bold')\n",
    "    plt.xlabel('Time')\n",
    "    plt.ylabel('Value')\n",
    "\n",
    "    plt.show()\n",
    "    #plt.savefig(f'../../plots/darts/{n_chunks}_chunks/prediction_{model_type}_{parameter}_{endogenous_input}_{chunk_id_windows}_{version}.png', dpi=1200)"
   ],
   "metadata": {
    "collapsed": false,
    "pycharm": {
     "name": "#%%\n"
    }
   }
  }
 ],
 "metadata": {
  "kernelspec": {
   "display_name": "Python 3",
   "language": "python",
   "name": "python3"
  },
  "language_info": {
   "codemirror_mode": {
    "name": "ipython",
    "version": 2
   },
   "file_extension": ".py",
   "mimetype": "text/x-python",
   "name": "python",
   "nbconvert_exporter": "python",
   "pygments_lexer": "ipython2",
   "version": "2.7.6"
  }
 },
 "nbformat": 4,
 "nbformat_minor": 0
}