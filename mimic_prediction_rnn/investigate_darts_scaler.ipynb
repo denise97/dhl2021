{
 "cells": [
  {
   "cell_type": "markdown",
   "source": [
    "# Investigate Default Scaler by Darts"
   ],
   "metadata": {
    "collapsed": false,
    "pycharm": {
     "name": "#%% md\n"
    }
   }
  },
  {
   "cell_type": "code",
   "execution_count": null,
   "outputs": [],
   "source": [
    "from darts import TimeSeries\n",
    "from darts.dataprocessing.transformers import Scaler\n",
    "import pandas as pd\n",
    "\n",
    "resampled_data = pd.read_parquet('../../data/resampling/resample_output_bp_first2000.parquet', engine='pyarrow')\n",
    "\n",
    "series = dict()\n",
    "mins, maxs = list(), list()\n",
    "\n",
    "# Collect all series with minimal length\n",
    "for chunk_id in pd.unique(resampled_data.CHUNK_ID_FILLED_TH):\n",
    "    current_series = resampled_data[resampled_data['CHUNK_ID_FILLED_TH'] == chunk_id]\n",
    "\n",
    "    if len(current_series) > 12:\n",
    "        mins.append(current_series['VITAL_PARAMTER_VALUE_MEDIAN_RESAMPLING'].min())\n",
    "        maxs.append(current_series['VITAL_PARAMTER_VALUE_MEDIAN_RESAMPLING'].max())\n",
    "\n",
    "        series[chunk_id] = TimeSeries.from_dataframe(\n",
    "            df=current_series,\n",
    "            time_col='CHARTTIME',\n",
    "            value_cols=['VITAL_PARAMTER_VALUE_MEDIAN_RESAMPLING'],\n",
    "            freq='H')"
   ],
   "metadata": {
    "collapsed": false,
    "pycharm": {
     "name": "#%%\n"
    }
   }
  },
  {
   "cell_type": "code",
   "execution_count": null,
   "outputs": [],
   "source": [
    "def rescale_single_series(series, min, max):\n",
    "\n",
    "    series_df = series.pd_dataframe()\n",
    "    series_df.reset_index(level=0, inplace=True)\n",
    "    series_df.columns = ['TIME', 'VALUE_SCALED']\n",
    "\n",
    "    series_df['VALUE'] = series_df['VALUE_SCALED'] * (max-min) + min\n",
    "\n",
    "    return series_df[['TIME', 'VALUE']]"
   ],
   "metadata": {
    "collapsed": false,
    "pycharm": {
     "name": "#%%\n"
    }
   }
  },
  {
   "cell_type": "code",
   "execution_count": null,
   "outputs": [],
   "source": [
    "# Scale all series at once\n",
    "scaler = Scaler()\n",
    "scaled_series = scaler.fit_transform(list(series.values()))\n",
    "\n",
    "# Rescale all series at once with Darts\n",
    "rescaled_by_darts = scaler.inverse_transform(scaled_series)\n",
    "\n",
    "# Rescale single series with own function\n",
    "chunk_idx = 42\n",
    "chunk_id = list(series.keys())[chunk_idx]\n",
    "rescaled_by_function_local = rescale_single_series(scaled_series[chunk_idx], mins[chunk_idx], maxs[chunk_idx])\n",
    "rescaled_by_function_global = rescale_single_series(scaled_series[chunk_idx], min(mins), max(maxs))\n",
    "\n",
    "# Show original and rescaled values together\n",
    "merged = pd.DataFrame({'Original': [value[0] for value in series[chunk_id].values()],\n",
    "                       'Rescaled_Darts': [value[0] for value in rescaled_by_darts[chunk_idx].values()],\n",
    "                       'Rescaled_Local': rescaled_by_function_local['VALUE'],\n",
    "                       'Rescaled_Global': rescaled_by_function_global['VALUE']})\n",
    "merged"
   ],
   "metadata": {
    "collapsed": false,
    "pycharm": {
     "name": "#%%\n"
    }
   }
  },
  {
   "cell_type": "code",
   "execution_count": null,
   "outputs": [],
   "source": [
    "# Show list of several MinMaxScalers\n",
    "scaler._fitted_params"
   ],
   "metadata": {
    "collapsed": false,
    "pycharm": {
     "name": "#%%\n"
    }
   }
  },
  {
   "cell_type": "code",
   "execution_count": null,
   "outputs": [],
   "source": [
    "# Show one specific max\n",
    "print(maxs[chunk_idx])\n",
    "print(scaler._fitted_params[chunk_idx].data_max_)"
   ],
   "metadata": {
    "collapsed": false,
    "pycharm": {
     "name": "#%%\n"
    }
   }
  },
  {
   "cell_type": "code",
   "execution_count": null,
   "outputs": [],
   "source": [
    "# Show number of samples one scaler has seen\n",
    "print(len(series[chunk_id]))\n",
    "print(scaler._fitted_params[chunk_idx].n_samples_seen_)"
   ],
   "metadata": {
    "collapsed": false,
    "pycharm": {
     "name": "#%%\n"
    }
   }
  }
 ],
 "metadata": {
  "kernelspec": {
   "display_name": "Python 3",
   "language": "python",
   "name": "python3"
  },
  "language_info": {
   "codemirror_mode": {
    "name": "ipython",
    "version": 2
   },
   "file_extension": ".py",
   "mimetype": "text/x-python",
   "name": "python",
   "nbconvert_exporter": "python",
   "pygments_lexer": "ipython2",
   "version": "2.7.6"
  }
 },
 "nbformat": 4,
 "nbformat_minor": 0
}