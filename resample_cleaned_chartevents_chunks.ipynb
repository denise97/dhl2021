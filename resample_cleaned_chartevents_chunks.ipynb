{
 "metadata": {
  "language_info": {
   "codemirror_mode": {
    "name": "ipython",
    "version": 3
   },
   "file_extension": ".py",
   "mimetype": "text/x-python",
   "name": "python",
   "nbconvert_exporter": "python",
   "pygments_lexer": "ipython3",
   "version": 3
  },
  "orig_nbformat": 2
 },
 "nbformat": 4,
 "nbformat_minor": 2,
 "cells": [
  {
   "source": [
    "# Resample cleaned chartevents chunks"
   ],
   "cell_type": "markdown",
   "metadata": {}
  },
  {
   "cell_type": "code",
   "execution_count": null,
   "metadata": {},
   "outputs": [],
   "source": [
    "import pandas as pd\n",
    "import pyarrow as pa\n",
    "\n",
    "chartevents_clean_values_and_thresholds_with_chunkid_65 = pd.read_parquet('../data/chartevents_clean_values_and_thresholds_with_chunkid_65.parquet', engine='pyarrow')"
   ]
  },
  {
   "cell_type": "code",
   "execution_count": null,
   "metadata": {},
   "outputs": [],
   "source": [
    "# Select rows with relevant ITEMIDs (only values, no thresholds) and\n",
    "# Select relevant columns\n",
    "chartevents_to_be_resampled = chartevents_clean_values_and_thresholds_with_chunkid_65[\n",
    "    chartevents_clean_values_and_thresholds_with_chunkid_65.ITEMID.isin([220045,220179,220277])][\n",
    "        ['CHUNK_ID_FILLED_TH','ICUSTAY_ID','ITEMID','CHARTTIME','VALUENUM_CLEAN']\n",
    "    ].copy()\n",
    "\n",
    "# Sort\n",
    "chartevents_to_be_resampled = chartevents_to_be_resampled.sort_values(by=['CHUNK_ID_FILLED_TH','ICUSTAY_ID','ITEMID','CHARTTIME'])\n",
    "\n",
    "display(chartevents_to_be_resampled)"
   ]
  },
  {
   "cell_type": "code",
   "execution_count": null,
   "metadata": {},
   "outputs": [],
   "source": [
    "# Resampling of VALUENUM_CLEAN with a frequency of 60min (1 hour), using the median of the values when downsampling.\n",
    "# See https://pandas.pydata.org/pandas-docs/stable/reference/api/pandas.Grouper.html for further info\n",
    "# Maybe interesting read: https://benalexkeen.com/resampling-time-series-data-with-pandas/\n",
    "\n",
    "chartevents_resampled = chartevents_to_be_resampled.groupby(\n",
    "    ['CHUNK_ID_FILLED_TH','ICUSTAY_ID','ITEMID', pd.Grouper(key='CHARTTIME', freq='1H')]\n",
    "    )['VALUENUM_CLEAN'].median().reset_index()\n",
    "\n",
    "display(chartevents_resampled)"
   ]
  },
  {
   "cell_type": "code",
   "execution_count": null,
   "metadata": {},
   "outputs": [],
   "source": [
    "import pandas as pd\n",
    "import pyarrow as pa\n",
    "\n",
    "# Save as parquet file\n",
    "chartevents_resampled.to_parquet('../data/chartevents_clean_values_and_thresholds_with_chunkid_65_resampled.parquet', engine='pyarrow')"
   ]
  },
  {
   "cell_type": "code",
   "execution_count": null,
   "metadata": {},
   "outputs": [],
   "source": [
    "import pandas as pd\n",
    "import pyarrow as pa\n",
    "\n",
    "# Read from parquet file\n",
    "chartevents_resampled = pd.read_parquet('../data/chartevents_clean_values_and_thresholds_with_chunkid_65_resampled.parquet', engine='pyarrow')"
   ]
  },
  {
   "source": [
    "## Validate resmapling\n",
    "\n",
    "Ongoing, not complete"
   ],
   "cell_type": "markdown",
   "metadata": {}
  },
  {
   "cell_type": "code",
   "execution_count": null,
   "metadata": {},
   "outputs": [],
   "source": [
    "# Selection of a single chunk for testing purposes\n",
    "dummy = chartevents_to_be_resampled[chartevents_to_be_resampled.CHUNK_ID_FILLED_TH == '260223.0_220045.0_2156-07-22 06:49:00']\n",
    "display(dummy)"
   ]
  },
  {
   "cell_type": "code",
   "execution_count": null,
   "metadata": {},
   "outputs": [],
   "source": [
    "# Applying resampling to a single chunk for test purposes\n",
    "dummy_resampled = dummy.groupby(['CHUNK_ID_FILLED_TH','ICUSTAY_ID','ITEMID', pd.Grouper(key='CHARTTIME', freq='1H')])['VALUENUM_CLEAN'].median().reset_index()\n",
    "display(dummy_resampled)"
   ]
  },
  {
   "cell_type": "code",
   "execution_count": null,
   "metadata": {},
   "outputs": [],
   "source": [
    "import numpy as np\n",
    "\n",
    "delta = dummy.CHARTTIME.max() - dummy.CHARTTIME.min()\n",
    "delta_in_hours = delta/np.timedelta64(1,'h')\n",
    "lenght_resampled = len(dummy_resampled)\n",
    "\n",
    "print(\"Difference\",delta)\n",
    "print(\"Difference in hours\",delta_in_hours)\n",
    "print(\"Length\",lenght_resampled)"
   ]
  },
  {
   "cell_type": "code",
   "execution_count": null,
   "metadata": {},
   "outputs": [],
   "source": [
    "# Quick and dirty plot for testing purposes\n",
    "import seaborn as sns\n",
    "sns.set(rc={\"figure.figsize\":(15, 5)})\n",
    "sns.lineplot(data=dummy, x=\"CHARTTIME\", y=\"VALUENUM_CLEAN\", hue=\"ITEMID\", marker=\"o\", markersize = 5)"
   ]
  },
  {
   "cell_type": "code",
   "execution_count": null,
   "metadata": {},
   "outputs": [],
   "source": [
    "# Quick and dirty plot for testing purposes\n",
    "import seaborn as sns\n",
    "sns.set(rc={\"figure.figsize\":(15, 5)})\n",
    "sns.lineplot(data=dummy_resampled, x=\"CHARTTIME\", y=\"VALUENUM_CLEAN\", hue=\"ITEMID\", marker=\"o\", markersize = 5)"
   ]
  }
 ]
}