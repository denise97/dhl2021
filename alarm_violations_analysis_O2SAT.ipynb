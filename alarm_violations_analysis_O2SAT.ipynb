{
 "metadata": {
  "language_info": {
   "codemirror_mode": {
    "name": "ipython",
    "version": 3
   },
   "file_extension": ".py",
   "mimetype": "text/x-python",
   "name": "python",
   "nbconvert_exporter": "python",
   "pygments_lexer": "ipython3",
   "version": "3.7.4"
  },
  "orig_nbformat": 2,
  "kernelspec": {
   "name": "python3",
   "display_name": "Python 3.7.4 64-bit ('base': conda)",
   "metadata": {
    "interpreter": {
     "hash": "c24247fa39158f46a54dbb99bb8811b81cd84bf3c9aa6e8294d53a41a5837da9"
    }
   }
  },
  "metadata": {
   "interpreter": {
    "hash": "e2bfb1b1dd0bcdebdb315279aa118b1f834444d4ba3ba6d660e9f6ce7703f6a2"
   }
  }
 },
 "nbformat": 4,
 "nbformat_minor": 2,
 "cells": [
  {
   "source": [
    "# Analysis of `alarm_violations.csv`\n",
    "\n",
    "For each parameter ...\n",
    "* Concerning alarm violations ...\n",
    "  * Create a boxplot and stripplot based on the VALUENUM\n",
    "  * Clean the data if necessary\n",
    "  * Create histogram for cleaned VALUENUM  \n",
    "* Concerning alarm thresholds ...\n",
    "  * Create a boxplot and stripplot based on the THRESHOLD_VALUE (stratified by THRESHOLD_TYPE)\n",
    "  * Clean the data if necessary\n",
    "  * Create histogram for cleaned THRESHOLD_VALUE (stratified by THRESHOLD_TYPE)\n"
   ],
   "cell_type": "markdown",
   "metadata": {}
  },
  {
   "source": [
    "## Import Data"
   ],
   "cell_type": "markdown",
   "metadata": {}
  },
  {
   "cell_type": "code",
   "execution_count": null,
   "metadata": {},
   "outputs": [],
   "source": [
    "# Overview: Import all libraries used.\n",
    "import numpy as np\n",
    "import pandas as pd\n",
    "#import scipy\n",
    "#import matplotlib.pyplot as plt\n",
    "import seaborn as sns\n",
    "#import sklearn"
   ]
  },
  {
   "cell_type": "code",
   "execution_count": null,
   "metadata": {},
   "outputs": [],
   "source": [
    "import pandas as pd\n",
    "alarm_violations = pd.read_csv('./data/alarm_violations.csv')\n",
    "alarm_violations.head()"
   ]
  },
  {
   "source": [
    "## Parameter: O2 saturation pulseoxymetry\n",
    "\n",
    "* `220277` **O2 saturation pulseoxymetry**, in %\n",
    "* `223770` **O2 Saturation Pulseoxymetry Alarm** - Low , in %\n",
    "* `223769` **O2 Saturation Pulseoxymetry Alarm** - High , in %"
   ],
   "cell_type": "markdown",
   "metadata": {}
  },
  {
   "source": [
    "### O2 saturation - Alarm Violations"
   ],
   "cell_type": "markdown",
   "metadata": {}
  },
  {
   "cell_type": "code",
   "execution_count": null,
   "metadata": {},
   "outputs": [],
   "source": [
    "O2_violations = alarm_violations[(alarm_violations[\"ITEMID\"] == 220277) ]\n",
    "display(O2_violations)"
   ]
  },
  {
   "cell_type": "code",
   "execution_count": null,
   "metadata": {},
   "outputs": [],
   "source": [
    "pd.set_option('float_format', '{:f}'.format)"
   ]
  },
  {
   "cell_type": "code",
   "execution_count": null,
   "metadata": {},
   "outputs": [],
   "source": [
    "O2_violations.VALUENUM.describe()\n",
    "\n"
   ]
  },
  {
   "cell_type": "code",
   "execution_count": null,
   "metadata": {},
   "outputs": [],
   "source": [
    "import seaborn as sns\n",
    "sns.boxplot(data=O2_violations, x='VALUENUM')"
   ]
  },
  {
   "source": [
    "There are at least three outliers that distort the analysis. As O2 saturation is measured in %, a value above 100 is not realistic. Tat confirms our IQR, 75% of the values are below 91%."
   ],
   "cell_type": "markdown",
   "metadata": {}
  },
  {
   "source": [
    "General Introduction into O2 saturation:\n",
    "* Oxygen saturation measures how much hemoglobin is currently bound to oxygen compared to how much hemoglobin remains unbound. (https://www.ncbi.nlm.nih.gov/books/NBK525974/)\n",
    "\n",
    "Let's check the literature to see what O2 saturations can be expected based on medical knowledge.\n",
    "\n",
    "* According to the current recommendations for post-cardiac arrest management, *oxygen therapy should only be administered in patients with oxygen saturation levels of <94% (target: oxygen saturation levels of 94–98%)* (32) (https://www.ncbi.nlm.nih.gov/pmc/articles/PMC6111205/)\n",
    "\n",
    "https://www.ncbi.nlm.nih.gov/books/NBK525974/\n",
    "* We see that we have a very small range of common values (94-98%) - everything below 94% requires an intervention\n",
    "\n",
    "* The oxygen-hemoglobin dissociation curve is a plot of percent saturation of hemoglobin as a function of the partial pressure of oxygen (PO2). *At a PO2 of 100 mmHg, hemoglobin will be 100% saturated with oxygen*, meaning all four heme groups are bound.  - A 100% saturation is the maximum\n",
    "\n",
    "* In the lungs, alveolar gas has a PO2 of 100 mmHg. However, due to the high affinity for the fourth oxygen molecule, oxygen saturation will remain high even at a PO2 of 60 mmHg. As the PO2 decreases, hemoglobin saturation will eventually fall rapidly, at a PO2 of 40 mmHg hemoglobin is *75% saturated*. Meanwhile, at a PO2 of 25 mmHg, hemoglobin is *50% saturated*. This level is referred to as P50, where 50% of heme groups of each hemoglobin have a molecule of oxygen bound.\n",
    "\n",
    "* The presence of central cyanosis, blue coloration of the tongue and mucous membranes, is the most reliable predictor; it occurs at an oxyhemoglobin saturation of about 75%.\n",
    "\n",
    "* There is no set standard of oxygen saturation where hypoxemia occurs. The generally accepted standard is that a normal resting oxygen saturation of less than 95% is considered abnormal.\n",
    "\n",
    "https://www.ncbi.nlm.nih.gov/pmc/articles/PMC4342789/\n",
    "* An SpO2 cut-off value of ≤92% is used when screening for respiratory failure in COPD patients [7]. In emergency medicine, low SpO2 has been shown to be associated with increased mortality [8,9] and is included together with other vital signs when calculating the risk score for predicting prognosis [10-13]. Different risk-scoring models to predict mortality use different limits from <90 to ≤95% [10-14].\n",
    "\n",
    "\n",
    "\n",
    "Decision for now: \n",
    "Consider O2 Saturation above 100% as implausible values to be removed before further analysis.\n",
    "No clear indication about lower boarder, but values below 50% seem very unlikely. For a broader analysis we will keep the lower boarder at 0%."
   ],
   "cell_type": "markdown",
   "metadata": {}
  },
  {
   "source": [
    "### O2 saturation - Alarm Thresholds"
   ],
   "cell_type": "markdown",
   "metadata": {}
  },
  {
   "cell_type": "code",
   "execution_count": null,
   "metadata": {},
   "outputs": [],
   "source": [
    "display(O2_violations)"
   ]
  },
  {
   "cell_type": "code",
   "execution_count": null,
   "metadata": {},
   "outputs": [],
   "source": [
    "# Check O2 saturation Alarm - High threshold\n",
    "O2_violations[(O2_violations[\"THRESHOLD_TYPE\"] == \"HIGH\")].THRESHOLD_VALUE.describe()"
   ]
  },
  {
   "cell_type": "code",
   "execution_count": null,
   "metadata": {},
   "outputs": [],
   "source": [
    "import seaborn as sns\n",
    "import matplotlib.pyplot as plt\n",
    "sns.set_style(\"whitegrid\")\n",
    "\n",
    "fig, (fig_box, fig_hist) = plt.subplots(2, sharex=True, gridspec_kw={\"height_ratios\": (.15, .85)}, figsize=(7, 5))\n",
    "fig.suptitle(\"O2 saturation alarm thresholds of type HIGH\", fontsize=16)\n",
    "sns.boxplot(data=O2_violations[(O2_violations[\"THRESHOLD_TYPE\"] == \"HIGH\")], x=\"THRESHOLD_VALUE\", ax=fig_box)\n",
    "fig_box.set(xlabel=\"\")\n",
    "sns.histplot(data=O2_violations[(O2_violations[\"THRESHOLD_TYPE\"] == \"HIGH\")], x=\"THRESHOLD_VALUE\", kde=True, ax=fig_hist)\n",
    "fig_hist.set_xlabel(\"THRESHOLD_VALUE (O2 saturation in %)\", fontsize=12)\n",
    "fig_hist.set_ylabel(\"Count\", fontsize=12)\n",
    "\n",
    "plt.show()"
   ]
  },
  {
   "source": [
    "The minimum value of the HIGH alarm thresholds is 0, which is surprisingly low.\n",
    "\n",
    "Let's check the suspiciously low HIGH alarm thresholds."
   ],
   "cell_type": "markdown",
   "metadata": {}
  },
  {
   "cell_type": "code",
   "execution_count": null,
   "metadata": {},
   "outputs": [],
   "source": [
    "# Looking at THRESHOLD_VALUE (high) smaller than 90 ...\n",
    "O2_threshold_check_high = O2_violations[(O2_violations[\"THRESHOLD_TYPE\"] == \"HIGH\") & (O2_violations[\"THRESHOLD_VALUE\"] < 90)].sort_values(by=['THRESHOLD_VALUE'])\n",
    "display(O2_threshold_check_high)\n",
    "O2_threshold_check_high.THRESHOLD_VALUE.describe()"
   ]
  },
  {
   "cell_type": "code",
   "execution_count": null,
   "metadata": {},
   "outputs": [],
   "source": [
    "sns.boxplot(data=O2_threshold_check_high, x='THRESHOLD_VALUE')"
   ]
  },
  {
   "source": [
    "There are 5649 THRESHOLD_VALUEs that are 0 >= x < 90 for thresholds of type HIGH, which is suspicious.\n",
    "\n",
    " A possible explanation could be that ICU staff sets a too low threshold by mistake (e.g. typing 0 instead of 100). This would directly trigger an alarm or wanted to set it as low Threshold Type, not high.\n",
    "\n",
    "Keeping in mind that the data set includes only the violated thresholds; unusually high thresholds will rarely trigger an alarm, while unusually low alarms (such as 0 bpm) will immediately cause an alarm in living people."
   ],
   "cell_type": "markdown",
   "metadata": {}
  },
  {
   "cell_type": "code",
   "execution_count": null,
   "metadata": {},
   "outputs": [],
   "source": [
    "# Check O2 saturation Alarm - Low threshold\n",
    "O2_violations[(O2_violations[\"THRESHOLD_TYPE\"] == \"LOW\")].THRESHOLD_VALUE.describe()"
   ]
  },
  {
   "cell_type": "code",
   "execution_count": null,
   "metadata": {},
   "outputs": [],
   "source": [
    "import seaborn as sns\n",
    "import matplotlib.pyplot as plt\n",
    "sns.set_style(\"whitegrid\")\n",
    "\n",
    "fig = sns.stripplot(data=O2_violations[(O2_violations[\"THRESHOLD_TYPE\"] == \"LOW\")], x=\"THRESHOLD_VALUE\")\n",
    "fig.set_title(\"Scatterplot for O2 saturation alarm thresholds of type LOW\", fontsize=14)\n",
    "fig.set_xlabel(\"THRESHOLD_VALUE (O2 saturation in %)\", fontsize=12)\n",
    "\n",
    "plt.show(fig)"
   ]
  },
  {
   "source": [
    "The maximum value of the LOW alarm thresholds is 90100, which is too high and might again indicate a decimal issue (90.10?).\n",
    "\n",
    "Let's check the suspiciously high LOW alarm thresholds."
   ],
   "cell_type": "markdown",
   "metadata": {}
  },
  {
   "cell_type": "code",
   "execution_count": null,
   "metadata": {},
   "outputs": [],
   "source": [
    "O2_threshold_check_low = O2_violations[(O2_violations[\"THRESHOLD_TYPE\"] == \"LOW\") & (O2_violations[\"THRESHOLD_VALUE\"] > 99)].sort_values(by=['THRESHOLD_VALUE'])\n",
    "display(O2_threshold_check_low)\n",
    "O2_threshold_check_low.THRESHOLD_VALUE.describe()"
   ]
  },
  {
   "cell_type": "code",
   "execution_count": null,
   "metadata": {},
   "outputs": [],
   "source": [
    "O2_threshold_check_low_01 = O2_violations[(O2_violations[\"THRESHOLD_TYPE\"] == \"LOW\") & (O2_violations[\"THRESHOLD_VALUE\"] > 99) & (O2_violations[\"THRESHOLD_VALUE\"] <= 200)].sort_values(by=['THRESHOLD_VALUE'])\n",
    "O2_threshold_check_low_02 = O2_violations[(O2_violations[\"THRESHOLD_TYPE\"] == \"LOW\") & (O2_violations[\"THRESHOLD_VALUE\"] > 200) & (O2_violations[\"THRESHOLD_VALUE\"] <= 2000)].sort_values(by=['THRESHOLD_VALUE'])\n",
    "O2_threshold_check_low_03 = O2_violations[(O2_violations[\"THRESHOLD_TYPE\"] == \"LOW\") & (O2_violations[\"THRESHOLD_VALUE\"] > 2000)].sort_values(by=['THRESHOLD_VALUE'])\n",
    "\n",
    "\n",
    "\n",
    "import matplotlib.pyplot as plt\n",
    "import seaborn as sns\n",
    "\n",
    "sns.set_style(\"whitegrid\")\n",
    "fig, axs = plt.subplots(1, 3, figsize=(15, 5))\n",
    "fig.suptitle(\"A closer look at the suspiciously high LOW thresholds\", fontsize=16)\n",
    "\n",
    "sns.stripplot(ax=axs[0], data=O2_threshold_check_low_01, x=\"THRESHOLD_VALUE\")\n",
    "axs[0].set_title(\"O2 alarm thresholds LOW 99>x<=200\", fontsize=14)\n",
    "axs[0].set_xlabel(\"THRESHOLD_VALUE (O2 saturation in %)\", fontsize=12)\n",
    "\n",
    "sns.stripplot(ax=axs[1], data=O2_threshold_check_low_02, x=\"THRESHOLD_VALUE\")\n",
    "axs[1].set_title(\"O2 alarm thresholds LOW 200>x<=2000\", fontsize=14)\n",
    "axs[1].set_xlabel(\"THRESHOLD_VALUE (O2 saturation in %)\", fontsize=12)\n",
    "axs[1].set_xlabel(\"THRESHOLD_VALUE (O2 saturation in %)\", fontsize=12)\n",
    "\n",
    "sns.stripplot(ax=axs[2], data=O2_threshold_check_low_03, x=\"THRESHOLD_VALUE\")\n",
    "axs[2].set_title(\"O2 alarm thresholds LOW x>2000\", fontsize=14)\n",
    "axs[2].set_xlabel(\"THRESHOLD_VALUE (O2 saturation in %)\", fontsize=12)\n",
    "\n",
    "plt.show(fig)"
   ]
  },
  {
   "cell_type": "code",
   "execution_count": null,
   "metadata": {},
   "outputs": [],
   "source": [
    "O2_threshold_check_low_01.THRESHOLD_VALUE.describe()"
   ]
  },
  {
   "cell_type": "code",
   "execution_count": null,
   "metadata": {},
   "outputs": [],
   "source": [
    "O2_threshold_check_low_02.THRESHOLD_VALUE.describe()"
   ]
  },
  {
   "cell_type": "code",
   "execution_count": null,
   "metadata": {},
   "outputs": [],
   "source": [
    "O2_threshold_check_low_03.THRESHOLD_VALUE.describe()"
   ]
  },
  {
   "source": [
    "## Inclusion Criteria"
   ],
   "cell_type": "markdown",
   "metadata": {}
  },
  {
   "source": [
    "### For VALUENUM \n",
    "For O2 saturation Values the inclusion interval looks as follows: 0>=x<=100 (not so strict version) - 50>=x<=100 (strict version)\n",
    "* Lower Boarder: 0% (even though values below 50% seem very unlikely)\n",
    "* Upper Boarder: 100%\n",
    "\n",
    "### For THRESHOLD_VALUE\n",
    "For Thresholds of type **HIGH** the inclusion interval looks as follows: 90>=x<=100 (not so strict version) - 98>0x<=100 (strict version)\n",
    "* HIGH Threshold Values below 90 (even though below 94 seems unlikely) get excluded.\n",
    "* HIGH Threshold Values above 100 get excluded (There are now HIGH Thresholds above 100 so this does not have an impact on the existing data)\n",
    "* *A HIGH Threshold for O2 saturation in general does not make much sense but as long as the O2 saturation is not 100% it is should not be a mdeical problem, so one could also propose that the high thresholds need to be between 99 and 100.*\n",
    "\n",
    "For Thresholds of type **LOW** the inclusion interval looks as follows: 0>=x<99.5 (not so strict version) - 50>=x<=94 (strict version)\n",
    "* LOW Thresholds can be set till 0 (even though an alarm for low should at least arrive at 80% - mybe 50% for ICU)\n",
    "* LOW Thresholds can be set till 99.5 (even though medical implications only arise after 94%)\n",
    "* *A LOW Threshold for O2 saturation is more important, but generating an alarm before the value is below 94% might not be relevant*\n",
    "\n"
   ],
   "cell_type": "markdown",
   "metadata": {}
  },
  {
   "source": [
    "### Record Losses by Inclusion Criteria\n"
   ],
   "cell_type": "markdown",
   "metadata": {}
  },
  {
   "source": [
    "### For VALUENUM\n",
    "* 0 removed records due to too low value (<0)\n",
    "* 44 removed records due to too high value (>100)"
   ],
   "cell_type": "markdown",
   "metadata": {}
  },
  {
   "cell_type": "code",
   "execution_count": null,
   "metadata": {},
   "outputs": [],
   "source": [
    "O2_violations_clean = O2_violations[(O2_violations[\"VALUENUM\"] >= 0) & (O2_violations[\"VALUENUM\"] <= 100)]\n",
    "O2_violations_removed_too_low = O2_violations[(O2_violations[\"VALUENUM\"] < 0)]\n",
    "O2_violations_removed_too_high = O2_violations[(O2_violations[\"VALUENUM\"] > 100)]"
   ]
  },
  {
   "cell_type": "code",
   "execution_count": null,
   "metadata": {},
   "outputs": [],
   "source": [
    "# Check rows that were removed because of too low VALUENUM\n",
    "display(O2_violations_removed_too_low.sort_values(by=['VALUENUM']))\n",
    "O2_violations_removed_too_low.VALUENUM.describe()\n",
    "# No values were removed due to lower boarder "
   ]
  },
  {
   "cell_type": "code",
   "execution_count": null,
   "metadata": {},
   "outputs": [],
   "source": [
    "# Check rows that were removed because of too high VALUENUM\n",
    "display(O2_violations_removed_too_high.sort_values(by=['VALUENUM']))\n",
    "O2_violations_removed_too_high.VALUENUM.describe()\n",
    "# 44 rows were removed due to too high values for O2 saturation\n",
    "# They range from 110 to ~6mio. Many of the are in the houndreds & thousand beginning with 9 - one could assume a decimal issue?"
   ]
  },
  {
   "source": [
    "### For THRESHOLD VALUES\n",
    "HIGH:\n",
    "* 5649 rows removed due to high threshold values below 90 (ranging from 0 to 89)\n",
    "* 0 rows removed due to high threshold values above 100\n",
    "\n",
    "LOW:\n",
    "* 0 rows removed due to low threshold values below 0\n",
    "* 1999 rows removed due to high threshold values above 99.5 (ranging from 100 to 90100)"
   ],
   "cell_type": "markdown",
   "metadata": {}
  },
  {
   "cell_type": "code",
   "execution_count": null,
   "metadata": {},
   "outputs": [],
   "source": [
    "O2_violations_clean_threshold_high = O2_violations[(O2_violations[\"THRESHOLD_TYPE\"] == 'HIGH') & (O2_violations[\"THRESHOLD_VALUE\"] >= 90) & (O2_violations[\"THRESHOLD_VALUE\"] <= 100)]\n",
    "O2_violations_removed_threshold_high_too_low = O2_violations[(O2_violations[\"THRESHOLD_TYPE\"] == 'HIGH') & (O2_violations[\"THRESHOLD_VALUE\"] < 90)]\n",
    "O2_violations_removed_threshold_high_too_high = O2_violations[(O2_violations[\"THRESHOLD_TYPE\"] == 'HIGH') & (O2_violations[\"THRESHOLD_VALUE\"] > 100)]\n"
   ]
  },
  {
   "cell_type": "code",
   "execution_count": null,
   "metadata": {},
   "outputs": [],
   "source": [
    "O2_violations_clean_threshold_high.describe()"
   ]
  },
  {
   "cell_type": "code",
   "execution_count": null,
   "metadata": {},
   "outputs": [],
   "source": [
    "# Check rows that were removed because of too low THRESHOLD_VALUE for Type HIGH\n",
    "display(O2_violations_removed_threshold_high_too_low.sort_values(by=['THRESHOLD_VALUE']))\n",
    "O2_violations_removed_threshold_high_too_low.THRESHOLD_VALUE.describe()\n",
    "# 5649 rows removed"
   ]
  },
  {
   "cell_type": "code",
   "execution_count": null,
   "metadata": {},
   "outputs": [],
   "source": [
    "# Check rows that were removed because of too high THRESHOLD_VALUE for Type HIGH\n",
    "display(O2_violations_removed_threshold_high_too_high.sort_values(by=['THRESHOLD_VALUE']))\n",
    "O2_violations_removed_threshold_high_too_high.THRESHOLD_VALUE.describe()\n",
    "# 0 rows removed"
   ]
  },
  {
   "cell_type": "code",
   "execution_count": null,
   "metadata": {},
   "outputs": [],
   "source": [
    "O2_violations_clean_threshold_low = O2_violations[(O2_violations[\"THRESHOLD_TYPE\"] == 'LOW') & (O2_violations[\"THRESHOLD_VALUE\"] >= 0) & (O2_violations[\"THRESHOLD_VALUE\"] <= 99.5)]\n",
    "O2_violations_removed_threshold_low_too_low = O2_violations[(O2_violations[\"THRESHOLD_TYPE\"] == 'LOW') & (O2_violations[\"THRESHOLD_VALUE\"] < 0)]\n",
    "O2_violations_removed_threshold_low_too_high = O2_violations[(O2_violations[\"THRESHOLD_TYPE\"] == 'LOW') & (O2_violations[\"THRESHOLD_VALUE\"] > 99.5)]\n"
   ]
  },
  {
   "cell_type": "code",
   "execution_count": null,
   "metadata": {},
   "outputs": [],
   "source": [
    "# Check rows that were removed because of too low THRESHOLD_VALUE for Type LOW\n",
    "display(O2_violations_removed_threshold_low_too_low.sort_values(by=['THRESHOLD_VALUE']))\n",
    "O2_violations_removed_threshold_low_too_low.THRESHOLD_VALUE.describe()\n",
    "# 0 rows removed"
   ]
  },
  {
   "cell_type": "code",
   "execution_count": null,
   "metadata": {},
   "outputs": [],
   "source": [
    "# Check rows that were removed because of too high THRESHOLD_VALUE for Type LOW\n",
    "display(O2_violations_removed_threshold_low_too_high.sort_values(by=['THRESHOLD_VALUE']))\n",
    "O2_violations_removed_threshold_low_too_high.THRESHOLD_VALUE.describe()\n",
    "# 1999 rows removed (rangeing fromm 100 to 90100)"
   ]
  },
  {
   "source": [
    "## Cleaned Data Set\n"
   ],
   "cell_type": "markdown",
   "metadata": {}
  },
  {
   "source": [
    "### Cleaned Values"
   ],
   "cell_type": "markdown",
   "metadata": {}
  },
  {
   "cell_type": "code",
   "execution_count": null,
   "metadata": {},
   "outputs": [],
   "source": [
    "# Check cleaned value O2_violations\n",
    "O2_violations_clean_value = O2_violations[(O2_violations[\"VALUENUM\"] >= 0) & (O2_violations[\"VALUENUM\"] <= 100)]\n",
    "display(O2_violations_clean_value.sort_values(by=['VALUENUM']))\n",
    "O2_violations_clean_value.VALUENUM.describe()"
   ]
  },
  {
   "cell_type": "code",
   "execution_count": null,
   "metadata": {},
   "outputs": [],
   "source": [
    "import matplotlib.pyplot as plt\n",
    "import seaborn as sns\n",
    "sns.set_style(\"whitegrid\")\n",
    "\n",
    "fig, axs = plt.subplots(1, 3, figsize=(25, 5))\n",
    "fig.suptitle(\"O2 saturation - Alarm Violations\", fontsize=18)\n",
    "\n",
    "sns.stripplot(data=O2_violations_clean_value, x='VALUENUM', ax=axs[0])\n",
    "axs[0].set_title(\"O2_violations_clean_value scatter plot\")\n",
    "axs[0].set_xlabel(\"O2_violations_clean VALUENUM\")\n",
    "\n",
    "sns.boxplot(data=O2_violations_clean_value, x='VALUENUM', ax=axs[1])\n",
    "axs[1].set_title(\"O2_violations_clean_value boxplot\")\n",
    "axs[1].set_xlabel(\"O2_violations_clean VALUENUM\")\n",
    "\n",
    "sns.histplot(data=O2_violations_clean_value, x='VALUENUM', ax=axs[2])\n",
    "axs[2].set_title(\"O2_violations_clean_value histogram\")\n",
    "axs[2].set_xlabel(\"O2_violations_clean VALUENUM\")\n",
    "\n",
    "plt.show(fig)\n",
    "# We still have many values that seem to be outliers following common O2 saturations (below 70%)"
   ]
  },
  {
   "cell_type": "code",
   "execution_count": null,
   "metadata": {},
   "outputs": [],
   "source": [
    "import seaborn as sns\n",
    "import matplotlib.pyplot as plt\n",
    "sns.set_style(\"whitegrid\")\n",
    "\n",
    "fig, (fig_box, fig_hist) = plt.subplots(2, sharex=True, gridspec_kw={\"height_ratios\": (.15, .85)}, figsize=(7, 5))\n",
    "fig.suptitle(\"O2 saturation alarm violations in cleaned data set\", fontsize=16)\n",
    "sns.boxplot(data=O2_violations_clean_value, x=\"VALUENUM\", ax=fig_box)\n",
    "fig_box.set(xlabel=\"\")\n",
    "sns.histplot(data=O2_violations_clean_value, x=\"VALUENUM\", kde=True, ax=fig_hist)\n",
    "fig_hist.set_xlabel(\"VALUENUM (O2 saturation in %)\", fontsize=12)\n",
    "fig_hist.set_ylabel(\"Count\", fontsize=12)\n",
    "\n",
    "plt.show()"
   ]
  },
  {
   "source": [
    "Cleaned Values + Cleaned HIGH Thresholds\n"
   ],
   "cell_type": "markdown",
   "metadata": {}
  },
  {
   "cell_type": "code",
   "execution_count": null,
   "metadata": {},
   "outputs": [],
   "source": [
    "O2_violations_clean_threshold_high = O2_violations_clean_value[(O2_violations_clean_value[\"THRESHOLD_TYPE\"] == 'HIGH') & (O2_violations_clean_value[\"THRESHOLD_VALUE\"] >= 90) & (O2_violations_clean_value[\"THRESHOLD_VALUE\"] <= 100)]"
   ]
  },
  {
   "cell_type": "code",
   "execution_count": null,
   "metadata": {},
   "outputs": [],
   "source": [
    "O2_violations_clean_threshold_high.describe()\n"
   ]
  },
  {
   "cell_type": "code",
   "execution_count": null,
   "metadata": {},
   "outputs": [],
   "source": [
    "# The rows with THRESHOLD_VALUE 100 for Type high where somehow removed. Check what their values were\n",
    "O2_violations[(O2_violations[\"THRESHOLD_TYPE\"] == \"HIGH\") & (O2_violations[\"THRESHOLD_VALUE\"] == 100) ]\n",
    "# weirdly all record with Threshold value 100 have too high values (above 100) and were therefore filtered out in the previous step\n",
    "\n"
   ]
  },
  {
   "cell_type": "code",
   "execution_count": null,
   "metadata": {},
   "outputs": [],
   "source": [
    "import seaborn as sns\n",
    "import matplotlib.pyplot as plt\n",
    "sns.set_style(\"whitegrid\")\n",
    "\n",
    "fig, (fig_box, fig_hist) = plt.subplots(2, sharex=True, gridspec_kw={\"height_ratios\": (.15, .85)}, figsize=(7, 5))\n",
    "fig.suptitle(\"O2 saturation alarm thresholds of type HIGH - cleaned\", fontsize=16)\n",
    "sns.boxplot(data=O2_violations_clean_threshold_high, x=\"THRESHOLD_VALUE\", ax=fig_box)\n",
    "fig_box.set(xlabel=\"\")\n",
    "sns.histplot(data=O2_violations_clean_threshold_high, x=\"THRESHOLD_VALUE\", kde=True, ax=fig_hist)\n",
    "fig_hist.set_xlabel(\"THRESHOLD_VALUE (O2 saturation in %)\", fontsize=12)\n",
    "fig_hist.set_ylabel(\"Count\", fontsize=12)\n",
    "\n",
    "plt.show()"
   ]
  },
  {
   "source": [
    "Cleaned Values + Cleaned LOW Thresholds"
   ],
   "cell_type": "markdown",
   "metadata": {}
  },
  {
   "cell_type": "code",
   "execution_count": null,
   "metadata": {},
   "outputs": [],
   "source": [
    "O2_violations_clean_threshold_low = O2_violations_clean_value[(O2_violations_clean_value[\"THRESHOLD_TYPE\"] == 'LOW') & (O2_violations_clean_value[\"THRESHOLD_VALUE\"] >= 0) & (O2_violations_clean_value[\"THRESHOLD_VALUE\"] <= 99.5)]"
   ]
  },
  {
   "cell_type": "code",
   "execution_count": null,
   "metadata": {},
   "outputs": [],
   "source": [
    "O2_violations_clean_threshold_low.describe()"
   ]
  },
  {
   "cell_type": "code",
   "execution_count": null,
   "metadata": {},
   "outputs": [],
   "source": [
    "import seaborn as sns\n",
    "import matplotlib.pyplot as plt\n",
    "sns.set_style(\"whitegrid\")\n",
    "\n",
    "fig, (fig_box, fig_hist) = plt.subplots(2, sharex=True, gridspec_kw={\"height_ratios\": (.15, .85)}, figsize=(7, 5))\n",
    "fig.suptitle(\"O2 saturation alarm thresholds of type LOW - cleaned\", fontsize=16)\n",
    "sns.boxplot(data=O2_violations_clean_threshold_low, x=\"THRESHOLD_VALUE\", ax=fig_box)\n",
    "fig_box.set(xlabel=\"\")\n",
    "sns.histplot(data=O2_violations_clean_threshold_low, x=\"THRESHOLD_VALUE\", kde=True, ax=fig_hist)\n",
    "fig_hist.set_xlabel(\"THRESHOLD_VALUE (O2 saturation in %)\", fontsize=12)\n",
    "fig_hist.set_ylabel(\"Count\", fontsize=12)\n",
    "\n",
    "plt.show()"
   ]
  },
  {
   "cell_type": "code",
   "execution_count": null,
   "metadata": {},
   "outputs": [],
   "source": [
    "import seaborn as sns\n",
    "import matplotlib.pyplot as plt\n",
    "sns.set_style(\"whitegrid\")\n",
    "\n",
    "fig = sns.stripplot(data=O2_violations_clean_threshold_low, x=\"THRESHOLD_VALUE\")\n",
    "fig.set_title(\"Scatterplot for O2 saturation alarm thresholds of type LOW - cleaned\", fontsize=14)\n",
    "fig.set_xlabel(\"THRESHOLD_VALUE (O2 saturation in %)\", fontsize=12)\n",
    "\n",
    "plt.show(fig)"
   ]
  },
  {
   "cell_type": "code",
   "execution_count": null,
   "metadata": {},
   "outputs": [],
   "source": [
    "frames = [O2_violations_clean_threshold_low,O2_violations_clean_threshold_high]\n",
    "O2_violations_clean = pd.concat(frames)"
   ]
  },
  {
   "cell_type": "code",
   "execution_count": null,
   "metadata": {},
   "outputs": [],
   "source": [
    "O2_violations_clean.describe()"
   ]
  },
  {
   "source": [
    "## Additional Visualizations"
   ],
   "cell_type": "markdown",
   "metadata": {}
  },
  {
   "cell_type": "code",
   "execution_count": null,
   "metadata": {},
   "outputs": [],
   "source": []
  },
  {
   "cell_type": "code",
   "execution_count": null,
   "metadata": {},
   "outputs": [],
   "source": [
    "import matplotlib.pyplot as plt\n",
    "import seaborn as sns\n",
    "\n",
    "sns.set_style(\"whitegrid\")\n",
    "fig, axs = plt.subplots(1, 2, figsize=(20, 5))\n",
    "fig.suptitle(\"Distribution of O2 saturation alarm violations stratified by threshold type in cleaned data set\", fontsize=18)\n",
    "\n",
    "sns.histplot(ax=axs[0], data=O2_violations_clean, x=\"VALUENUM\", hue=\"THRESHOLD_TYPE\", palette=[\"darkblue\", \"darkgreen\"])\n",
    "axs[0].set_title(\"Histogram\", fontsize=12)\n",
    "axs[0].set_xlabel(\"VALUENUM (O2 saturation in %)\", fontsize=12)\n",
    "axs[0].set_ylabel(\"Count\", fontsize=12)\n",
    "\n",
    "sns.kdeplot(ax=axs[1], data=O2_violations_clean, x=\"VALUENUM\", hue=\"THRESHOLD_TYPE\", palette=[\"darkblue\", \"darkgreen\"])\n",
    "axs[1].set_title(\"Kernel density estimate (KDE)\", fontsize=12)\n",
    "axs[1].set_xlabel(\"VALUENUM (O2 saturation in %)\", fontsize=12)\n",
    "axs[1].set_ylabel(\"Density\", fontsize=12)\n",
    "\n",
    "plt.show(fig)"
   ]
  },
  {
   "cell_type": "code",
   "execution_count": null,
   "metadata": {},
   "outputs": [],
   "source": [
    "import seaborn as sns\n",
    "import matplotlib.pyplot as plt\n",
    "sns.set_style(\"whitegrid\")\n",
    "\n",
    "fig, (fig_box, fig_hist) = plt.subplots(2, sharex=True, gridspec_kw={\"height_ratios\": (.15, .85)}, figsize=(10, 5))\n",
    "fig.suptitle(\"O2 saturation alarm violations in cleaned data set\", fontsize=18)\n",
    "sns.boxplot(data=O2_violations_clean, x=\"VALUENUM\", ax=fig_box)\n",
    "fig_box.set(xlabel=\"\")\n",
    "sns.histplot(data=O2_violations_clean, x=\"VALUENUM\", kde=True, ax=fig_hist)\n",
    "fig_hist.set_xlabel(\"VALUENUM (O2 saturation in %)\", fontsize=12)\n",
    "fig_hist.set_ylabel(\"Count\", fontsize=12)\n",
    "\n",
    "plt.show()"
   ]
  }
 ]
}