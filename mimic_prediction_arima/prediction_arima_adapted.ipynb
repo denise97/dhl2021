{
 "metadata": {
  "language_info": {
   "codemirror_mode": {
    "name": "ipython",
    "version": 3
   },
   "file_extension": ".py",
   "mimetype": "text/x-python",
   "name": "python",
   "nbconvert_exporter": "python",
   "pygments_lexer": "ipython3",
   "version": "3.9.0"
  },
  "orig_nbformat": 2,
  "kernelspec": {
   "name": "python3",
   "display_name": "Python 3.9.0 64-bit"
  },
  "interpreter": {
   "hash": "e2bfb1b1dd0bcdebdb315279aa118b1f834444d4ba3ba6d660e9f6ce7703f6a2"
  }
 },
 "nbformat": 4,
 "nbformat_minor": 2,
 "cells": [
  {
   "source": [
    "# ARIMA"
   ],
   "cell_type": "markdown",
   "metadata": {}
  },
  {
   "source": [
    "## Data Preparation"
   ],
   "cell_type": "markdown",
   "metadata": {}
  },
  {
   "cell_type": "code",
   "execution_count": 1,
   "metadata": {},
   "outputs": [],
   "source": [
    "import pandas as pd\n",
    "import pyarrow as pa\n",
    "\n",
    "# Read chartevents_subset from parquet file to pandas data frame\n",
    "chartevents_resampled = pd.read_parquet('../data/chartevents_resampled.parquet', engine='pyarrow')"
   ]
  },
  {
   "cell_type": "code",
   "execution_count": 2,
   "metadata": {},
   "outputs": [
    {
     "output_type": "display_data",
     "data": {
      "text/plain": "                        CHUNK_ID_FILLED_TH VITAL_PARAMETER_NAME  \\\n0    296490.0_220045.0_2192-09-26 23:51:00                   HR   \n1    296490.0_220045.0_2192-09-26 23:51:00                   HR   \n2    296490.0_220045.0_2192-09-26 23:51:00                   HR   \n3    296490.0_220045.0_2192-09-26 23:51:00                   HR   \n4    296490.0_220045.0_2192-09-26 23:51:00                   HR   \n..                                     ...                  ...   \n627  226799.0_220045.0_2153-07-31 08:10:00                   HR   \n628  226799.0_220045.0_2153-07-31 08:10:00                   HR   \n629  226799.0_220045.0_2153-07-31 08:10:00                   HR   \n630  226799.0_220045.0_2153-07-31 08:10:00                   HR   \n631  226799.0_220045.0_2153-07-31 08:10:00                   HR   \n\n              CHARTTIME  VITAL_PARAMTER_VALUE_MEDIAN_RESAMPLING  \\\n0   2192-09-26 23:00:00                                    95.0   \n1   2192-09-27 00:00:00                                    90.5   \n2   2192-09-27 01:00:00                                    91.0   \n3   2192-09-27 02:00:00                                    91.0   \n4   2192-09-27 03:00:00                                    85.0   \n..                  ...                                     ...   \n627 2153-08-26 11:00:00                                   125.0   \n628 2153-08-26 12:00:00                                   102.0   \n629 2153-08-26 13:00:00                                    86.0   \n630 2153-08-26 14:00:00                                    73.0   \n631 2153-08-26 15:00:00                                     0.0   \n\n     VITAL_PARAMTER_VALUE_MEAN_RESAMPLING  \\\n0                               95.000000   \n1                               90.766667   \n2                               90.083333   \n3                               90.333333   \n4                               86.016667   \n..                                    ...   \n627                            117.700000   \n628                            103.483333   \n629                             84.750000   \n630                             72.233333   \n631                             11.750000   \n\n     VITAL_PARAMTER_VALUE_MAX_RESAMPLING  VITAL_PARAMTER_VALUE_MIN_RESAMPLING  \\\n0                                   98.0                                 92.0   \n1                                   96.0                                 87.0   \n2                                   94.0                                 85.0   \n3                                   92.0                                 83.0   \n4                                   94.0                                 80.0   \n..                                   ...                                  ...   \n627                                132.0                                 98.0   \n628                                127.0                                 78.0   \n629                                 93.0                                 68.0   \n630                                 97.0                                 49.0   \n631                                 78.0                                  0.0   \n\n     THRESHOLD_VALUE_HIGH  THRESHOLD_VALUE_LOW  \n0                     NaN                  NaN  \n1                   120.0                 60.0  \n2                   120.0                 60.0  \n3                   120.0                 60.0  \n4                   120.0                 60.0  \n..                    ...                  ...  \n627                 120.0                 60.0  \n628                 120.0                 60.0  \n629                 120.0                 60.0  \n630                 120.0                 60.0  \n631                 120.0                 60.0  \n\n[1369 rows x 9 columns]",
      "text/html": "<div>\n<style scoped>\n    .dataframe tbody tr th:only-of-type {\n        vertical-align: middle;\n    }\n\n    .dataframe tbody tr th {\n        vertical-align: top;\n    }\n\n    .dataframe thead th {\n        text-align: right;\n    }\n</style>\n<table border=\"1\" class=\"dataframe\">\n  <thead>\n    <tr style=\"text-align: right;\">\n      <th></th>\n      <th>CHUNK_ID_FILLED_TH</th>\n      <th>VITAL_PARAMETER_NAME</th>\n      <th>CHARTTIME</th>\n      <th>VITAL_PARAMTER_VALUE_MEDIAN_RESAMPLING</th>\n      <th>VITAL_PARAMTER_VALUE_MEAN_RESAMPLING</th>\n      <th>VITAL_PARAMTER_VALUE_MAX_RESAMPLING</th>\n      <th>VITAL_PARAMTER_VALUE_MIN_RESAMPLING</th>\n      <th>THRESHOLD_VALUE_HIGH</th>\n      <th>THRESHOLD_VALUE_LOW</th>\n    </tr>\n  </thead>\n  <tbody>\n    <tr>\n      <th>0</th>\n      <td>296490.0_220045.0_2192-09-26 23:51:00</td>\n      <td>HR</td>\n      <td>2192-09-26 23:00:00</td>\n      <td>95.0</td>\n      <td>95.000000</td>\n      <td>98.0</td>\n      <td>92.0</td>\n      <td>NaN</td>\n      <td>NaN</td>\n    </tr>\n    <tr>\n      <th>1</th>\n      <td>296490.0_220045.0_2192-09-26 23:51:00</td>\n      <td>HR</td>\n      <td>2192-09-27 00:00:00</td>\n      <td>90.5</td>\n      <td>90.766667</td>\n      <td>96.0</td>\n      <td>87.0</td>\n      <td>120.0</td>\n      <td>60.0</td>\n    </tr>\n    <tr>\n      <th>2</th>\n      <td>296490.0_220045.0_2192-09-26 23:51:00</td>\n      <td>HR</td>\n      <td>2192-09-27 01:00:00</td>\n      <td>91.0</td>\n      <td>90.083333</td>\n      <td>94.0</td>\n      <td>85.0</td>\n      <td>120.0</td>\n      <td>60.0</td>\n    </tr>\n    <tr>\n      <th>3</th>\n      <td>296490.0_220045.0_2192-09-26 23:51:00</td>\n      <td>HR</td>\n      <td>2192-09-27 02:00:00</td>\n      <td>91.0</td>\n      <td>90.333333</td>\n      <td>92.0</td>\n      <td>83.0</td>\n      <td>120.0</td>\n      <td>60.0</td>\n    </tr>\n    <tr>\n      <th>4</th>\n      <td>296490.0_220045.0_2192-09-26 23:51:00</td>\n      <td>HR</td>\n      <td>2192-09-27 03:00:00</td>\n      <td>85.0</td>\n      <td>86.016667</td>\n      <td>94.0</td>\n      <td>80.0</td>\n      <td>120.0</td>\n      <td>60.0</td>\n    </tr>\n    <tr>\n      <th>...</th>\n      <td>...</td>\n      <td>...</td>\n      <td>...</td>\n      <td>...</td>\n      <td>...</td>\n      <td>...</td>\n      <td>...</td>\n      <td>...</td>\n      <td>...</td>\n    </tr>\n    <tr>\n      <th>627</th>\n      <td>226799.0_220045.0_2153-07-31 08:10:00</td>\n      <td>HR</td>\n      <td>2153-08-26 11:00:00</td>\n      <td>125.0</td>\n      <td>117.700000</td>\n      <td>132.0</td>\n      <td>98.0</td>\n      <td>120.0</td>\n      <td>60.0</td>\n    </tr>\n    <tr>\n      <th>628</th>\n      <td>226799.0_220045.0_2153-07-31 08:10:00</td>\n      <td>HR</td>\n      <td>2153-08-26 12:00:00</td>\n      <td>102.0</td>\n      <td>103.483333</td>\n      <td>127.0</td>\n      <td>78.0</td>\n      <td>120.0</td>\n      <td>60.0</td>\n    </tr>\n    <tr>\n      <th>629</th>\n      <td>226799.0_220045.0_2153-07-31 08:10:00</td>\n      <td>HR</td>\n      <td>2153-08-26 13:00:00</td>\n      <td>86.0</td>\n      <td>84.750000</td>\n      <td>93.0</td>\n      <td>68.0</td>\n      <td>120.0</td>\n      <td>60.0</td>\n    </tr>\n    <tr>\n      <th>630</th>\n      <td>226799.0_220045.0_2153-07-31 08:10:00</td>\n      <td>HR</td>\n      <td>2153-08-26 14:00:00</td>\n      <td>73.0</td>\n      <td>72.233333</td>\n      <td>97.0</td>\n      <td>49.0</td>\n      <td>120.0</td>\n      <td>60.0</td>\n    </tr>\n    <tr>\n      <th>631</th>\n      <td>226799.0_220045.0_2153-07-31 08:10:00</td>\n      <td>HR</td>\n      <td>2153-08-26 15:00:00</td>\n      <td>0.0</td>\n      <td>11.750000</td>\n      <td>78.0</td>\n      <td>0.0</td>\n      <td>120.0</td>\n      <td>60.0</td>\n    </tr>\n  </tbody>\n</table>\n<p>1369 rows × 9 columns</p>\n</div>"
     },
     "metadata": {}
    }
   ],
   "source": [
    "# display(chartevents_resampled)"
   ]
  },
  {
   "cell_type": "code",
   "execution_count": 3,
   "metadata": {},
   "outputs": [],
   "source": [
    "PARAMETER = 'HR'\n",
    "CHUNKS = ['296490.0_220045.0_2192-09-26 23:51:00']\n",
    "\n",
    "# Sampling rate of 1 data point per hour - Test for different values in the future - e.g. longer training set\n",
    "TRAIN = 12 # 12 * 1 h = 12 hour training period\n",
    "TEST = 2 # 2 * 1 h = 2 hours testing period\n",
    "STEP = 1 # move 1 * 1 h = 1 hour per step"
   ]
  },
  {
   "cell_type": "code",
   "execution_count": 4,
   "metadata": {},
   "outputs": [],
   "source": [
    "# Subset data based on PARAMETER & CHUNKS\n",
    "arima_data = chartevents_resampled[\n",
    "    (chartevents_resampled['VITAL_PARAMETER_NAME'] == PARAMETER) & \n",
    "    (chartevents_resampled.CHUNK_ID_FILLED_TH.isin(CHUNKS))\n",
    "    ][['CHUNK_ID_FILLED_TH','CHARTTIME','VITAL_PARAMETER_NAME','VITAL_PARAMTER_VALUE_MEDIAN_RESAMPLING','THRESHOLD_VALUE_HIGH','THRESHOLD_VALUE_LOW']].rename(columns={\"VITAL_PARAMTER_VALUE_MEDIAN_RESAMPLING\":\"VALUENUM_CLEAN\"})\n",
    "\n",
    "# display(arima_data)"
   ]
  },
  {
   "cell_type": "code",
   "execution_count": 5,
   "metadata": {},
   "outputs": [],
   "source": [
    "# Filter for chunks that have sufficient values to be used for training and testing the model\n",
    "all_chunks_value_count = arima_data.CHUNK_ID_FILLED_TH.value_counts()\n",
    "chunkid_filter = all_chunks_value_count[all_chunks_value_count >= (TRAIN + TEST)].index\n",
    "arima_data = arima_data[arima_data.CHUNK_ID_FILLED_TH.isin(chunkid_filter)]\n",
    "\n",
    "# display(arima_data)"
   ]
  },
  {
   "cell_type": "code",
   "execution_count": 6,
   "metadata": {},
   "outputs": [],
   "source": [
    "# Create new HOURS_SINCE_FIRST_RECORD column containing the time difference that has passed since the first timestamp of the measurement series.\n",
    "import numpy as np\n",
    "# arima_data['MINUTES_SINCE_FIRST_RECORD'] = arima_data.groupby('CHUNK_ID_FILLED_TH')#['CHARTTIME'].transform(lambda x: (x - x.min())/np.timedelta64(1,'m'))\n",
    "# Alternative for hours instead of minutes\n",
    "arima_data['HOURS_SINCE_FIRST_RECORD'] = arima_data.groupby('CHUNK_ID_FILLED_TH')['CHARTTIME'].transform(lambda x: (x - x.min())/np.timedelta64(1,'h'))\n",
    "\n",
    "# display(arima_data)"
   ]
  },
  {
   "cell_type": "code",
   "execution_count": 20,
   "metadata": {},
   "outputs": [
    {
     "output_type": "display_data",
     "data": {
      "text/plain": "                       CHUNK_ID_FILLED_TH           CHARTTIME  \\\n0   296490.0_220045.0_2192-09-26 23:51:00 2192-09-26 23:00:00   \n1   296490.0_220045.0_2192-09-26 23:51:00 2192-09-27 00:00:00   \n2   296490.0_220045.0_2192-09-26 23:51:00 2192-09-27 01:00:00   \n3   296490.0_220045.0_2192-09-26 23:51:00 2192-09-27 02:00:00   \n4   296490.0_220045.0_2192-09-26 23:51:00 2192-09-27 03:00:00   \n5   296490.0_220045.0_2192-09-26 23:51:00 2192-09-27 04:00:00   \n6   296490.0_220045.0_2192-09-26 23:51:00 2192-09-27 05:00:00   \n7   296490.0_220045.0_2192-09-26 23:51:00 2192-09-27 06:00:00   \n8   296490.0_220045.0_2192-09-26 23:51:00 2192-09-27 07:00:00   \n9   296490.0_220045.0_2192-09-26 23:51:00 2192-09-27 08:00:00   \n10  296490.0_220045.0_2192-09-26 23:51:00 2192-09-27 09:00:00   \n11  296490.0_220045.0_2192-09-26 23:51:00 2192-09-27 10:00:00   \n12  296490.0_220045.0_2192-09-26 23:51:00 2192-09-27 11:00:00   \n13  296490.0_220045.0_2192-09-26 23:51:00 2192-09-27 12:00:00   \n14  296490.0_220045.0_2192-09-26 23:51:00 2192-09-27 13:00:00   \n\n   VITAL_PARAMETER_NAME  VALUENUM_CLEAN  THRESHOLD_VALUE_HIGH  \\\n0                    HR            95.0                   NaN   \n1                    HR            90.5                 120.0   \n2                    HR            91.0                 120.0   \n3                    HR            91.0                 120.0   \n4                    HR            85.0                 120.0   \n5                    HR            89.0                 120.0   \n6                    HR            82.0                 120.0   \n7                    HR            80.0                 120.0   \n8                    HR            77.0                 120.0   \n9                    HR            78.5                 120.0   \n10                   HR            78.0                 120.0   \n11                   HR            84.0                 120.0   \n12                   HR            75.0                 120.0   \n13                   HR            75.5                 120.0   \n14                   HR            74.0                 120.0   \n\n    THRESHOLD_VALUE_LOW  HOURS_SINCE_FIRST_RECORD  \n0                   NaN                       0.0  \n1                  60.0                       1.0  \n2                  60.0                       2.0  \n3                  60.0                       3.0  \n4                  60.0                       4.0  \n5                  60.0                       5.0  \n6                  60.0                       6.0  \n7                  60.0                       7.0  \n8                  60.0                       8.0  \n9                  60.0                       9.0  \n10                 60.0                      10.0  \n11                 60.0                      11.0  \n12                 60.0                      12.0  \n13                 60.0                      13.0  \n14                 60.0                      14.0  ",
      "text/html": "<div>\n<style scoped>\n    .dataframe tbody tr th:only-of-type {\n        vertical-align: middle;\n    }\n\n    .dataframe tbody tr th {\n        vertical-align: top;\n    }\n\n    .dataframe thead th {\n        text-align: right;\n    }\n</style>\n<table border=\"1\" class=\"dataframe\">\n  <thead>\n    <tr style=\"text-align: right;\">\n      <th></th>\n      <th>CHUNK_ID_FILLED_TH</th>\n      <th>CHARTTIME</th>\n      <th>VITAL_PARAMETER_NAME</th>\n      <th>VALUENUM_CLEAN</th>\n      <th>THRESHOLD_VALUE_HIGH</th>\n      <th>THRESHOLD_VALUE_LOW</th>\n      <th>HOURS_SINCE_FIRST_RECORD</th>\n    </tr>\n  </thead>\n  <tbody>\n    <tr>\n      <th>0</th>\n      <td>296490.0_220045.0_2192-09-26 23:51:00</td>\n      <td>2192-09-26 23:00:00</td>\n      <td>HR</td>\n      <td>95.0</td>\n      <td>NaN</td>\n      <td>NaN</td>\n      <td>0.0</td>\n    </tr>\n    <tr>\n      <th>1</th>\n      <td>296490.0_220045.0_2192-09-26 23:51:00</td>\n      <td>2192-09-27 00:00:00</td>\n      <td>HR</td>\n      <td>90.5</td>\n      <td>120.0</td>\n      <td>60.0</td>\n      <td>1.0</td>\n    </tr>\n    <tr>\n      <th>2</th>\n      <td>296490.0_220045.0_2192-09-26 23:51:00</td>\n      <td>2192-09-27 01:00:00</td>\n      <td>HR</td>\n      <td>91.0</td>\n      <td>120.0</td>\n      <td>60.0</td>\n      <td>2.0</td>\n    </tr>\n    <tr>\n      <th>3</th>\n      <td>296490.0_220045.0_2192-09-26 23:51:00</td>\n      <td>2192-09-27 02:00:00</td>\n      <td>HR</td>\n      <td>91.0</td>\n      <td>120.0</td>\n      <td>60.0</td>\n      <td>3.0</td>\n    </tr>\n    <tr>\n      <th>4</th>\n      <td>296490.0_220045.0_2192-09-26 23:51:00</td>\n      <td>2192-09-27 03:00:00</td>\n      <td>HR</td>\n      <td>85.0</td>\n      <td>120.0</td>\n      <td>60.0</td>\n      <td>4.0</td>\n    </tr>\n    <tr>\n      <th>5</th>\n      <td>296490.0_220045.0_2192-09-26 23:51:00</td>\n      <td>2192-09-27 04:00:00</td>\n      <td>HR</td>\n      <td>89.0</td>\n      <td>120.0</td>\n      <td>60.0</td>\n      <td>5.0</td>\n    </tr>\n    <tr>\n      <th>6</th>\n      <td>296490.0_220045.0_2192-09-26 23:51:00</td>\n      <td>2192-09-27 05:00:00</td>\n      <td>HR</td>\n      <td>82.0</td>\n      <td>120.0</td>\n      <td>60.0</td>\n      <td>6.0</td>\n    </tr>\n    <tr>\n      <th>7</th>\n      <td>296490.0_220045.0_2192-09-26 23:51:00</td>\n      <td>2192-09-27 06:00:00</td>\n      <td>HR</td>\n      <td>80.0</td>\n      <td>120.0</td>\n      <td>60.0</td>\n      <td>7.0</td>\n    </tr>\n    <tr>\n      <th>8</th>\n      <td>296490.0_220045.0_2192-09-26 23:51:00</td>\n      <td>2192-09-27 07:00:00</td>\n      <td>HR</td>\n      <td>77.0</td>\n      <td>120.0</td>\n      <td>60.0</td>\n      <td>8.0</td>\n    </tr>\n    <tr>\n      <th>9</th>\n      <td>296490.0_220045.0_2192-09-26 23:51:00</td>\n      <td>2192-09-27 08:00:00</td>\n      <td>HR</td>\n      <td>78.5</td>\n      <td>120.0</td>\n      <td>60.0</td>\n      <td>9.0</td>\n    </tr>\n    <tr>\n      <th>10</th>\n      <td>296490.0_220045.0_2192-09-26 23:51:00</td>\n      <td>2192-09-27 09:00:00</td>\n      <td>HR</td>\n      <td>78.0</td>\n      <td>120.0</td>\n      <td>60.0</td>\n      <td>10.0</td>\n    </tr>\n    <tr>\n      <th>11</th>\n      <td>296490.0_220045.0_2192-09-26 23:51:00</td>\n      <td>2192-09-27 10:00:00</td>\n      <td>HR</td>\n      <td>84.0</td>\n      <td>120.0</td>\n      <td>60.0</td>\n      <td>11.0</td>\n    </tr>\n    <tr>\n      <th>12</th>\n      <td>296490.0_220045.0_2192-09-26 23:51:00</td>\n      <td>2192-09-27 11:00:00</td>\n      <td>HR</td>\n      <td>75.0</td>\n      <td>120.0</td>\n      <td>60.0</td>\n      <td>12.0</td>\n    </tr>\n    <tr>\n      <th>13</th>\n      <td>296490.0_220045.0_2192-09-26 23:51:00</td>\n      <td>2192-09-27 12:00:00</td>\n      <td>HR</td>\n      <td>75.5</td>\n      <td>120.0</td>\n      <td>60.0</td>\n      <td>13.0</td>\n    </tr>\n    <tr>\n      <th>14</th>\n      <td>296490.0_220045.0_2192-09-26 23:51:00</td>\n      <td>2192-09-27 13:00:00</td>\n      <td>HR</td>\n      <td>74.0</td>\n      <td>120.0</td>\n      <td>60.0</td>\n      <td>14.0</td>\n    </tr>\n  </tbody>\n</table>\n</div>"
     },
     "metadata": {}
    }
   ],
   "source": [
    "# reduce dataset to small amount in order to first test script\n",
    "# Now we have 15 measurements for that chunk; With a TRAIN of 12, a TEST of 2 and a STEP of 1 we expect to receive two training sets and two test sets - looking at row ids they would look like the following:\n",
    "# first train = 0:11 ; first test= 12:13\n",
    "# second train = 1:12 ; second test= 13:14\n",
    "arima_data = arima_data[:15]\n",
    "\n",
    "# display(arima_data)"
   ]
  },
  {
   "source": [
    "### First Adaption\n",
    "Create dict that holds vital parameter series, threshold high and threshold low series for each chunk id (key). The series are all indexed the same way (= dif to first measurement in hours with current sampling rate) so they relate to the same time\n"
   ],
   "cell_type": "markdown",
   "metadata": {}
  },
  {
   "cell_type": "code",
   "execution_count": 8,
   "metadata": {},
   "outputs": [],
   "source": [
    "# With Adaption\n",
    "# Create dictionary with chunk id as key and a dataframe as value.\n",
    "# This dataframe contains of three columns the vital parameter values, the high thresholds and the low thresholds.\n",
    "# As the index of these three list is the same and can be referenced back to the \"HOURS_SINCE_FIRST_RECORD\", we keep the time related information.\n",
    "# Example:\n",
    "# dict_of_chunk_series_with_test_and_train = {\n",
    "#     \"<chunkid_A>\" : | vital_parameter_series | threshold_high_series | threshold_low_series\n",
    "#                   0 |                   95.0 |                   120 |                   60\n",
    "#                   1 |                   90.5 |                   120 |                   60\n",
    "#                   2 |                   91.0 |                   120 |                   60\n",
    "#  }\n",
    "\n",
    "dict_of_chunk_series = {}\n",
    "\n",
    "for chunkid in chunkid_filter:\n",
    "    \n",
    "    chunk_data = arima_data[arima_data.CHUNK_ID_FILLED_TH == chunkid].copy()\n",
    "\n",
    "    # vital parameter series\n",
    "    chunk_value_series = pd.Series(chunk_data['VALUENUM_CLEAN'],name=\"vital_parameter_series\")\n",
    "    chunk_value_series = chunk_value_series.reset_index(drop=True)\n",
    "    chunk_value_series.index = list(chunk_value_series.index)\n",
    "\n",
    "    # threshold series high\n",
    "    chunk_threshold_high_series = pd.Series(chunk_data['THRESHOLD_VALUE_HIGH'],name=\"threshold_high_series\")\n",
    "    chunk_threshold_high_series = chunk_threshold_high_series.reset_index(drop=True)\n",
    "    chunk_threshold_high_series.index = list(chunk_threshold_high_series.index)\n",
    "\n",
    "    # threshold series low\n",
    "    chunk_threshold_low_series = pd.Series(chunk_data['THRESHOLD_VALUE_LOW'],name=\"threshold_low_series\")\n",
    "    chunk_threshold_low_series = chunk_threshold_low_series.reset_index(drop=True)\n",
    "    chunk_threshold_low_series.index = list(chunk_threshold_low_series.index)\n",
    "\n",
    "    # Append series with key (CHUNK_ID) into dictionary\n",
    "    vital_parameter_and_thresholds_for_chunkid = pd.concat([chunk_value_series,chunk_threshold_high_series,chunk_threshold_low_series],axis=1)\n",
    "    dict_of_chunk_series[chunkid] = vital_parameter_and_thresholds_for_chunkid\n"
   ]
  },
  {
   "cell_type": "code",
   "execution_count": 9,
   "metadata": {},
   "outputs": [
    {
     "output_type": "execute_result",
     "data": {
      "text/plain": [
       "    vital_parameter_series  threshold_high_series  threshold_low_series\n",
       "0                     95.0                    NaN                   NaN\n",
       "1                     90.5                  120.0                  60.0\n",
       "2                     91.0                  120.0                  60.0\n",
       "3                     91.0                  120.0                  60.0\n",
       "4                     85.0                  120.0                  60.0\n",
       "5                     89.0                  120.0                  60.0\n",
       "6                     82.0                  120.0                  60.0\n",
       "7                     80.0                  120.0                  60.0\n",
       "8                     77.0                  120.0                  60.0\n",
       "9                     78.5                  120.0                  60.0\n",
       "10                    78.0                  120.0                  60.0\n",
       "11                    84.0                  120.0                  60.0\n",
       "12                    75.0                  120.0                  60.0\n",
       "13                    75.5                  120.0                  60.0\n",
       "14                    74.0                  120.0                  60.0"
      ],
      "text/html": "<div>\n<style scoped>\n    .dataframe tbody tr th:only-of-type {\n        vertical-align: middle;\n    }\n\n    .dataframe tbody tr th {\n        vertical-align: top;\n    }\n\n    .dataframe thead th {\n        text-align: right;\n    }\n</style>\n<table border=\"1\" class=\"dataframe\">\n  <thead>\n    <tr style=\"text-align: right;\">\n      <th></th>\n      <th>vital_parameter_series</th>\n      <th>threshold_high_series</th>\n      <th>threshold_low_series</th>\n    </tr>\n  </thead>\n  <tbody>\n    <tr>\n      <th>0</th>\n      <td>95.0</td>\n      <td>NaN</td>\n      <td>NaN</td>\n    </tr>\n    <tr>\n      <th>1</th>\n      <td>90.5</td>\n      <td>120.0</td>\n      <td>60.0</td>\n    </tr>\n    <tr>\n      <th>2</th>\n      <td>91.0</td>\n      <td>120.0</td>\n      <td>60.0</td>\n    </tr>\n    <tr>\n      <th>3</th>\n      <td>91.0</td>\n      <td>120.0</td>\n      <td>60.0</td>\n    </tr>\n    <tr>\n      <th>4</th>\n      <td>85.0</td>\n      <td>120.0</td>\n      <td>60.0</td>\n    </tr>\n    <tr>\n      <th>5</th>\n      <td>89.0</td>\n      <td>120.0</td>\n      <td>60.0</td>\n    </tr>\n    <tr>\n      <th>6</th>\n      <td>82.0</td>\n      <td>120.0</td>\n      <td>60.0</td>\n    </tr>\n    <tr>\n      <th>7</th>\n      <td>80.0</td>\n      <td>120.0</td>\n      <td>60.0</td>\n    </tr>\n    <tr>\n      <th>8</th>\n      <td>77.0</td>\n      <td>120.0</td>\n      <td>60.0</td>\n    </tr>\n    <tr>\n      <th>9</th>\n      <td>78.5</td>\n      <td>120.0</td>\n      <td>60.0</td>\n    </tr>\n    <tr>\n      <th>10</th>\n      <td>78.0</td>\n      <td>120.0</td>\n      <td>60.0</td>\n    </tr>\n    <tr>\n      <th>11</th>\n      <td>84.0</td>\n      <td>120.0</td>\n      <td>60.0</td>\n    </tr>\n    <tr>\n      <th>12</th>\n      <td>75.0</td>\n      <td>120.0</td>\n      <td>60.0</td>\n    </tr>\n    <tr>\n      <th>13</th>\n      <td>75.5</td>\n      <td>120.0</td>\n      <td>60.0</td>\n    </tr>\n    <tr>\n      <th>14</th>\n      <td>74.0</td>\n      <td>120.0</td>\n      <td>60.0</td>\n    </tr>\n  </tbody>\n</table>\n</div>"
     },
     "metadata": {},
     "execution_count": 9
    }
   ],
   "source": [
    "# Example of accessing dataframe in value of specific chunk\n",
    "dict_of_chunk_series['296490.0_220045.0_2192-09-26 23:51:00']"
   ]
  },
  {
   "source": [
    "### Second Adaption"
   ],
   "cell_type": "markdown",
   "metadata": {}
  },
  {
   "cell_type": "code",
   "execution_count": 10,
   "metadata": {},
   "outputs": [],
   "source": [
    "# Create multiple test & train sets for each chunk to iteratively predict the next x measurements\n",
    "# Create nested dictionary that holds the CHUNK_ID as first key.\n",
    "# This key holds one dictionary for each iteration over this chunk. This depends on the TEST, TRAIN, and STEP.\n",
    "# For each iteration we create another dictionary, whereby the last index of the train list acts as key.\n",
    "# This key holds again one dictionary for the train list and one for the test list.\n",
    "# Example:\n",
    "# dict_of_chunk_series_with_test_and_train = {\n",
    "#     \"<chunkid_A>\" : {\n",
    "#         \"<last_index_of_training_list_of_first_chunkid_A_iteration>\" : {\n",
    "#             \"TRAIN_LIST\" : train_list,\n",
    "#             \"TEST_LIST\" : test_list,\n",
    "#             \"THRESHOLD_HIGH_FOR_TEST_LIST\" : threshold_high_for_test_list ,\n",
    "#             \"THRESHOLD_LOW_FOR_TEST_LIST\" : threshold_low_for_test_list\n",
    "#         },\n",
    "#         \"<last_index_of_training_list_of_second_chunkid_A_iteration>\" : {\n",
    "#             \"TRAIN_LIST\" : train_list,\n",
    "#             \"TEST_LIST\" : test_list,\n",
    "#             \"THRESHOLD_HIGH_FOR_TEST_LIST\" : threshold_high_for_test_list ,\n",
    "#             \"THRESHOLD_LOW_FOR_TEST_LIST\" : threshold_low_for_test_list\n",
    "#         },\n",
    "#     }\n",
    "# }\n",
    "\n",
    "dict_of_chunk_series_with_test_and_train = {}\n",
    "\n",
    "for i, chunk in enumerate(dict_of_chunk_series):\n",
    "    # acces dataframe of current chunk\n",
    "    chunk_series_for_chunk = dict_of_chunk_series[chunk]\n",
    "    # access vital_parameter_series of current chunk\n",
    "    chunk_value_series_for_chunk = chunk_series_for_chunk[\"vital_parameter_series\"]\n",
    "\n",
    "    # access threshold_high_series of current chunk\n",
    "    chunk_threshold_high_series_for_chunk = chunk_series_for_chunk[\"threshold_high_series\"]\n",
    "\n",
    "    # access threshold_low_series of current chunk\n",
    "    chunk_threshold_low_series_for_chunk = chunk_series_for_chunk[\"threshold_low_series\"]\n",
    "\n",
    "    # create an empty dictionary for the key of the current chunk\n",
    "    dict_of_chunk_series_with_test_and_train[chunk] = {}\n",
    "\n",
    "    # create multiple test and train lists for that chunk\n",
    "    for start in range(0, len(chunk_value_series_for_chunk) - (TRAIN + TEST)+1, STEP):\n",
    "        \n",
    "        train_list = pd.Series(chunk_value_series_for_chunk[start : start+TRAIN],name=\"train_list\")\n",
    "        test_list = pd.Series(chunk_value_series_for_chunk[start+TRAIN : start+TRAIN+TEST],name=\"test_list\")\n",
    "        threshold_high_for_test_list = pd.Series(chunk_threshold_high_series_for_chunk[start+TRAIN : start+TRAIN+TEST],name=\"threshold_high_for_test_list\")\n",
    "        threshold_low_for_test_list = pd.Series(chunk_threshold_low_series_for_chunk[start+TRAIN : start+TRAIN+TEST],name=\"threshold_low_for_test_list\")\n",
    "        #For each iteration over the current chunk, we will create a dictionary that holds again the test and train list as dictionary\n",
    "        #We use the last index of the current train list (which currently refers to the difference to first measurement) as second key\n",
    "        second_key = train_list.index.max() \n",
    "        dict_of_chunk_series_with_test_and_train[chunk][second_key] = {}\n",
    "        #Assign the train and test list to the current chunk iteration      \n",
    "        dict_of_chunk_series_with_test_and_train[chunk][second_key][\"TRAIN_LIST\"] = train_list\n",
    "        dict_of_chunk_series_with_test_and_train[chunk][second_key][\"TEST_LIST\"] = test_list\n",
    "        dict_of_chunk_series_with_test_and_train[chunk][second_key][\"THRESHOLD_HIGH_FOR_TEST_LIST\"] = threshold_high_for_test_list\n",
    "        dict_of_chunk_series_with_test_and_train[chunk][second_key][\"THRESHOLD_LOW_FOR_TEST_LIST\"] = threshold_low_for_test_list\n",
    "    \n"
   ]
  },
  {
   "cell_type": "code",
   "execution_count": 11,
   "metadata": {},
   "outputs": [
    {
     "output_type": "execute_result",
     "data": {
      "text/plain": [
       "{'TRAIN_LIST': 0     95.0\n",
       " 1     90.5\n",
       " 2     91.0\n",
       " 3     91.0\n",
       " 4     85.0\n",
       " 5     89.0\n",
       " 6     82.0\n",
       " 7     80.0\n",
       " 8     77.0\n",
       " 9     78.5\n",
       " 10    78.0\n",
       " 11    84.0\n",
       " Name: train_list, dtype: float64,\n",
       " 'TEST_LIST': 12    75.0\n",
       " 13    75.5\n",
       " Name: test_list, dtype: float64,\n",
       " 'THRESHOLD_HIGH_FOR_TEST_LIST': 12    120.0\n",
       " 13    120.0\n",
       " Name: threshold_high_for_test_list, dtype: float64,\n",
       " 'THRESHOLD_LOW_FOR_TEST_LIST': 12    60.0\n",
       " 13    60.0\n",
       " Name: threshold_low_for_test_list, dtype: float64}"
      ]
     },
     "metadata": {},
     "execution_count": 11
    }
   ],
   "source": [
    "# Example of accessing first train list of a specific chunkid\n",
    "dict_of_chunk_series_with_test_and_train[chunkid][TRAIN-1]"
   ]
  },
  {
   "cell_type": "code",
   "execution_count": 12,
   "metadata": {},
   "outputs": [
    {
     "output_type": "execute_result",
     "data": {
      "text/plain": [
       "{'TRAIN_LIST': 1     90.5\n",
       " 2     91.0\n",
       " 3     91.0\n",
       " 4     85.0\n",
       " 5     89.0\n",
       " 6     82.0\n",
       " 7     80.0\n",
       " 8     77.0\n",
       " 9     78.5\n",
       " 10    78.0\n",
       " 11    84.0\n",
       " 12    75.0\n",
       " Name: train_list, dtype: float64,\n",
       " 'TEST_LIST': 13    75.5\n",
       " 14    74.0\n",
       " Name: test_list, dtype: float64,\n",
       " 'THRESHOLD_HIGH_FOR_TEST_LIST': 13    120.0\n",
       " 14    120.0\n",
       " Name: threshold_high_for_test_list, dtype: float64,\n",
       " 'THRESHOLD_LOW_FOR_TEST_LIST': 13    60.0\n",
       " 14    60.0\n",
       " Name: threshold_low_for_test_list, dtype: float64}"
      ]
     },
     "metadata": {},
     "execution_count": 12
    }
   ],
   "source": [
    "# Example of accessing  lists of a specific chunk iteration\n",
    "dict_of_chunk_series_with_test_and_train[chunkid][TRAIN]"
   ]
  },
  {
   "cell_type": "code",
   "execution_count": 13,
   "metadata": {},
   "outputs": [
    {
     "output_type": "execute_result",
     "data": {
      "text/plain": [
       "13    75.5\n",
       "14    74.0\n",
       "Name: test_list, dtype: float64"
      ]
     },
     "metadata": {},
     "execution_count": 13
    }
   ],
   "source": [
    "# Example of accessing second test list of a specific chunkid\n",
    "dict_of_chunk_series_with_test_and_train[chunkid][TRAIN][\"TEST_LIST\"]"
   ]
  },
  {
   "cell_type": "code",
   "execution_count": 14,
   "metadata": {},
   "outputs": [],
   "source": [
    "import pmdarima as pm\n",
    "\n",
    "# Expand the previously created dictionary (dict_of_chunk_series_with_test_and_train) to also hold the prediction series next to the train and the test series (and threshold values for test)\n",
    "dict_of_chunk_series_with_test_and_train_and_forecast = dict_of_chunk_series_with_test_and_train.copy()\n",
    "\n",
    "for i,chunk in enumerate(dict_of_chunk_series_with_test_and_train_and_forecast):\n",
    "    for i,chunk_iteration in enumerate(dict_of_chunk_series_with_test_and_train_and_forecast[chunk]):\n",
    "        #train the arima model on the train list of the current chunk iteration\n",
    "        current_train_list = dict_of_chunk_series_with_test_and_train_and_forecast[chunk][chunk_iteration][\"TRAIN_LIST\"]\n",
    "        arima = pm.auto_arima(current_train_list)\n",
    "\n",
    "        #make sure that test_list and prediction_list share the same indizes to make alarm prediction easier later on - working for current step size and sampling rate\n",
    "        #if index is alway the auto index and does not relate to \"Hours:Since_First_Measurement\" directly then \"1\" as step size here is working\n",
    "        forecast = pd.Series(arima.predict(TEST),index= [*range(i+TRAIN,i+TRAIN+TEST,1)],name=\"forecast_list\")\n",
    "        \n",
    "        #add prediction to dictionary\n",
    "        dict_of_chunk_series_with_test_and_train_and_forecast[chunk][chunk_iteration][\"FORECAST_LIST\"] = forecast\n"
   ]
  },
  {
   "cell_type": "code",
   "execution_count": 15,
   "metadata": {},
   "outputs": [
    {
     "output_type": "execute_result",
     "data": {
      "text/plain": [
       "{'TRAIN_LIST': 0     95.0\n",
       " 1     90.5\n",
       " 2     91.0\n",
       " 3     91.0\n",
       " 4     85.0\n",
       " 5     89.0\n",
       " 6     82.0\n",
       " 7     80.0\n",
       " 8     77.0\n",
       " 9     78.5\n",
       " 10    78.0\n",
       " 11    84.0\n",
       " Name: train_list, dtype: float64,\n",
       " 'TEST_LIST': 12    75.0\n",
       " 13    75.5\n",
       " Name: test_list, dtype: float64,\n",
       " 'THRESHOLD_HIGH_FOR_TEST_LIST': 12    120.0\n",
       " 13    120.0\n",
       " Name: threshold_high_for_test_list, dtype: float64,\n",
       " 'THRESHOLD_LOW_FOR_TEST_LIST': 12    60.0\n",
       " 13    60.0\n",
       " Name: threshold_low_for_test_list, dtype: float64,\n",
       " 'FORECAST_LIST': 12    84.587870\n",
       " 13    85.051009\n",
       " Name: forecast_list, dtype: float64}"
      ]
     },
     "metadata": {},
     "execution_count": 15
    }
   ],
   "source": [
    "# Example of accessing the dictionary (containing train list, test list, prediction list) of a specific chunk iteration\n",
    "dict_of_chunk_series_with_test_and_train_and_forecast[chunk][11]"
   ]
  },
  {
   "cell_type": "code",
   "execution_count": 16,
   "metadata": {},
   "outputs": [],
   "source": [
    "# Write to data frame - check if that makes alarm prediction easier\n",
    "pd.concat([chunk_value_series,chunk_threshold_high_series,chunk_threshold_low_series],axis=1)\n",
    "dict_of_chunk_series_with_forecast = {}\n",
    "\n",
    "for i,chunk in enumerate(dict_of_chunk_series_with_test_and_train_and_forecast):\n",
    "    dict_of_chunk_series_with_forecast[chunk] = {}\n",
    "\n",
    "    for i,chunk_iteration in enumerate(dict_of_chunk_series_with_test_and_train_and_forecast[chunk]):\n",
    "        \n",
    "        train_list = dict_of_chunk_series_with_test_and_train_and_forecast[chunk][chunk_iteration][\"TRAIN_LIST\"]\n",
    "        test_list = dict_of_chunk_series_with_test_and_train_and_forecast[chunk][chunk_iteration][\"TEST_LIST\"]\n",
    "        threshold_high_for_test_list = dict_of_chunk_series_with_test_and_train_and_forecast[chunk][chunk_iteration][\"THRESHOLD_HIGH_FOR_TEST_LIST\"]\n",
    "        threshold_low_for_test_list = dict_of_chunk_series_with_test_and_train_and_forecast[chunk][chunk_iteration][\"THRESHOLD_LOW_FOR_TEST_LIST\"]\n",
    "        forecast_list = dict_of_chunk_series_with_test_and_train_and_forecast[chunk][chunk_iteration][\"FORECAST_LIST\"]\n",
    "        all_dict_lists_as_df = pd.concat([train_list,test_list,threshold_high_for_test_list,threshold_low_for_test_list,forecast_list],axis=1)\n",
    "        dict_of_chunk_series_with_forecast[chunkid][chunk_iteration] = all_dict_lists_as_df\n",
    "    \n"
   ]
  },
  {
   "cell_type": "code",
   "execution_count": 17,
   "metadata": {},
   "outputs": [
    {
     "output_type": "execute_result",
     "data": {
      "text/plain": [
       "    train_list  test_list  threshold_high_for_test_list  \\\n",
       "0         95.0        NaN                           NaN   \n",
       "1         90.5        NaN                           NaN   \n",
       "2         91.0        NaN                           NaN   \n",
       "3         91.0        NaN                           NaN   \n",
       "4         85.0        NaN                           NaN   \n",
       "5         89.0        NaN                           NaN   \n",
       "6         82.0        NaN                           NaN   \n",
       "7         80.0        NaN                           NaN   \n",
       "8         77.0        NaN                           NaN   \n",
       "9         78.5        NaN                           NaN   \n",
       "10        78.0        NaN                           NaN   \n",
       "11        84.0        NaN                           NaN   \n",
       "12         NaN       75.0                         120.0   \n",
       "13         NaN       75.5                         120.0   \n",
       "\n",
       "    threshold_low_for_test_list  forecast_list  \n",
       "0                           NaN            NaN  \n",
       "1                           NaN            NaN  \n",
       "2                           NaN            NaN  \n",
       "3                           NaN            NaN  \n",
       "4                           NaN            NaN  \n",
       "5                           NaN            NaN  \n",
       "6                           NaN            NaN  \n",
       "7                           NaN            NaN  \n",
       "8                           NaN            NaN  \n",
       "9                           NaN            NaN  \n",
       "10                          NaN            NaN  \n",
       "11                          NaN            NaN  \n",
       "12                         60.0      84.587870  \n",
       "13                         60.0      85.051009  "
      ],
      "text/html": "<div>\n<style scoped>\n    .dataframe tbody tr th:only-of-type {\n        vertical-align: middle;\n    }\n\n    .dataframe tbody tr th {\n        vertical-align: top;\n    }\n\n    .dataframe thead th {\n        text-align: right;\n    }\n</style>\n<table border=\"1\" class=\"dataframe\">\n  <thead>\n    <tr style=\"text-align: right;\">\n      <th></th>\n      <th>train_list</th>\n      <th>test_list</th>\n      <th>threshold_high_for_test_list</th>\n      <th>threshold_low_for_test_list</th>\n      <th>forecast_list</th>\n    </tr>\n  </thead>\n  <tbody>\n    <tr>\n      <th>0</th>\n      <td>95.0</td>\n      <td>NaN</td>\n      <td>NaN</td>\n      <td>NaN</td>\n      <td>NaN</td>\n    </tr>\n    <tr>\n      <th>1</th>\n      <td>90.5</td>\n      <td>NaN</td>\n      <td>NaN</td>\n      <td>NaN</td>\n      <td>NaN</td>\n    </tr>\n    <tr>\n      <th>2</th>\n      <td>91.0</td>\n      <td>NaN</td>\n      <td>NaN</td>\n      <td>NaN</td>\n      <td>NaN</td>\n    </tr>\n    <tr>\n      <th>3</th>\n      <td>91.0</td>\n      <td>NaN</td>\n      <td>NaN</td>\n      <td>NaN</td>\n      <td>NaN</td>\n    </tr>\n    <tr>\n      <th>4</th>\n      <td>85.0</td>\n      <td>NaN</td>\n      <td>NaN</td>\n      <td>NaN</td>\n      <td>NaN</td>\n    </tr>\n    <tr>\n      <th>5</th>\n      <td>89.0</td>\n      <td>NaN</td>\n      <td>NaN</td>\n      <td>NaN</td>\n      <td>NaN</td>\n    </tr>\n    <tr>\n      <th>6</th>\n      <td>82.0</td>\n      <td>NaN</td>\n      <td>NaN</td>\n      <td>NaN</td>\n      <td>NaN</td>\n    </tr>\n    <tr>\n      <th>7</th>\n      <td>80.0</td>\n      <td>NaN</td>\n      <td>NaN</td>\n      <td>NaN</td>\n      <td>NaN</td>\n    </tr>\n    <tr>\n      <th>8</th>\n      <td>77.0</td>\n      <td>NaN</td>\n      <td>NaN</td>\n      <td>NaN</td>\n      <td>NaN</td>\n    </tr>\n    <tr>\n      <th>9</th>\n      <td>78.5</td>\n      <td>NaN</td>\n      <td>NaN</td>\n      <td>NaN</td>\n      <td>NaN</td>\n    </tr>\n    <tr>\n      <th>10</th>\n      <td>78.0</td>\n      <td>NaN</td>\n      <td>NaN</td>\n      <td>NaN</td>\n      <td>NaN</td>\n    </tr>\n    <tr>\n      <th>11</th>\n      <td>84.0</td>\n      <td>NaN</td>\n      <td>NaN</td>\n      <td>NaN</td>\n      <td>NaN</td>\n    </tr>\n    <tr>\n      <th>12</th>\n      <td>NaN</td>\n      <td>75.0</td>\n      <td>120.0</td>\n      <td>60.0</td>\n      <td>84.587870</td>\n    </tr>\n    <tr>\n      <th>13</th>\n      <td>NaN</td>\n      <td>75.5</td>\n      <td>120.0</td>\n      <td>60.0</td>\n      <td>85.051009</td>\n    </tr>\n  </tbody>\n</table>\n</div>"
     },
     "metadata": {},
     "execution_count": 17
    }
   ],
   "source": [
    "# Example of accessing the dictionary (containing train list, test list, prediction list in a !dataframe!) of a specific chunk iteration\n",
    "dict_of_chunk_series_with_forecast[chunk][11]"
   ]
  },
  {
   "source": [
    "Arima from previous version:\n",
    "auto_arima_model = auto_arima(data, start_p=1, start_q=1,\n",
    "                            max_p=3, max_q=3, m=1,\n",
    "                            start_P=0, seasonal=False,\n",
    "                            d=1, D=1, trace=True,\n",
    "                            error_action='ignore',  \n",
    "                            suppress_warnings=True, \n",
    "                            stepwise=True)"
   ],
   "cell_type": "markdown",
   "metadata": {}
  },
  {
   "cell_type": "code",
   "execution_count": 18,
   "metadata": {},
   "outputs": [],
   "source": [
    "# Add information whether alarm was triggered\n",
    "dict_of_chunk_series_with_forecast_and_alarms = dict_of_chunk_series_with_forecast.copy() \n",
    "for i,chunk in enumerate(dict_of_chunk_series_with_forecast_and_alarms):\n",
    "    #dict_of_chunk_series_with_forecast_and_alarms[chunk] = {}\n",
    "\n",
    "    for i,chunk_iteration in enumerate(dict_of_chunk_series_with_forecast_and_alarms[chunk]):\n",
    "        \n",
    "        df_for_chunk_iteration = dict_of_chunk_series_with_forecast_and_alarms[chunk][chunk_iteration]\n",
    "        df_for_chunk_iteration['high_alarm_triggered'] = np.where(df_for_chunk_iteration['test_list'] > df_for_chunk_iteration['threshold_high_for_test_list'] ,1,0)\n",
    "        df_for_chunk_iteration['high_alarm_triggered_forecast'] = np.where(df_for_chunk_iteration['forecast_list'] > df_for_chunk_iteration['threshold_high_for_test_list'] ,1,0)\n",
    "        df_for_chunk_iteration['low_alarm_triggered'] = np.where(df_for_chunk_iteration['test_list'] < df_for_chunk_iteration['threshold_low_for_test_list'] ,1,0)\n",
    "        df_for_chunk_iteration['low_alarm_triggered_forecast'] = np.where(df_for_chunk_iteration['forecast_list'] < df_for_chunk_iteration['threshold_low_for_test_list'] ,1,0)\n",
    "        dict_of_chunk_series_with_forecast_and_alarms[chunk][chunk_iteration] = df_for_chunk_iteration\n",
    "        \n"
   ]
  },
  {
   "cell_type": "code",
   "execution_count": 19,
   "metadata": {},
   "outputs": [
    {
     "output_type": "execute_result",
     "data": {
      "text/plain": [
       "    train_list  test_list  threshold_high_for_test_list  \\\n",
       "1         90.5        NaN                           NaN   \n",
       "2         91.0        NaN                           NaN   \n",
       "3         91.0        NaN                           NaN   \n",
       "4         85.0        NaN                           NaN   \n",
       "5         89.0        NaN                           NaN   \n",
       "6         82.0        NaN                           NaN   \n",
       "7         80.0        NaN                           NaN   \n",
       "8         77.0        NaN                           NaN   \n",
       "9         78.5        NaN                           NaN   \n",
       "10        78.0        NaN                           NaN   \n",
       "11        84.0        NaN                           NaN   \n",
       "12        75.0        NaN                           NaN   \n",
       "13         NaN       75.5                         120.0   \n",
       "14         NaN       74.0                         120.0   \n",
       "\n",
       "    threshold_low_for_test_list  forecast_list  high_alarm_triggered  \\\n",
       "1                           NaN            NaN                     0   \n",
       "2                           NaN            NaN                     0   \n",
       "3                           NaN            NaN                     0   \n",
       "4                           NaN            NaN                     0   \n",
       "5                           NaN            NaN                     0   \n",
       "6                           NaN            NaN                     0   \n",
       "7                           NaN            NaN                     0   \n",
       "8                           NaN            NaN                     0   \n",
       "9                           NaN            NaN                     0   \n",
       "10                          NaN            NaN                     0   \n",
       "11                          NaN            NaN                     0   \n",
       "12                          NaN            NaN                     0   \n",
       "13                         60.0      77.573191                     0   \n",
       "14                         60.0      79.342600                     0   \n",
       "\n",
       "    high_alarm_triggered_forecast  low_alarm_triggered  \\\n",
       "1                               0                    0   \n",
       "2                               0                    0   \n",
       "3                               0                    0   \n",
       "4                               0                    0   \n",
       "5                               0                    0   \n",
       "6                               0                    0   \n",
       "7                               0                    0   \n",
       "8                               0                    0   \n",
       "9                               0                    0   \n",
       "10                              0                    0   \n",
       "11                              0                    0   \n",
       "12                              0                    0   \n",
       "13                              0                    0   \n",
       "14                              0                    0   \n",
       "\n",
       "    low_alarm_triggered_forecast  \n",
       "1                              0  \n",
       "2                              0  \n",
       "3                              0  \n",
       "4                              0  \n",
       "5                              0  \n",
       "6                              0  \n",
       "7                              0  \n",
       "8                              0  \n",
       "9                              0  \n",
       "10                             0  \n",
       "11                             0  \n",
       "12                             0  \n",
       "13                             0  \n",
       "14                             0  "
      ],
      "text/html": "<div>\n<style scoped>\n    .dataframe tbody tr th:only-of-type {\n        vertical-align: middle;\n    }\n\n    .dataframe tbody tr th {\n        vertical-align: top;\n    }\n\n    .dataframe thead th {\n        text-align: right;\n    }\n</style>\n<table border=\"1\" class=\"dataframe\">\n  <thead>\n    <tr style=\"text-align: right;\">\n      <th></th>\n      <th>train_list</th>\n      <th>test_list</th>\n      <th>threshold_high_for_test_list</th>\n      <th>threshold_low_for_test_list</th>\n      <th>forecast_list</th>\n      <th>high_alarm_triggered</th>\n      <th>high_alarm_triggered_forecast</th>\n      <th>low_alarm_triggered</th>\n      <th>low_alarm_triggered_forecast</th>\n    </tr>\n  </thead>\n  <tbody>\n    <tr>\n      <th>1</th>\n      <td>90.5</td>\n      <td>NaN</td>\n      <td>NaN</td>\n      <td>NaN</td>\n      <td>NaN</td>\n      <td>0</td>\n      <td>0</td>\n      <td>0</td>\n      <td>0</td>\n    </tr>\n    <tr>\n      <th>2</th>\n      <td>91.0</td>\n      <td>NaN</td>\n      <td>NaN</td>\n      <td>NaN</td>\n      <td>NaN</td>\n      <td>0</td>\n      <td>0</td>\n      <td>0</td>\n      <td>0</td>\n    </tr>\n    <tr>\n      <th>3</th>\n      <td>91.0</td>\n      <td>NaN</td>\n      <td>NaN</td>\n      <td>NaN</td>\n      <td>NaN</td>\n      <td>0</td>\n      <td>0</td>\n      <td>0</td>\n      <td>0</td>\n    </tr>\n    <tr>\n      <th>4</th>\n      <td>85.0</td>\n      <td>NaN</td>\n      <td>NaN</td>\n      <td>NaN</td>\n      <td>NaN</td>\n      <td>0</td>\n      <td>0</td>\n      <td>0</td>\n      <td>0</td>\n    </tr>\n    <tr>\n      <th>5</th>\n      <td>89.0</td>\n      <td>NaN</td>\n      <td>NaN</td>\n      <td>NaN</td>\n      <td>NaN</td>\n      <td>0</td>\n      <td>0</td>\n      <td>0</td>\n      <td>0</td>\n    </tr>\n    <tr>\n      <th>6</th>\n      <td>82.0</td>\n      <td>NaN</td>\n      <td>NaN</td>\n      <td>NaN</td>\n      <td>NaN</td>\n      <td>0</td>\n      <td>0</td>\n      <td>0</td>\n      <td>0</td>\n    </tr>\n    <tr>\n      <th>7</th>\n      <td>80.0</td>\n      <td>NaN</td>\n      <td>NaN</td>\n      <td>NaN</td>\n      <td>NaN</td>\n      <td>0</td>\n      <td>0</td>\n      <td>0</td>\n      <td>0</td>\n    </tr>\n    <tr>\n      <th>8</th>\n      <td>77.0</td>\n      <td>NaN</td>\n      <td>NaN</td>\n      <td>NaN</td>\n      <td>NaN</td>\n      <td>0</td>\n      <td>0</td>\n      <td>0</td>\n      <td>0</td>\n    </tr>\n    <tr>\n      <th>9</th>\n      <td>78.5</td>\n      <td>NaN</td>\n      <td>NaN</td>\n      <td>NaN</td>\n      <td>NaN</td>\n      <td>0</td>\n      <td>0</td>\n      <td>0</td>\n      <td>0</td>\n    </tr>\n    <tr>\n      <th>10</th>\n      <td>78.0</td>\n      <td>NaN</td>\n      <td>NaN</td>\n      <td>NaN</td>\n      <td>NaN</td>\n      <td>0</td>\n      <td>0</td>\n      <td>0</td>\n      <td>0</td>\n    </tr>\n    <tr>\n      <th>11</th>\n      <td>84.0</td>\n      <td>NaN</td>\n      <td>NaN</td>\n      <td>NaN</td>\n      <td>NaN</td>\n      <td>0</td>\n      <td>0</td>\n      <td>0</td>\n      <td>0</td>\n    </tr>\n    <tr>\n      <th>12</th>\n      <td>75.0</td>\n      <td>NaN</td>\n      <td>NaN</td>\n      <td>NaN</td>\n      <td>NaN</td>\n      <td>0</td>\n      <td>0</td>\n      <td>0</td>\n      <td>0</td>\n    </tr>\n    <tr>\n      <th>13</th>\n      <td>NaN</td>\n      <td>75.5</td>\n      <td>120.0</td>\n      <td>60.0</td>\n      <td>77.573191</td>\n      <td>0</td>\n      <td>0</td>\n      <td>0</td>\n      <td>0</td>\n    </tr>\n    <tr>\n      <th>14</th>\n      <td>NaN</td>\n      <td>74.0</td>\n      <td>120.0</td>\n      <td>60.0</td>\n      <td>79.342600</td>\n      <td>0</td>\n      <td>0</td>\n      <td>0</td>\n      <td>0</td>\n    </tr>\n  </tbody>\n</table>\n</div>"
     },
     "metadata": {},
     "execution_count": 19
    }
   ],
   "source": [
    "# Example of accessing result for a specific chunk iteration (the one where the training set ends at index 12)\n",
    "dict_of_chunk_series_with_forecast_and_alarms[chunk][12]"
   ]
  },
  {
   "cell_type": "code",
   "execution_count": 21,
   "metadata": {},
   "outputs": [],
   "source": [
    "\n",
    "accuracy_dict_for_chunk_iterations = {}\n",
    "\n",
    "for i,chunk in enumerate(dict_of_chunk_series_with_forecast_and_alarms):\n",
    "    accuracy_dict_for_chunk_iterations[chunk] = {}\n",
    "       \n",
    "    for i,chunk_iteration in enumerate(dict_of_chunk_series_with_forecast_and_alarms[chunk]):\n",
    "        \n",
    "        tp, tn, fp, fn = 0, 0, 0, 0\n",
    "        accurracy_matrix_df_for_chunk_iteration = pd.DataFrame(columns=[\"TP\",\"FN\",\"FP\",\"TN\"])\n",
    "        \n",
    "        # select column of dataframe but only where relevant (starting after train size)\n",
    "        df_for_chunk_iteration = dict_of_chunk_series_with_forecast_and_alarms[chunk][chunk_iteration]\n",
    "\n",
    "        ##################\n",
    "        # High alarms\n",
    "        ##################\n",
    "        \n",
    "        # select true high alarms triggered\n",
    "        column_index_of_high_alarm_triggered = df_for_chunk_iteration.columns.get_loc(\"high_alarm_triggered\")\n",
    "\n",
    "        # select predicted high alarms\n",
    "        column_index_of_high_alarm_triggered_forecast = df_for_chunk_iteration.columns.get_loc(\"high_alarm_triggered_forecast\")\n",
    "        \n",
    "        # create df with bot as column - only needed rows (test only)\n",
    "        high_alarms = df_for_chunk_iteration.iloc[TRAIN:,[column_index_of_high_alarm_triggered,column_index_of_high_alarm_triggered_forecast]]\n",
    "        \n",
    "        for row_in_high_alarms in high_alarms.iterrows():\n",
    "\n",
    "            if row_in_high_alarms[1][0] and row_in_high_alarms[1][1]:\n",
    "                tp +=1\n",
    "                # print(\"tp\", tp)\n",
    "            if row_in_high_alarms[1][0] and not row_in_high_alarms[1][1]:\n",
    "                fn +=1\n",
    "                # print(\"fn\", fn)\n",
    "            if not row_in_high_alarms[1][0] and row_in_high_alarms[1][1]:\n",
    "                fp +=1\n",
    "                # print(\"fp\", fp)\n",
    "            if not row_in_high_alarms[1][0] and not row_in_high_alarms[1][1]:\n",
    "                tn +=1\n",
    "                # print(\"tn\",tn)\n",
    "        \n",
    "        a_new_row = {\"TP\":tp,\"FN\":fn,\"FP\":fp,\"TN\":tn}\n",
    "        a_new_row_series = pd.Series(a_new_row,name=\"accuracy_high_alarms\")\n",
    "\n",
    "        accurracy_matrix_df_for_chunk_iteration = accurracy_matrix_df_for_chunk_iteration.append(a_new_row_series)\n",
    "\n",
    "        ##################\n",
    "        # Low alarms\n",
    "        ##################\n",
    "\n",
    "        # select column of dataframe but only where relevant (starting after train size)\n",
    "        df_for_chunk_iteration = dict_of_chunk_series_with_forecast_and_alarms[chunk][chunk_iteration]\n",
    "        \n",
    "        # select true low alarms triggered\n",
    "        column_index_of_low_alarm_triggered = df_for_chunk_iteration.columns.get_loc(\"low_alarm_triggered\")\n",
    "\n",
    "        # select predicted low alarms\n",
    "        column_index_of_low_alarm_triggered_forecast = df_for_chunk_iteration.columns.get_loc(\"low_alarm_triggered_forecast\")\n",
    "        \n",
    "        # create df with bot as column - only needed rows (test only)\n",
    "        low_alarms = df_for_chunk_iteration.iloc[TRAIN:,[column_index_of_low_alarm_triggered,column_index_of_low_alarm_triggered_forecast]]\n",
    "        \n",
    "        for row_in_low_alarms in low_alarms.iterrows():\n",
    "\n",
    "            if row_in_low_alarms[1][0] and row_in_low_alarms[1][1]:\n",
    "                tp +=1\n",
    "                # print(\"tp\", tp)\n",
    "            if row_in_low_alarms[1][0] and not row_in_low_alarms[1][1]:\n",
    "                fn +=1\n",
    "                # print(\"fn\", fn)\n",
    "            if not row_in_low_alarms[1][0] and row_in_low_alarms[1][1]:\n",
    "                fp +=1\n",
    "                # print(\"fp\", fp)\n",
    "            if not row_in_low_alarms[1][0] and not row_in_low_alarms[1][1]:\n",
    "                tn +=1\n",
    "                # print(\"tn\",tn)\n",
    "        \n",
    "        a_new_row = {\"TP\":tp,\"FN\":fn,\"FP\":fp,\"TN\":tn}\n",
    "        a_new_row_series = pd.Series(a_new_row,name=\"accuracy_low_alarms\")\n",
    "        \n",
    "        accurracy_matrix_df_for_chunk_iteration = accurracy_matrix_df_for_chunk_iteration.append(a_new_row_series)\n",
    "        accuracy_dict_for_chunk_iterations[chunk][chunk_iteration] = accurracy_matrix_df_for_chunk_iteration\n",
    "\n",
    "    \n"
   ]
  },
  {
   "cell_type": "code",
   "execution_count": 22,
   "metadata": {},
   "outputs": [
    {
     "output_type": "execute_result",
     "data": {
      "text/plain": [
       "{11:                      TP FN FP TN\n",
       " accuracy_high_alarms  0  0  0  2\n",
       " accuracy_low_alarms   0  0  0  4,\n",
       " 12:                      TP FN FP TN\n",
       " accuracy_high_alarms  0  0  0  2\n",
       " accuracy_low_alarms   0  0  0  4}"
      ]
     },
     "metadata": {},
     "execution_count": 22
    }
   ],
   "source": [
    "# Example to check for all iterations of one chunk\n",
    "accuracy_dict_for_chunk_iterations[chunk]"
   ]
  },
  {
   "source": [
    "## Documentation snippets\n",
    "\n",
    "so that they are not lost. to be updated"
   ],
   "cell_type": "markdown",
   "metadata": {}
  },
  {
   "cell_type": "code",
   "execution_count": null,
   "metadata": {},
   "outputs": [],
   "source": [
    "# Needed Adaption for following cell:\n",
    "# Change list_of_chunk_value_series from List to Dictionary\n",
    "# The CHUNK_ID is used as key and in this step one key holds three series: the vital parameter series, the low threshold series and the high threshold series. They need the same \"sampling rate\" - so that the high threshold with index 0 is the high threshold that applies at the time of the vital parameter with index 0 \n",
    "\n",
    "# Vital parameter Series:\n",
    "# index                       |     0 |    1  |   2   | ...\n",
    "# ----------------------------------------------------- ...\n",
    "# firstChunk - Vital Parameter|  95.0 |  90.5 |  91.0 | ...\n",
    "\n",
    "# Threshold High Series:\n",
    "# index                       |     0 |    1  |   2   | ...\n",
    "# ----------------------------------------------------- ...\n",
    "# firstChunk - Th. High       |  120.0 |  120.0 |  110.0 | ...\n",
    "\n",
    "# Threshold Low Series:\n",
    "# index                       |     0 |    1  |   2   | ...\n",
    "# ----------------------------------------------------- ...\n",
    "# firstChunk - Th. Low        |  70.0 |  70.0 |  60.0 | ..."
   ]
  },
  {
   "cell_type": "code",
   "execution_count": null,
   "metadata": {},
   "outputs": [],
   "source": [
    "# Needed Adaption for following cell:\n",
    "# Currently we only have a true values list and a predictions list. But we are not interested in whether the prediction is exactly the true value. We want to see if the prediction value also triggers an alarm if the true value does. Therefore we need the threshold values that apply at the time of the respective prediction/true value.\n",
    "# A Final version should hold the following informations that can be traced back to a specific Chunk ID:\n",
    "# * List of true values (vital parameters in test list)\n",
    "# * List of Threshold High (for the time at which the predictions take place)\n",
    "# * List of Threshold Low (for the time at which the predictions take place)\n",
    "# * Arima Predictions (the predictions for the true values based on the train values)\n",
    "\n",
    "# Our thoughts:\n",
    "# Currently prediction looks as follows (two colums as TRAIN is 2; two rows as two chunk_value_series are created for our chunk (containing 15 values)):\n",
    "\n",
    "#   | 0                                         | 1\n",
    "# 0 | first prediction for chunk_value_series 1 | second prediction for chunk_value_series 1\n",
    "# 1 | first prediction for chunk_value_series 2 | second prediction for chunk_value_series 2\n",
    "\n",
    "# We wanted to add the last index of the train_list and the CHUNK_ID in a nested way to these predictions so that we can trace them back to the thresholds that apply at the time of the prediction\n",
    "\n",
    "#   | CHUNK_ID | Time ref. | 0                                 | 1\n",
    "# 0 |  xxxx    | 11        | 1st pred. for chunk_value_series 1| 2nd pred. for chunk_value_series 1 \n",
    "# 1 |  xxxx    | 12        | 1st pred. for chunk_value_series 2| 2nd pred. for chunk_value_series 2\n"
   ]
  }
 ]
}