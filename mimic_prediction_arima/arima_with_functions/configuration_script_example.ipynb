{
 "cells": [
  {
   "cell_type": "markdown",
   "source": [
    "# Example for Configuration Script Example\r\n",
    "\r\n",
    "This script uses the following configurations:\r\n",
    "* library = darts\r\n",
    "* model = arimax\r\n",
    "* train size = 30\r\n",
    "* test size = 1\r\n",
    "* train size mode = steady\r\n",
    "* chunk amount = first2000\r\n",
    "* endogenous resampling method for High and Low\r\n",
    "* exogenous resampling method for High and Low"
   ],
   "metadata": {}
  },
  {
   "cell_type": "code",
   "execution_count": null,
   "source": [
    "import config\r\n",
    "from arima_x_functions import *\r\n",
    "from arima_functions import *\r\n",
    "from arimax_functions import *"
   ],
   "outputs": [],
   "metadata": {}
  },
  {
   "cell_type": "code",
   "execution_count": null,
   "source": [
    "path_to_data ='../arima_with_functions/'"
   ],
   "outputs": [],
   "metadata": {}
  },
  {
   "cell_type": "code",
   "execution_count": null,
   "source": [
    "save_user_input('darts','arimax',30,1,'steady','hr','first2000',['MEDIAN','MEDIAN'],['MAX','MIN'])\r\n"
   ],
   "outputs": [],
   "metadata": {}
  },
  {
   "cell_type": "code",
   "execution_count": null,
   "source": [
    "dict_of_chunk_series_with_test_and_train = read_preprocessed_dict(path_to_data)\r\n"
   ],
   "outputs": [],
   "metadata": {}
  },
  {
   "cell_type": "code",
   "execution_count": null,
   "source": [
    "if config.glob_arima_mode == 'arima':\r\n",
    "    accuracy_dict_for_chunk_iterations, dict_of_chunk_series_with_forecast_df, chunk_iterations_with_value_error = perform_alarm_forecast_with_arima_steady(dict_of_chunk_series_with_test_and_train)\r\n",
    "\r\n",
    "elif config.glob_arima_mode == 'arimax':\r\n",
    "    accuracy_dict_for_chunk_iterations, dict_of_chunk_series_with_forecast_df, chunk_iterations_with_value_error = perform_alarm_forecast_with_arimax_steady(dict_of_chunk_series_with_test_and_train)\r\n",
    "else:\r\n",
    "    print(\"Invalid User Input for arima_mode! Valid Inputs: 'arima' or 'arimax'.\")"
   ],
   "outputs": [],
   "metadata": {}
  },
  {
   "cell_type": "code",
   "execution_count": null,
   "source": [
    "write_accuracy_dictionary(path_to_data, accuracy_dict_for_chunk_iterations)\r\n"
   ],
   "outputs": [],
   "metadata": {}
  }
 ],
 "metadata": {
  "interpreter": {
   "hash": "270175ff721aec781fdbc8a1d4b7308a61bd00355c6e692a7959feec9ae58832"
  },
  "kernelspec": {
   "name": "python3",
   "display_name": "Python 3.8.8 64-bit ('base': conda)"
  },
  "language_info": {
   "codemirror_mode": {
    "name": "ipython",
    "version": 3
   },
   "file_extension": ".py",
   "mimetype": "text/x-python",
   "name": "python",
   "nbconvert_exporter": "python",
   "pygments_lexer": "ipython3",
   "version": "3.8.8"
  },
  "orig_nbformat": 4
 },
 "nbformat": 4,
 "nbformat_minor": 2
}