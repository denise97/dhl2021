{
 "cells": [
  {
   "cell_type": "code",
   "execution_count": null,
   "metadata": {},
   "outputs": [],
   "source": [
    "import pandas as pd\r\n",
    "import pyarrow as pa\r\n",
    "\r\n",
    "# Read arima-x forecast overview\r\n",
    "arima_x_forecast = pd.read_parquet('../data/arima-data_week15/arima-x_forecast_overview_first15000_2021-07-27T11-18-42.parquet', engine='pyarrow')"
   ]
  },
  {
   "cell_type": "code",
   "execution_count": null,
   "metadata": {},
   "outputs": [],
   "source": [
    "extended_df = arima_x_forecast.copy()"
   ]
  },
  {
   "cell_type": "code",
   "execution_count": null,
   "metadata": {},
   "outputs": [],
   "source": [
    "# Add Threat score/Critical Success Index\r\n",
    "# TS= TP/(TP+FN+FP)\r\n",
    "\r\n",
    "extended_df[\"TS\"] = extended_df[\"TP\"]/(extended_df[\"TP\"]+extended_df[\"FN\"]+extended_df[\"FP\"])\r\n"
   ]
  },
  {
   "cell_type": "code",
   "execution_count": null,
   "metadata": {},
   "outputs": [],
   "source": [
    "import numpy as np\r\n",
    "#Add Matthews correlation coefficient (MCC)\r\n",
    "#  √TPR×TNR×PPV×NPV − √FNR×FPR×FOR×FDR\r\n",
    "\r\n",
    "# First we need to calculate the helpers\r\n",
    "# * PPV: TP/(TP+FP) [positive predictive value]\r\n",
    "# * NPV: TN/(TN+FN) [negative predictive value]\r\n",
    "# * FOR: FN/(FN+TN) [false omission rate]\r\n",
    "# * FDR: FP/(FP+TP)  [false discovery rate]\r\n",
    "\r\n",
    "extended_df[\"PPV\"] = extended_df[\"TP\"]/(extended_df[\"TP\"]+extended_df[\"FP\"])\r\n",
    "extended_df[\"NPV\"] = extended_df[\"TN\"]/(extended_df[\"TN\"]+extended_df[\"FN\"])\r\n",
    "extended_df[\"FOR\"] = extended_df[\"FN\"]/(extended_df[\"FN\"]+extended_df[\"TN\"])\r\n",
    "extended_df[\"FDR\"] = extended_df[\"FP\"]/(extended_df[\"FP\"]+extended_df[\"TP\"])\r\n",
    "\r\n",
    "extended_df[\"MCC_firstPart\"] = np.sqrt((extended_df[\"TPR\"]*extended_df[\"TNR\"]*extended_df[\"PPV\"]*extended_df[\"NPV\"])) \r\n",
    "extended_df[\"MCC_secondPart\"] = np.sqrt((extended_df[\"FNR\"]*extended_df[\"FPR\"]*extended_df[\"FOR\"]*extended_df[\"FDR\"]))\r\n",
    "extended_df[\"MCC\"] = extended_df[\"MCC_firstPart\"] - extended_df[\"MCC_secondPart\"]\r\n",
    "\r\n",
    "# remove helpers\r\n",
    "extended_df = extended_df.drop(columns=[\"PPV\",\"NPV\",\"FOR\",\"FDR\",\"MCC_firstPart\",\"MCC_secondPart\"])\r\n"
   ]
  },
  {
   "cell_type": "code",
   "execution_count": null,
   "metadata": {},
   "outputs": [],
   "source": [
    "#Add weighted score from https://physionet.org/content/challenge-2015/1.0.0/\r\n",
    "#Original: (TP+TN)/(TP+TN+FP+5*FN)\r\n",
    "#Adapted: (TP)/(TP+FN+5*FP) \r\n",
    "# Adapted score weigths FP instead of FN and removes TN\r\n",
    "\r\n",
    "extended_df[\"WEIGHTED_SCORE_AA\"] = extended_df[\"TP\"]/(extended_df[\"TP\"]+extended_df[\"FN\"]+(5*extended_df[\"FP\"]))"
   ]
  },
  {
   "cell_type": "code",
   "execution_count": null,
   "metadata": {},
   "outputs": [],
   "source": [
    "extended_df.columns"
   ]
  },
  {
   "cell_type": "code",
   "execution_count": null,
   "metadata": {},
   "outputs": [],
   "source": [
    "extended_df = extended_df[['ID', 'PARAMETER', 'RUNTIME', 'MODEL', 'SCALED', 'LIBRARY','ENDOGENOUS', 'EXOGENOUS', 'FIRST_FORECAST', 'ALARM_TYPE',\r\n",
    " 'TP', 'FN','FP', 'TN', 'FPR', 'TPR', 'FNR', 'TNR', 'ACC', 'F1S','TS', 'MCC', 'WEIGHTED_SCORE_AA','N_CHUNKS','N_ITERATIONS']]"
   ]
  },
  {
   "cell_type": "code",
   "execution_count": null,
   "metadata": {},
   "outputs": [],
   "source": [
    "extended_df"
   ]
  },
  {
   "cell_type": "code",
   "execution_count": null,
   "metadata": {},
   "outputs": [],
   "source": [
    "# Write extended dataframe to parquet\r\n",
    "import datetime as dt\r\n",
    "timestamp = dt.datetime.today().strftime('%Y-%m-%dT%H-%M-%S')\r\n",
    "\r\n",
    "pd.DataFrame(extended_df).to_parquet('../data/arima-data_week15/arima-x_forecast_overview_first15000_' + timestamp + '_extended.parquet', engine='pyarrow')\r\n"
   ]
  }
 ],
 "metadata": {
  "language_info": {
   "name": "python",
   "nbconvert_exporter": "python"
  },
  "orig_nbformat": 4
 },
 "nbformat": 4,
 "nbformat_minor": 2
}