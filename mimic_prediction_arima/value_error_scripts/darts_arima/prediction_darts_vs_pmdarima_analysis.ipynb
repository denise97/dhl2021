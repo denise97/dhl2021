{
 "cells": [
  {
   "cell_type": "markdown",
   "metadata": {},
   "source": [
    "When comparing darts arima prediction we observe the following:\r\n",
    "* the arima model that was trained on the maximum resampling method forecasts a lower prediction than the arima model that was trained on the minimum resampling method\r\n",
    "* the arimax model that was trained on the maximum resampling method and the median resampling method as exog. series, the predicted value reduces even more in comparison to the arima model that was trained on the maximum resampling method"
   ]
  },
  {
   "cell_type": "code",
   "execution_count": 1,
   "metadata": {},
   "outputs": [
    {
     "name": "stdout",
     "output_type": "stream",
     "text": [
      "Start reading the input file.\n",
      "Reading of the input file completed after 0.01923 minutes.\n"
     ]
    }
   ],
   "source": [
    "import pickle\r\n",
    "import time\r\n",
    "import numpy\r\n",
    "\r\n",
    "starttime = time.time()\r\n",
    "print('Start reading the input file.')\r\n",
    "\r\n",
    "# Run for the one or the other\r\n",
    "# read dict with test chunk 200349.0_220045.0_2139-06-01 17:30:00 and steady train size 30\r\n",
    "input_file = open('dict_of_chunk_series_with_test_and_train_test_chunk.pickle', 'rb')\r\n",
    "dict_of_chunk_series_with_test_and_train = pickle.load(input_file)\r\n",
    "input_file.close()\r\n",
    "\r\n",
    "endtime = round(((time.time() - starttime) / 60), 5)\r\n",
    "print('Reading of the input file completed after '+str(endtime)+' minutes.')"
   ]
  },
  {
   "cell_type": "code",
   "execution_count": 2,
   "metadata": {},
   "outputs": [],
   "source": [
    "# generate example of two iterations for chunk 200349.0_220045.0_2139-06-01 17:30:00\r\n",
    "import copy\r\n",
    "dict_of_chunk_series_with_test_and_train_red = {}\r\n",
    "dict_of_chunk_series_with_test_and_train_red['200349.0_220045.0_2139-06-01 17:30:00'] = {}\r\n",
    "dict_of_chunk_series_with_test_and_train_red['200349.0_220045.0_2139-06-01 17:30:00'][29] = copy.deepcopy(dict_of_chunk_series_with_test_and_train['200349.0_220045.0_2139-06-01 17:30:00'][29])\r\n",
    "dict_of_chunk_series_with_test_and_train_red['200349.0_220045.0_2139-06-01 17:30:00'][30] = copy.deepcopy(dict_of_chunk_series_with_test_and_train['200349.0_220045.0_2139-06-01 17:30:00'][30])"
   ]
  },
  {
   "cell_type": "markdown",
   "metadata": {},
   "source": [
    "## High Alarm Forecast - Darts ARIMA\r\n"
   ]
  },
  {
   "cell_type": "code",
   "execution_count": 3,
   "metadata": {},
   "outputs": [],
   "source": [
    "#perform for high alarm\r\n",
    "import pandas as pd\r\n",
    "from darts import TimeSeries\r\n",
    "\r\n",
    "# generate train list for darts for one iteration\r\n",
    "chunk = '200349.0_220045.0_2139-06-01 17:30:00'\r\n",
    "chunk_iteration = 29\r\n",
    "current_train_list_high = dict_of_chunk_series_with_test_and_train_red[chunk][chunk_iteration][\"TRAIN_LIST_MAX\"] \r\n",
    "\r\n",
    "#adapt for darts - convert to TimeSeries\r\n",
    "current_train_df_high = current_train_list_high.to_frame()\r\n",
    "current_train_df_high.reset_index(level=0,inplace=True)\r\n",
    "start = 'Jan 1, 1970 00:00'\r\n",
    "current_train_df_high['timestamp'] = pd.to_datetime(current_train_df_high.index, origin=start, unit='h')\r\n",
    "current_train_list_darts_timeseries_high = TimeSeries.from_dataframe(current_train_df_high, 'timestamp', 'train_list_max')"
   ]
  },
  {
   "cell_type": "code",
   "execution_count": null,
   "metadata": {},
   "outputs": [],
   "source": [
    "# inspect time series - high\r\n",
    "current_train_list_darts_timeseries_high"
   ]
  },
  {
   "cell_type": "code",
   "execution_count": 7,
   "metadata": {},
   "outputs": [],
   "source": [
    "TEST = 1\r\n",
    "from darts.models import AutoARIMA\r\n",
    "arima_high = AutoARIMA(seasonal=False, suppress_warnings=True, error_action='ignore')\r\n",
    "arima_high.fit(current_train_list_darts_timeseries_high)\r\n",
    "forecast_arima_high = arima_high.predict(TEST)"
   ]
  },
  {
   "cell_type": "code",
   "execution_count": 8,
   "metadata": {},
   "outputs": [
    {
     "data": {
      "text/plain": [
       "                             0\n",
       "1970-01-02 06:00:00  62.907108\n",
       "Freq: H"
      ]
     },
     "execution_count": 8,
     "metadata": {},
     "output_type": "execute_result"
    }
   ],
   "source": [
    "forecast_arima_high\r\n",
    "# darts arima forecast for high: 62.9"
   ]
  },
  {
   "cell_type": "markdown",
   "metadata": {},
   "source": [
    "## Low Alarm Forecast - Darts ARIMA"
   ]
  },
  {
   "cell_type": "code",
   "execution_count": 9,
   "metadata": {},
   "outputs": [],
   "source": [
    "# perform for low alarm\r\n",
    "import pandas as pd\r\n",
    "from darts import TimeSeries\r\n",
    "\r\n",
    "# generate train list for darts for one iteration\r\n",
    "chunk = '200349.0_220045.0_2139-06-01 17:30:00'\r\n",
    "chunk_iteration = 29\r\n",
    "current_train_list_low = dict_of_chunk_series_with_test_and_train_red[chunk][chunk_iteration][\"TRAIN_LIST_MIN\"] \r\n",
    "\r\n",
    "#adapt for darts - convert to TimeSeries\r\n",
    "current_train_df_low = current_train_list_low.to_frame()\r\n",
    "current_train_df_low.reset_index(level=0,inplace=True)\r\n",
    "start = 'Jan 1, 1970 00:00'\r\n",
    "current_train_df_low['timestamp'] = pd.to_datetime(current_train_df_low.index, origin=start, unit='h')\r\n",
    "current_train_list_darts_timeseries_low = TimeSeries.from_dataframe(current_train_df_low, 'timestamp', 'train_list_min')\r\n"
   ]
  },
  {
   "cell_type": "code",
   "execution_count": null,
   "metadata": {},
   "outputs": [],
   "source": [
    "# inspect time series\r\n",
    "current_train_list_darts_timeseries_low"
   ]
  },
  {
   "cell_type": "code",
   "execution_count": 11,
   "metadata": {},
   "outputs": [],
   "source": [
    "TEST = 1\r\n",
    "from darts.models import AutoARIMA\r\n",
    "arima_low = AutoARIMA(seasonal=False, suppress_warnings=True, error_action='ignore')\r\n",
    "arima_low.fit(current_train_list_darts_timeseries_low)\r\n",
    "forecast_arima_low = arima_low.predict(TEST)"
   ]
  },
  {
   "cell_type": "code",
   "execution_count": 12,
   "metadata": {},
   "outputs": [
    {
     "data": {
      "text/plain": [
       "                        0\n",
       "1970-01-02 06:00:00  73.0\n",
       "Freq: H"
      ]
     },
     "execution_count": 12,
     "metadata": {},
     "output_type": "execute_result"
    }
   ],
   "source": [
    "forecast_arima_low\r\n",
    "# darts arima forecast for low: 73.0"
   ]
  },
  {
   "cell_type": "markdown",
   "metadata": {},
   "source": [
    "## High Alarm Forecast - Darts ARIMAX"
   ]
  },
  {
   "cell_type": "code",
   "execution_count": 13,
   "metadata": {},
   "outputs": [],
   "source": [
    "# test with exog\r\n",
    "chunk = '200349.0_220045.0_2139-06-01 17:30:00'\r\n",
    "chunk_iteration = 29\r\n",
    "current_train_list_high = dict_of_chunk_series_with_test_and_train_red[chunk][chunk_iteration][\"TRAIN_LIST_MAX\"]\r\n",
    "current_train_list_exog_high = dict_of_chunk_series_with_test_and_train_red[chunk][chunk_iteration][\"TRAIN_LIST_MEDIAN\"]\r\n",
    "current_test_list_exog_high = dict_of_chunk_series_with_test_and_train_red[chunk][chunk_iteration][\"TEST_LIST_MEDIAN\"]\r\n",
    "\r\n",
    "#adapt for darts - convert to TimeSeries - Train List Exog\r\n",
    "current_train_df_exog_high = current_train_list_exog_high.to_frame()\r\n",
    "current_train_df_exog_high.reset_index(level=0,inplace=True)\r\n",
    "start = 'Jan 1, 1970 00:00'\r\n",
    "current_train_df_exog_high['timestamp'] = pd.to_datetime(current_train_df_exog_high.index, origin=start, unit='h')\r\n",
    "current_train_list_darts_timeseries_exog_high = TimeSeries.from_dataframe(current_train_df_exog_high, 'timestamp', 'train_list_median')\r\n",
    "\r\n",
    "#adapt for darts - convert to TimeSeries - Test List Exog\r\n",
    "current_test_df_exog_high = current_test_list_exog_high.to_frame()\r\n",
    "current_test_df_exog_high.reset_index(level=0,inplace=True)\r\n",
    "start = 'Jan 1, 1970 00:00'\r\n",
    "current_test_df_exog_high['timestamp'] = pd.to_datetime(current_test_df_exog_high.index, origin=start, unit='h')\r\n",
    "current_test_list_darts_timeseries_exog_high = TimeSeries.from_dataframe(current_test_df_exog_high, 'timestamp', 'test_list_median', freq='H')\r\n",
    "\r\n",
    "from darts.models import AutoARIMA\r\n",
    "arimax_high = AutoARIMA(seasonal=False, suppress_warnings=True, error_action='ignore')\r\n",
    "arimax_high.fit(current_train_list_darts_timeseries_high, exog=current_train_list_darts_timeseries_exog_high)\r\n",
    "forecast_arimax_high = arimax_high.predict(TEST, exog=current_test_list_darts_timeseries_exog_high)"
   ]
  },
  {
   "cell_type": "code",
   "execution_count": 14,
   "metadata": {},
   "outputs": [
    {
     "data": {
      "text/plain": [
       "                            0\n",
       "1970-01-02 06:00:00  60.59797\n",
       "Freq: H"
      ]
     },
     "execution_count": 14,
     "metadata": {},
     "output_type": "execute_result"
    }
   ],
   "source": [
    "forecast_arimax_high\r\n",
    "# darts arimax forecast for high: 60.6"
   ]
  },
  {
   "cell_type": "markdown",
   "metadata": {},
   "source": [
    "## Compare to pmdarima"
   ]
  },
  {
   "cell_type": "code",
   "execution_count": 15,
   "metadata": {},
   "outputs": [],
   "source": [
    "\r\n",
    "#perform for high alarm\r\n",
    "import pandas as pd\r\n",
    "\r\n",
    "# generate train list \r\n",
    "chunk = '200349.0_220045.0_2139-06-01 17:30:00'\r\n",
    "chunk_iteration = 29\r\n",
    "current_train_list_high = dict_of_chunk_series_with_test_and_train_red[chunk][chunk_iteration][\"TRAIN_LIST_MAX\"] "
   ]
  },
  {
   "cell_type": "code",
   "execution_count": 16,
   "metadata": {},
   "outputs": [],
   "source": [
    "import pmdarima as pm\r\n",
    "\r\n",
    "TEST = 1\r\n",
    "\r\n",
    "arima_high_pm = pm.auto_arima(current_train_list_high, seasonal=False, suppress_warnings=True, error_action='ignore')\r\n",
    "forecast_arima_high_pm = pd.Series(arima_high_pm.predict(TEST))"
   ]
  },
  {
   "cell_type": "code",
   "execution_count": 17,
   "metadata": {},
   "outputs": [
    {
     "data": {
      "text/plain": [
       "0    62.907108\n",
       "dtype: float64"
      ]
     },
     "execution_count": 17,
     "metadata": {},
     "output_type": "execute_result"
    }
   ],
   "source": [
    "forecast_arima_high_pm\r\n",
    "# darts arima forecast for high: 62.9\r\n",
    "# pmd arima forecast for high: 62.9"
   ]
  },
  {
   "cell_type": "code",
   "execution_count": 18,
   "metadata": {},
   "outputs": [],
   "source": [
    "#perform for low alarm\r\n",
    "import pandas as pd\r\n",
    "\r\n",
    "# generate train list \r\n",
    "chunk = '200349.0_220045.0_2139-06-01 17:30:00'\r\n",
    "chunk_iteration = 29\r\n",
    "current_train_list_low = dict_of_chunk_series_with_test_and_train_red[chunk][chunk_iteration][\"TRAIN_LIST_MIN\"] "
   ]
  },
  {
   "cell_type": "code",
   "execution_count": 19,
   "metadata": {},
   "outputs": [],
   "source": [
    "import pmdarima as pm\r\n",
    "\r\n",
    "TEST = 1\r\n",
    "\r\n",
    "arima_low_pm = pm.auto_arima(current_train_list_low, seasonal=False, suppress_warnings=True, error_action='ignore')\r\n",
    "forecast_arima_low_pm = pd.Series(arima_low_pm.predict(TEST))"
   ]
  },
  {
   "cell_type": "code",
   "execution_count": 20,
   "metadata": {},
   "outputs": [
    {
     "data": {
      "text/plain": [
       "0    73.0\n",
       "dtype: float64"
      ]
     },
     "execution_count": 20,
     "metadata": {},
     "output_type": "execute_result"
    }
   ],
   "source": [
    "forecast_arima_low_pm\r\n",
    "# darts arima forecast for low: 73.0\r\n",
    "# pmd arima forecast for low: 73.0"
   ]
  },
  {
   "cell_type": "code",
   "execution_count": 23,
   "metadata": {},
   "outputs": [],
   "source": [
    "# test with exog\r\n",
    "chunk = '200349.0_220045.0_2139-06-01 17:30:00'\r\n",
    "chunk_iteration = 29\r\n",
    "current_train_list_high = dict_of_chunk_series_with_test_and_train_red[chunk][chunk_iteration][\"TRAIN_LIST_MAX\"]\r\n",
    "current_train_list_exog_high = dict_of_chunk_series_with_test_and_train_red[chunk][chunk_iteration][\"TRAIN_LIST_MEDIAN\"].values.reshape(-1, 1)\r\n",
    "current_test_list_exog_high = dict_of_chunk_series_with_test_and_train_red[chunk][chunk_iteration][\"TEST_LIST_MEDIAN\"].values.reshape(-1, 1)"
   ]
  },
  {
   "cell_type": "code",
   "execution_count": 24,
   "metadata": {},
   "outputs": [],
   "source": [
    "import pmdarima as pm\r\n",
    "\r\n",
    "TEST = 1\r\n",
    "arimax_high_pm = pm.auto_arima(current_train_list_high, X=current_train_list_exog_high,seasonal=False, suppress_warnings=True, error_action='ignore')\r\n",
    "forecast_arimax_high_pm = pd.Series(arimax_high_pm.predict(TEST, X=current_test_list_exog_high))"
   ]
  },
  {
   "cell_type": "code",
   "execution_count": 25,
   "metadata": {},
   "outputs": [
    {
     "data": {
      "text/plain": [
       "0    60.59797\n",
       "dtype: float64"
      ]
     },
     "execution_count": 25,
     "metadata": {},
     "output_type": "execute_result"
    }
   ],
   "source": [
    "forecast_arimax_high_pm\r\n",
    "# darts arimax forecast for high: 60.6\r\n",
    "# pmd arimax forecast for high: 60.6"
   ]
  }
 ],
 "metadata": {
  "interpreter": {
   "hash": "c24247fa39158f46a54dbb99bb8811b81cd84bf3c9aa6e8294d53a41a5837da9"
  },
  "kernelspec": {
   "display_name": "Python 3.7.4 64-bit ('base': conda)",
   "name": "python3"
  },
  "language_info": {
   "codemirror_mode": {
    "name": "ipython",
    "version": 3
   },
   "file_extension": ".py",
   "mimetype": "text/x-python",
   "name": "python",
   "nbconvert_exporter": "python",
   "pygments_lexer": "ipython3",
   "version": "3.7.4"
  },
  "orig_nbformat": 4
 },
 "nbformat": 4,
 "nbformat_minor": 2
}