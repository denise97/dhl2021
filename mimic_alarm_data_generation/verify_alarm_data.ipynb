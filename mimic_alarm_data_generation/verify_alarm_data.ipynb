{
 "cells": [
  {
   "cell_type": "markdown",
   "source": [
    "# Verification of Generated Alarm Data\n",
    "\n",
    "Goal: Verify alarm data generated with `generate_alarm_data.py` and chunked resp. non-chunked cleaned CHARTEVENTS.\n",
    "\n",
    "The cleaned CHARTEVENTS data set can be found on the server at `./data/chartevents_clean.parquet` and the chunked version can be found at `./data/chartevents_clean_values_and_thresholds_with_chunkid_65.parquet`."
   ],
   "metadata": {
    "collapsed": false,
    "pycharm": {
     "name": "#%% md\n"
    }
   }
  },
  {
   "cell_type": "markdown",
   "source": [
    "## Compare overall number of alarms"
   ],
   "metadata": {
    "collapsed": false
   }
  },
  {
   "cell_type": "code",
   "execution_count": null,
   "outputs": [],
   "source": [
    "import pandas as pd\n",
    "\n",
    "alarm_violations = pd.read_csv('../../data/alarms/alarm_violations.csv')\n",
    "print(\"Original #Alarms:\", len(alarm_violations))\n",
    "\n",
    "alarm_data = pd.read_csv('../../data/alarms/alarm_data.csv')\n",
    "print(\"#Alarms for Non-chunked Version:\", len(alarm_data))\n",
    "\n",
    "alarm_data_with_chunks = pd.read_csv('../../data/alarm_data_with_chunks_65.csv')\n",
    "print(\"#Alarms for Chunked Version:\", len(alarm_data_with_chunks))"
   ],
   "metadata": {
    "collapsed": false,
    "pycharm": {
     "name": "#%%\n"
    }
   }
  },
  {
   "cell_type": "markdown",
   "source": [
    "The number of alarms generated with the cleaned data sets of CHARTEVENTS with three parameters is less (285,350) than the number reached with all CHARTEVENTS with five parameters (388,209), which makes sense. Additionally, the cleaned data set has the same number of alarms, regardless of whether it has been chunked."
   ],
   "metadata": {
    "collapsed": false,
    "pycharm": {
     "name": "#%% md\n"
    }
   }
  },
  {
   "cell_type": "markdown",
   "source": [
    "## Investigate threshold types"
   ],
   "metadata": {
    "collapsed": false
   }
  },
  {
   "cell_type": "code",
   "execution_count": null,
   "outputs": [],
   "source": [
    "alarm_data_high = alarm_data[(alarm_data['THRESHOLD_TYPE'] == 'HIGH')]\n",
    "print(\"HIGH Alarms (Cleaned):\", len(alarm_data_high))\n",
    "\n",
    "alarm_data_low = alarm_data[(alarm_data['THRESHOLD_TYPE'] == 'LOW')]\n",
    "print(\"LOW Alarms (Cleaned):\", len(alarm_data_low))\n",
    "\n",
    "alarm_data_high_old = alarm_violations[(alarm_violations['THRESHOLD_TYPE'] == 'HIGH') & (alarm_violations['ITEMID'].isin([220045, 220179, 220277]))]\n",
    "print(\"HIGH Alarms (Original):\", len(alarm_data_high_old))\n",
    "\n",
    "alarm_data_low_old = alarm_violations[(alarm_violations['THRESHOLD_TYPE'] == 'LOW') & (alarm_violations['ITEMID'].isin([220045, 220179, 220277]))]\n",
    "print(\"LOW Alarms (Original):\", len(alarm_data_low_old))"
   ],
   "metadata": {
    "collapsed": false,
    "pycharm": {
     "name": "#%%\n"
    }
   }
  },
  {
   "cell_type": "code",
   "execution_count": null,
   "outputs": [],
   "source": [
    "import matplotlib.pyplot as plt\n",
    "import numpy as np\n",
    "import seaborn as sns\n",
    "\n",
    "alarms_by_itemid_type = alarm_data\\\n",
    "    .groupby(['ITEMID', 'THRESHOLD_TYPE'])\\\n",
    "    .size()\\\n",
    "    .reset_index(name='Count')\n",
    "alarms_by_itemid_type = alarms_by_itemid_type.pivot(index='ITEMID', columns='THRESHOLD_TYPE', values='Count')\n",
    "\n",
    "# define figure\n",
    "sns.set_style('whitegrid')\n",
    "fig, ax = plt.subplots(1, figsize=(16, 6))\n",
    "# numerical x\n",
    "x = np.arange(0, len(alarms_by_itemid_type.index))\n",
    "# plot bars\n",
    "plt.bar(x - 0.1, alarms_by_itemid_type['LOW'], width = 0.2, color = '#1D2F6F')\n",
    "plt.bar(x + 0.1, alarms_by_itemid_type['HIGH'], width = 0.2, color = '#8390FA')\n",
    "\n",
    "# x and y details\n",
    "plt.xlabel('ITEM ID',fontsize=16)\n",
    "plt.ylabel('Alarm Counts',fontsize=16)\n",
    "plt.xticks(x, alarms_by_itemid_type.index)\n",
    "\n",
    "# title and legend\n",
    "plt.title('Alarm Counts by ITEM ID and TYPE', fontsize=18)\n",
    "plt.legend(['LOW','HIGH'], loc='upper left', ncol = 2)\n",
    "\n",
    "plt.show()"
   ],
   "metadata": {
    "collapsed": false,
    "pycharm": {
     "name": "#%%\n"
    }
   }
  },
  {
   "cell_type": "markdown",
   "source": [
    "**HIGH alarms:** 155,664 -> 138,895\n",
    "\n",
    "**LOW alarms:** 159,290 -> 146,455\n",
    "\n",
    "The distribution of alarms per ITEMID and THRESHOLD_TYPE is comparable to the result with the original data set. Overall, both alarm types occur approximately equally often."
   ],
   "metadata": {
    "collapsed": false,
    "pycharm": {
     "name": "#%% md\n"
    }
   }
  },
  {
   "cell_type": "markdown",
   "source": [
    "## Check if all ICU stays have same number of alarms"
   ],
   "metadata": {
    "collapsed": false,
    "pycharm": {
     "name": "#%% md\n"
    }
   }
  },
  {
   "cell_type": "code",
   "execution_count": null,
   "outputs": [],
   "source": [
    "unique_icustays = pd.read_parquet('../../data/unique_icustays_in_chartevents_subset.parquet', engine='pyarrow')\n",
    "\n",
    "for icustay in unique_icustays.ICUSTAY_ID:\n",
    "    alarm_data_of_icustay = alarm_data[alarm_data['ICUSTAY_ID'] == icustay]\n",
    "    alarm_data_of_icustay_with_chunks = alarm_data_with_chunks[alarm_data_with_chunks['ICUSTAY_ID'] == icustay]\n",
    "\n",
    "    if len(alarm_data_of_icustay) != len(alarm_data_of_icustay_with_chunks):\n",
    "        print(f'ICUSTAY_ID {icustay} actually has {len(alarm_data_of_icustay)} alarms and {len(alarm_data_of_icustay_with_chunks)} alarms when chunked')"
   ],
   "metadata": {
    "collapsed": false,
    "pycharm": {
     "name": "#%%\n"
    }
   }
  },
  {
   "cell_type": "markdown",
   "source": [
    "All ICU stays have the same number of alarms, regardless of whether the cleaned CHARTEVENTS have been chunked."
   ],
   "metadata": {
    "collapsed": false,
    "pycharm": {
     "name": "#%% md\n"
    }
   }
  },
  {
   "cell_type": "markdown",
   "source": [
    "## Investigate alarms of single ICU stay\n",
    "\n",
    "Investigated several ICU stays, see slide deck \"Weekly_06\"."
   ],
   "metadata": {
    "collapsed": false,
    "pycharm": {
     "name": "#%% md\n"
    }
   }
  },
  {
   "cell_type": "code",
   "execution_count": null,
   "outputs": [],
   "source": [
    "# Variables to adjust\n",
    "selected_icustay = 299632\n",
    "selected_param = 'Blood Pressure'\n",
    "selected_param_itemids = [220179, 223752, 223751] # start with ITEMID of values\n",
    "selected_param_unit = 'Millimeter Mercury (mmHg)'\n",
    "with_chunked_alarms = False"
   ],
   "metadata": {
    "collapsed": false,
    "pycharm": {
     "name": "#%%\n"
    }
   }
  },
  {
   "cell_type": "code",
   "execution_count": null,
   "outputs": [],
   "source": [
    "filename_suffix = ''\n",
    "\n",
    "if with_chunked_alarms:\n",
    "    alarm_data_of_stay = alarm_data_with_chunks[(alarm_data_with_chunks['ICUSTAY_ID'] == selected_icustay) & (alarm_data_with_chunks['ITEMID'] == selected_param_itemids[0])]\n",
    "    filename_suffix = '_chunked'\n",
    "else:\n",
    "    alarm_data_of_stay = alarm_data[(alarm_data['ICUSTAY_ID'] == selected_icustay) & (alarm_data['ITEMID'] == selected_param_itemids[0])]\n",
    "\n",
    "print(alarm_data_of_stay.CHARTTIME)"
   ],
   "metadata": {
    "collapsed": false,
    "pycharm": {
     "name": "#%%\n"
    }
   }
  },
  {
   "cell_type": "code",
   "execution_count": null,
   "outputs": [],
   "source": [
    "chartevents = pd.read_parquet('../../data/chartevents_clean.parquet', engine='pyarrow')\n",
    "chartevents_of_stay = chartevents[(chartevents['ICUSTAY_ID'] == selected_icustay) & (chartevents['ITEMID'].isin(selected_param_itemids))]"
   ],
   "metadata": {
    "collapsed": false,
    "pycharm": {
     "name": "#%%\n"
    }
   }
  },
  {
   "cell_type": "code",
   "execution_count": null,
   "outputs": [],
   "source": [
    "import seaborn as sns\n",
    "import matplotlib.pyplot as plt\n",
    "\n",
    "# Set variables for plot\n",
    "title = f'History for Systolic {selected_param} of ICU Stay {selected_icustay}'\n",
    "xlabel = 'Time'\n",
    "ylabel = selected_param_unit\n",
    "plotdata = chartevents_of_stay\n",
    "xvalue = 'CHARTTIME'\n",
    "yvalue = 'VALUENUM_CLEAN'\n",
    "huevalue = 'ITEMID'\n",
    "\n",
    "# Config figure\n",
    "sns.set_style('whitegrid')\n",
    "fig, ax = plt.subplots(\n",
    "    figsize=(11, 5),\n",
    "    dpi=72 # e.g. 72 for screen, 300 for print\n",
    ")\n",
    "\n",
    "# Plot lines for values and its thresholds\n",
    "sns.lineplot(\n",
    "    data=plotdata,\n",
    "    x=xvalue,\n",
    "    y=yvalue,\n",
    "    hue=huevalue,\n",
    "    style=huevalue,\n",
    "    drawstyle='steps-post', # Interpolate missing values by using the last available value\n",
    "    markers=['p','^','v'],\n",
    "    markersize=5,\n",
    "    dashes=False,\n",
    "    palette=[sns.color_palette('colorblind')[1], sns.color_palette('colorblind')[2], sns.color_palette('colorblind')[0]])\n",
    "\n",
    "# Plot dotted vertical lines for alarms\n",
    "for alarm_time in alarm_data_of_stay.CHARTTIME:\n",
    "    plt.axvline(\n",
    "        x=pd.to_datetime(alarm_time),\n",
    "        linestyle='dotted',\n",
    "        color='r')\n",
    "\n",
    "# Configure legend\n",
    "plt.plot([], linestyle='dotted', color='r', label='Triggered Alarm')\n",
    "plt.legend(title=None, bbox_to_anchor=(1.02, 0.3), loc='upper left', borderaxespad=0)\n",
    "\n",
    "# Configure title and labels\n",
    "ax.set_title(title, fontweight='bold', color='black', fontsize=14, y=1.05)\n",
    "ax.set_xlabel(xlabel, fontsize=12, labelpad=15)\n",
    "ax.set_ylabel(ylabel, fontsize=12, labelpad=15)\n",
    "plt.xticks(rotation=45)\n",
    "\n",
    "# Plot figure\n",
    "plt.tight_layout()\n",
    "#plt.savefig(f'../plots/verified_alarm_data_{selected_param.lower().replace(' ', '_')}_for_stay_{selected_icustay}{filename_suffix}.png', dpi=1200)\n",
    "plt.show(fig)"
   ],
   "metadata": {
    "collapsed": false,
    "pycharm": {
     "name": "#%%\n"
    }
   }
  },
  {
   "cell_type": "markdown",
   "source": [
    "For all tested ICU stays, on the one hand sensible plots and on the other hand the same plots could be observed for chunked and non-chunked versions of cleaned CHARTEVENTS.\n"
   ],
   "metadata": {
    "collapsed": false,
    "pycharm": {
     "name": "#%% md\n"
    }
   }
  }
 ],
 "metadata": {
  "kernelspec": {
   "display_name": "Python 3",
   "language": "python",
   "name": "python3"
  },
  "language_info": {
   "codemirror_mode": {
    "name": "ipython",
    "version": 2
   },
   "file_extension": ".py",
   "mimetype": "text/x-python",
   "name": "python",
   "nbconvert_exporter": "python",
   "pygments_lexer": "ipython2",
   "version": "2.7.6"
  }
 },
 "nbformat": 4,
 "nbformat_minor": 0
}