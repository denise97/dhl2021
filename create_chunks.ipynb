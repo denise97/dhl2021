{
 "metadata": {
  "language_info": {
   "codemirror_mode": {
    "name": "ipython",
    "version": 3
   },
   "file_extension": ".py",
   "mimetype": "text/x-python",
   "name": "python",
   "nbconvert_exporter": "python",
   "pygments_lexer": "ipython3",
   "version": "3.7.4"
  },
  "orig_nbformat": 2,
  "kernelspec": {
   "name": "python374jvsc74a57bd0c24247fa39158f46a54dbb99bb8811b81cd84bf3c9aa6e8294d53a41a5837da9",
   "display_name": "Python 3.7.4 64-bit ('base': conda)"
  }
 },
 "nbformat": 4,
 "nbformat_minor": 2,
 "cells": [
  {
   "source": [
    "# Perform Chunking\n",
    "Based on the visual analysis, we derived two possible chunking options:\n",
    "* Chunk after 60 min difference to previous timestamp\n",
    "* Chunk after 120 min difference to previous timestamp\n",
    "\n",
    "After the discussion with the teaching team, we decided to **chunk after 65 min difference to the previous timestamp** with the possibility to adapt that in future"
   ],
   "cell_type": "markdown",
   "metadata": {}
  },
  {
   "source": [
    "## Add Timestamp of previous measurement and difference between timestamps to dataset"
   ],
   "cell_type": "markdown",
   "metadata": {}
  },
  {
   "cell_type": "code",
   "execution_count": 2,
   "metadata": {},
   "outputs": [],
   "source": [
    "import pandas as pd\n",
    "import pyarrow as pa\n",
    "\n",
    "# Read chartevents_subset from parquet file to pandas data frame\n",
    "chartevents_subset = pd.read_parquet('./data/chartevents_subset.parquet', engine='pyarrow')\n",
    "unique_icu_stays = pd.read_parquet('./data/unique_icustays_in_chartevents_subset.parquet', engine='pyarrow')"
   ]
  },
  {
   "cell_type": "code",
   "execution_count": 3,
   "metadata": {},
   "outputs": [],
   "source": [
    "#select ICU_stay ids for analysis\n",
    "icustayid_filter = unique_icu_stays.ICUSTAY_ID\n",
    "\n",
    "# Filter by ICU_stay\n",
    "chunk_analysis_data = chartevents_subset[chartevents_subset.ICUSTAY_ID.isin(icustayid_filter)].copy()"
   ]
  },
  {
   "cell_type": "code",
   "execution_count": 4,
   "metadata": {},
   "outputs": [
    {
     "output_type": "execute_result",
     "data": {
      "text/plain": [
       "6720055"
      ]
     },
     "metadata": {},
     "execution_count": 4
    }
   ],
   "source": [
    "# Sampling Rate Analysis is only being conducted on the values, not thresholds\n",
    "# Filter for item ids that refer to value\n",
    "itemids_for_values_filter = [220045, 220179, 220277]\n",
    "chunk_analysis_data = chunk_analysis_data[chunk_analysis_data.ITEMID.isin(itemids_for_values_filter)].copy()\n",
    "len(chunk_analysis_data)"
   ]
  },
  {
   "cell_type": "code",
   "execution_count": 5,
   "metadata": {},
   "outputs": [],
   "source": [
    "# Idea: Keep chunk_analysis_data as is, only add a new column that holds the previous timestamp, the difference can then be performed outside the loop\n",
    "# Prerequisite: Sorted Data by ICUSTAY_ID,ITEMID,CHARTTIME\n",
    "chunk_analysis_data['CHARTTIME_PREV'] = chunk_analysis_data.groupby(['ICUSTAY_ID','ITEMID'])['CHARTTIME'].shift(1)"
   ]
  },
  {
   "cell_type": "code",
   "execution_count": 6,
   "metadata": {},
   "outputs": [],
   "source": [
    "# Calculate difference between timestamps\n",
    "chunk_analysis_data['DIF_CHARTTIME_PREV'] = chunk_analysis_data['CHARTTIME']-chunk_analysis_data['CHARTTIME_PREV']\n",
    "chunk_analysis_data['DIF_CHARTTIME_PREV_S'] = chunk_analysis_data['DIF_CHARTTIME_PREV'].dt.total_seconds()\n",
    "chunk_analysis_data['DIF_CHARTTIME_PREV_MIN'] = divmod(chunk_analysis_data['DIF_CHARTTIME_PREV_S'], 60)[0]"
   ]
  },
  {
   "cell_type": "code",
   "execution_count": 7,
   "metadata": {},
   "outputs": [
    {
     "output_type": "execute_result",
     "data": {
      "text/plain": [
       "        ROW_ID  SUBJECT_ID   HADM_ID  ICUSTAY_ID    ITEMID  \\\n",
       "0   14005075.0     55973.0  152234.0    200001.0  220045.0   \n",
       "1   14005077.0     55973.0  152234.0    200001.0  220179.0   \n",
       "3   14005080.0     55973.0  152234.0    200001.0  220277.0   \n",
       "10  14005090.0     55973.0  152234.0    200001.0  220045.0   \n",
       "11  14005092.0     55973.0  152234.0    200001.0  220277.0   \n",
       "\n",
       "             CHARTTIME           STORETIME     CGID VALUE  VALUENUM VALUEUOM  \\\n",
       "0  2181-11-25 19:06:00 2181-11-25 19:17:00  20622.0   115     115.0      bpm   \n",
       "1  2181-11-25 19:08:00 2181-11-25 19:17:00  20622.0   113     113.0     mmHg   \n",
       "3  2181-11-25 19:14:00 2181-11-25 19:17:00  20622.0    94      94.0        %   \n",
       "10 2181-11-25 19:16:00 2181-11-25 19:16:00  20622.0   114     114.0      bpm   \n",
       "11 2181-11-25 19:16:00 2181-11-25 19:16:00  20622.0    95      95.0        %   \n",
       "\n",
       "    WARNING  ERROR RESULTSTATUS STOPPED      CHARTTIME_PREV  \\\n",
       "0       0.0    0.0         None    None                 NaT   \n",
       "1       0.0    0.0         None    None                 NaT   \n",
       "3       0.0    0.0         None    None                 NaT   \n",
       "10      0.0    0.0         None    None 2181-11-25 19:06:00   \n",
       "11      0.0    0.0         None    None 2181-11-25 19:14:00   \n",
       "\n",
       "   DIF_CHARTTIME_PREV  DIF_CHARTTIME_PREV_S  DIF_CHARTTIME_PREV_MIN  \n",
       "0                 NaT                   NaN                     NaN  \n",
       "1                 NaT                   NaN                     NaN  \n",
       "3                 NaT                   NaN                     NaN  \n",
       "10    0 days 00:10:00                 600.0                    10.0  \n",
       "11    0 days 00:02:00                 120.0                     2.0  "
      ],
      "text/html": "<div>\n<style scoped>\n    .dataframe tbody tr th:only-of-type {\n        vertical-align: middle;\n    }\n\n    .dataframe tbody tr th {\n        vertical-align: top;\n    }\n\n    .dataframe thead th {\n        text-align: right;\n    }\n</style>\n<table border=\"1\" class=\"dataframe\">\n  <thead>\n    <tr style=\"text-align: right;\">\n      <th></th>\n      <th>ROW_ID</th>\n      <th>SUBJECT_ID</th>\n      <th>HADM_ID</th>\n      <th>ICUSTAY_ID</th>\n      <th>ITEMID</th>\n      <th>CHARTTIME</th>\n      <th>STORETIME</th>\n      <th>CGID</th>\n      <th>VALUE</th>\n      <th>VALUENUM</th>\n      <th>VALUEUOM</th>\n      <th>WARNING</th>\n      <th>ERROR</th>\n      <th>RESULTSTATUS</th>\n      <th>STOPPED</th>\n      <th>CHARTTIME_PREV</th>\n      <th>DIF_CHARTTIME_PREV</th>\n      <th>DIF_CHARTTIME_PREV_S</th>\n      <th>DIF_CHARTTIME_PREV_MIN</th>\n    </tr>\n  </thead>\n  <tbody>\n    <tr>\n      <th>0</th>\n      <td>14005075.0</td>\n      <td>55973.0</td>\n      <td>152234.0</td>\n      <td>200001.0</td>\n      <td>220045.0</td>\n      <td>2181-11-25 19:06:00</td>\n      <td>2181-11-25 19:17:00</td>\n      <td>20622.0</td>\n      <td>115</td>\n      <td>115.0</td>\n      <td>bpm</td>\n      <td>0.0</td>\n      <td>0.0</td>\n      <td>None</td>\n      <td>None</td>\n      <td>NaT</td>\n      <td>NaT</td>\n      <td>NaN</td>\n      <td>NaN</td>\n    </tr>\n    <tr>\n      <th>1</th>\n      <td>14005077.0</td>\n      <td>55973.0</td>\n      <td>152234.0</td>\n      <td>200001.0</td>\n      <td>220179.0</td>\n      <td>2181-11-25 19:08:00</td>\n      <td>2181-11-25 19:17:00</td>\n      <td>20622.0</td>\n      <td>113</td>\n      <td>113.0</td>\n      <td>mmHg</td>\n      <td>0.0</td>\n      <td>0.0</td>\n      <td>None</td>\n      <td>None</td>\n      <td>NaT</td>\n      <td>NaT</td>\n      <td>NaN</td>\n      <td>NaN</td>\n    </tr>\n    <tr>\n      <th>3</th>\n      <td>14005080.0</td>\n      <td>55973.0</td>\n      <td>152234.0</td>\n      <td>200001.0</td>\n      <td>220277.0</td>\n      <td>2181-11-25 19:14:00</td>\n      <td>2181-11-25 19:17:00</td>\n      <td>20622.0</td>\n      <td>94</td>\n      <td>94.0</td>\n      <td>%</td>\n      <td>0.0</td>\n      <td>0.0</td>\n      <td>None</td>\n      <td>None</td>\n      <td>NaT</td>\n      <td>NaT</td>\n      <td>NaN</td>\n      <td>NaN</td>\n    </tr>\n    <tr>\n      <th>10</th>\n      <td>14005090.0</td>\n      <td>55973.0</td>\n      <td>152234.0</td>\n      <td>200001.0</td>\n      <td>220045.0</td>\n      <td>2181-11-25 19:16:00</td>\n      <td>2181-11-25 19:16:00</td>\n      <td>20622.0</td>\n      <td>114</td>\n      <td>114.0</td>\n      <td>bpm</td>\n      <td>0.0</td>\n      <td>0.0</td>\n      <td>None</td>\n      <td>None</td>\n      <td>2181-11-25 19:06:00</td>\n      <td>0 days 00:10:00</td>\n      <td>600.0</td>\n      <td>10.0</td>\n    </tr>\n    <tr>\n      <th>11</th>\n      <td>14005092.0</td>\n      <td>55973.0</td>\n      <td>152234.0</td>\n      <td>200001.0</td>\n      <td>220277.0</td>\n      <td>2181-11-25 19:16:00</td>\n      <td>2181-11-25 19:16:00</td>\n      <td>20622.0</td>\n      <td>95</td>\n      <td>95.0</td>\n      <td>%</td>\n      <td>0.0</td>\n      <td>0.0</td>\n      <td>None</td>\n      <td>None</td>\n      <td>2181-11-25 19:14:00</td>\n      <td>0 days 00:02:00</td>\n      <td>120.0</td>\n      <td>2.0</td>\n    </tr>\n  </tbody>\n</table>\n</div>"
     },
     "metadata": {},
     "execution_count": 7
    }
   ],
   "source": [
    "chunk_analysis_data.head()"
   ]
  },
  {
   "source": [
    "## Apply Chunking Rule\n"
   ],
   "cell_type": "markdown",
   "metadata": {}
  },
  {
   "cell_type": "code",
   "execution_count": 8,
   "metadata": {},
   "outputs": [],
   "source": [
    "chunking_dif = 65"
   ]
  },
  {
   "cell_type": "code",
   "execution_count": 9,
   "metadata": {},
   "outputs": [],
   "source": [
    "# reduce data to relevant columns to make validation easier\n",
    "#chunk_analysis_data = chunk_analysis_data[['ICUSTAY_ID','ITEMID','CHARTTIME','VALUENUM','VALUEUOM','CHARTTIME_PREV','DIF_CHARTTIME_PREV_MIN']]"
   ]
  },
  {
   "cell_type": "code",
   "execution_count": 10,
   "metadata": {},
   "outputs": [],
   "source": [
    "# select all rows where dif to prev measurement is >chunking dif\n",
    "chunk_data = chunk_analysis_data[chunk_analysis_data[\"DIF_CHARTTIME_PREV_MIN\"] > chunking_dif]"
   ]
  },
  {
   "cell_type": "code",
   "execution_count": 11,
   "metadata": {},
   "outputs": [
    {
     "output_type": "stream",
     "name": "stderr",
     "text": [
      "ipykernel_launcher:2: SettingWithCopyWarning: \nA value is trying to be set on a copy of a slice from a DataFrame.\nTry using .loc[row_indexer,col_indexer] = value instead\n\nSee the caveats in the documentation: https://pandas.pydata.org/pandas-docs/stable/user_guide/indexing.html#returning-a-view-versus-a-copy\n"
     ]
    }
   ],
   "source": [
    "# assign a unique chunking ID to these rows\n",
    "chunk_data[\"CHUNK_ID\"] = chunk_data.ICUSTAY_ID.map(str) + \"_\" + chunk_data.ITEMID.map(str) + \"_\" + chunk_data.CHARTTIME.map(str)"
   ]
  },
  {
   "cell_type": "code",
   "execution_count": 12,
   "metadata": {},
   "outputs": [
    {
     "output_type": "stream",
     "name": "stdout",
     "text": [
      "237226\n237226\n"
     ]
    }
   ],
   "source": [
    "# check uniqueness - can only be violated if multiple measurements for that itemid/icustayid occured at the same charttime\n",
    "print(len(chunk_data[\"CHUNK_ID\"].value_counts()))\n",
    "print(len(chunk_data))\n",
    "# uiqueness for this data set is given"
   ]
  },
  {
   "cell_type": "code",
   "execution_count": 13,
   "metadata": {},
   "outputs": [],
   "source": [
    "# only keep chunkid and index\n",
    "chunk_data_subset = chunk_data[\"CHUNK_ID\"]"
   ]
  },
  {
   "cell_type": "code",
   "execution_count": 14,
   "metadata": {},
   "outputs": [],
   "source": [
    "#merge back to all rows via index\n",
    "#no we have a data set that has a chunk_id at the beginning of each measurement that was conducted later than the chunking rule allows\n",
    "chunk_data_merged = pd.merge(chunk_analysis_data, chunk_data_subset,  how='left', left_index=True, right_index=True )"
   ]
  },
  {
   "cell_type": "code",
   "execution_count": 15,
   "metadata": {},
   "outputs": [],
   "source": [
    "# change sorting structure -  turn ITEMID and CHARTTIME around\n",
    "chunk_data_merged = chunk_data_merged.sort_values(by=['ICUSTAY_ID', 'ITEMID','CHARTTIME'])"
   ]
  },
  {
   "cell_type": "code",
   "execution_count": 16,
   "metadata": {},
   "outputs": [],
   "source": [
    "# Assign Chunk ID to first measurement of   ICUSTAY_ID/TEMID in case it does not already exist\n",
    "# Calculate min timestamp\n",
    "chunk_data_min = chunk_data_merged.groupby(['ICUSTAY_ID','ITEMID'])['CHARTTIME'].min()\n",
    "chunk_data_min_df = chunk_data_min.to_frame()\n",
    "chunk_data_min_df.reset_index(inplace=True)\n",
    "\n",
    "# for each first charttime (by ICUSTAYID/ITEEMID) create a chunk ID\n",
    "chunk_data_min_df[\"CHUNK_ID_MIN\"] = chunk_data_min_df.ICUSTAY_ID.map(str) + \"_\" + chunk_data_min_df.ITEMID.map(str) + \"_\" + chunk_data_min_df.CHARTTIME.map(str)"
   ]
  },
  {
   "cell_type": "code",
   "execution_count": 17,
   "metadata": {},
   "outputs": [],
   "source": [
    "# merge that back so we have a chunk id for each first Measurement (by ICUSTAYID/TEMID)\n",
    "chunk_data_merged_2 = pd.merge(chunk_data_merged, chunk_data_min_df,  how='left', on=['ICUSTAY_ID','ITEMID','CHARTTIME'])"
   ]
  },
  {
   "cell_type": "code",
   "execution_count": 18,
   "metadata": {},
   "outputs": [],
   "source": [
    "import numpy as np\n",
    "# if chunkIdMin not Nan,write chunk_id_min in chunk_id\n",
    "# #no we have a data set that has a chunk_id at the beginning of each measurement that was conducted later than the chunking rule allows as well as an initial chunk id\n",
    "chunk_data_merged_2['CHUNK_ID'] = np.where(chunk_data_merged_2['CHUNK_ID_MIN'].notnull(), chunk_data_merged_2['CHUNK_ID_MIN'], chunk_data_merged_2['CHUNK_ID'])"
   ]
  },
  {
   "cell_type": "code",
   "execution_count": 19,
   "metadata": {},
   "outputs": [],
   "source": [
    "chunk_data_merged_2 = chunk_data_merged_2.drop(columns='CHUNK_ID_MIN')"
   ]
  },
  {
   "cell_type": "code",
   "execution_count": 20,
   "metadata": {},
   "outputs": [],
   "source": [
    "# fill all cells with previous chunk id, until new chunk idea occurs\n",
    "#pre-requisite: data is sorted by ICUSTAY_ID & ITEMID\n",
    "chunk_data_merged_2['CHUNK_ID_FILLED'] = chunk_data_merged_2['CHUNK_ID'].fillna(method='ffill')"
   ]
  },
  {
   "cell_type": "code",
   "execution_count": 21,
   "metadata": {},
   "outputs": [
    {
     "output_type": "execute_result",
     "data": {
      "text/plain": [
       "             ROW_ID  SUBJECT_ID   HADM_ID  ICUSTAY_ID    ITEMID  \\\n",
       "0        14005075.0     55973.0  152234.0    200001.0  220045.0   \n",
       "1        14005090.0     55973.0  152234.0    200001.0  220045.0   \n",
       "2        14005105.0     55973.0  152234.0    200001.0  220045.0   \n",
       "3        14005111.0     55973.0  152234.0    200001.0  220045.0   \n",
       "4        14005117.0     55973.0  152234.0    200001.0  220045.0   \n",
       "...             ...         ...       ...         ...       ...   \n",
       "6720050  20563946.0     69587.0  158288.0    299998.0  220277.0   \n",
       "6720051  20563951.0     69587.0  158288.0    299998.0  220277.0   \n",
       "6720052  20563960.0     69587.0  158288.0    299998.0  220277.0   \n",
       "6720053  20563966.0     69587.0  158288.0    299998.0  220277.0   \n",
       "6720054  20563972.0     69587.0  158288.0    299998.0  220277.0   \n",
       "\n",
       "                  CHARTTIME           STORETIME     CGID VALUE  VALUENUM  \\\n",
       "0       2181-11-25 19:06:00 2181-11-25 19:17:00  20622.0   115     115.0   \n",
       "1       2181-11-25 19:16:00 2181-11-25 19:16:00  20622.0   114     114.0   \n",
       "2       2181-11-25 20:00:00 2181-11-25 22:02:00  21108.0   113     113.0   \n",
       "3       2181-11-25 21:00:00 2181-11-25 22:02:00  21108.0   108     108.0   \n",
       "4       2181-11-25 22:00:00 2181-11-25 22:02:00  21108.0   110     110.0   \n",
       "...                     ...                 ...      ...   ...       ...   \n",
       "6720050 2181-07-07 11:00:00 2181-07-07 11:15:00  18462.0    98      98.0   \n",
       "6720051 2181-07-07 12:00:00 2181-07-07 13:37:00  18462.0    96      96.0   \n",
       "6720052 2181-07-07 13:00:00 2181-07-07 13:37:00  18462.0    91      91.0   \n",
       "6720053 2181-07-07 14:00:00 2181-07-07 14:47:00  18462.0    96      96.0   \n",
       "6720054 2181-07-07 15:00:00 2181-07-07 15:23:00  18462.0    96      96.0   \n",
       "\n",
       "        VALUEUOM  WARNING  ERROR RESULTSTATUS STOPPED      CHARTTIME_PREV  \\\n",
       "0            bpm      0.0    0.0         None    None                 NaT   \n",
       "1            bpm      0.0    0.0         None    None 2181-11-25 19:06:00   \n",
       "2            bpm      0.0    0.0         None    None 2181-11-25 19:16:00   \n",
       "3            bpm      0.0    0.0         None    None 2181-11-25 20:00:00   \n",
       "4            bpm      0.0    0.0         None    None 2181-11-25 21:00:00   \n",
       "...          ...      ...    ...          ...     ...                 ...   \n",
       "6720050        %      0.0    0.0         None    None 2181-07-07 10:00:00   \n",
       "6720051        %      0.0    0.0         None    None 2181-07-07 11:00:00   \n",
       "6720052        %      0.0    0.0         None    None 2181-07-07 12:00:00   \n",
       "6720053        %      0.0    0.0         None    None 2181-07-07 13:00:00   \n",
       "6720054        %      0.0    0.0         None    None 2181-07-07 14:00:00   \n",
       "\n",
       "        DIF_CHARTTIME_PREV  DIF_CHARTTIME_PREV_S  DIF_CHARTTIME_PREV_MIN  \\\n",
       "0                      NaT                   NaN                     NaN   \n",
       "1          0 days 00:10:00                 600.0                    10.0   \n",
       "2          0 days 00:44:00                2640.0                    44.0   \n",
       "3          0 days 01:00:00                3600.0                    60.0   \n",
       "4          0 days 01:00:00                3600.0                    60.0   \n",
       "...                    ...                   ...                     ...   \n",
       "6720050    0 days 01:00:00                3600.0                    60.0   \n",
       "6720051    0 days 01:00:00                3600.0                    60.0   \n",
       "6720052    0 days 01:00:00                3600.0                    60.0   \n",
       "6720053    0 days 01:00:00                3600.0                    60.0   \n",
       "6720054    0 days 01:00:00                3600.0                    60.0   \n",
       "\n",
       "                                      CHUNK_ID  \n",
       "0        200001.0_220045.0_2181-11-25 19:06:00  \n",
       "1        200001.0_220045.0_2181-11-25 19:06:00  \n",
       "2        200001.0_220045.0_2181-11-25 19:06:00  \n",
       "3        200001.0_220045.0_2181-11-25 19:06:00  \n",
       "4        200001.0_220045.0_2181-11-25 19:06:00  \n",
       "...                                        ...  \n",
       "6720050  299998.0_220277.0_2181-07-06 20:00:00  \n",
       "6720051  299998.0_220277.0_2181-07-06 20:00:00  \n",
       "6720052  299998.0_220277.0_2181-07-06 20:00:00  \n",
       "6720053  299998.0_220277.0_2181-07-06 20:00:00  \n",
       "6720054  299998.0_220277.0_2181-07-06 20:00:00  \n",
       "\n",
       "[6720055 rows x 20 columns]"
      ],
      "text/html": "<div>\n<style scoped>\n    .dataframe tbody tr th:only-of-type {\n        vertical-align: middle;\n    }\n\n    .dataframe tbody tr th {\n        vertical-align: top;\n    }\n\n    .dataframe thead th {\n        text-align: right;\n    }\n</style>\n<table border=\"1\" class=\"dataframe\">\n  <thead>\n    <tr style=\"text-align: right;\">\n      <th></th>\n      <th>ROW_ID</th>\n      <th>SUBJECT_ID</th>\n      <th>HADM_ID</th>\n      <th>ICUSTAY_ID</th>\n      <th>ITEMID</th>\n      <th>CHARTTIME</th>\n      <th>STORETIME</th>\n      <th>CGID</th>\n      <th>VALUE</th>\n      <th>VALUENUM</th>\n      <th>VALUEUOM</th>\n      <th>WARNING</th>\n      <th>ERROR</th>\n      <th>RESULTSTATUS</th>\n      <th>STOPPED</th>\n      <th>CHARTTIME_PREV</th>\n      <th>DIF_CHARTTIME_PREV</th>\n      <th>DIF_CHARTTIME_PREV_S</th>\n      <th>DIF_CHARTTIME_PREV_MIN</th>\n      <th>CHUNK_ID</th>\n    </tr>\n  </thead>\n  <tbody>\n    <tr>\n      <th>0</th>\n      <td>14005075.0</td>\n      <td>55973.0</td>\n      <td>152234.0</td>\n      <td>200001.0</td>\n      <td>220045.0</td>\n      <td>2181-11-25 19:06:00</td>\n      <td>2181-11-25 19:17:00</td>\n      <td>20622.0</td>\n      <td>115</td>\n      <td>115.0</td>\n      <td>bpm</td>\n      <td>0.0</td>\n      <td>0.0</td>\n      <td>None</td>\n      <td>None</td>\n      <td>NaT</td>\n      <td>NaT</td>\n      <td>NaN</td>\n      <td>NaN</td>\n      <td>200001.0_220045.0_2181-11-25 19:06:00</td>\n    </tr>\n    <tr>\n      <th>1</th>\n      <td>14005090.0</td>\n      <td>55973.0</td>\n      <td>152234.0</td>\n      <td>200001.0</td>\n      <td>220045.0</td>\n      <td>2181-11-25 19:16:00</td>\n      <td>2181-11-25 19:16:00</td>\n      <td>20622.0</td>\n      <td>114</td>\n      <td>114.0</td>\n      <td>bpm</td>\n      <td>0.0</td>\n      <td>0.0</td>\n      <td>None</td>\n      <td>None</td>\n      <td>2181-11-25 19:06:00</td>\n      <td>0 days 00:10:00</td>\n      <td>600.0</td>\n      <td>10.0</td>\n      <td>200001.0_220045.0_2181-11-25 19:06:00</td>\n    </tr>\n    <tr>\n      <th>2</th>\n      <td>14005105.0</td>\n      <td>55973.0</td>\n      <td>152234.0</td>\n      <td>200001.0</td>\n      <td>220045.0</td>\n      <td>2181-11-25 20:00:00</td>\n      <td>2181-11-25 22:02:00</td>\n      <td>21108.0</td>\n      <td>113</td>\n      <td>113.0</td>\n      <td>bpm</td>\n      <td>0.0</td>\n      <td>0.0</td>\n      <td>None</td>\n      <td>None</td>\n      <td>2181-11-25 19:16:00</td>\n      <td>0 days 00:44:00</td>\n      <td>2640.0</td>\n      <td>44.0</td>\n      <td>200001.0_220045.0_2181-11-25 19:06:00</td>\n    </tr>\n    <tr>\n      <th>3</th>\n      <td>14005111.0</td>\n      <td>55973.0</td>\n      <td>152234.0</td>\n      <td>200001.0</td>\n      <td>220045.0</td>\n      <td>2181-11-25 21:00:00</td>\n      <td>2181-11-25 22:02:00</td>\n      <td>21108.0</td>\n      <td>108</td>\n      <td>108.0</td>\n      <td>bpm</td>\n      <td>0.0</td>\n      <td>0.0</td>\n      <td>None</td>\n      <td>None</td>\n      <td>2181-11-25 20:00:00</td>\n      <td>0 days 01:00:00</td>\n      <td>3600.0</td>\n      <td>60.0</td>\n      <td>200001.0_220045.0_2181-11-25 19:06:00</td>\n    </tr>\n    <tr>\n      <th>4</th>\n      <td>14005117.0</td>\n      <td>55973.0</td>\n      <td>152234.0</td>\n      <td>200001.0</td>\n      <td>220045.0</td>\n      <td>2181-11-25 22:00:00</td>\n      <td>2181-11-25 22:02:00</td>\n      <td>21108.0</td>\n      <td>110</td>\n      <td>110.0</td>\n      <td>bpm</td>\n      <td>0.0</td>\n      <td>0.0</td>\n      <td>None</td>\n      <td>None</td>\n      <td>2181-11-25 21:00:00</td>\n      <td>0 days 01:00:00</td>\n      <td>3600.0</td>\n      <td>60.0</td>\n      <td>200001.0_220045.0_2181-11-25 19:06:00</td>\n    </tr>\n    <tr>\n      <th>...</th>\n      <td>...</td>\n      <td>...</td>\n      <td>...</td>\n      <td>...</td>\n      <td>...</td>\n      <td>...</td>\n      <td>...</td>\n      <td>...</td>\n      <td>...</td>\n      <td>...</td>\n      <td>...</td>\n      <td>...</td>\n      <td>...</td>\n      <td>...</td>\n      <td>...</td>\n      <td>...</td>\n      <td>...</td>\n      <td>...</td>\n      <td>...</td>\n      <td>...</td>\n    </tr>\n    <tr>\n      <th>6720050</th>\n      <td>20563946.0</td>\n      <td>69587.0</td>\n      <td>158288.0</td>\n      <td>299998.0</td>\n      <td>220277.0</td>\n      <td>2181-07-07 11:00:00</td>\n      <td>2181-07-07 11:15:00</td>\n      <td>18462.0</td>\n      <td>98</td>\n      <td>98.0</td>\n      <td>%</td>\n      <td>0.0</td>\n      <td>0.0</td>\n      <td>None</td>\n      <td>None</td>\n      <td>2181-07-07 10:00:00</td>\n      <td>0 days 01:00:00</td>\n      <td>3600.0</td>\n      <td>60.0</td>\n      <td>299998.0_220277.0_2181-07-06 20:00:00</td>\n    </tr>\n    <tr>\n      <th>6720051</th>\n      <td>20563951.0</td>\n      <td>69587.0</td>\n      <td>158288.0</td>\n      <td>299998.0</td>\n      <td>220277.0</td>\n      <td>2181-07-07 12:00:00</td>\n      <td>2181-07-07 13:37:00</td>\n      <td>18462.0</td>\n      <td>96</td>\n      <td>96.0</td>\n      <td>%</td>\n      <td>0.0</td>\n      <td>0.0</td>\n      <td>None</td>\n      <td>None</td>\n      <td>2181-07-07 11:00:00</td>\n      <td>0 days 01:00:00</td>\n      <td>3600.0</td>\n      <td>60.0</td>\n      <td>299998.0_220277.0_2181-07-06 20:00:00</td>\n    </tr>\n    <tr>\n      <th>6720052</th>\n      <td>20563960.0</td>\n      <td>69587.0</td>\n      <td>158288.0</td>\n      <td>299998.0</td>\n      <td>220277.0</td>\n      <td>2181-07-07 13:00:00</td>\n      <td>2181-07-07 13:37:00</td>\n      <td>18462.0</td>\n      <td>91</td>\n      <td>91.0</td>\n      <td>%</td>\n      <td>0.0</td>\n      <td>0.0</td>\n      <td>None</td>\n      <td>None</td>\n      <td>2181-07-07 12:00:00</td>\n      <td>0 days 01:00:00</td>\n      <td>3600.0</td>\n      <td>60.0</td>\n      <td>299998.0_220277.0_2181-07-06 20:00:00</td>\n    </tr>\n    <tr>\n      <th>6720053</th>\n      <td>20563966.0</td>\n      <td>69587.0</td>\n      <td>158288.0</td>\n      <td>299998.0</td>\n      <td>220277.0</td>\n      <td>2181-07-07 14:00:00</td>\n      <td>2181-07-07 14:47:00</td>\n      <td>18462.0</td>\n      <td>96</td>\n      <td>96.0</td>\n      <td>%</td>\n      <td>0.0</td>\n      <td>0.0</td>\n      <td>None</td>\n      <td>None</td>\n      <td>2181-07-07 13:00:00</td>\n      <td>0 days 01:00:00</td>\n      <td>3600.0</td>\n      <td>60.0</td>\n      <td>299998.0_220277.0_2181-07-06 20:00:00</td>\n    </tr>\n    <tr>\n      <th>6720054</th>\n      <td>20563972.0</td>\n      <td>69587.0</td>\n      <td>158288.0</td>\n      <td>299998.0</td>\n      <td>220277.0</td>\n      <td>2181-07-07 15:00:00</td>\n      <td>2181-07-07 15:23:00</td>\n      <td>18462.0</td>\n      <td>96</td>\n      <td>96.0</td>\n      <td>%</td>\n      <td>0.0</td>\n      <td>0.0</td>\n      <td>None</td>\n      <td>None</td>\n      <td>2181-07-07 14:00:00</td>\n      <td>0 days 01:00:00</td>\n      <td>3600.0</td>\n      <td>60.0</td>\n      <td>299998.0_220277.0_2181-07-06 20:00:00</td>\n    </tr>\n  </tbody>\n</table>\n<p>6720055 rows × 20 columns</p>\n</div>"
     },
     "metadata": {},
     "execution_count": 21
    }
   ],
   "source": [
    "# remove columns that are obsolete now - only kept for validation purpose in previous steps\n",
    "chunk_data_merged_2 = chunk_data_merged_2.drop(columns='CHUNK_ID')\n",
    "chunk_data_merged_2.rename(columns={\"CHUNK_ID_FILLED\":\"CHUNK_ID\"})"
   ]
  },
  {
   "cell_type": "code",
   "execution_count": 23,
   "metadata": {},
   "outputs": [],
   "source": [
    "chunk_data_merged_2 = chunk_data_merged_2.drop(columns='DIF_CHARTTIME_PREV')"
   ]
  },
  {
   "cell_type": "code",
   "execution_count": 24,
   "metadata": {},
   "outputs": [],
   "source": [
    "# Save as parquet file\n",
    "pd.DataFrame(chunk_data_merged_2).to_parquet('./data/chartevent_subset_values_with_chunkid_' + str(chunking_dif) + '.parquet', engine='pyarrow')"
   ]
  },
  {
   "cell_type": "code",
   "execution_count": null,
   "metadata": {},
   "outputs": [],
   "source": []
  }
 ]
}