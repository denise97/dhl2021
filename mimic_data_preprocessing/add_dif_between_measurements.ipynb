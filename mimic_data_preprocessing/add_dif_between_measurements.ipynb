{
 "metadata": {
  "language_info": {
   "codemirror_mode": {
    "name": "ipython",
    "version": 3
   },
   "file_extension": ".py",
   "mimetype": "text/x-python",
   "name": "python",
   "nbconvert_exporter": "python",
   "pygments_lexer": "ipython3",
   "version": "3.7.4"
  },
  "orig_nbformat": 2,
  "kernelspec": {
   "name": "python374jvsc74a57bd0c24247fa39158f46a54dbb99bb8811b81cd84bf3c9aa6e8294d53a41a5837da9",
   "display_name": "Python 3.7.4 64-bit ('base': conda)"
  }
 },
 "nbformat": 4,
 "nbformat_minor": 2,
 "cells": [
  {
   "source": [],
   "cell_type": "markdown",
   "metadata": {}
  },
  {
   "source": [
    "# Expand Chartevents by Information about Time Difference to Next Measurement\n",
    "\n",
    "The new data frame shall be used further analyze the difference and derive possible chunking rules\n",
    "### Load and Prepare Data"
   ],
   "cell_type": "markdown",
   "metadata": {}
  },
  {
   "cell_type": "code",
   "execution_count": null,
   "metadata": {},
   "outputs": [],
   "source": [
    "import pandas as pd\n",
    "import pyarrow as pa\n",
    "import datetime as dt\n",
    "\n",
    "# Read chartevents_subset from parquet file to pandas data frame\n",
    "chartevents_subset = pd.read_parquet('./data/chartevents_subset.parquet', engine='pyarrow')\n",
    "unique_icu_stays = pd.read_parquet('./data/unique_icustays_in_chartevents_subset.parquet', engine='pyarrow')"
   ]
  },
  {
   "cell_type": "code",
   "execution_count": null,
   "metadata": {},
   "outputs": [],
   "source": [
    "# Select relevant ICUSTAY_ID for analysis - only the ones appearing for the analyzed ITEMIDs\n",
    "icustayid_filter = unique_icu_stays.ICUSTAY_ID\n",
    "\n",
    "# Filter by ICUSTAY_ID\n",
    "chunk_analysis_data = chartevents_subset[chartevents_subset.ICUSTAY_ID.isin(icustayid_filter)].copy()"
   ]
  },
  {
   "cell_type": "code",
   "execution_count": null,
   "metadata": {},
   "outputs": [],
   "source": [
    "# Sampling Rate Analysis is only being conducted on the values, not thresholds\n",
    "# Filter for ITEMIDs that refer to parameter value\n",
    "# Heart Rate: 220045 | NBP: 220179 | O2: 220277\n",
    "itemids_for_values_filter = [220045, 220179, 220277]\n",
    "chunk_analysis_data = chunk_analysis_data[chunk_analysis_data.ITEMID.isin(itemids_for_values_filter)].copy()\n",
    "len(chunk_analysis_data)\n"
   ]
  },
  {
   "source": [
    "### Create New Data Frame Columns for Analysis\n",
    "\n",
    "Example of relevant resulting data frame columns:\n",
    "\n",
    "ICUSTAY_ID  |  ITEMID  | CHARTTIME           | VALUENUM | **CHARTTIME_NEXT**         | **DIF_CHARTTIME_NEXT_MIN**\n",
    "\n",
    "20221       |   220045 | 2181-11-25T19:06:00 | 115      | 2181-11-25T19:16:00 10 | 10\n",
    "\n",
    "20221       |   220045 | 2181-11-25T19:16:00 | 113      | 2181-11-25T20:00:00 10 | 44"
   ],
   "cell_type": "markdown",
   "metadata": {}
  },
  {
   "source": [
    "Add Timestamp of Next Measurement as Column to Row of Current Measurement - CHARTTIME_NEXT \n"
   ],
   "cell_type": "markdown",
   "metadata": {}
  },
  {
   "cell_type": "code",
   "execution_count": null,
   "metadata": {},
   "outputs": [],
   "source": [
    "# Idea: Keep chunk_analysis_data as is, only add a new column that holds the next timestamp, the difference can then be performed outside the loop\n",
    "chunk_analysis_data['CHARTTIME_NEXT'] = chunk_analysis_data.groupby(['ICUSTAY_ID','ITEMID'])['CHARTTIME'].shift(-1)"
   ]
  },
  {
   "cell_type": "code",
   "execution_count": null,
   "metadata": {},
   "outputs": [],
   "source": [
    "# Quick Validation\n",
    "print(len(chunk_analysis_data))\n",
    "\n",
    "# Count NaN Values in CHARTTIME_NEXT  - We should have one NaN Value for each existing ICUSTAY_ID - ITEMID combination (the last one has no next)\n",
    "print(len(chunk_analysis_data.groupby(['ICUSTAY_ID','ITEMID']).size()))\n",
    "chunk_analysis_data.CHARTTIME_NEXT.isna().sum()"
   ]
  },
  {
   "source": [
    "Calculate Difference between Timestamps - DIF_CHARTTIME_NEXT_MIN"
   ],
   "cell_type": "markdown",
   "metadata": {}
  },
  {
   "cell_type": "code",
   "execution_count": null,
   "metadata": {},
   "outputs": [],
   "source": [
    "chunk_analysis_data['DIF_CHARTTIME_NEXT'] = chunk_analysis_data['CHARTTIME_NEXT']-chunk_analysis_data['CHARTTIME']\n",
    "chunk_analysis_data['DIF_CHARTTIME_NEXT_S'] = chunk_analysis_data['DIF_CHARTTIME_NEXT'].dt.total_seconds()\n",
    "chunk_analysis_data['DIF_CHARTTIME_NEXT_MIN'] = divmod(chunk_analysis_data['DIF_CHARTTIME_NEXT_S'], 60)[0]"
   ]
  },
  {
   "cell_type": "code",
   "execution_count": null,
   "metadata": {},
   "outputs": [],
   "source": [
    "chunk_analysis_data.head()"
   ]
  },
  {
   "cell_type": "code",
   "execution_count": null,
   "metadata": {},
   "outputs": [],
   "source": [
    "chunk_analysis_data_reduced = chunk_analysis_data[['ICUSTAY_ID','ITEMID','CHARTTIME','VALUENUM','VALUEUOM','CHARTTIME_NEXT','DIF_CHARTTIME_NEXT_MIN']]\n",
    "chunk_analysis_data_reduced.head()"
   ]
  },
  {
   "cell_type": "code",
   "execution_count": null,
   "metadata": {},
   "outputs": [],
   "source": [
    "#drop timedelta column as it can not be saved in parquet\n",
    "chunk_analysis_data = chunk_analysis_data.drop(columns='DIF_CHARTTIME_NEXT')"
   ]
  },
  {
   "cell_type": "code",
   "execution_count": null,
   "metadata": {},
   "outputs": [],
   "source": [
    "# Save as parquet file\n",
    "pd.DataFrame(chunk_analysis_data).to_parquet('./data/chunk_analysis_data.parquet', engine='pyarrow')"
   ]
  }
 ]
}