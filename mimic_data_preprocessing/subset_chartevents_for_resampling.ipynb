{
 "metadata": {
  "language_info": {
   "codemirror_mode": {
    "name": "ipython",
    "version": 3
   },
   "file_extension": ".py",
   "mimetype": "text/x-python",
   "name": "python",
   "nbconvert_exporter": "python",
   "pygments_lexer": "ipython3",
   "version": "3.9.0"
  },
  "orig_nbformat": 4,
  "kernelspec": {
   "name": "python3",
   "display_name": "Python 3.9.0 64-bit"
  },
  "interpreter": {
   "hash": "e2bfb1b1dd0bcdebdb315279aa118b1f834444d4ba3ba6d660e9f6ce7703f6a2"
  }
 },
 "nbformat": 4,
 "nbformat_minor": 2,
 "cells": [
  {
   "source": [
    "# Subset cleaned & chunked CHARTEVENTS for resampling\n",
    "\n",
    "... seperating by parameter to run the resampling script in parallel."
   ],
   "cell_type": "markdown",
   "metadata": {}
  },
  {
   "cell_type": "code",
   "execution_count": 1,
   "metadata": {},
   "outputs": [],
   "source": [
    "import pandas as pd\n",
    "import pyarrow as pa\n",
    "chartevents = pd.read_parquet('../data/chartevents_clean_values_and_thresholds_with_chunkid_65.parquet', engine='pyarrow')"
   ]
  },
  {
   "cell_type": "code",
   "execution_count": 2,
   "metadata": {},
   "outputs": [],
   "source": [
    "chartevents_hr = chartevents[chartevents.CHUNK_ID_FILLED_TH.str.contains('220045')]\n",
    "chartevents_bp = chartevents[chartevents.CHUNK_ID_FILLED_TH.str.contains('220179')]\n",
    "chartevents_o2 = chartevents[chartevents.CHUNK_ID_FILLED_TH.str.contains('220277')]"
   ]
  },
  {
   "cell_type": "code",
   "execution_count": 3,
   "metadata": {},
   "outputs": [],
   "source": [
    "unique_chunkids_hr = chartevents_hr.CHUNK_ID_FILLED_TH.unique()\n",
    "unique_chunkids_bp = chartevents_bp.CHUNK_ID_FILLED_TH.unique()\n",
    "unique_chunkids_o2 = chartevents_o2.CHUNK_ID_FILLED_TH.unique()"
   ]
  },
  {
   "cell_type": "code",
   "execution_count": 4,
   "metadata": {},
   "outputs": [
    {
     "output_type": "stream",
     "name": "stdout",
     "text": [
      "number of unique_chunkids_hr: 58197\nnumber of unique_chunkids_bp: 157138\nnumber of unique_chunkids_o2: 91688\n"
     ]
    }
   ],
   "source": [
    "print('number of unique_chunkids_hr:',len(unique_chunkids_hr))\n",
    "print('number of unique_chunkids_bp:',len(unique_chunkids_bp))\n",
    "print('number of unique_chunkids_o2:',len(unique_chunkids_o2))"
   ]
  },
  {
   "cell_type": "code",
   "execution_count": null,
   "metadata": {},
   "outputs": [],
   "source": [
    "chartevents_hr_first1000 = chartevents_hr[chartevents_hr.CHUNK_ID_FILLED_TH.isin(unique_chunkids_hr[:1000])]\n",
    "chartevents_bp_first1000 = chartevents_bp[chartevents_bp.CHUNK_ID_FILLED_TH.isin(unique_chunkids_bp[:1000])]\n",
    "chartevents_o2_first1000 = chartevents_o2[chartevents_o2.CHUNK_ID_FILLED_TH.isin(unique_chunkids_o2[:1000])]"
   ]
  },
  {
   "cell_type": "code",
   "execution_count": null,
   "metadata": {},
   "outputs": [],
   "source": [
    "import pandas as pd\n",
    "import pyarrow as pa\n",
    "\n",
    "chartevents_hr_first1000.to_parquet('../data/resample_input_hr_first1000.parquet', engine='pyarrow')\n",
    "chartevents_bp_first1000.to_parquet('../data/resample_input_bp_first1000.parquet', engine='pyarrow')\n",
    "chartevents_o2_first1000.to_parquet('../data/resample_input_o2_first1000.parquet', engine='pyarrow')"
   ]
  },
  {
   "cell_type": "code",
   "execution_count": null,
   "metadata": {},
   "outputs": [],
   "source": [
    "import pandas as pd\n",
    "import pyarrow as pa\n",
    "\n",
    "chartevents_hr.to_parquet('../data/resample_input_hr.parquet', engine='pyarrow')\n",
    "chartevents_bp.to_parquet('../data/resample_input_bp.parquet', engine='pyarrow')\n",
    "chartevents_o2.to_parquet('../data/resample_input_o2.parquet', engine='pyarrow')"
   ]
  }
 ]
}