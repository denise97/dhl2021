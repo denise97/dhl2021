{
 "metadata": {
  "language_info": {
   "codemirror_mode": {
    "name": "ipython",
    "version": 3
   },
   "file_extension": ".py",
   "mimetype": "text/x-python",
   "name": "python",
   "nbconvert_exporter": "python",
   "pygments_lexer": "ipython3",
   "version": "3.9.0"
  },
  "orig_nbformat": 2,
  "kernelspec": {
   "name": "python390jvsc74a57bd0e2bfb1b1dd0bcdebdb315279aa118b1f834444d4ba3ba6d660e9f6ce7703f6a2",
   "display_name": "Python 3.9.0 64-bit"
  },
  "metadata": {
   "interpreter": {
    "hash": "e2bfb1b1dd0bcdebdb315279aa118b1f834444d4ba3ba6d660e9f6ce7703f6a2"
   }
  }
 },
 "nbformat": 4,
 "nbformat_minor": 2,
 "cells": [
  {
   "source": [
    "# Resample cleaned chartevents chunks\n",
    "\n",
    "The purpose of this script is to resample the previously already cleaned and chunked CHARTEVENTS data.\n",
    "\n",
    "The vital parameter values series as well as the alarm threshold value series originally have an inconsistent sampling rate. However, for forecasting based on these data, a consistent sampling rate is required. Therefore, resampling is performed."
   ],
   "cell_type": "markdown",
   "metadata": {}
  },
  {
   "cell_type": "code",
   "execution_count": null,
   "metadata": {},
   "outputs": [],
   "source": [
    "import pandas as pd\n",
    "import pyarrow as pa\n",
    "\n",
    "# Read chartevents_clean_values_and_thresholds_with_chunkid_65 from parquet file\n",
    "chartevents_clean_values_and_thresholds_with_chunkid_65 = pd.read_parquet('../data/chartevents_clean_values_and_thresholds_with_chunkid_65.parquet', engine='pyarrow')"
   ]
  },
  {
   "cell_type": "code",
   "execution_count": null,
   "metadata": {},
   "outputs": [],
   "source": [
    "# Select rows with relevant ITEMIDs (only vital parameter values, no alarm threshold values) and\n",
    "# Select relevant columns\n",
    "chartevents_to_be_resampled = chartevents_clean_values_and_thresholds_with_chunkid_65[\n",
    "    chartevents_clean_values_and_thresholds_with_chunkid_65.ITEMID.isin([220045,220179,220277])][\n",
    "        ['CHUNK_ID_FILLED_TH','ICUSTAY_ID','ITEMID','CHARTTIME','VALUENUM_CLEAN']\n",
    "    ].copy()\n",
    "\n",
    "# Sort chartevents_to_be_resampled\n",
    "chartevents_to_be_resampled = chartevents_to_be_resampled.sort_values(by=['CHUNK_ID_FILLED_TH','ICUSTAY_ID','ITEMID','CHARTTIME'])\n",
    "\n",
    "display(chartevents_to_be_resampled)"
   ]
  },
  {
   "cell_type": "code",
   "execution_count": null,
   "metadata": {},
   "outputs": [],
   "source": [
    "# Resample vital parameter value series using different methods when downsampling (median and mean)\n",
    "\n",
    "# Resampling of VALUENUM_CLEAN with a frequency of 60 min (1 hour), using the median of the values when downsampling.\n",
    "chartevents_resampled_median = chartevents_to_be_resampled.groupby(\n",
    "    ['CHUNK_ID_FILLED_TH','ICUSTAY_ID','ITEMID', pd.Grouper(key='CHARTTIME', freq='1H')]\n",
    "    )['VALUENUM_CLEAN'].median().reset_index()\n",
    "\n",
    "# Resampling of VALUENUM_CLEAN with a frequency of 60 min (1 hour), using the mean of the values when downsampling.\n",
    "chartevents_resampled_mean = chartevents_to_be_resampled.groupby(\n",
    "    ['CHUNK_ID_FILLED_TH','ICUSTAY_ID','ITEMID', pd.Grouper(key='CHARTTIME', freq='1H')]\n",
    "    )['VALUENUM_CLEAN'].mean().reset_index()\n",
    "\n",
    "# See https://pandas.pydata.org/pandas-docs/stable/reference/api/pandas.Grouper.html for further info on pd.Grouper\n",
    "# Maybe interesting read: https://benalexkeen.com/resampling-time-series-data-with-pandas/"
   ]
  },
  {
   "cell_type": "code",
   "execution_count": null,
   "metadata": {},
   "outputs": [],
   "source": [
    "display(chartevents_resampled_median)"
   ]
  },
  {
   "cell_type": "code",
   "execution_count": null,
   "metadata": {},
   "outputs": [],
   "source": [
    "display(chartevents_resampled_mean)"
   ]
  },
  {
   "cell_type": "code",
   "execution_count": null,
   "metadata": {},
   "outputs": [],
   "source": [
    "import pandas as pd\n",
    "import pyarrow as pa\n",
    "\n",
    "# Save as parquet files\n",
    "# Filename suffix refers to the method used in downsampling (median or mean)\n",
    "chartevents_resampled_median.to_parquet('../data/chartevents_clean_values_and_thresholds_with_chunkid_65_resampled_median.parquet', engine='pyarrow')\n",
    "chartevents_resampled_mean.to_parquet('../data/chartevents_clean_values_and_thresholds_with_chunkid_65_resampled_mean.parquet', engine='pyarrow')"
   ]
  }
 ]
}