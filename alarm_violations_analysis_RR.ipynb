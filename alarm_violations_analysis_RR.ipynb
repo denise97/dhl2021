{
 "cells": [
  {
   "cell_type": "markdown",
   "metadata": {},
   "source": [
    "# Analysis of `alarm_violations.csv` for Respiratory Rate\n",
    "\n",
    "For each parameter ...\n",
    "* Concerning alarm violations ...\n",
    "  * Create a boxplot and stripplot based on the VALUENUM\n",
    "  * Clean the data if necessary\n",
    "  * Create histogram for cleaned VALUENUM  \n",
    "* Concerning alarm thresholds ...\n",
    "  * Create a boxplot and stripplot based on the THRESHOLD_VALUE (stratified by THRESHOLD_TYPE)\n",
    "  * Clean the data if necessary\n",
    "  * Create histogram for cleaned THRESHOLD_VALUE (stratified by THRESHOLD_TYPE)\n"
   ]
  },
  {
   "cell_type": "markdown",
   "metadata": {},
   "source": [
    "## Import Data"
   ]
  },
  {
   "cell_type": "code",
   "execution_count": null,
   "metadata": {},
   "outputs": [],
   "source": [
    "# Overview of libraries used\n",
    "import pandas as pd\n",
    "import seaborn as sns\n",
    "import matplotlib.pyplot as plt"
   ]
  },
  {
   "cell_type": "code",
   "execution_count": null,
   "metadata": {},
   "outputs": [],
   "source": [
    "alarm_violations = pd.read_csv('./alarm_violations.csv')\n",
    "alarm_violations.head()"
   ]
  },
  {
   "cell_type": "markdown",
   "metadata": {},
   "source": [
    "## Parameter: Respiratory Rate (Number of Breaths per Minute)\n",
    "\n",
    "* `220210` **Respiratory Rate** (RR), metavision, in insp/min (numeric)\n",
    "* `224161` **Resp Alarm - High** (Resp Alarm - High), metavision, in insp/min (numeric)\n",
    "* `224162` **Resp Alarm - Low** (Resp Alarm - Low), metavision, in insp/min (numeric)"
   ]
  },
  {
   "cell_type": "markdown",
   "metadata": {},
   "source": [
    "### Respiratory Rate - Alarm Violations"
   ]
  },
  {
   "cell_type": "code",
   "execution_count": null,
   "metadata": {},
   "outputs": [],
   "source": [
    "RR_violations = alarm_violations[(alarm_violations['ITEMID'] == 220210)]\n",
    "display(RR_violations)"
   ]
  },
  {
   "cell_type": "code",
   "execution_count": null,
   "metadata": {},
   "outputs": [],
   "source": [
    "RR_violations.VALUENUM.describe()"
   ]
  },
  {
   "cell_type": "code",
   "execution_count": null,
   "metadata": {},
   "outputs": [],
   "source": [
    "RR_violations.boxplot(column='VALUENUM')"
   ]
  },
  {
   "cell_type": "markdown",
   "metadata": {},
   "source": [
    "Among the VALUENUM values is a maximum respiratory rate of 2.355.555 insp/min.\n",
    "This appears to be at least one implausible outlier.\n",
    "\n",
    "Let's check whether the unit (VALUEUOM) is \"insp/min\" for all respiratory rates (what is expected according to `D_ITEMS.csv`)."
   ]
  },
  {
   "cell_type": "code",
   "execution_count": null,
   "metadata": {},
   "outputs": [],
   "source": [
    "RR_violations.VALUEUOM.unique()"
   ]
  },
  {
   "cell_type": "markdown",
   "metadata": {},
   "source": [
    "All respiratory rates are given in insp/min as expected.\n",
    "\n",
    "Let's check the literature to see what respiratory rates can be expected based on medical knowledge.\n",
    "\n",
    "* General range:\n",
    "    * for adults: 12 to 20 insp/min\n",
    "    * much higher for kids, especially for babies under 2 years (https://www.ncbi.nlm.nih.gov/pmc/articles/PMC3789232/figure/F2/)\n",
    "* Abnormal values for adults: (https://onlinelibrary.wiley.com/doi/full/10.5694/j.1326-5377.2008.tb01825.x?casa_token=UjZimsSmcVIAAAAA%3A2cMU2S0v9D15Mx72WCOms4LbCztCJ0_TnZIheDI-qZ8x8a0VU7HWBRs6TTv9SGoqfHC0fSf5ctnduwA&sid=nlm%3Apubmed)\n",
    "    * varies from over 14 to over 36 insp/min\n",
    "    * over 20 insp/min = probably unwell\n",
    "    * over 24  insp/min = likely to be critically ill\n",
    "* Maximum Breathing Capacity (MBC):\n",
    "    * \"...has been determined with various expiratory and respiratory resistances (singly and combined) at breathing rates of 4–196 per minute.\" (https://journals.physiology.org/doi/abs/10.1152/jappl.1957.11.1.79)\n",
    "\n",
    "Decision for now: Consider respiratory rates over 196 insp/min as implausible values to be removed before further analysis. In addition, assume a threshold range from 10 to 70 and remove the one extreme outlier."
   ]
  },
  {
   "cell_type": "code",
   "execution_count": null,
   "outputs": [],
   "source": [
    "RR_violations_without_outlier = RR_violations[RR_violations['VALUENUM'] < 4000]\n",
    "RR_violations_without_outlier.VALUENUM.describe()"
   ],
   "metadata": {
    "collapsed": false,
    "pycharm": {
     "name": "#%%\n"
    }
   }
  },
  {
   "cell_type": "code",
   "execution_count": null,
   "outputs": [],
   "source": [
    "sns.stripplot(data=RR_violations_without_outlier, x='VALUENUM').set_title('Respiratory Rate - Original Alarm Violations (without outlier)')"
   ],
   "metadata": {
    "collapsed": false,
    "pycharm": {
     "name": "#%%\n"
    }
   }
  },
  {
   "cell_type": "code",
   "execution_count": null,
   "outputs": [],
   "source": [
    "RR_violations_above_196 = RR_violations[RR_violations['VALUENUM'] > 196]\n",
    "RR_violations_above_196.VALUENUM.describe()"
   ],
   "metadata": {
    "collapsed": false,
    "pycharm": {
     "name": "#%%\n"
    }
   }
  },
  {
   "cell_type": "code",
   "execution_count": null,
   "outputs": [],
   "source": [
    "display(RR_violations_above_196.sort_values(by=['VALUENUM']))\n",
    "len(RR_violations_above_196) # 41 violations were removed"
   ],
   "metadata": {
    "collapsed": false,
    "pycharm": {
     "name": "#%%\n"
    }
   }
  },
  {
   "cell_type": "code",
   "execution_count": null,
   "outputs": [],
   "source": [
    "RR_violations_above_196 = RR_violations_above_196[RR_violations_above_196['VALUENUM'] < 4000]\n",
    "sns.stripplot(data=RR_violations_above_196, x='VALUENUM').set_title('Respiratory Rate - Removed Alarm Violations (without outlier)')\n",
    "RR_violations_above_196.VALUENUM.describe()"
   ],
   "metadata": {
    "collapsed": false,
    "pycharm": {
     "name": "#%%\n"
    }
   }
  },
  {
   "cell_type": "markdown",
   "metadata": {
    "pycharm": {
     "name": "#%% md\n"
    }
   },
   "source": [
    "There is one extreme outlier, 14 values over 914 and 26 values between 196 and 400.\n",
    "Maybe investigate jump from 400 to 914 and also keep values up to 400.\n",
    "\n",
    "### Respiratory Rate - Cleaned Alarm Violations"
   ]
  },
  {
   "cell_type": "code",
   "execution_count": null,
   "metadata": {},
   "outputs": [],
   "source": [
    "RR_violations_cleaned = RR_violations[RR_violations['VALUENUM'] <= 196]\n",
    "display(RR_violations_cleaned.sort_values(by=['VALUENUM']))\n",
    "RR_violations_cleaned.VALUENUM.describe()"
   ]
  },
  {
   "cell_type": "code",
   "execution_count": null,
   "metadata": {},
   "outputs": [],
   "source": [
    "sns.set_style('whitegrid')\n",
    "fig, axs = plt.subplots(1, 3, figsize=(25, 5))\n",
    "fig.suptitle('Respiratory Rate - Cleaned Alarm Violations', fontsize=18)\n",
    "\n",
    "sns.stripplot(data=RR_violations_cleaned, x='VALUENUM', ax=axs[0])\n",
    "axs[0].set_title('Scatter Plot')\n",
    "axs[0].set_xlabel('VALUENUM')\n",
    "\n",
    "sns.boxplot(data=RR_violations_cleaned, x='VALUENUM', ax=axs[1])\n",
    "axs[1].set_title('Boxplot')\n",
    "axs[1].set_xlabel('VALUENUM')\n",
    "\n",
    "sns.histplot(data=RR_violations_cleaned, x='VALUENUM', ax=axs[2])\n",
    "axs[2].set_title('Histogram')\n",
    "axs[2].set_xlabel('VALUENUM')\n",
    "\n",
    "plt.show(fig)"
   ]
  },
  {
   "cell_type": "markdown",
   "metadata": {},
   "source": [
    "### Respiratory Rate - Alarm Thresholds\n",
    "\n",
    "#### Respiratory Rate - HIGH Alarm Thresholds"
   ]
  },
  {
   "cell_type": "code",
   "execution_count": null,
   "metadata": {},
   "outputs": [],
   "source": [
    "RR_threshold_high = RR_violations[(RR_violations['THRESHOLD_TYPE'] == 'HIGH')]\n",
    "RR_threshold_high.THRESHOLD_VALUE.describe()"
   ]
  },
  {
   "cell_type": "code",
   "execution_count": null,
   "outputs": [],
   "source": [
    "sns.boxplot(data=RR_threshold_high, x='THRESHOLD_VALUE').set_title('Original HIGH Thresholds of Respiratory Rate')"
   ],
   "metadata": {
    "collapsed": false,
    "pycharm": {
     "name": "#%%\n"
    }
   }
  },
  {
   "cell_type": "markdown",
   "metadata": {},
   "source": [
    "The minimum value of the HIGH alarm thresholds is 0, which should be at least one unit bigger than minimal value 10. Let's check the suspiciously low HIGH alarm thresholds up to 10."
   ]
  },
  {
   "cell_type": "code",
   "execution_count": null,
   "metadata": {},
   "outputs": [],
   "source": [
    "RR_threshold_high_under_10 = RR_violations[(RR_violations['THRESHOLD_TYPE'] == 'HIGH') & (RR_violations['THRESHOLD_VALUE'] < 10)]\n",
    "sns.histplot(data=RR_threshold_high_under_10, x='THRESHOLD_VALUE').set_title('HIGH Thresholds of Respiratory Rate up to Value of 10')\n",
    "# Decided to remove them"
   ]
  },
  {
   "cell_type": "markdown",
   "source": [
    "The maximal value of HIGH alarm thresholds should be 36 according to the found literature. Let's check the HIGH alarm thresholds up to this value."
   ],
   "metadata": {
    "collapsed": false
   }
  },
  {
   "cell_type": "code",
   "execution_count": null,
   "outputs": [],
   "source": [
    "RR_threshold_high_over_36 = RR_violations[(RR_violations['THRESHOLD_TYPE'] == 'HIGH') & (RR_violations['THRESHOLD_VALUE'] > 36)]\n",
    "sns.histplot(data=RR_threshold_high_over_36, x='THRESHOLD_VALUE').set_title('HIGH Thresholds of Respiratory Rate with Values from 36 Onwards')\n",
    "# Decided to keep these values as babies and especially ICU patients can have much higher thresholds"
   ],
   "metadata": {
    "collapsed": false,
    "pycharm": {
     "name": "#%%\n"
    }
   }
  },
  {
   "cell_type": "code",
   "execution_count": null,
   "outputs": [],
   "source": [
    "RR_threshold_high_cleaned = RR_violations[(RR_violations['THRESHOLD_TYPE'] == 'HIGH') & (RR_violations['THRESHOLD_VALUE'] > 10)].sort_values(by=['THRESHOLD_VALUE'])\n",
    "display(RR_threshold_high_cleaned)\n",
    "RR_threshold_high_cleaned.THRESHOLD_VALUE.describe() # Ranges from 11 to 55 now"
   ],
   "metadata": {
    "collapsed": false,
    "pycharm": {
     "name": "#%%\n"
    }
   }
  },
  {
   "cell_type": "markdown",
   "source": [
    "#### Respiratory Rate - LOW Alarm Thresholds"
   ],
   "metadata": {
    "collapsed": false
   }
  },
  {
   "cell_type": "code",
   "execution_count": null,
   "outputs": [],
   "source": [
    "RR_threshold_low = RR_violations[(RR_violations['THRESHOLD_TYPE'] == 'LOW')].sort_values(by=['THRESHOLD_VALUE'])\n",
    "display(RR_threshold_low)\n",
    "RR_threshold_low.THRESHOLD_VALUE.describe()"
   ],
   "metadata": {
    "collapsed": false,
    "pycharm": {
     "name": "#%%\n"
    }
   }
  },
  {
   "cell_type": "markdown",
   "source": [
    "The minimum value of a LOW threshold is 1 which should be at least 10 because of found minimum in literature. The maximum value of a LOW threshold is 8.409.010 which is definitely too high und also much higher than the maximal HIGH threshold that is 55. Let's check how many values are too high."
   ],
   "metadata": {
    "collapsed": false,
    "pycharm": {
     "name": "#%% md\n"
    }
   }
  },
  {
   "cell_type": "code",
   "execution_count": null,
   "outputs": [],
   "source": [
    "RR_threshold_low_over_55 = RR_violations[(RR_violations['THRESHOLD_TYPE'] == 'LOW') & (RR_violations['THRESHOLD_VALUE'] > 55)].sort_values(by=['THRESHOLD_VALUE'])\n",
    "display(RR_threshold_low_over_55)\n",
    "RR_threshold_low_over_55.THRESHOLD_VALUE.describe()"
   ],
   "metadata": {
    "collapsed": false,
    "pycharm": {
     "name": "#%%\n"
    }
   }
  },
  {
   "cell_type": "markdown",
   "source": [
    "There seem to be two clusters among the definitely too high LOW thresholds - one around 835 with 103 values and one around 8,350,000 with 18 values."
   ],
   "metadata": {
    "collapsed": false,
    "pycharm": {
     "name": "#%% md\n"
    }
   }
  },
  {
   "cell_type": "code",
   "execution_count": null,
   "outputs": [],
   "source": [
    "RR_threshold_low_8mio = RR_violations[(RR_violations['THRESHOLD_TYPE'] == 'LOW') & (RR_violations['THRESHOLD_VALUE'] > 8300000) & (RR_violations['THRESHOLD_VALUE'] < 8500000)]\n",
    "RR_threshold_low_8mio.THRESHOLD_VALUE.describe()\n",
    "\n",
    "sns.histplot(data=RR_threshold_low_8mio, x='THRESHOLD_VALUE').set_title('Respiratory Rate - Original LOW Thresholds (Around 8.35 Mio)')"
   ],
   "metadata": {
    "collapsed": false,
    "pycharm": {
     "name": "#%%\n"
    }
   }
  },
  {
   "cell_type": "code",
   "execution_count": null,
   "outputs": [],
   "source": [
    "RR_threshold_low_800 = RR_violations[(RR_violations['THRESHOLD_TYPE'] == 'LOW') & (RR_violations['THRESHOLD_VALUE'] > 820) & (RR_violations['THRESHOLD_VALUE'] < 850)]\n",
    "RR_threshold_low_800.THRESHOLD_VALUE.describe()\n",
    "\n",
    "sns.histplot(data=RR_threshold_low_800, x='THRESHOLD_VALUE').set_title('Respiratory Rate - Original LOW Thresholds (Around 835)')"
   ],
   "metadata": {
    "collapsed": false,
    "pycharm": {
     "name": "#%%\n"
    }
   }
  },
  {
   "cell_type": "markdown",
   "source": [
    "The remaining 27,325 values range from 1 to 123."
   ],
   "metadata": {
    "collapsed": false
   }
  },
  {
   "cell_type": "code",
   "execution_count": null,
   "outputs": [],
   "source": [
    "RR_threshold_low_under_125 = RR_violations[(RR_violations['THRESHOLD_TYPE'] == 'LOW') & (RR_violations['THRESHOLD_VALUE'] < 125)]\n",
    "RR_threshold_low_under_125.THRESHOLD_VALUE.describe()\n",
    "\n",
    "sns.histplot(data=RR_threshold_low_under_125, x='THRESHOLD_VALUE').set_title('Respiratory Rate - Original LOW Thresholds (up to 123)')\n",
    "plt.ylim(0, 1700) # Ignore outlier (8) occuring 19,210 times"
   ],
   "metadata": {
    "collapsed": false,
    "pycharm": {
     "name": "#%%\n"
    }
   }
  },
  {
   "cell_type": "markdown",
   "source": [
    "As the LOW threshold always have to be higher than the HIGH threshold, LOW thresholds over 55 can be removed. Additionally, as already mentioned, LOW thresholds should be at least 10."
   ],
   "metadata": {
    "collapsed": false
   }
  },
  {
   "cell_type": "code",
   "execution_count": null,
   "outputs": [],
   "source": [
    "RR_threshold_low_cleaned = RR_violations[(RR_violations['THRESHOLD_TYPE'] == 'LOW') & (RR_violations['THRESHOLD_VALUE'] >= 10) & (RR_violations['THRESHOLD_VALUE'] < 55)].sort_values(by=['THRESHOLD_VALUE'])\n",
    "display(RR_threshold_low_cleaned)\n",
    "RR_threshold_low_cleaned.THRESHOLD_VALUE.describe() # Ranges from 10 to 50 now"
   ],
   "metadata": {
    "collapsed": false,
    "pycharm": {
     "name": "#%%\n"
    }
   }
  },
  {
   "cell_type": "markdown",
   "source": [
    "### Respiratory Rate - Cleaned Alarm Thresholds\n",
    "\n",
    "After data cleaning, the lower threshold (LOW) of the respiratory rate ranges from 10 to 50 and the upper threshold (HIGH) ranges from 11 to 55."
   ],
   "metadata": {
    "collapsed": false
   }
  },
  {
   "cell_type": "code",
   "execution_count": null,
   "outputs": [],
   "source": [
    "fig, axs = plt.subplots(2, 2, figsize=(20, 15))\n",
    "fig.suptitle('Respiratory Rate - Cleaned Thresholds', fontsize=18)\n",
    "\n",
    "sns.boxplot(data=RR_threshold_low_cleaned, x='THRESHOLD_VALUE', ax=axs[0][0])\n",
    "axs[0][0].set_title('Cleaned LOW Threshold')\n",
    "axs[0][0].set_xlabel('THRESHOLD_VALUE')\n",
    "\n",
    "sns.histplot(data=RR_threshold_low_cleaned, x='THRESHOLD_VALUE', ax=axs[0][1])\n",
    "axs[0][1].set_title('Cleaned LOW Threshold')\n",
    "axs[0][1].set_xlabel('THRESHOLD_VALUE')\n",
    "\n",
    "sns.boxplot(data=RR_threshold_high_cleaned, x='THRESHOLD_VALUE', ax=axs[1][0])\n",
    "axs[1][0].set_title('Cleaned HIGH Threshold')\n",
    "axs[1][0].set_xlabel('THRESHOLD_VALUE')\n",
    "\n",
    "sns.histplot(data=RR_threshold_high_cleaned, x='THRESHOLD_VALUE', ax=axs[1][1])\n",
    "axs[1][1].set_title('Cleaned HIGH Threshold')\n",
    "axs[1][1].set_xlabel('THRESHOLD_VALUE')\n",
    "\n",
    "plt.show(fig)"
   ],
   "metadata": {
    "collapsed": false,
    "pycharm": {
     "name": "#%%\n"
    }
   }
  },
  {
   "cell_type": "code",
   "execution_count": null,
   "outputs": [],
   "source": [
    "df = pd.concat(axis=0, ignore_index=True, objs=[\n",
    "    pd.DataFrame.from_dict({'THRESHOLD_VALUE': RR_threshold_low_cleaned['THRESHOLD_VALUE'], 'Threshold': 'LOW'}),\n",
    "    pd.DataFrame.from_dict({'THRESHOLD_VALUE': RR_threshold_high_cleaned['THRESHOLD_VALUE'], 'Threshold': 'HIGH'})\n",
    "])\n",
    "\n",
    "fig, ax = plt.subplots()\n",
    "fig.suptitle('Respiratory Rate - Cleaned Thresholds', fontsize=12)\n",
    "sns.histplot(data=df, x='THRESHOLD_VALUE', hue='Threshold', multiple='dodge', bins=range(10, 60, 5), ax=ax)\n",
    "ax.set_xlabel('THRESHOLD_VALUE (bin size = 5)')\n",
    "\n",
    "plt.ylim(0, 2500)\n",
    "for p in ax.patches:\n",
    "    if p.get_height() > 2200:\n",
    "        ax.text(x=p.get_x(), y=2200, s=p.get_height())\n",
    "    else:\n",
    "        ax.text(x=p.get_x(), y=p.get_height(), s=p.get_height())"
   ],
   "metadata": {
    "collapsed": false,
    "pycharm": {
     "name": "#%%\n"
    }
   }
  }
 ],
 "metadata": {
  "kernelspec": {
   "display_name": "Python 3",
   "language": "python",
   "name": "python3"
  },
  "language_info": {
   "codemirror_mode": {
    "name": "ipython",
    "version": 3
   },
   "file_extension": ".py",
   "mimetype": "text/x-python",
   "name": "python",
   "nbconvert_exporter": "python",
   "pygments_lexer": "ipython3",
   "version": "3.7.7"
  },
  "metadata": {
   "interpreter": {
    "hash": "e2bfb1b1dd0bcdebdb315279aa118b1f834444d4ba3ba6d660e9f6ce7703f6a2"
   }
  }
 },
 "nbformat": 4,
 "nbformat_minor": 2
}