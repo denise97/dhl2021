{
 "cells": [
  {
   "cell_type": "markdown",
   "source": [
    "# Medication Analysis\n",
    "\n",
    "**Assumption:** Alarms before and after which a medication was administered are relevant\n",
    "\n",
    "**Goal:** Analyze medication tables in MIMIC-III to prepare for indication of relevant alarms\n",
    "\n",
    "In MIMIC-III, three tables contain information on medication - `PRESCRIPTIONS`, `INPUTEVENTS_MV` and `INPUTEVENTS_CV`. For our use case, only the first two are of interest, as we are currently only looking at data from ICU stays that were created with the MetaVision system. \"Part A\" for `PRESCRIPTIONS.csv` can be found in `/mimic_medication_analysis/prescriptions_analysis.ipynb`."
   ],
   "metadata": {
    "collapsed": false
   }
  },
  {
   "cell_type": "markdown",
   "source": [
    "## Part B: Analyze INPUTEVENTS_MV.csv"
   ],
   "metadata": {
    "collapsed": false
   }
  },
  {
   "cell_type": "markdown",
   "source": [
    "`INPUTEVENTS_MV.csv` needs to be investigated because \"inputs and outputs are extremely useful when studying intensive care unit patients. Inputs are any fluids which have been administered to the patient: such as oral or tube feedings or **intravenous solutions containing medications**.\" (see [MIMIC-III documentation](https://mimic.physionet.org/mimicdata/io/))\n",
    "\n",
    "Certain ITEMIDs in `INPUTEVENTS_MV` hide medications and thus should be figured out and analyzed."
   ],
   "metadata": {
    "collapsed": false
   }
  },
  {
   "cell_type": "markdown",
   "source": [
    "### Extract Relevant ITEMIDs"
   ],
   "metadata": {
    "collapsed": false
   }
  },
  {
   "cell_type": "code",
   "execution_count": null,
   "outputs": [],
   "source": [
    "import dask.dataframe as dd\n",
    "from dask.diagnostics import ProgressBar\n",
    "\n",
    "# Data types based on MIMIC schema specification https://mit-lcp.github.io/mimic-schema-spy/tables/inputevents_mv.html\n",
    "# Problem: Complicated use of integer data types with NaNs in Pandas, see https://pandas.pydata.org/pandas-docs/stable/user_guide/gotchas.html#nan-integer-na-values-and-na-type-promotions\n",
    "# Decision: Decision: Integers are read in as 'float64' and strings as 'object'\n",
    "d_items = dd.read_csv('../data/mimic-iii-clinical-database-1.4/D_ITEMS.csv', dtype={\n",
    "    'ROW_ID': 'float64', # int according to specification\n",
    "    'ITEMID': 'float64', # int according to specification\n",
    "    'LABEL': 'object', # varchar according to specification\n",
    "    'ABBREVIATION': 'object', # varchar according to specification\n",
    "    'DBSOURCE': 'object', # varchar according to specification\n",
    "    'LINKSTO': 'object', # varchar according to specification\n",
    "    'CATEGORY': 'object', # varchar according to specification\n",
    "    'UNITNAME': 'object', # varchar according to specification\n",
    "    'PARAM_TYPE': 'object', # varchar according to specification\n",
    "    'CONCEPTID': 'float64' # int according to specification\n",
    "})\n",
    "\n",
    "with ProgressBar():\n",
    "    # Filter for ITEMIDs from INPUTEVENTS_MV\n",
    "    medication_items = d_items[d_items['LINKSTO'] == 'inputevents_mv']\n",
    "\n",
    "    # Filter by categories clearly related to medications (disregard \"Fluids - Other (Not In Use)\" because it also includes liquid and special nutrition)\n",
    "    medication_items = medication_items[medication_items['CATEGORY'].isin(['Medications', 'Blood Products/Colloids', 'Antibiotics'])]\n",
    "\n",
    "    # Apply the previously defined commands to the Dask DataFrame, resulting in the desired Pandas DataFrame\n",
    "    medication_items = medication_items.compute()"
   ],
   "metadata": {
    "collapsed": false,
    "pycharm": {
     "name": "#%%\n"
    }
   }
  },
  {
   "cell_type": "markdown",
   "source": [
    "### Read and Pre-Filter INPUTEVENTS_MV.csv"
   ],
   "metadata": {
    "collapsed": false
   }
  },
  {
   "cell_type": "code",
   "execution_count": null,
   "outputs": [],
   "source": [
    "import pandas as pd\n",
    "import dask.dataframe as dd\n",
    "from dask.diagnostics import ProgressBar\n",
    "\n",
    "# Data types based on MIMIC schema specification https://mit-lcp.github.io/mimic-schema-spy/tables/inputevents_mv.html\n",
    "# Problem: Complicated use of integer data types with NaNs in Pandas, see https://pandas.pydata.org/pandas-docs/stable/user_guide/gotchas.html#nan-integer-na-values-and-na-type-promotions\n",
    "# Decision: Decision: Floats and integers are read in as 'float64', strings as 'object', and timestamps via Dask's parse_dates provided for this purpose\n",
    "inputevents = dd.read_csv('../data/mimic-iii-clinical-database-1.4/INPUTEVENTS_MV.csv', parse_dates=['STARTTIME', 'ENDTIME', 'STORETIME', 'COMMENTS_DATE'], dtype={\n",
    "    'ROW_ID': 'float64', # int4 according to specification\n",
    "    'SUBJECT_ID': 'float64', # int4 according to specification\n",
    "    'HADM_ID': 'float64', # int4 according to specification\n",
    "    'ICUSTAY_ID': 'float64', # int4 according to specification\n",
    "\n",
    "    'ITEMID': 'float64', # int4 according to specification\n",
    "    'AMOUNT': 'float64', # float8 according to specification\n",
    "    'AMOUNTUOM': 'object', # varchar according to specification\n",
    "    'RATE': 'float64', # float8 according to specification\n",
    "    'RATEUOM': 'object', # varchar according to specification\n",
    "\n",
    "    'CGID': 'float64', # int4 according to specification\n",
    "    'ORDERID': 'float64', # int4 according to specification\n",
    "    'LINKORDERID': 'float64', # int4 according to specification\n",
    "    'ORDERCATEGORYNAME': 'object', # varchar according to specification\n",
    "    'SECONDARYORDERCATEGORYNAME': 'object', # varchar according to specification\n",
    "    'ORDERCOMPONENTTYPEDESCRIPTION': 'object', # varchar according to specification\n",
    "    'ORDERCATEGORYDESCRIPTION': 'object', # varchar according to specification\n",
    "\n",
    "    'PATIENTWEIGHT': 'float64', # float8 according to specification\n",
    "    'TOTALAMOUNT': 'float64', # float8 according to specification\n",
    "    'TOTALAMOUNTUOM': 'object', # varchar according to specification\n",
    "\n",
    "    'ISOPENBAG': 'float64', # int2 according to specification\n",
    "    'CONTINUEINNEXTDEPT': 'float64', # int2 according to specification\n",
    "    'CANCELREASON': 'float64', # int2 according to specification\n",
    "    'STATUSDESCRIPTION': 'object', # varchar according to specification\n",
    "    'COMMENTS_STATUS': 'object', # varchar according to specification\n",
    "    'COMMENTS_TITLE': 'object', # varchar according to specification\n",
    "    'ORIGINALAMOUNT': 'float64', # float8 according to specification\n",
    "    'ORIGINALRATE': 'float64' # float8 according to specification\n",
    "})\n",
    "\n",
    "# Get all relevant ICU stays\n",
    "unique_ICU_stays = pd.read_parquet('../data/unique_icustays_in_chartevents_subset.parquet', engine='pyarrow')\n",
    "\n",
    "with ProgressBar():\n",
    "    # Extract relevant columns\n",
    "    inputevents_subset = inputevents[['ICUSTAY_ID', 'STARTTIME', 'ENDTIME', 'ITEMID', 'AMOUNT', 'AMOUNTUOM', 'RATE', 'RATEUOM', 'STORETIME', 'ORDERID', 'LINKORDERID', 'ORDERCATEGORYNAME', 'SECONDARYORDERCATEGORYNAME', 'ORDERCOMPONENTTYPEDESCRIPTION', 'ORDERCATEGORYDESCRIPTION' , 'TOTALAMOUNT', 'TOTALAMOUNTUOM', 'STATUSDESCRIPTION', 'ORIGINALAMOUNT', 'ORIGINALRATE']]\n",
    "\n",
    "    # Filter by ICUSTAY_IDs\n",
    "    inputevents_subset = inputevents_subset[inputevents_subset.ICUSTAY_ID.isin(unique_ICU_stays.ICUSTAY_ID)]\n",
    "\n",
    "    # Drop rows without ICUSTAY_ID\n",
    "    inputevents_subset = inputevents_subset.dropna(how='any', subset=['ICUSTAY_ID'])\n",
    "\n",
    "    # Reduce ITEMIDs to the ones whose categories are clearly related to medications\n",
    "    inputevents_subset = inputevents_subset[inputevents_subset['ITEMID'].isin(medication_items.ITEMID.unique())]\n",
    "\n",
    "    # Apply the previously defined commands to the Dask DataFrame, resulting in the desired Pandas DataFrame\n",
    "    inputevents_subset = inputevents_subset.compute()"
   ],
   "metadata": {
    "collapsed": false,
    "pycharm": {
     "name": "#%%\n"
    }
   }
  },
  {
   "cell_type": "markdown",
   "source": [
    "### Check for NaN Entries"
   ],
   "metadata": {
    "collapsed": false
   }
  },
  {
   "cell_type": "code",
   "execution_count": null,
   "outputs": [],
   "source": [
    "inputevents_subset.isna().any()"
   ],
   "metadata": {
    "collapsed": false,
    "pycharm": {
     "name": "#%%\n"
    }
   }
  },
  {
   "cell_type": "code",
   "execution_count": null,
   "outputs": [],
   "source": [
    "# Drop rows with TOTALAMOUNT = NaN because it should always be set (also removes all NaN values in TOTALAMOUNTUOM)\n",
    "inputevents_subset = inputevents_subset[inputevents_subset.TOTALAMOUNT.notnull()]\n",
    "inputevents_subset.isna().any()"
   ],
   "metadata": {
    "collapsed": false,
    "pycharm": {
     "name": "#%%\n"
    }
   }
  },
  {
   "cell_type": "markdown",
   "source": [
    "### Add Time Difference Column & Check for Valid Dates"
   ],
   "metadata": {
    "collapsed": false
   }
  },
  {
   "cell_type": "code",
   "execution_count": null,
   "outputs": [],
   "source": [
    "# Calculate difference betweeen STARTTIME and ENDTIME\n",
    "inputevents_subset['DURATION_IN_MIN'] = (pd.to_datetime(inputevents_subset['ENDTIME']) - pd.to_datetime(inputevents_subset['STARTTIME'])) / pd.Timedelta(minutes=1)\n",
    "\n",
    "inputevents_subset.head()"
   ],
   "metadata": {
    "collapsed": false,
    "pycharm": {
     "name": "#%%\n"
    }
   }
  },
  {
   "cell_type": "code",
   "execution_count": null,
   "outputs": [],
   "source": [
    "# Remove negative durations (STARTTIME after ENDTIME)\n",
    "inputevents_subset = inputevents_subset[inputevents_subset['DURATION_IN_MIN'] >= 0]"
   ],
   "metadata": {
    "collapsed": false,
    "pycharm": {
     "name": "#%%\n"
    }
   }
  },
  {
   "cell_type": "markdown",
   "source": [
    "### Create Parquet File 'inputevents_based_medications'"
   ],
   "metadata": {
    "collapsed": false
   }
  },
  {
   "cell_type": "code",
   "execution_count": null,
   "outputs": [],
   "source": [
    "# Sort rows for better overview\n",
    "inputevents_subset = inputevents_subset.sort_values(by=['ICUSTAY_ID', 'STARTTIME','ENDTIME', 'ITEMID'])\n",
    "\n",
    "# Reset index\n",
    "inputevents_subset = inputevents_subset.reset_index(drop=True)\n",
    "\n",
    "# Save as parquet file\n",
    "pd.DataFrame(inputevents_subset).to_parquet('../data/inputevents_based_medications.parquet', engine='pyarrow')"
   ],
   "metadata": {
    "collapsed": false,
    "pycharm": {
     "name": "#%%\n"
    }
   }
  },
  {
   "cell_type": "markdown",
   "source": [
    "### Check if Relevant ITEMIDs are also Recorded in CHARTEVENTS.csv"
   ],
   "metadata": {
    "collapsed": false
   }
  },
  {
   "cell_type": "code",
   "execution_count": null,
   "outputs": [],
   "source": [
    "import dask.dataframe as dd\n",
    "from dask.diagnostics import ProgressBar\n",
    "\n",
    "chartevents = dd.read_csv('../data/mimic-iii-clinical-database-1.4/CHARTEVENTS.csv', parse_dates=['CHARTTIME','STORETIME'], dtype={\n",
    "    'ROW_ID': 'float64', # int4 according to specification\n",
    "    'SUBJECT_ID': 'float64', # int4 according to specification\n",
    "    'HADM_ID': 'float64', # int4 according to specification\n",
    "    'ICUSTAY_ID': 'float64', # int4 according to specification\n",
    "    'ITEMID': 'float64', # int4 according to specification\n",
    "    'CGID': 'float64', # int4 according to specification\n",
    "    'VALUE': 'object',\n",
    "    'VALUENUM': 'float64', # float8 according to specification\n",
    "    'VALUEUOM': 'object',\n",
    "    'WARNING': 'float64', # int4 according to specification\n",
    "    'ERROR': 'float64', # int4 according to specification\n",
    "    'RESULTSTATUS': 'object',\n",
    "    'STOPPED': 'object'})\n",
    "\n",
    "with ProgressBar():\n",
    "    # Filter by ITEMIDs\n",
    "    chartevents_medications = chartevents[chartevents.ITEMID.isin(inputevents_subset.ITEMID.unique())]\n",
    "\n",
    "    # Drop rows without ICUSTAY_ID\n",
    "    chartevents_medications = chartevents_medications.dropna(how='any', subset=['ICUSTAY_ID'])\n",
    "\n",
    "    # Keep only the rows for which no error occurred, which is coded by a 0. (5584 rows are dropped because the boolean ERROR column equals 1, indicating an error.)\n",
    "    chartevents_medications = chartevents_medications[chartevents_medications.ERROR.isin([0])]\n",
    "\n",
    "    # Apply the previously defined commands to the Dask DataFrame, resulting in the desired Pandas DataFrame.\n",
    "    chartevents_medications = chartevents_medications.compute()\n",
    "\n",
    "# Sort the rows (not essential, but gives a better overview)\n",
    "chartevents_medications = chartevents_medications.sort_values(by=['ICUSTAY_ID', 'CHARTTIME','ITEMID'])\n",
    "\n",
    "# Reset index\n",
    "chartevents_medications = chartevents_medications.reset_index(drop=True)\n",
    "\n",
    "# Test if relevant ITEMIDs are in CHARTEVENTS\n",
    "len(chartevents_medications.index) # 0"
   ],
   "metadata": {
    "collapsed": false,
    "pycharm": {
     "name": "#%%\n"
    }
   }
  },
  {
   "cell_type": "markdown",
   "source": [
    "None of the relevant ITEMIDs are in CHARTEVENTS, which means that further analyses with these IDs can be based solely on the `inputevents_based_medications.parquet` file."
   ],
   "metadata": {
    "collapsed": false
   }
  },
  {
   "cell_type": "markdown",
   "source": [
    "### Plot: Distribution of Status"
   ],
   "metadata": {
    "collapsed": false
   }
  },
  {
   "cell_type": "code",
   "execution_count": null,
   "outputs": [],
   "source": [
    "import pandas as pd\n",
    "\n",
    "inputevents_medication = pd.read_parquet('../data/inputevents_based_medications.parquet', engine='pyarrow')\n",
    "inputevents_medication.info() # 1282499 entries"
   ],
   "metadata": {
    "collapsed": false,
    "pycharm": {
     "name": "#%%\n"
    }
   }
  },
  {
   "cell_type": "code",
   "execution_count": null,
   "outputs": [],
   "source": [
    "status_input = inputevents_medication\\\n",
    "    .groupby(['STATUSDESCRIPTION'])\\\n",
    "    .size()\\\n",
    "    .reset_index(name='Count')"
   ],
   "metadata": {
    "collapsed": false,
    "pycharm": {
     "name": "#%%\n"
    }
   }
  },
  {
   "cell_type": "code",
   "execution_count": null,
   "outputs": [],
   "source": [
    "import seaborn as sns\n",
    "import matplotlib.pyplot as plt\n",
    "\n",
    "# Set variables\n",
    "title = 'Distribution of Status'\n",
    "plotdata = status_input\n",
    "xvalue = 'STATUSDESCRIPTION'\n",
    "xlabel = 'Status'\n",
    "yvalue = 'Count'\n",
    "\n",
    "# Actual plot\n",
    "sns.set_style('whitegrid')\n",
    "sns.barplot(\n",
    "    data=plotdata,\n",
    "    x=xvalue,\n",
    "    y=yvalue,\n",
    "    color=sns.color_palette('colorblind')[0])\n",
    "plt.title(title, fontsize=18)\n",
    "plt.xlabel(xlabel, fontsize=16)\n",
    "plt.ylabel(yvalue, fontsize=16)\n",
    "plt.xticks(rotation=45)\n",
    "\n",
    "plt.tight_layout()\n",
    "plt.show()"
   ],
   "metadata": {
    "collapsed": false,
    "pycharm": {
     "name": "#%%\n"
    }
   }
  },
  {
   "cell_type": "markdown",
   "source": [
    "### Plot: Distribution of Ordercategory"
   ],
   "metadata": {
    "collapsed": false
   }
  },
  {
   "cell_type": "code",
   "execution_count": null,
   "outputs": [],
   "source": [
    "categories_input = inputevents_medication\\\n",
    "    .groupby(['ORDERCATEGORYNAME'])\\\n",
    "    .size()\\\n",
    "    .reset_index(name='Count')"
   ],
   "metadata": {
    "collapsed": false,
    "pycharm": {
     "name": "#%%\n"
    }
   }
  },
  {
   "cell_type": "code",
   "execution_count": null,
   "outputs": [],
   "source": [
    "import seaborn as sns\n",
    "import matplotlib.pyplot as plt\n",
    "\n",
    "# Set variables\n",
    "title = 'Distribution of Ordercategories'\n",
    "plotdata = categories_input\n",
    "xvalue = 'ORDERCATEGORYNAME'\n",
    "xlabel = 'Ordercategory'\n",
    "yvalue = 'Count'\n",
    "\n",
    "# Actual plot\n",
    "sns.set_style('whitegrid')\n",
    "sns.barplot(\n",
    "    data=plotdata,\n",
    "    x=xvalue,\n",
    "    y=yvalue,\n",
    "    color=sns.color_palette('colorblind')[0])\n",
    "plt.title(title, fontsize=18)\n",
    "plt.xlabel(xlabel, fontsize=16)\n",
    "plt.ylabel(yvalue, fontsize=16)\n",
    "plt.xticks(rotation=90)\n",
    "\n",
    "plt.tight_layout()\n",
    "plt.show()"
   ],
   "metadata": {
    "collapsed": false,
    "pycharm": {
     "name": "#%%\n"
    }
   }
  },
  {
   "cell_type": "markdown",
   "source": [
    "### Plot: Medication Counts of ICU Stays"
   ],
   "metadata": {
    "collapsed": false
   }
  },
  {
   "cell_type": "code",
   "execution_count": null,
   "outputs": [],
   "source": [
    "icustay_count_input = inputevents_medication\\\n",
    "    .groupby(['ICUSTAY_ID'])\\\n",
    "    .size()\\\n",
    "    .reset_index(name='Count')\n",
    "\n",
    "icustay_count_input.Count.describe()"
   ],
   "metadata": {
    "collapsed": false,
    "pycharm": {
     "name": "#%%\n"
    }
   }
  },
  {
   "cell_type": "code",
   "execution_count": null,
   "outputs": [],
   "source": [
    "import seaborn as sns\n",
    "import matplotlib.pyplot as plt\n",
    "\n",
    "# Set variables\n",
    "title = 'Medication Counts of ICU Stays'\n",
    "plotdata = icustay_count_input\n",
    "xvalue = 'Count'\n",
    "xlabel = 'Medication Count'\n",
    "\n",
    "# Actual plot\n",
    "sns.set_style('whitegrid')\n",
    "sns.histplot(\n",
    "    data=plotdata,\n",
    "    x=xvalue)\n",
    "plt.title(title, fontsize=18)\n",
    "plt.xlabel(xlabel, fontsize=16)\n",
    "plt.ylabel(xvalue, fontsize=16)\n",
    "plt.xlim(0)\n",
    "\n",
    "plt.tight_layout()\n",
    "plt.show()"
   ],
   "metadata": {
    "collapsed": false,
    "pycharm": {
     "name": "#%%\n"
    }
   }
  },
  {
   "cell_type": "markdown",
   "source": [
    "### Time-Series Plot: Medication at Triggered Alarms"
   ],
   "metadata": {
    "collapsed": false
   }
  },
  {
   "cell_type": "code",
   "execution_count": null,
   "outputs": [],
   "source": [
    "import numpy as np\n",
    "import seaborn as sns\n",
    "import matplotlib.pyplot as plt\n",
    "\n",
    "icustay_ids = [208809, 266144, 216834]\n",
    "\n",
    "for icustay in icustay_ids:\n",
    "    parameter_names = ['Heart Rate', '02 Saturation', 'Systolic Blood Pressure']\n",
    "    parameter_names_abbrev = ['HR', 'O2Sat', 'NBPs']\n",
    "\n",
    "    # measurement, low, high\n",
    "    parameter_itemids = [[220045, 220047, 220046], [220277, 223770, 223769], [220179, 223752, 223751]]\n",
    "\n",
    "    parameter_units = ['Beats per Minute', 'Percent', 'Millimeter Mercury']\n",
    "    parameter_units_abbrev = ['bpm', '%', 'mmHg']\n",
    "\n",
    "    for i in range(len(parameter_names)):\n",
    "        medication_of_selected_icustay = inputevents_medication[inputevents_medication['ICUSTAY_ID'] == icustay]\n",
    "\n",
    "        chartevents_subset = pd.read_parquet('../data/chartevents_subset.parquet', engine='pyarrow')\n",
    "        chartevents_subset = chartevents_subset[(chartevents_subset['ITEMID'].isin(parameter_itemids[i]))]\n",
    "\n",
    "        selected_icustay = chartevents_subset[(chartevents_subset['ICUSTAY_ID'] == icustay)].copy()\n",
    "\n",
    "        # Add new column with ITEMID_LABEL\n",
    "        selected_icustay['ITEMID_LABEL'] = np.nan\n",
    "        selected_icustay['ITEMID_LABEL'] = np.where((selected_icustay['ITEMID'] == parameter_itemids[i][0]) & (selected_icustay['ITEMID_LABEL'] != np.nan), f'{parameter_names[i]} ({parameter_units_abbrev[i]})', selected_icustay['ITEMID_LABEL'])\n",
    "        selected_icustay['ITEMID_LABEL'] = np.where((selected_icustay['ITEMID'] == parameter_itemids[i][1]) & (selected_icustay['ITEMID_LABEL'] != np.nan), f'Alarm Threshold: Low {parameter_names[i]} ({parameter_units_abbrev[i]})', selected_icustay['ITEMID_LABEL'])\n",
    "        selected_icustay['ITEMID_LABEL'] = np.where((selected_icustay['ITEMID'] == parameter_itemids[i][2]) & (selected_icustay['ITEMID_LABEL'] != np.nan), f'Alarm Threshold: High {parameter_names[i]} ({parameter_units_abbrev[i]})', selected_icustay['ITEMID_LABEL'])\n",
    "\n",
    "        # Convert CHARTTIME to datetime\n",
    "        selected_icustay['CHARTTIME'] = pd.to_datetime(selected_icustay['CHARTTIME'])\n",
    "\n",
    "        # Create time-indexed pandas series\n",
    "        value_series = selected_icustay[(selected_icustay['ITEMID'] == parameter_itemids[i][0])][['CHARTTIME','VALUENUM']].set_index('CHARTTIME').squeeze().rename('VALUE')\n",
    "        threshold_low_series = selected_icustay[(selected_icustay['ITEMID'] == parameter_itemids[i][1])][['CHARTTIME','VALUENUM']].set_index('CHARTTIME').squeeze().rename('THRESHOLD_LOW')\n",
    "        threshold_high_series = selected_icustay[(selected_icustay['ITEMID'] == parameter_itemids[i][2])][['CHARTTIME','VALUENUM']].set_index('CHARTTIME').squeeze().rename('THRESHOLD_HIGH')\n",
    "\n",
    "        # Merge series to data frame using pd.concat\n",
    "        timeseries = pd.concat([value_series, threshold_high_series, threshold_low_series], axis=1).copy()\n",
    "\n",
    "        # Interpolate missing values by using the last available value\n",
    "        timeseries['THRESHOLD_LOW'] = timeseries['THRESHOLD_LOW'].interpolate('pad')\n",
    "        timeseries['THRESHOLD_HIGH'] = timeseries['THRESHOLD_HIGH'].interpolate('pad')\n",
    "\n",
    "        # Add columns containing the differences between the measured value and the currently valid threshold\n",
    "        timeseries['DIF_VALUE_LOW'] = timeseries.VALUE - timeseries.THRESHOLD_LOW\n",
    "        timeseries['DIF_VALUE_HIGH'] = timeseries.VALUE - timeseries.THRESHOLD_HIGH\n",
    "\n",
    "        # Identify triggered alarms (a.k.a. alarm violations) for threshold of type LOW\n",
    "        alarm_too_low = timeseries[(timeseries['DIF_VALUE_LOW'] <= 0)][['VALUE','THRESHOLD_LOW','DIF_VALUE_LOW']]\n",
    "\n",
    "        # Identify triggered alarms (a.k.a. alarm violations) for threshold of type HIGH\n",
    "        alarm_too_high = timeseries[(timeseries['DIF_VALUE_HIGH'] >= 0)][['VALUE','THRESHOLD_HIGH','DIF_VALUE_HIGH']]\n",
    "\n",
    "        # Set variables for plot\n",
    "        title = f'History of {parameter_names[i]} of ICU Stay {icustay}'\n",
    "        xlabel = 'Time'\n",
    "        ylabel = parameter_units[i]\n",
    "        plotdata = selected_icustay\n",
    "        xvalue = 'CHARTTIME'\n",
    "        yvalue = 'VALUENUM'\n",
    "        huevalue = 'ITEMID_LABEL'\n",
    "\n",
    "        medications = list()\n",
    "\n",
    "        # Config figure\n",
    "        sns.set_style('whitegrid')\n",
    "        fig, ax = plt.subplots(\n",
    "            figsize=(11, 5),\n",
    "            dpi=72 # e.g. 72 for screen, 300 for print\n",
    "        )\n",
    "\n",
    "        # Main plot\n",
    "        sns.lineplot(\n",
    "            data=plotdata,\n",
    "            x=xvalue,\n",
    "            y=yvalue,\n",
    "            hue=huevalue,\n",
    "            style=huevalue,\n",
    "            drawstyle='steps-post', # Interpolate missing values by using the last available value\n",
    "            markers=['^','v','p'],\n",
    "            markersize=5,\n",
    "            dashes=False,\n",
    "            palette=[sns.color_palette('colorblind')[1], sns.color_palette('colorblind')[2], sns.color_palette('colorblind')[0]]\n",
    "        )\n",
    "\n",
    "        # Add vertical lines as HIGH alarm indicators\n",
    "        #if 0 < len(alarm_too_high.index) < 11: # Only if between 1 and 11 alarms occur (otherwise the diagram gets too busy)\n",
    "\n",
    "        for idx, item in enumerate(alarm_too_high.index):\n",
    "            # Check if medication was given at day of alarm triggering\n",
    "            for drug_idx in range(len(medication_of_selected_icustay)):\n",
    "                current_alarm_timestamp = alarm_too_high.index[idx]\n",
    "                current_medication = medication_of_selected_icustay.iloc[drug_idx]\n",
    "\n",
    "                if current_alarm_timestamp == current_medication.STARTTIME:\n",
    "                    current_medication_label = medication_items.loc[medication_items['ITEMID'] == current_medication.ITEMID, 'LABEL'].item()\n",
    "                    medications.append(current_medication_label)\n",
    "\n",
    "                    # Add red square\n",
    "                    plt.scatter(\n",
    "                        x=current_alarm_timestamp,\n",
    "                        y=alarm_too_high.VALUE[idx],\n",
    "                        color='r',\n",
    "                        marker='s')\n",
    "\n",
    "                    # Add PERIOD_IN_MIN as text\n",
    "                    #plt.annotate(\n",
    "                    #    text=current_medication.PERIOD_IN_MIN,\n",
    "                    #    xy=(current_alarm_timestamp, 20))\n",
    "\n",
    "                    break\n",
    "\n",
    "            plt.axvline(\n",
    "                item,\n",
    "                linestyle='dotted',\n",
    "                color=sns.color_palette('colorblind')[1],\n",
    "                alpha=0.8,\n",
    "                zorder=0)\n",
    "\n",
    "        # Add vertical lines as LOW alarm indicators\n",
    "        #if 0 < len(alarm_too_low.index) < 11: # Only if between 1 and 11 alarms occur (otherwise the diagram gets too busy)\n",
    "\n",
    "        for idx, item in enumerate(alarm_too_low.index):\n",
    "            # Check if medication was given at day of alarm triggering\n",
    "            for drug_idx in range(len(medication_of_selected_icustay)):\n",
    "                current_alarm_timestamp = alarm_too_low.index[idx]\n",
    "                current_medication = medication_of_selected_icustay.iloc[drug_idx]\n",
    "\n",
    "                if current_alarm_timestamp == current_medication.STARTTIME:\n",
    "                    current_medication_label = medication_items.loc[medication_items['ITEMID'] == current_medication.ITEMID, 'LABEL'].item()\n",
    "                    medications.append(current_medication_label)\n",
    "\n",
    "                    # Add red square\n",
    "                    plt.scatter(\n",
    "                        x=current_alarm_timestamp,\n",
    "                        y=alarm_too_low.VALUE[idx],\n",
    "                        color='r',\n",
    "                        marker='s')\n",
    "\n",
    "                    # Add PERIOD_IN_MIN as text\n",
    "                    #plt.annotate(\n",
    "                    #    text=current_medication.PERIOD_IN_MIN,\n",
    "                    #    xy=(current_alarm_timestamp, 20))\n",
    "\n",
    "                    break\n",
    "\n",
    "            plt.axvline(\n",
    "                item,\n",
    "                linestyle='dotted',\n",
    "                color=sns.color_palette('colorblind')[2],\n",
    "                alpha=0.8,\n",
    "                zorder=0)\n",
    "\n",
    "        # Configure legend\n",
    "        plt.plot([], linestyle='dotted', color=sns.color_palette('colorblind')[1], alpha=0.8, zorder=0, label=f'Triggered Alarm: {parameter_names[i]} too High')\n",
    "        plt.plot([], linestyle='dotted', color=sns.color_palette('colorblind')[2], alpha=0.8, zorder=0, label=f'Triggered Alarm: {parameter_names[i]} too Low')\n",
    "        plt.scatter([], [], color='r', marker='s', label='Medication (from same time on)')\n",
    "        plt.legend(title=None, bbox_to_anchor=(1.02, 0.3), loc='upper left', borderaxespad=0)\n",
    "\n",
    "        # Configure title and labels\n",
    "        ax.set_title(title, fontweight='bold', color='black', fontsize=14, y=1.05)\n",
    "        ax.set_xlabel(xlabel, fontsize=12, labelpad=15)\n",
    "        ax.set_ylabel(ylabel, fontsize=12, labelpad=15)\n",
    "        plt.xticks(rotation=45)\n",
    "\n",
    "        # Plot figure\n",
    "        plt.tight_layout()\n",
    "        #plt.savefig(f'../plots/inputevents/time-series/time_series_input_med_{parameter_names_abbrev[i]}_{icustay}.png', dpi=1200)\n",
    "        plt.show(fig)\n",
    "\n",
    "        print(f'Parameter {parameter_names_abbrev[i]} with ICU stay {icustay}:')\n",
    "        for med in medications:\n",
    "            print(med)"
   ],
   "metadata": {
    "collapsed": false,
    "pycharm": {
     "name": "#%%\n"
    }
   }
  },
  {
   "cell_type": "markdown",
   "source": [
    "With the data from `INPUTEVENTS_MV`, significantly fewer medications can be observed. However, they can be classified very meaningfully. For example, there are drugs of the same category or there are clusters at certain points in time, e.g. when the blood pressure falls below the lower blood pressure limit, where drugs that raise blood pressure and fight bacteria are used."
   ],
   "metadata": {
    "collapsed": false
   }
  },
  {
   "cell_type": "markdown",
   "source": [
    "## Conclusion\n",
    "\n",
    "Therefore, we propose to introduce a flag, based on `inputevents_based_medications.parquet`, for all alarms that indicates whether medication was given within a certain period of time around the alarm (1h before to 1h after the alarm) and the alarm is therefore relevant."
   ],
   "metadata": {
    "collapsed": false
   }
  }
 ],
 "metadata": {
  "kernelspec": {
   "display_name": "Python 3",
   "language": "python",
   "name": "python3"
  },
  "language_info": {
   "codemirror_mode": {
    "name": "ipython",
    "version": 2
   },
   "file_extension": ".py",
   "mimetype": "text/x-python",
   "name": "python",
   "nbconvert_exporter": "python",
   "pygments_lexer": "ipython2",
   "version": "2.7.6"
  }
 },
 "nbformat": 4,
 "nbformat_minor": 0
}