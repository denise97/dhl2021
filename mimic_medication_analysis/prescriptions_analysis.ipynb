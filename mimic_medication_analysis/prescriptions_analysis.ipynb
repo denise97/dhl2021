{
 "cells": [
  {
   "cell_type": "markdown",
   "source": [
    "# Medication Analysis\n",
    "\n",
    "**Assumption:** Alarms before and after which a medication was administered are relevant\n",
    "\n",
    "**Goal:** Analyze medication tables in MIMIC-III to prepare for indication of relevant alarms\n",
    "\n",
    "In MIMIC-III, three tables contain information on medication - `PRESCRIPTIONS`, `INPUTEVENTS_MV` and `INPUTEVENTS_CV`. For our use case, only the first two are of interest, as we are currently only looking at data from ICU stays that were created with the MetaVision system. \"Part B\" for `INPUTEVENTS_MV.csv` can be found in `/mimic_medication_analysis/inputevents_mv_analysis.ipynb`."
   ],
   "metadata": {
    "collapsed": false
   }
  },
  {
   "cell_type": "markdown",
   "source": [
    "## Part A: Analyze PRESCRIPTIONS.csv\n",
    "\n",
    "The `PRESCRIPTIONS` table contains medication related order entries, i.e. prescriptions (see https://mimic.physionet.org/mimictables/prescriptions/ and http://people.cs.pitt.edu/~jlee/note/intro_to_mimic_db.pdf).\n",
    "\n",
    "### Read and Pre-Filter PRESCRIPTIONS.csv"
   ],
   "metadata": {
    "collapsed": false
   }
  },
  {
   "cell_type": "code",
   "execution_count": null,
   "outputs": [],
   "source": [
    "import pandas as pd\n",
    "import dask.dataframe as dd\n",
    "from dask.diagnostics import ProgressBar\n",
    "\n",
    "# Data types based on MIMIC schema specification https://mit-lcp.github.io/mimic-schema-spy/tables/prescriptions.html\n",
    "# Problem: Complicated use of integer data types with NaNs in Pandas, see https://pandas.pydata.org/pandas-docs/stable/user_guide/gotchas.html#nan-integer-na-values-and-na-type-promotions\n",
    "# Decision: Integers are read in as 'float64', strings as 'object', and timestamps via Dask's parse_dates provided for this purpose\n",
    "prescriptions = dd.read_csv('../data/mimic-iii-clinical-database-1.4/PRESCRIPTIONS.csv', parse_dates=['STARTDATE', 'ENDDATE'], dtype={\n",
    "    'ROW_ID': 'float64', # int4 according to specification\n",
    "    'SUBJECT_ID': 'float64', # int4 according to specification\n",
    "    'HADM_ID': 'float64', # int4 according to specification\n",
    "    'ICUSTAY_ID': 'float64', # int4 according to specification\n",
    "\n",
    "    'DRUG_TYPE': 'object', # varchar according to specification\n",
    "    'DRUG': 'object', # varchar according to specification\n",
    "    'DRUG_NAME_POE': 'object', # varchar according to specification\n",
    "    'DRUG_NAME_GENERIC': 'object', # varchar according to specification\n",
    "    'FORMULARY_DRUG_CD': 'object', # varchar according to specification\n",
    "\n",
    "    'GSN': 'object', # varchar according to specification\n",
    "    'NDC': 'object', # varchar according to specification\n",
    "\n",
    "    'PROD_STRENGTH': 'object', # varchar according to specification\n",
    "    'DOSE_VAL_RX': 'object', # varchar according to specification\n",
    "    'DOSE_UNIT_RX': 'object', # varchar according to specification\n",
    "    'FORM_VAL_DISP': 'object', # varchar according to specification\n",
    "    'FORM_UNIT_DISP': 'object', # varchar according to specification\n",
    "    'ROUTE': 'object' # varchar according to specification\n",
    "})\n",
    "\n",
    "prescriptions.head()"
   ],
   "metadata": {
    "collapsed": false,
    "pycharm": {
     "name": "#%%\n"
    }
   }
  },
  {
   "cell_type": "code",
   "execution_count": null,
   "outputs": [],
   "source": [
    "unique_ICU_stays = pd.read_parquet('../data/unique_icustays_in_chartevents_subset.parquet', engine='pyarrow')\n",
    "\n",
    "with ProgressBar():\n",
    "    # Extract relevant columns (ICUSTAY_ID, date period, drug and its dosis)\n",
    "    prescriptions_subset = prescriptions[['ICUSTAY_ID', 'STARTDATE', 'ENDDATE', 'DRUG_TYPE', 'DRUG', 'DOSE_VAL_RX', 'DOSE_UNIT_RX', 'FORM_VAL_DISP', 'FORM_UNIT_DISP']]\n",
    "\n",
    "    # Filter by ICUSTAY_IDs\n",
    "    prescriptions_subset = prescriptions_subset[prescriptions.ICUSTAY_ID.isin(unique_ICU_stays.ICUSTAY_ID)]\n",
    "\n",
    "    # Convert ICUSTAY_ID to integer (aka remove \".0\")\n",
    "    prescriptions_subset['ICUSTAY_ID'] = prescriptions_subset['ICUSTAY_ID'].astype(int)\n",
    "\n",
    "    # Apply the previously defined commands to the Dask DataFrame, resulting in the desired Pandas DataFrame\n",
    "    prescriptions_subset = prescriptions_subset.compute()\n",
    "\n",
    "len(prescriptions_subset.index)  # 1,294,243"
   ],
   "metadata": {
    "collapsed": false,
    "pycharm": {
     "name": "#%%\n"
    }
   }
  },
  {
   "cell_type": "markdown",
   "source": [
    "### Check for NaN Entries"
   ],
   "metadata": {
    "collapsed": false
   }
  },
  {
   "cell_type": "code",
   "execution_count": null,
   "outputs": [],
   "source": [
    "prescriptions_subset.isna().any()"
   ],
   "metadata": {
    "collapsed": false,
    "pycharm": {
     "name": "#%%\n"
    }
   }
  },
  {
   "cell_type": "code",
   "execution_count": null,
   "outputs": [],
   "source": [
    "prescriptions_subset['ENDDATE'].isna().sum() # 783 NaT values"
   ],
   "metadata": {
    "collapsed": false,
    "pycharm": {
     "name": "#%%\n"
    }
   }
  },
  {
   "cell_type": "code",
   "execution_count": null,
   "outputs": [],
   "source": [
    "prescriptions_subset['FORM_UNIT_DISP'].isna().sum() # 634 NaN values including all dose and form describing NAN values"
   ],
   "metadata": {
    "collapsed": false,
    "pycharm": {
     "name": "#%%\n"
    }
   }
  },
  {
   "cell_type": "code",
   "execution_count": null,
   "outputs": [],
   "source": [
    "# Drop rows with ENDDATE = NaT\n",
    "prescriptions_subset = prescriptions_subset[prescriptions_subset.ENDDATE.notnull()]\n",
    "\n",
    "# Drop rows with FORM_UNIT_DISP = NaN (also removes rows with NAN entries in DOSE_VAL_RX, DOSE_UNIT_RX and FORM_VAL_DISP columns)\n",
    "prescriptions_subset = prescriptions_subset[prescriptions_subset.FORM_UNIT_DISP.notnull()]"
   ],
   "metadata": {
    "collapsed": false,
    "pycharm": {
     "name": "#%%\n"
    }
   }
  },
  {
   "cell_type": "markdown",
   "source": [
    "### Add Date Difference Column & Check for Valid Dates"
   ],
   "metadata": {
    "collapsed": false
   }
  },
  {
   "cell_type": "code",
   "execution_count": null,
   "outputs": [],
   "source": [
    "import numpy as np\n",
    "\n",
    "# Calculate difference betweeen STARTDATE and ENDDATE\n",
    "prescriptions_subset['DATE_DIF'] = pd.to_datetime(prescriptions_subset['ENDDATE']) - pd.to_datetime(prescriptions_subset['STARTDATE'])\n",
    "\n",
    "# Extract integer values (aka remove ' days')\n",
    "prescriptions_subset['DATE_DIF'] = (prescriptions_subset['DATE_DIF'] / np.timedelta64(1,'D')).astype(int)\n",
    "\n",
    "len(prescriptions_subset[prescriptions_subset['DATE_DIF'] < 0]) # 5,546 negative date differences"
   ],
   "metadata": {
    "collapsed": false,
    "pycharm": {
     "name": "#%%\n"
    }
   }
  },
  {
   "cell_type": "code",
   "execution_count": null,
   "outputs": [],
   "source": [
    "# Remove negative date differences (STARTDATE after ENDDATE)\n",
    "prescriptions_subset = prescriptions_subset[prescriptions_subset['DATE_DIF'] >= 0]"
   ],
   "metadata": {
    "collapsed": false,
    "pycharm": {
     "name": "#%%\n"
    }
   }
  },
  {
   "cell_type": "markdown",
   "source": [
    "### Create Parquet File 'prescriptions_based_medications'"
   ],
   "metadata": {
    "collapsed": false
   }
  },
  {
   "cell_type": "code",
   "execution_count": null,
   "outputs": [],
   "source": [
    "# Sort rows for better overview\n",
    "prescriptions_subset = prescriptions_subset.sort_values(by=['ICUSTAY_ID', 'STARTDATE','ENDDATE'])\n",
    "\n",
    "# Reset index\n",
    "prescriptions_subset = prescriptions_subset.reset_index(drop=True)\n",
    "\n",
    "# Save as parquet file\n",
    "pd.DataFrame(prescriptions_subset).to_parquet('../data/prescriptions_based_medications.parquet', engine='pyarrow')"
   ],
   "metadata": {
    "collapsed": false,
    "pycharm": {
     "name": "#%%\n"
    }
   }
  },
  {
   "cell_type": "markdown",
   "source": [
    "### Plot: Medication Period per Medication Information"
   ],
   "metadata": {
    "collapsed": false
   }
  },
  {
   "cell_type": "code",
   "execution_count": null,
   "outputs": [],
   "source": [
    "import pandas as pd\n",
    "\n",
    "prescriptions_medication = pd.read_parquet('../data/prescriptions_based_medications.parquet', engine='pyarrow')\n",
    "prescriptions_medication.info() # 1,287,829 entries"
   ],
   "metadata": {
    "collapsed": false,
    "pycharm": {
     "name": "#%%\n"
    }
   }
  },
  {
   "cell_type": "code",
   "execution_count": null,
   "outputs": [],
   "source": [
    "import seaborn as sns\n",
    "import matplotlib.pyplot as plt\n",
    "\n",
    "# Set variables\n",
    "title = 'Medication Period per Medication Information'\n",
    "plotdata = prescriptions_medication\n",
    "xvalue = 'DATE_DIF'\n",
    "xlabel = 'Medication Period in Days'\n",
    "ylabel = 'Count'\n",
    "\n",
    "# Actual plot\n",
    "sns.set_style('whitegrid')\n",
    "sns.histplot(\n",
    "    data=plotdata,\n",
    "    x=xvalue,\n",
    "    binwidth=2)\n",
    "plt.title(title, fontsize=18)\n",
    "plt.xlabel(xlabel, fontsize=16)\n",
    "plt.ylabel(ylabel, fontsize=16)\n",
    "\n",
    "plt.tight_layout()\n",
    "plt.show()"
   ],
   "metadata": {
    "collapsed": false,
    "pycharm": {
     "name": "#%%\n"
    }
   }
  },
  {
   "cell_type": "markdown",
   "source": [
    "### Plot: Count of Medication Information by ICUSTAY_ID"
   ],
   "metadata": {
    "collapsed": false
   }
  },
  {
   "cell_type": "code",
   "execution_count": null,
   "outputs": [],
   "source": [
    "icustay_id_count = prescriptions_medication\\\n",
    "    .groupby(['ICUSTAY_ID'])\\\n",
    "    .size()\\\n",
    "    .reset_index(name='Count')\n",
    "\n",
    "icustay_id_count.Count.describe()"
   ],
   "metadata": {
    "collapsed": false,
    "pycharm": {
     "name": "#%%\n"
    }
   }
  },
  {
   "cell_type": "markdown",
   "source": [
    "A minimum of 1 to a maximum of 727 medications were administered during an ICU stay, considering all 23,287 ICU stays that are relevant and received a medication."
   ],
   "metadata": {
    "collapsed": false
   }
  },
  {
   "cell_type": "code",
   "execution_count": null,
   "outputs": [],
   "source": [
    "import seaborn as sns\n",
    "import matplotlib.pyplot as plt\n",
    "\n",
    "# Set variables\n",
    "title = 'Medication Counts of ICU Stays'\n",
    "plotdata = icustay_id_count\n",
    "xvalue = 'Count'\n",
    "xlabel = 'Medication Count'\n",
    "\n",
    "# Actual plot\n",
    "sns.set_style('whitegrid')\n",
    "sns.histplot(\n",
    "    data=plotdata,\n",
    "    x=xvalue)\n",
    "plt.title(title, fontsize=18)\n",
    "plt.xlabel(xlabel, fontsize=16)\n",
    "plt.ylabel(xvalue, fontsize=16)\n",
    "plt.xlim(0)\n",
    "\n",
    "plt.tight_layout()\n",
    "plt.show()"
   ],
   "metadata": {
    "collapsed": false,
    "pycharm": {
     "name": "#%%\n"
    }
   }
  },
  {
   "cell_type": "markdown",
   "source": [
    "For most of the 23,287 ICU stays that are relevant and received a medication, 0 to approximately 80 medications are administered."
   ],
   "metadata": {
    "collapsed": false
   }
  },
  {
   "cell_type": "markdown",
   "source": [
    "### Plot: Medication of one ICUSTAY_ID over Time"
   ],
   "metadata": {
    "collapsed": false
   }
  },
  {
   "cell_type": "code",
   "execution_count": null,
   "outputs": [],
   "source": [
    "import matplotlib.pyplot as plt\n",
    "from matplotlib.pyplot import figure\n",
    "\n",
    "icustay_ids = [208809, 260223, 266144, 216834]\n",
    "\n",
    "for icustay in icustay_ids:\n",
    "\n",
    "    # Set variables\n",
    "    title = f'Medication Information for ICUSTAY_ID {icustay}'\n",
    "    plotdata = prescriptions_medication[prescriptions_medication['ICUSTAY_ID'] == icustay]\n",
    "    xlabel = 'Time'\n",
    "    ylabel = 'Index of Medication'\n",
    "    colors = {\n",
    "        'MAIN' : 'r',\n",
    "        'BASE' : 'b',\n",
    "        'ADDITIVE' : 'g' # does not exist for ICUSTAY_ID 260223\n",
    "    }\n",
    "\n",
    "    # Actual plot\n",
    "    figure(figsize=(15, 20), dpi=80)\n",
    "    for i in range(len(plotdata)):\n",
    "        if plotdata.iloc[i].DATE_DIF == 0:\n",
    "            plt.scatter(\n",
    "                x=[plotdata.iloc[i].STARTDATE, plotdata.iloc[i].ENDDATE],\n",
    "                y=[i, i],\n",
    "                s=1,\n",
    "                color=colors[plotdata.iloc[i].DRUG_TYPE])\n",
    "        else:\n",
    "            plt.plot(\n",
    "                [plotdata.iloc[i].STARTDATE, plotdata.iloc[i].ENDDATE],\n",
    "                [i, i],\n",
    "                color = colors[plotdata.iloc[i].DRUG_TYPE])\n",
    "\n",
    "    # Add title and labels\n",
    "    plt.title(title, fontsize=22)\n",
    "    plt.xlabel(xlabel, fontsize=16)\n",
    "    plt.xticks(rotation=45)\n",
    "    plt.ylabel(ylabel, fontsize=16)\n",
    "\n",
    "    # Add legend\n",
    "    plt.plot(plotdata.STARTDATE.min(), 0, color='r', label='MAIN')\n",
    "    plt.plot(plotdata.STARTDATE.min(), 0, color='b', label='BASE')\n",
    "    plt.rcParams['legend.title_fontsize'] = 16\n",
    "    plt.legend(title='Drug Type', loc='upper left', fontsize=14, fancybox=True)\n",
    "\n",
    "    plt.tight_layout()\n",
    "    plt.show()"
   ],
   "metadata": {
    "collapsed": false,
    "pycharm": {
     "name": "#%%\n"
    }
   }
  },
  {
   "cell_type": "markdown",
   "source": [
    "### Time-Series Plot: Medication at Triggered Alarms"
   ],
   "metadata": {
    "collapsed": false
   }
  },
  {
   "cell_type": "code",
   "execution_count": null,
   "outputs": [],
   "source": [
    "import numpy as np\n",
    "import seaborn as sns\n",
    "import matplotlib.pyplot as plt\n",
    "\n",
    "icustay_ids = [208809, 260223, 266144, 216834]\n",
    "\n",
    "for icustay in icustay_ids:\n",
    "    parameter_names = ['Heart Rate', '02 Saturation', 'Systolic Blood Pressure']\n",
    "    parameter_names_abbrev = ['HR', 'O2Sat', 'NBPs']\n",
    "\n",
    "    # measurement, low, high\n",
    "    parameter_itemids = [[220045, 220047, 220046], [220277, 223770, 223769], [220179, 223752, 223751]]\n",
    "\n",
    "    parameter_units = ['Beats per Minute', 'Percent', 'Millimeter Mercury']\n",
    "    parameter_units_abbrev = ['bpm', '%', 'mmHg']\n",
    "\n",
    "    for i in range(len(parameter_names)):\n",
    "        medication_of_selected_icustay = prescriptions_medication[prescriptions_medication['ICUSTAY_ID'] == icustay]\n",
    "\n",
    "        chartevents_subset = pd.read_parquet('../data/chartevents_subset.parquet', engine='pyarrow')\n",
    "        chartevents_subset = chartevents_subset[(chartevents_subset['ITEMID'].isin(parameter_itemids[i]))]\n",
    "\n",
    "        selected_icustay = chartevents_subset[(chartevents_subset['ICUSTAY_ID'] == icustay)].copy()\n",
    "\n",
    "        # Add new column with ITEMID_LABEL\n",
    "        selected_icustay['ITEMID_LABEL'] = np.nan\n",
    "        selected_icustay['ITEMID_LABEL'] = np.where((selected_icustay['ITEMID'] == parameter_itemids[i][0]) & (selected_icustay['ITEMID_LABEL'] != np.nan), f'{parameter_names[i]} ({parameter_units_abbrev[i]})', selected_icustay['ITEMID_LABEL'])\n",
    "        selected_icustay['ITEMID_LABEL'] = np.where((selected_icustay['ITEMID'] == parameter_itemids[i][1]) & (selected_icustay['ITEMID_LABEL'] != np.nan), f'Alarm Threshold: Low {parameter_names[i]} ({parameter_units_abbrev[i]})', selected_icustay['ITEMID_LABEL'])\n",
    "        selected_icustay['ITEMID_LABEL'] = np.where((selected_icustay['ITEMID'] == parameter_itemids[i][2]) & (selected_icustay['ITEMID_LABEL'] != np.nan), f'Alarm Threshold: High {parameter_names[i]} ({parameter_units_abbrev[i]})', selected_icustay['ITEMID_LABEL'])\n",
    "\n",
    "        # Convert CHARTTIME to datetime\n",
    "        selected_icustay['CHARTTIME'] = pd.to_datetime(selected_icustay['CHARTTIME'])\n",
    "\n",
    "        # Create time-indexed pandas series\n",
    "        value_series = selected_icustay[(selected_icustay['ITEMID'] == parameter_itemids[i][0])][['CHARTTIME','VALUENUM']].set_index('CHARTTIME').squeeze().rename('VALUE')\n",
    "        threshold_low_series = selected_icustay[(selected_icustay['ITEMID'] == parameter_itemids[i][1])][['CHARTTIME','VALUENUM']].set_index('CHARTTIME').squeeze().rename('THRESHOLD_LOW')\n",
    "        threshold_high_series = selected_icustay[(selected_icustay['ITEMID'] == parameter_itemids[i][2])][['CHARTTIME','VALUENUM']].set_index('CHARTTIME').squeeze().rename('THRESHOLD_HIGH')\n",
    "\n",
    "        # Merge series to data frame using pd.concat\n",
    "        timeseries = pd.concat([value_series, threshold_high_series, threshold_low_series], axis=1).copy()\n",
    "\n",
    "        # Interpolate missing values by using the last available value\n",
    "        timeseries['THRESHOLD_LOW'] = timeseries['THRESHOLD_LOW'].interpolate('pad')\n",
    "        timeseries['THRESHOLD_HIGH'] = timeseries['THRESHOLD_HIGH'].interpolate('pad')\n",
    "\n",
    "        # Add columns containing the differences between the measured value and the currently valid threshold\n",
    "        timeseries['DIF_VALUE_LOW'] = timeseries.VALUE - timeseries.THRESHOLD_LOW\n",
    "        timeseries['DIF_VALUE_HIGH'] = timeseries.VALUE - timeseries.THRESHOLD_HIGH\n",
    "\n",
    "        # Identify triggered alarms (a.k.a. alarm violations) for threshold of type LOW\n",
    "        alarm_too_low = timeseries[(timeseries['DIF_VALUE_LOW'] <= 0)][['VALUE','THRESHOLD_LOW','DIF_VALUE_LOW']]\n",
    "\n",
    "        # Identify triggered alarms (a.k.a. alarm violations) for threshold of type HIGH\n",
    "        alarm_too_high = timeseries[(timeseries['DIF_VALUE_HIGH'] >= 0)][['VALUE','THRESHOLD_HIGH','DIF_VALUE_HIGH']]\n",
    "\n",
    "        # Set variables for plot\n",
    "        title = f'History of {parameter_names[i]} of ICU Stay {icustay}'\n",
    "        xlabel = 'Time'\n",
    "        ylabel = parameter_units[i]\n",
    "        plotdata = selected_icustay\n",
    "        xvalue = 'CHARTTIME'\n",
    "        yvalue = 'VALUENUM'\n",
    "        huevalue = 'ITEMID_LABEL'\n",
    "\n",
    "        # Config figure\n",
    "        sns.set_style('whitegrid')\n",
    "        fig, ax = plt.subplots(\n",
    "            figsize=(11, 5),\n",
    "            dpi=72 # e.g. 72 for screen, 300 for print\n",
    "        )\n",
    "\n",
    "        # Main plot\n",
    "        sns.lineplot(\n",
    "            data=plotdata,\n",
    "            x=xvalue,\n",
    "            y=yvalue,\n",
    "            hue=huevalue,\n",
    "            style=huevalue,\n",
    "            drawstyle='steps-post', # Interpolate missing values by using the last available value\n",
    "            markers=['^','v','p'],\n",
    "            markersize=5,\n",
    "            dashes=False,\n",
    "            palette=[sns.color_palette('colorblind')[1], sns.color_palette('colorblind')[2], sns.color_palette('colorblind')[0]]\n",
    "        )\n",
    "\n",
    "        # Add vertical lines as HIGH alarm indicators\n",
    "        #if 0 < len(alarm_too_high.index) < 11: # Only if between 1 and 11 alarms occur (otherwise the diagram gets too busy)\n",
    "\n",
    "        for idx, item in enumerate(alarm_too_high.index):\n",
    "            # Check if medication was given at day of alarm triggering\n",
    "            for drug_idx in range(len(medication_of_selected_icustay)):\n",
    "                current_alarm_timestamp = alarm_too_high.index[idx]\n",
    "                current_medication = medication_of_selected_icustay.iloc[drug_idx]\n",
    "\n",
    "                if current_alarm_timestamp.date() == current_medication.STARTDATE.date():\n",
    "                    # Add red square\n",
    "                    plt.scatter(\n",
    "                        x=current_alarm_timestamp,\n",
    "                        y=alarm_too_high.VALUE[idx],\n",
    "                        color='r',\n",
    "                        marker='s')\n",
    "\n",
    "                    # Add DATE_DIF as text\n",
    "                    #plt.annotate(\n",
    "                    #    text=current_medication.DATE_DIF,\n",
    "                    #    xy=(current_alarm_timestamp, 20))\n",
    "\n",
    "                    break\n",
    "\n",
    "            plt.axvline(\n",
    "                item,\n",
    "                linestyle='dotted',\n",
    "                color=sns.color_palette('colorblind')[1],\n",
    "                alpha=0.8,\n",
    "                zorder=0)\n",
    "\n",
    "        # Add vertical lines as LOW alarm indicators\n",
    "        #if 0 < len(alarm_too_low.index) < 11: # Only if between 1 and 11 alarms occur (otherwise the diagram gets too busy)\n",
    "\n",
    "        for idx, item in enumerate(alarm_too_low.index):\n",
    "            # Check if medication was given at day of alarm triggering\n",
    "            for drug_idx in range(len(medication_of_selected_icustay)):\n",
    "                current_alarm_timestamp = alarm_too_low.index[idx]\n",
    "                current_medication = medication_of_selected_icustay.iloc[drug_idx]\n",
    "\n",
    "                if current_alarm_timestamp.date() == current_medication.STARTDATE.date():\n",
    "                    # Add red square\n",
    "                    plt.scatter(\n",
    "                        x=current_alarm_timestamp,\n",
    "                        y=alarm_too_low.VALUE[idx],\n",
    "                        color='r',\n",
    "                        marker='s')\n",
    "\n",
    "                    # Add DATE_DIF as text\n",
    "                    #plt.annotate(\n",
    "                    #    text=current_medication.DATE_DIF,\n",
    "                    #    xy=(current_alarm_timestamp, 20))\n",
    "\n",
    "                    break\n",
    "\n",
    "            plt.axvline(\n",
    "                item,\n",
    "                linestyle='dotted',\n",
    "                color=sns.color_palette('colorblind')[2],\n",
    "                alpha=0.8,\n",
    "                zorder=0)\n",
    "\n",
    "        # Configure legend\n",
    "        plt.plot([], linestyle='dotted', color=sns.color_palette('colorblind')[1], alpha=0.8, zorder=0, label=f'Triggered Alarm: {parameter_names[i]} too High')\n",
    "        plt.plot([], linestyle='dotted', color=sns.color_palette('colorblind')[2], alpha=0.8, zorder=0, label=f'Triggered Alarm: {parameter_names[i]} too Low')\n",
    "        plt.scatter([], [], color='r', marker='s', label='Medication was Given (from same day on)')\n",
    "        plt.legend(title=None, bbox_to_anchor=(1.02, 0.3), loc='upper left', borderaxespad=0)\n",
    "\n",
    "        # Configure title and labels\n",
    "        ax.set_title(title, fontweight='bold', color='black', fontsize=14, y=1.05)\n",
    "        ax.set_xlabel(xlabel, fontsize=12, labelpad=15)\n",
    "        ax.set_ylabel(ylabel, fontsize=12, labelpad=15)\n",
    "        plt.xticks(rotation=45)\n",
    "\n",
    "        # Plot figure\n",
    "        plt.tight_layout()\n",
    "        #plt.savefig(f'../plots/prescriptions/time-series/time_series_pres_med_{parameter_names_abbrev[i]}_{icustay}.png', dpi=1200)\n",
    "        plt.show(fig)"
   ],
   "metadata": {
    "collapsed": false,
    "pycharm": {
     "name": "#%%\n"
    }
   }
  },
  {
   "cell_type": "markdown",
   "source": [
    "Almost always, when alarms occur, a prescription was administered on the same day. Since `PRESCRIPTIONS.csv` does not contain time information, it could be that these are direct interventions after the occurrence of alarms or other treatments during the same day. In the majority of these situations, the medication was stopped after one day. Whether this describes mainly one-off short treatments and actually a treatment that lasts the whole day cannot be answered with the data from `PRESCRIPTIONS.csv`."
   ],
   "metadata": {
    "collapsed": false
   }
  },
  {
   "cell_type": "markdown",
   "source": [
    "## Conclusion\n",
    "\n",
    "Following from this, we decided to not use this table for the introduction of the medication flag."
   ],
   "metadata": {
    "collapsed": false
   }
  }
 ],
 "metadata": {
  "kernelspec": {
   "display_name": "Python 3",
   "language": "python",
   "name": "python3"
  },
  "language_info": {
   "codemirror_mode": {
    "name": "ipython",
    "version": 2
   },
   "file_extension": ".py",
   "mimetype": "text/x-python",
   "name": "python",
   "nbconvert_exporter": "python",
   "pygments_lexer": "ipython2",
   "version": "2.7.6"
  }
 },
 "nbformat": 4,
 "nbformat_minor": 0
}