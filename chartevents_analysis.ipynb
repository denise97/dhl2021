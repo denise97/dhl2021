{
 "cells": [
  {
   "cell_type": "markdown",
   "source": [
    "# Analysis of CHARTEVENTS.csv Subset\n",
    "\n",
    "Aim: Create descriptive statistics for CHARTEVENTS.csv subset which is pre-filtered for the three relevant ITEM IDs and is purged of rows without an ICUSTAY_ID or with ERROR=true."
   ],
   "metadata": {
    "collapsed": false
   }
  },
  {
   "cell_type": "code",
   "execution_count": null,
   "outputs": [],
   "source": [
    "import pandas as pd\n",
    "import pyarrow as pa\n",
    "\n",
    "# Read chartevents subsets from parquet file to pandas data frame\n",
    "chartevents_subset = pd.read_parquet('./data/chartevents_subset.parquet', engine='pyarrow')\n",
    "unique_ICU_stays = pd.read_parquet('./data/unique_icustays_in_chartevents_subset.parquet', engine='pyarrow')"
   ],
   "metadata": {
    "collapsed": false,
    "pycharm": {
     "name": "#%%\n"
    }
   }
  },
  {
   "cell_type": "code",
   "execution_count": null,
   "outputs": [],
   "source": [
    "# Add new column with ITEMID_LABEL, which can be used for the legend of the plots\n",
    "import numpy as np\n",
    "\n",
    "chartevents_subset.insert(loc=len(chartevents_subset.columns), column='ITEMID_LABEL', value=np.nan)\n",
    "\n",
    "# Heart rate ITEMID_LABELs\n",
    "chartevents_subset.loc[chartevents_subset['ITEMID'] == 220045, 'ITEMID_LABEL'] = 'Heart rate\\n(bpm)'\n",
    "chartevents_subset.loc[chartevents_subset['ITEMID'] == 220046, 'ITEMID_LABEL'] = 'Alarm threshold:\\nHigh\\nheart rate\\n(bpm)'\n",
    "chartevents_subset.loc[chartevents_subset['ITEMID'] == 220047, 'ITEMID_LABEL'] = 'Alarm threshold:\\nLow\\nheart rate\\n(bpm)'\n",
    "\n",
    "# Blood pressure ITEMID_LABELs\n",
    "chartevents_subset.loc[chartevents_subset['ITEMID'] == 220179, 'ITEMID_LABEL'] = 'Non-invasive\\nsystolic\\nblood pressure\\n(mmHg)'\n",
    "chartevents_subset.loc[chartevents_subset['ITEMID'] == 223751, 'ITEMID_LABEL'] = 'Alarm threshold:\\nHigh systolic\\nblood pressure\\n(mmHg)'\n",
    "chartevents_subset.loc[chartevents_subset['ITEMID'] == 223752, 'ITEMID_LABEL'] = 'Alarm threshold:\\nLow systolic\\nblood pressure\\n(mmHg)'\n",
    "chartevents_subset.loc[chartevents_subset['ITEMID'] == 220180, 'ITEMID_LABEL'] = 'Non-invasive\\ndiastolic\\nblood pressure\\n(mmHg)'\n",
    "\n",
    "# O2 saturation ITEMID_LABELs\n",
    "chartevents_subset.loc[chartevents_subset['ITEMID'] == 220277, 'ITEMID_LABEL'] = 'O2 saturation\\npulseoxymetry\\n(%)'\n",
    "chartevents_subset.loc[chartevents_subset['ITEMID'] == 223769, 'ITEMID_LABEL'] = 'Alarm threshold:\\nHigh\\nO2 saturation\\n(%)'\n",
    "chartevents_subset.loc[chartevents_subset['ITEMID'] == 223770, 'ITEMID_LABEL'] = 'Alarm threshold:\\nLow\\nO2 saturation\\n(%)'"
   ],
   "metadata": {
    "collapsed": false,
    "pycharm": {
     "name": "#%%\n"
    }
   }
  },
  {
   "cell_type": "code",
   "execution_count": null,
   "outputs": [],
   "source": [
    "chartevents_subset.head()"
   ],
   "metadata": {
    "collapsed": false,
    "pycharm": {
     "name": "#%%\n"
    }
   }
  },
  {
   "cell_type": "code",
   "execution_count": null,
   "outputs": [],
   "source": [
    "unique_ICU_stays.head()"
   ],
   "metadata": {
    "collapsed": false,
    "pycharm": {
     "name": "#%%\n"
    }
   }
  },
  {
   "cell_type": "markdown",
   "source": [
    "## General Insights"
   ],
   "metadata": {
    "collapsed": false
   }
  },
  {
   "cell_type": "markdown",
   "source": [
    "### How many unique ICU stays exist?\n",
    "There are 23,446 unique ICU stays."
   ],
   "metadata": {
    "collapsed": false
   }
  },
  {
   "cell_type": "code",
   "execution_count": null,
   "outputs": [],
   "source": [
    "len(unique_ICU_stays.ICUSTAY_ID)"
   ],
   "metadata": {
    "collapsed": false,
    "pycharm": {
     "name": "#%%\n"
    }
   }
  },
  {
   "cell_type": "markdown",
   "source": [
    "### How many measurements resp. thresholds exist per ITEM ID?\n",
    "\n",
    "There are 154,751 to 2,761,436 data points per ITEM ID."
   ],
   "metadata": {
    "collapsed": false
   }
  },
  {
   "cell_type": "code",
   "execution_count": null,
   "outputs": [],
   "source": [
    "item_id_count = chartevents_subset\\\n",
    "    .groupby(['ITEMID_LABEL'])\\\n",
    "    .size()\\\n",
    "    .reset_index(name='Count')\n",
    "item_id_count.sort_values(by=['Count'], inplace=True)\n",
    "\n",
    "print(item_id_count)"
   ],
   "metadata": {
    "collapsed": false,
    "pycharm": {
     "name": "#%%\n"
    }
   }
  },
  {
   "cell_type": "code",
   "execution_count": null,
   "outputs": [],
   "source": [
    "import numpy as np\n",
    "\n",
    "# Add category column for viz\n",
    "item_id_count.insert(loc=len(item_id_count.columns), column='Category', value=np.nan)\n",
    "\n",
    "item_id_count.loc[item_id_count['ITEMID_LABEL'].str.contains('High'), 'Category'] = 'HIGH'\n",
    "item_id_count.loc[item_id_count['ITEMID_LABEL'].str.contains('Low'), 'Category'] = 'LOW'\n",
    "item_id_count.loc[~item_id_count['ITEMID_LABEL'].str.contains(':'), 'Category'] = 'Measurement'\n",
    "\n",
    "# Add parameter column for viz\n",
    "item_id_count.insert(loc=len(item_id_count.columns), column='Parameter', value=np.nan)\n",
    "\n",
    "item_id_count.loc[item_id_count['ITEMID_LABEL'].str.lower().str.contains('heart'), 'Parameter'] = 'Heart rate\\n(bpm)'\n",
    "item_id_count.loc[item_id_count['ITEMID_LABEL'].str.contains('systolic'), 'Parameter'] = 'Non-invasive\\nsystolic\\nblood pressure\\n(mmHg)'\n",
    "item_id_count.loc[item_id_count['ITEMID_LABEL'].str.contains('diastolic'), 'Parameter'] = 'Non-invasive\\ndiastolic\\nblood pressure\\n(mmHg)'\n",
    "item_id_count.loc[item_id_count['ITEMID_LABEL'].str.contains('saturation'), 'Parameter'] = 'O2 saturation\\npulseoxymetry\\n(%)'\n",
    "\n",
    "print(item_id_count)"
   ],
   "metadata": {
    "collapsed": false,
    "pycharm": {
     "name": "#%%\n"
    }
   }
  },
  {
   "cell_type": "code",
   "execution_count": null,
   "outputs": [],
   "source": [
    "import seaborn as sns\n",
    "import matplotlib.pyplot as plt\n",
    "\n",
    "# Set variables\n",
    "title = 'CHARTEVENTS: Frequency by ITEMID'\n",
    "plotdata = item_id_count\n",
    "xlabel = 'Parameter'\n",
    "ylabel = 'Frequency'\n",
    "\n",
    "# Actual plot\n",
    "g = sns.catplot(\n",
    "    data=item_id_count,\n",
    "    kind='bar',\n",
    "    x='Parameter',\n",
    "    y='Count',\n",
    "    hue='Category',\n",
    "    ci='sd',\n",
    "    palette=sns.color_palette('colorblind'),\n",
    "    alpha=.6,\n",
    "    height=6,\n",
    "    legend=False)\n",
    "g.despine(left=True)\n",
    "\n",
    "g.set_axis_labels(xlabel, ylabel)\n",
    "g.fig.suptitle(title)\n",
    "plt.legend(loc='upper right')\n",
    "plt.tight_layout()\n",
    "\n",
    "plt.show()"
   ],
   "metadata": {
    "collapsed": false,
    "pycharm": {
     "name": "#%%\n"
    }
   }
  },
  {
   "cell_type": "markdown",
   "source": [
    "### How many measurements resp. thresholds exist per ICU stay?\n",
    "\n",
    "There are 2 to 89,387 data points per ICU stay."
   ],
   "metadata": {
    "collapsed": false
   }
  },
  {
   "cell_type": "code",
   "execution_count": null,
   "outputs": [],
   "source": [
    "icu_stay_count = chartevents_subset\\\n",
    "    .groupby(['ICUSTAY_ID'])\\\n",
    "    .size()\\\n",
    "    .reset_index(name='Count')\n",
    "\n",
    "icu_stay_count.Count.describe()"
   ],
   "metadata": {
    "collapsed": false,
    "pycharm": {
     "name": "#%%\n"
    }
   }
  },
  {
   "cell_type": "code",
   "execution_count": null,
   "outputs": [],
   "source": [
    "import seaborn as sns\n",
    "import matplotlib.pyplot as plt\n",
    "\n",
    "# Set variables\n",
    "title = 'CHARTEVENTS: Frequency by ICUSTAY_ID'\n",
    "plotdata = icu_stay_count\n",
    "xvalue = 'Count'\n",
    "xlabel = 'Frequency'\n",
    "\n",
    "# Actual plot\n",
    "sns.set_style('whitegrid')\n",
    "sns.stripplot(\n",
    "    data=plotdata,\n",
    "    x=xvalue,\n",
    "    palette=sns.color_palette('colorblind'))\n",
    "plt.title(title, fontsize=18)\n",
    "plt.xlabel(xlabel, fontsize=16)\n",
    "\n",
    "plt.show()"
   ],
   "metadata": {
    "collapsed": false,
    "pycharm": {
     "name": "#%%\n"
    }
   }
  },
  {
   "cell_type": "markdown",
   "source": [
    "### How many measurements resp. thresholds exist per ICU stay and ITEM ID?\n",
    "\n",
    "In general, there are 1 to 43,929 data points per ICU stay and ITEM ID. Especially for the heart rate and the oxygen saturation measurements, there are many data points for an ICU stay. After that, blood pressure was recorded next most frequently, with approximately up to 1,600 data points. The systolic and diastolic blood pressure distribution is very similar."
   ],
   "metadata": {
    "collapsed": false
   }
  },
  {
   "cell_type": "code",
   "execution_count": null,
   "outputs": [],
   "source": [
    "item_id_icu_stay_count = chartevents_subset\\\n",
    "    .groupby(['ITEMID_LABEL', 'ICUSTAY_ID'])\\\n",
    "    .size()\\\n",
    "    .reset_index(name='Count')\n",
    "item_id_icu_stay_count['ICUSTAY_ID'] = item_id_icu_stay_count['ICUSTAY_ID'].astype(int)\n",
    "item_id_icu_stay_count.sort_values(by=['Count'], inplace=True)\n",
    "\n",
    "item_id_icu_stay_count.Count.describe()"
   ],
   "metadata": {
    "collapsed": false,
    "pycharm": {
     "name": "#%%\n"
    }
   }
  },
  {
   "cell_type": "code",
   "execution_count": null,
   "outputs": [],
   "source": [
    "import seaborn as sns\n",
    "import matplotlib.pyplot as plt\n",
    "\n",
    "# Set variables\n",
    "title = 'CHARTEVENTS: Frequency by ITEMID and ICUSTAY_ID'\n",
    "plotdata = item_id_icu_stay_count\n",
    "xvalue = 'ITEMID_LABEL'\n",
    "yvalue = 'Count'\n",
    "xlabel = 'Item'\n",
    "ylabel = 'Frequency'\n",
    "\n",
    "# Actual plot\n",
    "sns.set_style('whitegrid')\n",
    "sns.set(rc={'figure.figsize':(20, 10)})\n",
    "sns.stripplot(\n",
    "    data=plotdata,\n",
    "    x=xvalue,\n",
    "    y=yvalue,\n",
    "    palette=sns.color_palette('colorblind'),\n",
    "    order=['Heart rate\\n(bpm)',\n",
    "           'Alarm threshold:\\nHigh\\nheart rate\\n(bpm)',\n",
    "           'Alarm threshold:\\nLow\\nheart rate\\n(bpm)',\n",
    "           'O2 saturation\\npulseoxymetry\\n(%)',\n",
    "           'Alarm threshold:\\nLow\\nO2 saturation\\n(%)',\n",
    "           'Alarm threshold:\\nHigh\\nO2 saturation\\n(%)',\n",
    "           'Non-invasive\\nsystolic\\nblood pressure\\n(mmHg)',\n",
    "           'Alarm threshold:\\nLow systolic\\nblood pressure\\n(mmHg)',\n",
    "           'Alarm threshold:\\nHigh systolic\\nblood pressure\\n(mmHg)',\n",
    "           'Non-invasive\\ndiastolic\\nblood pressure\\n(mmHg)'])\n",
    "plt.title(title, fontsize=18)\n",
    "plt.xlabel(xlabel, fontsize=16)\n",
    "plt.ylabel(ylabel, fontsize=16)\n",
    "plt.gca().set_ylim(bottom=0)\n",
    "\n",
    "plt.show()"
   ],
   "metadata": {
    "collapsed": false,
    "pycharm": {
     "name": "#%%\n"
    }
   }
  },
  {
   "cell_type": "code",
   "execution_count": null,
   "outputs": [],
   "source": [
    "# Look at same stripplot again without extrema (heart rate and oxygen saturation):\n",
    "\n",
    "import seaborn as sns\n",
    "import matplotlib.pyplot as plt\n",
    "\n",
    "# Set variables\n",
    "title = 'CHARTEVENTS: Frequency by ITEMID and ICUSTAY_ID'\n",
    "plotdata = item_id_icu_stay_count\n",
    "xvalue = 'ITEMID_LABEL'\n",
    "yvalue = 'Count'\n",
    "xlabel = 'Item'\n",
    "ylabel = 'Frequency'\n",
    "\n",
    "# Actual plot\n",
    "sns.set_style('whitegrid')\n",
    "sns.set(rc={'figure.figsize':(20, 10)})\n",
    "sns.stripplot(\n",
    "    data=plotdata,\n",
    "    x=xvalue,\n",
    "    y=yvalue,\n",
    "    palette=sns.color_palette('colorblind'),\n",
    "    order=['',\n",
    "           'Alarm threshold:\\nHigh\\nheart rate\\n(bpm)',\n",
    "           'Alarm threshold:\\nLow\\nheart rate\\n(bpm)',\n",
    "           '',\n",
    "           'Alarm threshold:\\nLow\\nO2 saturation\\n(%)',\n",
    "           'Alarm threshold:\\nHigh\\nO2 saturation\\n(%)',\n",
    "           'Non-invasive\\nsystolic\\nblood pressure\\n(mmHg)',\n",
    "           'Alarm threshold:\\nLow systolic\\nblood pressure\\n(mmHg)',\n",
    "           'Alarm threshold:\\nHigh systolic\\nblood pressure\\n(mmHg)',\n",
    "           'Non-invasive\\ndiastolic\\nblood pressure\\n(mmHg)'])\n",
    "plt.title(title, fontsize=18)\n",
    "plt.xlabel(xlabel, fontsize=16)\n",
    "plt.ylabel(ylabel, fontsize=16)\n",
    "plt.gca().set_ylim(bottom=0)\n",
    "\n",
    "plt.show()"
   ],
   "metadata": {
    "collapsed": false,
    "pycharm": {
     "name": "#%%\n"
    }
   }
  },
  {
   "cell_type": "code",
   "execution_count": null,
   "outputs": [],
   "source": [
    "item_id_icu_stay_count[(item_id_icu_stay_count['ITEMID_LABEL'] == 'Heart rate\\n(bpm)')].Count.describe()"
   ],
   "metadata": {
    "collapsed": false,
    "pycharm": {
     "name": "#%%\n"
    }
   }
  },
  {
   "cell_type": "code",
   "execution_count": null,
   "outputs": [],
   "source": [
    "item_id_icu_stay_count[(item_id_icu_stay_count['ITEMID_LABEL'] == 'O2 saturation\\npulseoxymetry\\n(%)')].Count.describe()"
   ],
   "metadata": {
    "collapsed": false,
    "pycharm": {
     "name": "#%%\n"
    }
   }
  },
  {
   "cell_type": "code",
   "execution_count": null,
   "outputs": [],
   "source": [
    "item_id_icu_stay_count[(item_id_icu_stay_count['ITEMID_LABEL'] == 'Non-invasive\\nsystolic\\nblood pressure\\n(mmHg)')].Count.describe()"
   ],
   "metadata": {
    "collapsed": false,
    "pycharm": {
     "name": "#%%\n"
    }
   }
  },
  {
   "cell_type": "code",
   "execution_count": null,
   "outputs": [],
   "source": [
    "item_id_icu_stay_count[(item_id_icu_stay_count['ITEMID_LABEL'] == 'Non-invasive\\ndiastolic\\nblood pressure\\n(mmHg)')].Count.describe()"
   ],
   "metadata": {
    "collapsed": false,
    "pycharm": {
     "name": "#%%\n"
    }
   }
  },
  {
   "cell_type": "markdown",
   "source": [
    "## Heart Rate Insights\n",
    "\n",
    "For the heart rate, we currently assume values from 0 to 350 bpm to be meaningful.\n",
    "\n",
    "### Heart Rate Measurements"
   ],
   "metadata": {
    "collapsed": false
   }
  },
  {
   "cell_type": "code",
   "execution_count": null,
   "outputs": [],
   "source": [
    "HR_measurements = chartevents_subset[(chartevents_subset['ITEMID'] == 220045)]\n",
    "HR_measurements.VALUENUM.describe()"
   ],
   "metadata": {
    "collapsed": false,
    "pycharm": {
     "name": "#%%\n"
    }
   }
  },
  {
   "cell_type": "code",
   "execution_count": null,
   "outputs": [],
   "source": [
    "HR_measurements.VALUEUOM.unique()"
   ],
   "metadata": {
    "collapsed": false,
    "pycharm": {
     "name": "#%%\n"
    }
   }
  },
  {
   "cell_type": "markdown",
   "source": [
    "Among the 2,761,436 heart rate measurements is at least one negative value (min = -88 bpm) and one too high value (max = 9,999,999 bpm). These appear to be implausible outliers. Let's consider several specific VALUENUM ranges."
   ],
   "metadata": {
    "collapsed": false
   }
  },
  {
   "cell_type": "code",
   "execution_count": null,
   "outputs": [],
   "source": [
    "HR_measurements_up_to_350 = HR_measurements[(HR_measurements['VALUENUM'] >= 0) & (HR_measurements['VALUENUM'] <= 350)]\n",
    "HR_measurements_up_to_350.VALUENUM.describe() # 2,761,422 values ranging from 0 to 280 bpm"
   ],
   "metadata": {
    "collapsed": false,
    "pycharm": {
     "name": "#%%\n"
    }
   }
  },
  {
   "cell_type": "code",
   "execution_count": null,
   "outputs": [],
   "source": [
    "HR_measurements_up_to_350.VALUENUM.value_counts().sort_index()"
   ],
   "metadata": {
    "collapsed": false,
    "pycharm": {
     "name": "#%%\n"
    }
   }
  },
  {
   "cell_type": "code",
   "execution_count": null,
   "outputs": [],
   "source": [
    "import seaborn as sns\n",
    "import matplotlib.pyplot as plt\n",
    "\n",
    "# Set variables\n",
    "title = 'CHARTEVENTS: Cleaned Heart Rate Measurements (0 - 280 bpm)'\n",
    "xlabel = 'Value'\n",
    "plotdata = HR_measurements_up_to_350\n",
    "xvalue = 'VALUENUM'\n",
    "\n",
    "# Actual plot\n",
    "sns.set_style('whitegrid')\n",
    "fig, (fig_box, fig_hist) = plt.subplots(\n",
    "    2,\n",
    "    sharex=True,\n",
    "    gridspec_kw={'height_ratios': (.15, .85)},\n",
    "    figsize=(10, 5)\n",
    "    )\n",
    "fig.suptitle(title, fontweight='bold', color= 'black', fontsize=14, y=1)\n",
    "sns.boxplot(ax=fig_box, data=plotdata, x=xvalue, palette=sns.color_palette('colorblind'))\n",
    "fig_box.set(xlabel='')\n",
    "sns.histplot(ax=fig_hist, data=plotdata, x=xvalue, kde=True, palette=sns.color_palette('colorblind'))\n",
    "fig_hist.set_xlabel(xlabel, fontsize=12, labelpad=15)\n",
    "fig_hist.set_ylabel('Count', fontsize=12, labelpad=15)\n",
    "\n",
    "plt.show()"
   ],
   "metadata": {
    "collapsed": false,
    "pycharm": {
     "name": "#%%\n"
    }
   }
  },
  {
   "cell_type": "code",
   "execution_count": null,
   "outputs": [],
   "source": [
    "HR_measurements_over_350 = HR_measurements[HR_measurements['VALUENUM'] > 350]\n",
    "HR_measurements_over_350.VALUENUM.value_counts().sort_index() # 12 outliers in range from 459 to 9,999,999 bpm"
   ],
   "metadata": {
    "collapsed": false,
    "pycharm": {
     "name": "#%%\n"
    }
   }
  },
  {
   "cell_type": "code",
   "execution_count": null,
   "outputs": [],
   "source": [
    "HR_measurements_negative = HR_measurements[HR_measurements['VALUENUM'] < 0]\n",
    "HR_measurements_negative.VALUENUM.value_counts().sort_index() # two outliers"
   ],
   "metadata": {
    "collapsed": false,
    "pycharm": {
     "name": "#%%\n"
    }
   }
  },
  {
   "cell_type": "markdown",
   "source": [
    "Most of the 2,761,436 heart rate measurements are in the range currently assumed to be reasonable (0 to 280 bpm). There are just two negative (-88 and -1 bpm) and one extreme high (9,999,999 bpm) outlier. The remaining 11 measurements, which are outside the range mentioned (459 to 86,101 bpm), each occur only once."
   ],
   "metadata": {
    "collapsed": false
   }
  },
  {
   "cell_type": "markdown",
   "source": [
    "### Heart Rate Thresholds\n",
    "\n",
    "#### Heart Rate - LOW Thresholds"
   ],
   "metadata": {
    "collapsed": false
   }
  },
  {
   "cell_type": "code",
   "execution_count": null,
   "outputs": [],
   "source": [
    "HR_thresholds_low = chartevents_subset[(chartevents_subset['ITEMID'] == 220047)]\n",
    "HR_thresholds_low.VALUENUM.describe()"
   ],
   "metadata": {
    "collapsed": false,
    "pycharm": {
     "name": "#%%\n"
    }
   }
  },
  {
   "cell_type": "markdown",
   "source": [
    "Among the 215,805 LOW thresholds for the heart rate is at least one negative value (min = -50 bpm) and one too high value (max = 85,160 bpm). These appear to be implausible outliers. Let's consider several specific VALUENUM ranges."
   ],
   "metadata": {
    "collapsed": false
   }
  },
  {
   "cell_type": "code",
   "execution_count": null,
   "outputs": [],
   "source": [
    "HR_thresholds_low_up_to_350 = HR_thresholds_low[(HR_thresholds_low['VALUENUM'] >= 0) & (HR_thresholds_low['VALUENUM'] <= 350)]\n",
    "HR_thresholds_low_up_to_350.VALUENUM.describe() # ranges from 0 to 300 bpm"
   ],
   "metadata": {
    "collapsed": false,
    "pycharm": {
     "name": "#%%\n"
    }
   }
  },
  {
   "cell_type": "code",
   "execution_count": null,
   "outputs": [],
   "source": [
    "HR_thresholds_low_negative = HR_thresholds_low[HR_thresholds_low['VALUENUM'] < 0]\n",
    "HR_thresholds_low_negative.VALUENUM.value_counts().sort_index() # one outlier at -50 bpm"
   ],
   "metadata": {
    "collapsed": false,
    "pycharm": {
     "name": "#%%\n"
    }
   }
  },
  {
   "cell_type": "code",
   "execution_count": null,
   "outputs": [],
   "source": [
    "HR_thresholds_low_above_350 = HR_thresholds_low[HR_thresholds_low['VALUENUM'] > 350]\n",
    "HR_thresholds_low_above_350.VALUENUM.value_counts().sort_index() # 53 outliers in range from 360 to 85,160 bpm"
   ],
   "metadata": {
    "collapsed": false,
    "pycharm": {
     "name": "#%%\n"
    }
   }
  },
  {
   "cell_type": "markdown",
   "source": [
    "Most of the 215,805 LOW thresholds for the heart rate are in the range currently assumed to be reasonable (0 to 300 bpm). There are one negative (-50 bpm) and 53 values that exceed this range (360 to 85,160 bpm). It may be necessary to keep some of these exceeding values, since e.g. the 360 was filtered out very narrowly."
   ],
   "metadata": {
    "collapsed": false
   }
  },
  {
   "cell_type": "markdown",
   "source": [
    "#### Heart Rate - HIGH Thresholds"
   ],
   "metadata": {
    "collapsed": false
   }
  },
  {
   "cell_type": "code",
   "execution_count": null,
   "outputs": [],
   "source": [
    "HR_thresholds_high = chartevents_subset[(chartevents_subset['ITEMID'] == 220046)]\n",
    "HR_thresholds_high.VALUENUM.describe()"
   ],
   "metadata": {
    "collapsed": false,
    "pycharm": {
     "name": "#%%\n"
    }
   }
  },
  {
   "cell_type": "markdown",
   "source": [
    "Among the 215,658 HIGH thresholds for the heart rate are only positive values but some of them are quite high (max = 180,160 bpm). These appear to be implausible outliers. Let's consider several specific VALUENUM ranges."
   ],
   "metadata": {
    "collapsed": false
   }
  },
  {
   "cell_type": "code",
   "execution_count": null,
   "outputs": [],
   "source": [
    "HR_thresholds_high_up_to_350 = HR_thresholds_high[HR_thresholds_high['VALUENUM'] <= 350]\n",
    "HR_thresholds_high_up_to_350.VALUENUM.describe() # ranges from 0 to 300 bpm"
   ],
   "metadata": {
    "collapsed": false,
    "pycharm": {
     "name": "#%%\n"
    }
   }
  },
  {
   "cell_type": "code",
   "execution_count": null,
   "outputs": [],
   "source": [
    "HR_thresholds_high_above_350 = HR_thresholds_high[HR_thresholds_high['VALUENUM'] > 350]\n",
    "HR_thresholds_high_above_350.VALUENUM.value_counts().sort_index() # 103 outliers in range from 420 to 180,160 bpm"
   ],
   "metadata": {
    "collapsed": false,
    "pycharm": {
     "name": "#%%\n"
    }
   }
  },
  {
   "cell_type": "markdown",
   "source": [
    "Most of the 215,658 HIGH thresholds for the heart rate are in the range currently assumed to be reasonable (0 to 300 bpm). There are 103 values that exceed this range (420 to 180,160 bpm). It may be necessary to keep some of these exceeding values, since e.g. there is a big gap 'after' 420 and since there is a cluster around 1200."
   ],
   "metadata": {
    "collapsed": false
   }
  },
  {
   "cell_type": "markdown",
   "source": [
    "#### Heart Rate - Cleaned Threshold Visualization"
   ],
   "metadata": {
    "collapsed": false
   }
  },
  {
   "cell_type": "code",
   "execution_count": null,
   "outputs": [],
   "source": [
    "import numpy as np\n",
    "\n",
    "# Concat cleaned heart rate threshold data frames\n",
    "cleaned_HR_thresholds = pd.concat([HR_thresholds_low_up_to_350, HR_thresholds_high_up_to_350])\n",
    "\n",
    "# Add threshold type column for viz\n",
    "cleaned_HR_thresholds.insert(loc=len(cleaned_HR_thresholds.columns), column='THRESHOLD_TYPE', value=np.nan)\n",
    "\n",
    "cleaned_HR_thresholds.loc[cleaned_HR_thresholds['ITEMID'] == 220046, 'THRESHOLD_TYPE'] = 'HIGH'\n",
    "cleaned_HR_thresholds.loc[cleaned_HR_thresholds['ITEMID'] == 220047, 'THRESHOLD_TYPE'] = 'LOW'"
   ],
   "metadata": {
    "collapsed": false,
    "pycharm": {
     "name": "#%%\n"
    }
   }
  },
  {
   "cell_type": "code",
   "execution_count": null,
   "outputs": [],
   "source": [
    "import matplotlib.pyplot as plt\n",
    "import seaborn as sns\n",
    "\n",
    "# Set variables\n",
    "title = 'CHARTEVENTS: Cleaned Heart Rate Thresholds (0 - 300 bpm)'\n",
    "xlabel = 'Threshold Value of Heart Rate (bpm)'\n",
    "plotdata = cleaned_HR_thresholds\n",
    "xvalue = 'VALUENUM'\n",
    "stratify_by = 'THRESHOLD_TYPE'\n",
    "\n",
    "# Config figure\n",
    "sns.set_style('whitegrid')\n",
    "fig, axs = plt.subplots(1, 3, figsize=(20, 5))\n",
    "fig.suptitle(title, fontweight='bold', color= 'black', fontsize=14, y=1)\n",
    "\n",
    "# Actual plots\n",
    "sns.histplot(ax=axs[0], data=plotdata, x=xvalue, hue=stratify_by, palette=[sns.color_palette('colorblind')[0],sns.color_palette('colorblind')[1]])\n",
    "axs[0].set_title('Histogram (overlapping)', fontsize=12)\n",
    "axs[0].set_xlabel(xlabel, fontsize=12)\n",
    "axs[0].set_ylabel('Frequency', fontsize=12)\n",
    "\n",
    "sns.histplot(ax=axs[1], data=plotdata, x=xvalue, hue=stratify_by, multiple='stack', palette=[sns.color_palette('colorblind')[0],sns.color_palette('colorblind')[1]])\n",
    "axs[1].set_title('Histogram (stacked)', fontsize=12)\n",
    "axs[1].set_xlabel(xlabel, fontsize=12)\n",
    "axs[1].set_ylabel('Frequency', fontsize=12)\n",
    "\n",
    "sns.kdeplot(ax=axs[2], data=plotdata, x=xvalue, hue=stratify_by, palette=[sns.color_palette('colorblind')[0],sns.color_palette('colorblind')[1]])\n",
    "axs[2].set_title('Kernel Density Estimate (KDE)', fontsize=12)\n",
    "axs[2].set_xlabel(xlabel, fontsize=12)\n",
    "axs[2].set_ylabel('Density', fontsize=12)\n",
    "\n",
    "plt.show(fig)"
   ],
   "metadata": {
    "collapsed": false,
    "pycharm": {
     "name": "#%%\n"
    }
   }
  },
  {
   "cell_type": "code",
   "execution_count": null,
   "outputs": [],
   "source": [
    "import seaborn as sns\n",
    "import matplotlib.pyplot as plt\n",
    "import math\n",
    "\n",
    "# Round up to the nearest ten\n",
    "def roundup(x):\n",
    "    return int(math.ceil(x / 10.0)) * 10\n",
    "\n",
    "# Set variables\n",
    "title = 'CHARTEVENTS: Cleaned Heart Rate Thresholds (0 - 300 bpm)'\n",
    "xlabel = 'Threshold Value for Heart Rate (bpm)'\n",
    "ylabel = 'Threshold Type'\n",
    "plotdata = cleaned_HR_thresholds\n",
    "xvalue = 'VALUENUM'\n",
    "yvalue = 'THRESHOLD_TYPE'\n",
    "xlimpadding = 5 # Padding added to the x axis limits\n",
    "xticks_steps = 30\n",
    "xticks_lower = plotdata[xvalue].min() - (plotdata[xvalue].min() % 10) # rounds down the minimum xvalue to the nearest ten\n",
    "xticks_upper = roundup( plotdata[xvalue].max() ) + xticks_steps # rounds up the maximum xvalue to the nearest ten\n",
    "\n",
    "# Config figure\n",
    "sns.set_style('whitegrid')\n",
    "fig, axs = plt.subplots(\n",
    "    3,\n",
    "    1,\n",
    "    figsize = (10, 15),\n",
    "    sharex = True,\n",
    "    dpi = 72 # e.g. 72 for screen, 300 for print\n",
    "    )\n",
    "fig.suptitle(title, fontweight='bold', color= 'black', fontsize=14, y=0.9)\n",
    "fig.subplots_adjust(hspace = 0.1)\n",
    "\n",
    "# Actual plots\n",
    "sns.stripplot(\n",
    "    ax = axs[0],\n",
    "    data = plotdata,\n",
    "    x = xvalue,\n",
    "    y = yvalue,\n",
    "    palette = sns.color_palette('colorblind')\n",
    "    )\n",
    "axs[0].set_xlabel('')\n",
    "axs[0].set_ylabel(ylabel, fontsize=12, labelpad=15)\n",
    "axs[0].set_xticks(np.arange(xticks_lower, xticks_upper, xticks_steps))\n",
    "axs[0].grid(b=True, which='both')\n",
    "axs[0].margins(.1)\n",
    "\n",
    "sns.boxplot(\n",
    "    ax = axs[1],\n",
    "    data = plotdata,\n",
    "    x = xvalue,\n",
    "    y = yvalue,\n",
    "    palette = sns.color_palette('colorblind')\n",
    "    )\n",
    "axs[1].set_xlabel('')\n",
    "axs[1].set_ylabel(ylabel, fontsize=12, labelpad=15)\n",
    "axs[1].set_xticks(np.arange(xticks_lower, xticks_upper, xticks_steps))\n",
    "axs[1].grid(b=True, which='both')\n",
    "axs[1].margins(.1)\n",
    "\n",
    "sns.violinplot(\n",
    "    ax = axs[2],\n",
    "    data = plotdata,\n",
    "    x = xvalue,\n",
    "    y = yvalue,\n",
    "    palette = sns.color_palette('colorblind')\n",
    "    )\n",
    "axs[2].set_xlabel(xlabel, fontsize=12, labelpad=15)\n",
    "axs[2].set_ylabel(ylabel, fontsize=12, labelpad=15)\n",
    "axs[2].set_xticks(np.arange(xticks_lower, xticks_upper, xticks_steps))\n",
    "axs[2].grid(b=True, which='both')\n",
    "axs[2].margins(.1)\n",
    "\n",
    "plt.show(fig)"
   ],
   "metadata": {
    "collapsed": false,
    "pycharm": {
     "name": "#%%\n"
    }
   }
  },
  {
   "cell_type": "markdown",
   "source": [
    "## Oxygen Saturation Insights\n",
    "\n",
    "For the oxygen saturation, we currently assume values from 0 to 100% to be meaningful.\n",
    "\n",
    "### Oxygen Saturation Measurements"
   ],
   "metadata": {
    "collapsed": false
   }
  },
  {
   "cell_type": "code",
   "execution_count": null,
   "outputs": [],
   "source": [
    "OS_measurements = chartevents_subset[(chartevents_subset['ITEMID'] == 220277)]\n",
    "OS_measurements.VALUENUM.describe()"
   ],
   "metadata": {
    "collapsed": false,
    "pycharm": {
     "name": "#%%\n"
    }
   }
  },
  {
   "cell_type": "code",
   "execution_count": null,
   "outputs": [],
   "source": [
    "OS_measurements.VALUEUOM.unique()"
   ],
   "metadata": {
    "collapsed": false,
    "pycharm": {
     "name": "#%%\n"
    }
   }
  },
  {
   "cell_type": "markdown",
   "source": [
    "Among the 2,669,618 oxygen saturation measurements is at least one too high value (max = 6,363,333%). Let's consider several specific VALUENUM ranges."
   ],
   "metadata": {
    "collapsed": false
   }
  },
  {
   "cell_type": "code",
   "execution_count": null,
   "outputs": [],
   "source": [
    "OS_measurements_up_to_100 = OS_measurements[OS_measurements['VALUENUM'] <= 100]\n",
    "OS_measurements_up_to_100.VALUENUM.describe() # 2,669,575 values ranging from 0 to 100%"
   ],
   "metadata": {
    "collapsed": false,
    "pycharm": {
     "name": "#%%\n"
    }
   }
  },
  {
   "cell_type": "code",
   "execution_count": null,
   "outputs": [],
   "source": [
    "import seaborn as sns\n",
    "import matplotlib.pyplot as plt\n",
    "\n",
    "# Set variables\n",
    "title = 'CHARTEVENTS: Cleaned Oxygen Saturation Measurements (0 - 100%)'\n",
    "xlabel = 'Value'\n",
    "plotdata = OS_measurements_up_to_100\n",
    "xvalue = 'VALUENUM'\n",
    "\n",
    "# Actual plot\n",
    "sns.set_style('whitegrid')\n",
    "fig, (fig_box, fig_hist) = plt.subplots(\n",
    "    2,\n",
    "    sharex=True,\n",
    "    gridspec_kw={'height_ratios': (.15, .85)},\n",
    "    figsize=(10, 5)\n",
    "    )\n",
    "fig.suptitle(title, fontweight='bold', color= 'black', fontsize=14, y=1)\n",
    "sns.boxplot(ax=fig_box, data=plotdata, x=xvalue, palette=sns.color_palette('colorblind'))\n",
    "fig_box.set(xlabel='')\n",
    "sns.histplot(ax=fig_hist, data=plotdata, x=xvalue, kde=True, palette=sns.color_palette('colorblind'))\n",
    "fig_hist.set_xlabel(xlabel, fontsize=12, labelpad=15)\n",
    "fig_hist.set_ylabel('Frequency', fontsize=12, labelpad=15)\n",
    "\n",
    "plt.show()"
   ],
   "metadata": {
    "collapsed": false,
    "pycharm": {
     "name": "#%%\n"
    }
   }
  },
  {
   "cell_type": "code",
   "execution_count": null,
   "outputs": [],
   "source": [
    "OS_measurements_over_100 = OS_measurements[OS_measurements['VALUENUM'] > 100]\n",
    "OS_measurements_over_100.VALUENUM.value_counts().sort_index() # 43 outliers in range from 110 to 6,363,333%"
   ],
   "metadata": {
    "collapsed": false,
    "pycharm": {
     "name": "#%%\n"
    }
   }
  },
  {
   "cell_type": "markdown",
   "source": [
    "Most of the 2,669,618 oxygen saturation measurements are in the range currently assumed to be reasonable (0 to 100%). There are just 43 values exceeding this range (110 to 6,363,333%). It may be necessary to keep some of these exceeding values, since e.g. the 110, 198 and 220% were filtered out very narrowly in contrast to the other values."
   ],
   "metadata": {
    "collapsed": false
   }
  },
  {
   "cell_type": "markdown",
   "source": [
    "### Oxygen Saturation Thresholds\n",
    "\n",
    "#### Oxygen Saturation - LOW Thresholds"
   ],
   "metadata": {
    "collapsed": false
   }
  },
  {
   "cell_type": "code",
   "execution_count": null,
   "outputs": [],
   "source": [
    "OS_thresholds_low = chartevents_subset[(chartevents_subset['ITEMID'] == 223770)]\n",
    "OS_thresholds_low.VALUENUM.describe()"
   ],
   "metadata": {
    "collapsed": false,
    "pycharm": {
     "name": "#%%\n"
    }
   }
  },
  {
   "cell_type": "markdown",
   "source": [
    "Among the 213,238 LOW thresholds for the oxygen saturation is at least one negative value (min = -92%) and one too high value (max = 90,100%). These appear to be implausible outliers. Let's consider several specific VALUENUM ranges."
   ],
   "metadata": {
    "collapsed": false
   }
  },
  {
   "cell_type": "code",
   "execution_count": null,
   "outputs": [],
   "source": [
    "OS_thresholds_low_up_to_100 = OS_thresholds_low[(OS_thresholds_low['VALUENUM'] >= 0) & (OS_thresholds_low['VALUENUM'] <= 100)]\n",
    "OS_thresholds_low_up_to_100.VALUENUM.describe() # 213,200 values ranging from 0 to 100%"
   ],
   "metadata": {
    "collapsed": false,
    "pycharm": {
     "name": "#%%\n"
    }
   }
  },
  {
   "cell_type": "code",
   "execution_count": null,
   "outputs": [],
   "source": [
    "OS_thresholds_low_negative = OS_thresholds_low[OS_thresholds_low['VALUENUM'] < 0]\n",
    "OS_thresholds_low_negative.VALUENUM.value_counts().sort_index() # one outlier at -92%"
   ],
   "metadata": {
    "collapsed": false,
    "pycharm": {
     "name": "#%%\n"
    }
   }
  },
  {
   "cell_type": "code",
   "execution_count": null,
   "outputs": [],
   "source": [
    "OS_thresholds_low_above_100 = OS_thresholds_low[OS_thresholds_low['VALUENUM'] > 100]\n",
    "OS_thresholds_low_above_100.VALUENUM.value_counts().sort_index() # 37 outliers in range from 160 to 90,100%"
   ],
   "metadata": {
    "collapsed": false,
    "pycharm": {
     "name": "#%%\n"
    }
   }
  },
  {
   "cell_type": "markdown",
   "source": [
    "Most of the 213,238 LOW thresholds for the oxygen saturation are in the range currently assumed to be reasonable (0 to 100%). There are one negative (-92%) and 37 values that exceed this range (160 to 90,100%). Among these values could be some with comma errors, e.g. 952% should be 95.2%."
   ],
   "metadata": {
    "collapsed": false
   }
  },
  {
   "cell_type": "markdown",
   "source": [
    "#### Oxygen Saturation - HIGH Thresholds"
   ],
   "metadata": {
    "collapsed": false
   }
  },
  {
   "cell_type": "code",
   "execution_count": null,
   "outputs": [],
   "source": [
    "OS_thresholds_high = chartevents_subset[(chartevents_subset['ITEMID'] == 223769)]\n",
    "OS_thresholds_high.VALUENUM.describe()"
   ],
   "metadata": {
    "collapsed": false,
    "pycharm": {
     "name": "#%%\n"
    }
   }
  },
  {
   "cell_type": "markdown",
   "source": [
    "Among the 212,230 HIGH thresholds for the oxygen saturation are only positive values but some of them are quite high (max = 100,185%). These appear to be implausible outliers. Let's consider several specific VALUENUM ranges."
   ],
   "metadata": {
    "collapsed": false
   }
  },
  {
   "cell_type": "code",
   "execution_count": null,
   "outputs": [],
   "source": [
    "OS_thresholds_high_up_to_100 = OS_thresholds_high[OS_thresholds_high['VALUENUM'] <= 100]\n",
    "OS_thresholds_high_up_to_100.VALUENUM.describe() # 211,685 values ranging from 0 to 100%"
   ],
   "metadata": {
    "collapsed": false,
    "pycharm": {
     "name": "#%%\n"
    }
   }
  },
  {
   "cell_type": "code",
   "execution_count": null,
   "outputs": [],
   "source": [
    "OS_thresholds_high_above_100 = OS_thresholds_high[OS_thresholds_high['VALUENUM'] > 100]\n",
    "OS_thresholds_high_above_100.VALUENUM.describe() # 545 outliers in range from 101 to 100,185%"
   ],
   "metadata": {
    "collapsed": false,
    "pycharm": {
     "name": "#%%\n"
    }
   }
  },
  {
   "cell_type": "markdown",
   "source": [
    "Most of the 212,230 HIGH thresholds for the oxygen saturation are in the range currently assumed to be reasonable (0 to 100%). There are 545 values that exceed this range (101 to 100,185%). Strangely enough, there are some values among them that occur much more frequently than the outliers before."
   ],
   "metadata": {
    "collapsed": false
   }
  },
  {
   "cell_type": "markdown",
   "source": [
    "#### Oxygen Saturation - Cleaned Threshold Visualization"
   ],
   "metadata": {
    "collapsed": false
   }
  },
  {
   "cell_type": "code",
   "execution_count": null,
   "outputs": [],
   "source": [
    "import numpy as np\n",
    "\n",
    "# Concat cleaned heart rate threshold data frames\n",
    "cleaned_OS_thresholds = pd.concat([OS_thresholds_low_up_to_100, OS_thresholds_high_up_to_100])\n",
    "\n",
    "# Add threshold type column for viz\n",
    "cleaned_OS_thresholds.insert(loc=len(cleaned_OS_thresholds.columns), column='THRESHOLD_TYPE', value=np.nan)\n",
    "\n",
    "cleaned_OS_thresholds.loc[cleaned_OS_thresholds['ITEMID'] == 223769, 'THRESHOLD_TYPE'] = 'HIGH'\n",
    "cleaned_OS_thresholds.loc[cleaned_OS_thresholds['ITEMID'] == 223770, 'THRESHOLD_TYPE'] = 'LOW'"
   ],
   "metadata": {
    "collapsed": false,
    "pycharm": {
     "name": "#%%\n"
    }
   }
  },
  {
   "cell_type": "code",
   "execution_count": null,
   "outputs": [],
   "source": [
    "import matplotlib.pyplot as plt\n",
    "import seaborn as sns\n",
    "\n",
    "# Set variables\n",
    "title = 'CHARTEVENTS: Cleaned Oxygen Saturation Thresholds (0 - 100%)'\n",
    "xlabel = 'Threshold Value of Oxygen Saturation (%)'\n",
    "plotdata = cleaned_OS_thresholds\n",
    "xvalue = 'VALUENUM'\n",
    "stratify_by = 'THRESHOLD_TYPE'\n",
    "\n",
    "# Config figure\n",
    "sns.set_style('whitegrid')\n",
    "fig, axs = plt.subplots(1, 3, figsize=(20, 5))\n",
    "fig.suptitle(title, fontweight='bold', color= 'black', fontsize=14, y=1)\n",
    "\n",
    "# Actual plots\n",
    "sns.histplot(ax=axs[0], data=plotdata, x=xvalue, hue=stratify_by, palette=[sns.color_palette('colorblind')[0],sns.color_palette('colorblind')[1]])\n",
    "axs[0].set_title('Histogram (overlapping)', fontsize=12)\n",
    "axs[0].set_xlabel(xlabel, fontsize=12)\n",
    "axs[0].set_ylabel('Frequency', fontsize=12)\n",
    "\n",
    "sns.histplot(ax=axs[1], data=plotdata, x=xvalue, hue=stratify_by, multiple='stack', palette=[sns.color_palette('colorblind')[0],sns.color_palette('colorblind')[1]])\n",
    "axs[1].set_title('Histogram (stacked)', fontsize=12)\n",
    "axs[1].set_xlabel(xlabel, fontsize=12)\n",
    "axs[1].set_ylabel('Frequency', fontsize=12)\n",
    "\n",
    "sns.kdeplot(ax=axs[2], data=plotdata, x=xvalue, hue=stratify_by, palette=[sns.color_palette('colorblind')[0],sns.color_palette('colorblind')[1]])\n",
    "axs[2].set_title('Kernel Density Estimate (KDE)', fontsize=12)\n",
    "axs[2].set_xlabel(xlabel, fontsize=12)\n",
    "axs[2].set_ylabel('Density', fontsize=12)\n",
    "\n",
    "plt.show(fig)"
   ],
   "metadata": {
    "collapsed": false,
    "pycharm": {
     "name": "#%%\n"
    }
   }
  },
  {
   "cell_type": "code",
   "execution_count": null,
   "outputs": [],
   "source": [
    "import seaborn as sns\n",
    "import matplotlib.pyplot as plt\n",
    "import math\n",
    "\n",
    "# Round up to the nearest ten\n",
    "def roundup(x):\n",
    "    return int(math.ceil(x / 10.0)) * 10\n",
    "\n",
    "# Set variables\n",
    "title = 'CHARTEVENTS: Cleaned Oxygen Saturation Thresholds (0 - 100%)'\n",
    "xlabel = 'Threshold Value for Oxygen Saturation (%)'\n",
    "ylabel = 'Threshold Type'\n",
    "plotdata = cleaned_OS_thresholds\n",
    "xvalue = 'VALUENUM'\n",
    "yvalue = 'THRESHOLD_TYPE'\n",
    "xlimpadding = 5 # Padding added to the x axis limits\n",
    "xticks_steps = 10\n",
    "xticks_lower = plotdata[xvalue].min() - (plotdata[xvalue].min() % 10) # rounds down the minimum xvalue to the nearest ten\n",
    "xticks_upper = roundup( plotdata[xvalue].max() ) + xticks_steps # rounds up the maximum xvalue to the nearest ten\n",
    "\n",
    "# Config figure\n",
    "sns.set_style('whitegrid')\n",
    "fig, axs = plt.subplots(\n",
    "    3,\n",
    "    1,\n",
    "    figsize = (10, 15),\n",
    "    sharex = True,\n",
    "    dpi = 72 # e.g. 72 for screen, 300 for print\n",
    "    )\n",
    "fig.suptitle(title, fontweight='bold', color= 'black', fontsize=14, y=0.9)\n",
    "fig.subplots_adjust(hspace = 0.1)\n",
    "\n",
    "# Actual plots\n",
    "sns.stripplot(\n",
    "    ax = axs[0],\n",
    "    data = plotdata,\n",
    "    x = xvalue,\n",
    "    y = yvalue,\n",
    "    palette = sns.color_palette('colorblind')\n",
    "    )\n",
    "axs[0].set_xlabel('')\n",
    "axs[0].set_ylabel(ylabel, fontsize=12, labelpad=15)\n",
    "axs[0].set_xticks(np.arange(xticks_lower, xticks_upper, xticks_steps))\n",
    "axs[0].grid(b=True, which='both')\n",
    "axs[0].margins(.1)\n",
    "\n",
    "sns.boxplot(\n",
    "    ax = axs[1],\n",
    "    data = plotdata,\n",
    "    x = xvalue,\n",
    "    y = yvalue,\n",
    "    palette = sns.color_palette('colorblind')\n",
    "    )\n",
    "axs[1].set_xlabel('')\n",
    "axs[1].set_ylabel(ylabel, fontsize=12, labelpad=15)\n",
    "axs[1].set_xticks(np.arange(xticks_lower, xticks_upper, xticks_steps))\n",
    "axs[1].grid(b=True, which='both')\n",
    "axs[1].margins(.1)\n",
    "\n",
    "sns.violinplot(\n",
    "    ax = axs[2],\n",
    "    data = plotdata,\n",
    "    x = xvalue,\n",
    "    y = yvalue,\n",
    "    palette = sns.color_palette('colorblind')\n",
    "    )\n",
    "axs[2].set_xlabel(xlabel, fontsize=12, labelpad=15)\n",
    "axs[2].set_ylabel(ylabel, fontsize=12, labelpad=15)\n",
    "axs[2].set_xticks(np.arange(xticks_lower, xticks_upper, xticks_steps))\n",
    "axs[2].grid(b=True, which='both')\n",
    "axs[2].margins(.1)\n",
    "\n",
    "plt.show(fig)"
   ],
   "metadata": {
    "collapsed": false,
    "pycharm": {
     "name": "#%%\n"
    }
   }
  },
  {
   "cell_type": "markdown",
   "source": [
    "## Non-invasive, Systolic Blood Pressure Insights\n",
    "\n",
    "For the non-invasive, systolic blood pressure, we currently assume values from 0 to 375 mmHg to be meaningful.\n",
    "\n",
    "### Non-invasive, Systolic Blood Pressure Measurements"
   ],
   "metadata": {
    "collapsed": false
   }
  },
  {
   "cell_type": "code",
   "execution_count": null,
   "outputs": [],
   "source": [
    "NBPs_measurements = chartevents_subset[(chartevents_subset['ITEMID'] == 220179)]\n",
    "NBPs_measurements.VALUENUM.describe()"
   ],
   "metadata": {
    "collapsed": false,
    "pycharm": {
     "name": "#%%\n"
    }
   }
  },
  {
   "cell_type": "code",
   "execution_count": null,
   "outputs": [],
   "source": [
    "NBPs_measurements.VALUEUOM.unique()"
   ],
   "metadata": {
    "collapsed": false,
    "pycharm": {
     "name": "#%%\n"
    }
   }
  },
  {
   "cell_type": "markdown",
   "source": [
    "Among the 1,289,001 non-invasive, systolic blood pressure measurements is at least one negative (min = -69 mmHg) and one too high value (max = 141,146 mmHg). Let's consider several specific VALUENUM ranges."
   ],
   "metadata": {
    "collapsed": false
   }
  },
  {
   "cell_type": "code",
   "execution_count": null,
   "outputs": [],
   "source": [
    "NBPs_measurements_up_to_375 = NBPs_measurements[(NBPs_measurements['VALUENUM'] >= 0) & (NBPs_measurements['VALUENUM'] <= 375)]\n",
    "NBPs_measurements_up_to_375.VALUENUM.describe() # 1,288,985 values ranging from 0 to 315 mmHg"
   ],
   "metadata": {
    "collapsed": false,
    "pycharm": {
     "name": "#%%\n"
    }
   }
  },
  {
   "cell_type": "code",
   "execution_count": null,
   "outputs": [],
   "source": [
    "import seaborn as sns\n",
    "import matplotlib.pyplot as plt\n",
    "\n",
    "# Set variables\n",
    "title = 'CHARTEVENTS: Cleaned Systolic Blood Pressure Measurements (0 - 315 mmHg)'\n",
    "xlabel = 'Value'\n",
    "plotdata = NBPs_measurements_up_to_375\n",
    "xvalue = 'VALUENUM'\n",
    "\n",
    "# Actual plot\n",
    "sns.set_style('whitegrid')\n",
    "fig, (fig_box, fig_hist) = plt.subplots(\n",
    "    2,\n",
    "    sharex=True,\n",
    "    gridspec_kw={'height_ratios': (.15, .85)},\n",
    "    figsize=(10, 5)\n",
    "    )\n",
    "fig.suptitle(title, fontweight='bold', color= 'black', fontsize=14, y=1)\n",
    "sns.boxplot(ax=fig_box, data=plotdata, x=xvalue, palette=sns.color_palette('colorblind'))\n",
    "fig_box.set(xlabel='')\n",
    "sns.histplot(ax=fig_hist, data=plotdata, x=xvalue, kde=True, palette=sns.color_palette('colorblind'))\n",
    "fig_hist.set_xlabel(xlabel, fontsize=12, labelpad=15)\n",
    "fig_hist.set_ylabel('Frequency', fontsize=12, labelpad=15)\n",
    "\n",
    "plt.show()"
   ],
   "metadata": {
    "collapsed": false,
    "pycharm": {
     "name": "#%%\n"
    }
   }
  },
  {
   "cell_type": "code",
   "execution_count": null,
   "outputs": [],
   "source": [
    "NBPs_measurements_negative = NBPs_measurements[NBPs_measurements['VALUENUM'] < 0]\n",
    "NBPs_measurements_negative.VALUENUM.value_counts().sort_index() # one outlier at -69 mmHg"
   ],
   "metadata": {
    "collapsed": false,
    "pycharm": {
     "name": "#%%\n"
    }
   }
  },
  {
   "cell_type": "code",
   "execution_count": null,
   "outputs": [],
   "source": [
    "NBPs_measurements_over_375 = NBPs_measurements[NBPs_measurements['VALUENUM'] > 375]\n",
    "NBPs_measurements_over_375.VALUENUM.value_counts().sort_index() # 15 outliers in range from 840 to 141,146.04 mmHg"
   ],
   "metadata": {
    "collapsed": false,
    "pycharm": {
     "name": "#%%\n"
    }
   }
  },
  {
   "cell_type": "markdown",
   "source": [
    "Most of the 1,289,001 non-invasive, systolic blood pressure measurements are in the range currently assumed to be reasonable (0 to 315 mmHg). There are one negative outlier and 15 values exceeding this range clearly (840 to 141,146.04 mmHg)."
   ],
   "metadata": {
    "collapsed": false
   }
  },
  {
   "cell_type": "markdown",
   "source": [
    "### Non-invasive, Systolic Blood Pressure Thresholds\n",
    "\n",
    "#### Non-invasive, Systolic Blood Pressure - LOW Thresholds"
   ],
   "metadata": {
    "collapsed": false
   }
  },
  {
   "cell_type": "code",
   "execution_count": null,
   "outputs": [],
   "source": [
    "NBPs_thresholds_low = chartevents_subset[(chartevents_subset['ITEMID'] == 223752)]\n",
    "NBPs_thresholds_low.VALUENUM.describe()"
   ],
   "metadata": {
    "collapsed": false,
    "pycharm": {
     "name": "#%%\n"
    }
   }
  },
  {
   "cell_type": "markdown",
   "source": [
    "Among the 154,863 LOW thresholds for the non-invasive, systolic blood pressure is at least one negative value (min = -10 mmHg) and one too high value (max = 95,160 mmHg). These appear to be implausible outliers. Let's consider several specific VALUENUM ranges."
   ],
   "metadata": {
    "collapsed": false
   }
  },
  {
   "cell_type": "code",
   "execution_count": null,
   "outputs": [],
   "source": [
    "NBPs_thresholds_low_up_to_375 = NBPs_thresholds_low[(NBPs_thresholds_low['VALUENUM'] >= 0) & (NBPs_thresholds_low['VALUENUM'] <= 375)]\n",
    "NBPs_thresholds_low_up_to_375.VALUENUM.describe() # 154,835 values ranging from 0 to 220 mmHg"
   ],
   "metadata": {
    "collapsed": false,
    "pycharm": {
     "name": "#%%\n"
    }
   }
  },
  {
   "cell_type": "code",
   "execution_count": null,
   "outputs": [],
   "source": [
    "NBPs_thresholds_low_negative = NBPs_thresholds_low[NBPs_thresholds_low['VALUENUM'] < 0]\n",
    "NBPs_thresholds_low_negative.VALUENUM.value_counts().sort_index() # one outlier at -10 mmHg"
   ],
   "metadata": {
    "collapsed": false,
    "pycharm": {
     "name": "#%%\n"
    }
   }
  },
  {
   "cell_type": "code",
   "execution_count": null,
   "outputs": [],
   "source": [
    "NBPs_thresholds_low_above_375 = NBPs_thresholds_low[NBPs_thresholds_low['VALUENUM'] > 375]\n",
    "NBPs_thresholds_low_above_375.VALUENUM.value_counts().sort_index() # 27 outliers in range from 900 to 95,160 mmHg"
   ],
   "metadata": {
    "collapsed": false,
    "pycharm": {
     "name": "#%%\n"
    }
   }
  },
  {
   "cell_type": "markdown",
   "source": [
    "Most of the 154,863 LOW thresholds for the non-invasive, systolic blood pressure are in the range currently assumed to be reasonable (0 to 220 mmHg). There are one negative (-10 mmHg) and 27 values that exceed this range (900 to 95,160 mmHg)."
   ],
   "metadata": {
    "collapsed": false
   }
  },
  {
   "cell_type": "markdown",
   "source": [
    "#### Non-invasive, Systolic Blood Pressure - HIGH Thresholds"
   ],
   "metadata": {
    "collapsed": false
   }
  },
  {
   "cell_type": "code",
   "execution_count": null,
   "outputs": [],
   "source": [
    "NBPs_thresholds_high = chartevents_subset[(chartevents_subset['ITEMID'] == 223751)]\n",
    "NBPs_thresholds_high.VALUENUM.describe()"
   ],
   "metadata": {
    "collapsed": false,
    "pycharm": {
     "name": "#%%\n"
    }
   }
  },
  {
   "cell_type": "markdown",
   "source": [
    "Among the 154,751 HIGH thresholds for the non-invasive, systolic blood pressure are only positive values but some of them are quite high (max = 170,170 mmHg). These appear to be implausible outliers. Let's consider several specific VALUENUM ranges."
   ],
   "metadata": {
    "collapsed": false
   }
  },
  {
   "cell_type": "code",
   "execution_count": null,
   "outputs": [],
   "source": [
    "NBPs_thresholds_high_up_to_375 = NBPs_thresholds_high[NBPs_thresholds_high['VALUENUM'] <= 375]\n",
    "NBPs_thresholds_high_up_to_375.VALUENUM.describe() # 154,680 values ranging from 0 to 300 mmHg"
   ],
   "metadata": {
    "collapsed": false,
    "pycharm": {
     "name": "#%%\n"
    }
   }
  },
  {
   "cell_type": "code",
   "execution_count": null,
   "outputs": [],
   "source": [
    "NBPs_thresholds_high_above_375 = NBPs_thresholds_high[NBPs_thresholds_high['VALUENUM'] > 375]\n",
    "NBPs_thresholds_high_above_375.VALUENUM.value_counts().sort_index() # 71 outliers in range from 460 to 170,170 mmHg"
   ],
   "metadata": {
    "collapsed": false,
    "pycharm": {
     "name": "#%%\n"
    }
   }
  },
  {
   "cell_type": "markdown",
   "source": [
    "Most of the 154,751 HIGH thresholds for the non-invasive, systolic blood pressure are in the range currently assumed to be reasonable (0 to 300 mmHg). There are 71 values that exceed this range (460 to 170,170 mmHg)."
   ],
   "metadata": {
    "collapsed": false
   }
  },
  {
   "cell_type": "markdown",
   "source": [
    "#### Non-invasive, Systolic Blood Pressure - Cleaned Threshold Visualization"
   ],
   "metadata": {
    "collapsed": false
   }
  },
  {
   "cell_type": "code",
   "execution_count": null,
   "outputs": [],
   "source": [
    "import numpy as np\n",
    "\n",
    "# Concat cleaned heart rate threshold data frames\n",
    "cleaned_NBPs_thresholds = pd.concat([NBPs_thresholds_low_up_to_375, NBPs_thresholds_high_up_to_375])\n",
    "\n",
    "# Add threshold type column for viz\n",
    "cleaned_NBPs_thresholds.insert(loc=len(cleaned_NBPs_thresholds.columns), column='THRESHOLD_TYPE', value=np.nan)\n",
    "\n",
    "cleaned_NBPs_thresholds.loc[cleaned_NBPs_thresholds['ITEMID'] == 223751, 'THRESHOLD_TYPE'] = 'HIGH'\n",
    "cleaned_NBPs_thresholds.loc[cleaned_NBPs_thresholds['ITEMID'] == 223752, 'THRESHOLD_TYPE'] = 'LOW'"
   ],
   "metadata": {
    "collapsed": false,
    "pycharm": {
     "name": "#%%\n"
    }
   }
  },
  {
   "cell_type": "code",
   "execution_count": null,
   "outputs": [],
   "source": [
    "import matplotlib.pyplot as plt\n",
    "import seaborn as sns\n",
    "\n",
    "# Set variables\n",
    "title = 'CHARTEVENTS: Cleaned Systolic Blood Pressure Thresholds (0 - 220/300 mmHg)'\n",
    "xlabel = 'Threshold Value of Systolic Blood Pressure (mmHg)'\n",
    "plotdata = cleaned_NBPs_thresholds\n",
    "xvalue = 'VALUENUM'\n",
    "stratify_by = 'THRESHOLD_TYPE'\n",
    "\n",
    "# Config figure\n",
    "sns.set_style('whitegrid')\n",
    "fig, axs = plt.subplots(1, 3, figsize=(20, 5))\n",
    "fig.suptitle(title, fontweight='bold', color= 'black', fontsize=14, y=1)\n",
    "\n",
    "# Actual plots\n",
    "sns.histplot(ax=axs[0], data=plotdata, x=xvalue, hue=stratify_by, palette=[sns.color_palette('colorblind')[0],sns.color_palette('colorblind')[1]])\n",
    "axs[0].set_title('Histogram (overlapping)', fontsize=12)\n",
    "axs[0].set_xlabel(xlabel, fontsize=12)\n",
    "axs[0].set_ylabel('Frequency', fontsize=12)\n",
    "\n",
    "sns.histplot(ax=axs[1], data=plotdata, x=xvalue, hue=stratify_by, multiple='stack', palette=[sns.color_palette('colorblind')[0],sns.color_palette('colorblind')[1]])\n",
    "axs[1].set_title('Histogram (stacked)', fontsize=12)\n",
    "axs[1].set_xlabel(xlabel, fontsize=12)\n",
    "axs[1].set_ylabel('Frequency', fontsize=12)\n",
    "\n",
    "sns.kdeplot(ax=axs[2], data=plotdata, x=xvalue, hue=stratify_by, palette=[sns.color_palette('colorblind')[0],sns.color_palette('colorblind')[1]])\n",
    "axs[2].set_title('Kernel Density Estimate (KDE)', fontsize=12)\n",
    "axs[2].set_xlabel(xlabel, fontsize=12)\n",
    "axs[2].set_ylabel('Density', fontsize=12)\n",
    "\n",
    "plt.show(fig)"
   ],
   "metadata": {
    "collapsed": false,
    "pycharm": {
     "name": "#%%\n"
    }
   }
  },
  {
   "cell_type": "code",
   "execution_count": null,
   "outputs": [],
   "source": [
    "import seaborn as sns\n",
    "import matplotlib.pyplot as plt\n",
    "import math\n",
    "\n",
    "# Round up to the nearest ten\n",
    "def roundup(x):\n",
    "    return int(math.ceil(x / 10.0)) * 10\n",
    "\n",
    "# Set variables\n",
    "title = 'CHARTEVENTS: Cleaned Systolic Blood Pressure Thresholds (0 - 220/300 mmHg)'\n",
    "xlabel = 'Threshold Value for Systolic Blood Pressure (mmHg)'\n",
    "ylabel = 'Threshold Type'\n",
    "plotdata = cleaned_NBPs_thresholds\n",
    "xvalue = 'VALUENUM'\n",
    "yvalue = 'THRESHOLD_TYPE'\n",
    "xlimpadding = 5 # Padding added to the x axis limits\n",
    "xticks_steps = 20\n",
    "xticks_lower = plotdata[xvalue].min() - (plotdata[xvalue].min() % 10) # rounds down the minimum xvalue to the nearest ten\n",
    "xticks_upper = roundup( plotdata[xvalue].max() ) + xticks_steps # rounds up the maximum xvalue to the nearest ten\n",
    "\n",
    "# Config figure\n",
    "sns.set_style('whitegrid')\n",
    "fig, axs = plt.subplots(\n",
    "    3,\n",
    "    1,\n",
    "    figsize = (10, 15),\n",
    "    sharex = True,\n",
    "    dpi = 72 # e.g. 72 for screen, 300 for print\n",
    "    )\n",
    "fig.suptitle(title, fontweight='bold', color= 'black', fontsize=14, y=0.9)\n",
    "fig.subplots_adjust(hspace = 0.1)\n",
    "\n",
    "# Actual plots\n",
    "sns.stripplot(\n",
    "    ax = axs[0],\n",
    "    data = plotdata,\n",
    "    x = xvalue,\n",
    "    y = yvalue,\n",
    "    palette = sns.color_palette('colorblind')\n",
    "    )\n",
    "axs[0].set_xlabel('')\n",
    "axs[0].set_ylabel(ylabel, fontsize=12, labelpad=15)\n",
    "axs[0].set_xticks(np.arange(xticks_lower, xticks_upper, xticks_steps))\n",
    "axs[0].grid(b=True, which='both')\n",
    "axs[0].margins(.1)\n",
    "\n",
    "sns.boxplot(\n",
    "    ax = axs[1],\n",
    "    data = plotdata,\n",
    "    x = xvalue,\n",
    "    y = yvalue,\n",
    "    palette = sns.color_palette('colorblind')\n",
    "    )\n",
    "axs[1].set_xlabel('')\n",
    "axs[1].set_ylabel(ylabel, fontsize=12, labelpad=15)\n",
    "axs[1].set_xticks(np.arange(xticks_lower, xticks_upper, xticks_steps))\n",
    "axs[1].grid(b=True, which='both')\n",
    "axs[1].margins(.1)\n",
    "\n",
    "sns.violinplot(\n",
    "    ax = axs[2],\n",
    "    data = plotdata,\n",
    "    x = xvalue,\n",
    "    y = yvalue,\n",
    "    palette = sns.color_palette('colorblind')\n",
    "    )\n",
    "axs[2].set_xlabel(xlabel, fontsize=12, labelpad=15)\n",
    "axs[2].set_ylabel(ylabel, fontsize=12, labelpad=15)\n",
    "axs[2].set_xticks(np.arange(xticks_lower, xticks_upper, xticks_steps))\n",
    "axs[2].grid(b=True, which='both')\n",
    "axs[2].margins(.1)\n",
    "\n",
    "plt.show(fig)"
   ],
   "metadata": {
    "collapsed": false,
    "pycharm": {
     "name": "#%%\n"
    }
   }
  }
 ],
 "metadata": {
  "kernelspec": {
   "display_name": "Python 3",
   "language": "python",
   "name": "python3"
  },
  "language_info": {
   "codemirror_mode": {
    "name": "ipython",
    "version": 2
   },
   "file_extension": ".py",
   "mimetype": "text/x-python",
   "name": "python",
   "nbconvert_exporter": "python",
   "pygments_lexer": "ipython2",
   "version": "2.7.6"
  }
 },
 "nbformat": 4,
 "nbformat_minor": 0
}