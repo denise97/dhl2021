{
 "metadata": {
  "language_info": {
   "codemirror_mode": {
    "name": "ipython",
    "version": 3
   },
   "file_extension": ".py",
   "mimetype": "text/x-python",
   "name": "python",
   "nbconvert_exporter": "python",
   "pygments_lexer": "ipython3",
   "version": "3.7.4"
  },
  "orig_nbformat": 2,
  "kernelspec": {
   "name": "python374jvsc74a57bd0c24247fa39158f46a54dbb99bb8811b81cd84bf3c9aa6e8294d53a41a5837da9",
   "display_name": "Python 3.7.4 64-bit ('base': conda)"
  }
 },
 "nbformat": 4,
 "nbformat_minor": 2,
 "cells": [
  {
   "source": [
    "# Analysis of Difference between Measurements\n",
    "\n",
    "### Aim: Provide an overview of difference between measurements by ICUSTAY & ITEMID to create a histogram\n",
    "The histogramm shall be used to identify the need for chunking and determine possible chunking rules"
   ],
   "cell_type": "markdown",
   "metadata": {}
  },
  {
   "source": [
    "## Add Timestamp of next Measurement as column to row of current measurement"
   ],
   "cell_type": "markdown",
   "metadata": {}
  },
  {
   "cell_type": "code",
   "execution_count": null,
   "metadata": {},
   "outputs": [],
   "source": [
    "import pandas as pd\n",
    "import pyarrow as pa\n",
    "\n",
    "# Read chartevents_subset from parquet file to pandas data frame\n",
    "chartevents_subset = pd.read_parquet('./data/chartevents_subset.parquet', engine='pyarrow')\n",
    "unique_icu_stays = pd.read_parquet('./data/unique_icustays_in_chartevents_subset.parquet', engine='pyarrow')"
   ]
  },
  {
   "cell_type": "code",
   "execution_count": null,
   "metadata": {},
   "outputs": [],
   "source": [
    "#select ICU_stay ids for analysis\n",
    "icustayid_filter = unique_icu_stays.ICUSTAY_ID\n",
    "\n",
    "# Filter by ICU_stay\n",
    "chunk_analysis_data = chartevents_subset[chartevents_subset.ICUSTAY_ID.isin(icustayid_filter)].copy()"
   ]
  },
  {
   "cell_type": "code",
   "execution_count": null,
   "metadata": {},
   "outputs": [],
   "source": [
    "# Sampling Rate Analysis is only being conducted on the values, not thresholds\n",
    "# Filter for item ids that refer to value\n",
    "itemids_for_values_filter = [220045, 220179, 220277]\n",
    "chunk_analysis_data = chunk_analysis_data[chunk_analysis_data.ITEMID.isin(itemids_for_values_filter)].copy()\n",
    "len(chunk_analysis_data)\n",
    "\n"
   ]
  },
  {
   "cell_type": "code",
   "execution_count": null,
   "metadata": {},
   "outputs": [],
   "source": [
    "# Idea: Keep chunk_analysis_data as is, only add a new column that holds the next timestamp, the difference can then be performed outside the loop\n",
    "chunk_analysis_data['CHARTTIME_NEXT'] = chunk_analysis_data.groupby(['ICUSTAY_ID','ITEMID'])['CHARTTIME'].shift(-1)"
   ]
  },
  {
   "cell_type": "code",
   "execution_count": null,
   "metadata": {},
   "outputs": [],
   "source": [
    "len(chunk_analysis_data)"
   ]
  },
  {
   "source": [
    "### Quick Validation "
   ],
   "cell_type": "markdown",
   "metadata": {}
  },
  {
   "cell_type": "code",
   "execution_count": null,
   "metadata": {},
   "outputs": [],
   "source": [
    "#Count NaN values - we should have one Nan value for each existing ICUSTAY_ID & ITEMID\n",
    "# 100 ICUSTAYs *3 ITEMIDS (if all three ITEMID exit)\n",
    "len(chunk_analysis_data.groupby(['ICUSTAY_ID','ITEMID']).size())\n",
    "# we would assume to see that many Nans"
   ]
  },
  {
   "cell_type": "code",
   "execution_count": null,
   "metadata": {},
   "outputs": [],
   "source": [
    "chunk_analysis_data.CHARTTIME_NEXT.isna().sum()\n",
    "#correct"
   ]
  },
  {
   "source": [
    "## Calculate Difference between Timestamps"
   ],
   "cell_type": "markdown",
   "metadata": {}
  },
  {
   "cell_type": "code",
   "execution_count": null,
   "metadata": {},
   "outputs": [],
   "source": [
    "chunk_analysis_data['DIF_CHARTTIME_NEXT'] = chunk_analysis_data['CHARTTIME_NEXT']-chunk_analysis_data['CHARTTIME']\n",
    "chunk_analysis_data['DIF_CHARTTIME_NEXT_S'] = chunk_analysis_data['DIF_CHARTTIME_NEXT'].dt.total_seconds()\n",
    "chunk_analysis_data['DIF_CHARTTIME_NEXT_MIN'] = divmod(chunk_analysis_data['DIF_CHARTTIME_NEXT_S'], 60)[0]"
   ]
  },
  {
   "cell_type": "code",
   "execution_count": null,
   "metadata": {},
   "outputs": [],
   "source": [
    "chunk_analysis_data.head()"
   ]
  },
  {
   "cell_type": "code",
   "execution_count": null,
   "metadata": {},
   "outputs": [],
   "source": [
    "chunk_analysis_data_reduced = chunk_analysis_data[['ICUSTAY_ID','ITEMID','CHARTTIME','VALUENUM','VALUEUOM','CHARTTIME_NEXT','DIF_CHARTTIME_NEXT_MIN']]\n",
    "chunk_analysis_data_reduced.head()"
   ]
  },
  {
   "cell_type": "code",
   "execution_count": null,
   "metadata": {},
   "outputs": [],
   "source": [
    "#drop timedelta column as it can not be saved n parquet\n",
    "chunk_analysis_data = chunk_analysis_data.drop(columns='DIF_CHARTTIME_NEXT')"
   ]
  },
  {
   "cell_type": "code",
   "execution_count": null,
   "metadata": {},
   "outputs": [],
   "source": [
    "# Save as parquet file\n",
    "pd.DataFrame(chunk_analysis_data).to_parquet('./data/chunk_analysis_data.parquet', engine='pyarrow')"
   ]
  },
  {
   "cell_type": "code",
   "execution_count": null,
   "metadata": {},
   "outputs": [],
   "source": [
    "import pandas as pd\n",
    "import pyarrow as pa\n",
    "chunk_analysis_data = pd.read_parquet('./data/chunk_analysis_data.parquet', engine='pyarrow')\n"
   ]
  },
  {
   "source": [
    "## Visualization - Create Histogram of Difference between Timestamps"
   ],
   "cell_type": "markdown",
   "metadata": {}
  },
  {
   "cell_type": "code",
   "execution_count": null,
   "metadata": {},
   "outputs": [],
   "source": [
    "# create subsets for item Ids\n",
    "chunk_analysis_data_HR = chunk_analysis_data[chunk_analysis_data['ITEMID'] == 220045]\n",
    "chunk_analysis_data_O2 = chunk_analysis_data[chunk_analysis_data['ITEMID'] == 220277]\n",
    "chunk_analysis_data_NBP = chunk_analysis_data[chunk_analysis_data['ITEMID'] == 220179]"
   ]
  },
  {
   "source": [
    "### Analysis of Difference between Measurements - General"
   ],
   "cell_type": "markdown",
   "metadata": {}
  },
  {
   "cell_type": "code",
   "execution_count": null,
   "metadata": {},
   "outputs": [],
   "source": [
    "pd.set_option('display.float_format', '{:.2f}'.format)\n",
    "chunk_analysis_data[\"DIF_CHARTTIME_NEXT_MIN\"].describe()"
   ]
  },
  {
   "cell_type": "code",
   "execution_count": null,
   "metadata": {},
   "outputs": [],
   "source": [
    "import seaborn as sns\n",
    "import matplotlib.pyplot as plt\n",
    "\n",
    "# Set variables\n",
    "title = \"Analysis of Difference between Measurements\"\n",
    "xlabel = \"Difference between Measurements (min)\"\n",
    "plotdata = chunk_analysis_data\n",
    "xvalue = \"DIF_CHARTTIME_NEXT_MIN\"\n",
    "\n",
    "sns.set_style(\"whitegrid\")\n",
    "fig, (fig_box, fig_hist) = plt.subplots(\n",
    "    2, \n",
    "    sharex=True, \n",
    "    gridspec_kw={\"height_ratios\": (.15, .85)}, \n",
    "    figsize=(10, 5)\n",
    "    )\n",
    "fig.suptitle(title, fontweight='bold', color= 'black', fontsize=14, y=1)\n",
    "sns.boxplot(ax=fig_box, data=plotdata, x=xvalue, palette=sns.color_palette(\"colorblind\"))\n",
    "fig_box.set(xlabel=\"\")\n",
    "sns.histplot(ax=fig_hist, data=plotdata, x=xvalue, kde=True, palette=sns.color_palette(\"colorblind\"))\n",
    "fig_hist.set_xlabel(xlabel, fontsize=12, labelpad=15)\n",
    "fig_hist.set_ylabel(\"Count\", fontsize=12, labelpad=15)\n",
    "\n",
    "# Save plot as PNG file\n",
    "path = './plots/'\n",
    "timestamp = dt.datetime.today().strftime('%Y-%m-%dT%H-%M-%S')\n",
    "plt.savefig(str(path + 'analysis_of_difference_between_measurementsplot_300-DPI_' + timestamp + '.png'), dpi=300, bbox_inches='tight')\n",
    "\n",
    "plt.show()"
   ]
  },
  {
   "source": [
    "### Analysis of Difference between Measurements - General by ITEMID"
   ],
   "cell_type": "markdown",
   "metadata": {}
  },
  {
   "cell_type": "code",
   "execution_count": null,
   "metadata": {},
   "outputs": [],
   "source": [
    "chunk_analysis_data_HR[\"DIF_CHARTTIME_NEXT_MIN\"].describe()"
   ]
  },
  {
   "cell_type": "code",
   "execution_count": null,
   "metadata": {},
   "outputs": [],
   "source": [
    "chunk_analysis_data_O2[\"DIF_CHARTTIME_NEXT_MIN\"].describe()"
   ]
  },
  {
   "cell_type": "code",
   "execution_count": null,
   "metadata": {},
   "outputs": [],
   "source": [
    "chunk_analysis_data_NBP[\"DIF_CHARTTIME_NEXT_MIN\"].describe()"
   ]
  },
  {
   "source": [
    "### Analysis of Differences between Measurements within 75% "
   ],
   "cell_type": "markdown",
   "metadata": {}
  },
  {
   "cell_type": "code",
   "execution_count": null,
   "metadata": {},
   "outputs": [],
   "source": [
    "chunk_analysis_data_Q3 = chunk_analysis_data[chunk_analysis_data[\"DIF_CHARTTIME_NEXT_MIN\"] <= 60]"
   ]
  },
  {
   "cell_type": "code",
   "execution_count": null,
   "metadata": {},
   "outputs": [],
   "source": [
    "# Histogram and Boxplott - Cross ITEMID\n",
    "import seaborn as sns\n",
    "import matplotlib.pyplot as plt\n",
    "import datetime as dt\n",
    "\n",
    "# Set variables\n",
    "title = \"Analysis of Difference between Measurements - Q3\"\n",
    "xlabel = \"Difference between Measurements (min)\"\n",
    "plotdata = chunk_analysis_data_Q3\n",
    "xvalue = \"DIF_CHARTTIME_NEXT_MIN\"\n",
    "\n",
    "sns.set_style(\"whitegrid\")\n",
    "fig, (fig_box, fig_hist) = plt.subplots(\n",
    "    2, \n",
    "    sharex=True, \n",
    "    gridspec_kw={\"height_ratios\": (.15, .85)}, \n",
    "    figsize=(10, 5)\n",
    "    )\n",
    "fig.suptitle(title, fontweight='bold', color= 'black', fontsize=14, y=1)\n",
    "sns.boxplot(ax=fig_box, data=plotdata, x=xvalue, palette=sns.color_palette(\"colorblind\"))\n",
    "fig_box.set(xlabel=\"\")\n",
    "sns.histplot(ax=fig_hist, data=plotdata, x=xvalue, kde=True, palette=sns.color_palette(\"colorblind\"))\n",
    "fig_hist.set_xlabel(xlabel, fontsize=12, labelpad=15)\n",
    "fig_hist.set_ylabel(\"Count\", fontsize=12, labelpad=15)\n",
    "\n",
    "# Save plot as PNG file\n",
    "path = './plots/'\n",
    "timestamp = dt.datetime.today().strftime('%Y-%m-%dT%H-%M-%S')\n",
    "plt.savefig(str(path + 'analysis_of_difference_between_measurementsplot_Q3_300-DPI_' + timestamp + '.png'), dpi=300, bbox_inches='tight')\n",
    "\n",
    "plt.show()"
   ]
  },
  {
   "cell_type": "code",
   "execution_count": null,
   "metadata": {},
   "outputs": [],
   "source": [
    "# Histograms - Stratified by ITEMID\n",
    "import matplotlib.pyplot as plt\n",
    "import seaborn as sns\n",
    "\n",
    "# Set variables\n",
    "title = \"Analysis of Difference between Measurements - Q3\"\n",
    "xlabel = \"Difference between Measurements (min)\"\n",
    "plotdata = chunk_analysis_data_Q3\n",
    "xvalue = \"DIF_CHARTTIME_NEXT_MIN\"\n",
    "stratify_by = \"ITEMID\"\n",
    "\n",
    "sns.set_style(\"whitegrid\")\n",
    "fig, axs = plt.subplots(1, 3, figsize=(20, 5))\n",
    "fig.suptitle(title, fontweight='bold', color= 'black', fontsize=14, y=1)\n",
    "\n",
    "sns.histplot(ax=axs[0], data=plotdata, x=xvalue, hue=stratify_by, palette=[sns.color_palette(\"colorblind\")[0],sns.color_palette(\"colorblind\")[1],sns.color_palette(\"colorblind\")[2]])\n",
    "axs[0].set_title(\"Histogram (overlapping)\", fontsize=12)\n",
    "axs[0].set_xlabel(xlabel, fontsize=12)\n",
    "axs[0].set_ylabel(\"Count\", fontsize=12)\n",
    "\n",
    "sns.histplot(ax=axs[1], data=plotdata, x=xvalue, hue=stratify_by, multiple=\"stack\", palette=[sns.color_palette(\"colorblind\")[0],sns.color_palette(\"colorblind\")[1],sns.color_palette(\"colorblind\")[2]])\n",
    "axs[1].set_title(\"Histogram (stacked)\", fontsize=12)\n",
    "axs[1].set_xlabel(xlabel, fontsize=12)\n",
    "axs[1].set_ylabel(\"Count\", fontsize=12)\n",
    "\n",
    "sns.kdeplot(ax=axs[2], data=plotdata, x=xvalue, hue=stratify_by, palette=[sns.color_palette(\"colorblind\")[0],sns.color_palette(\"colorblind\")[1],sns.color_palette(\"colorblind\")[2]])\n",
    "axs[2].set_title(\"Kernel Density Estimate (KDE)\", fontsize=12)\n",
    "axs[2].set_xlabel(xlabel, fontsize=12)\n",
    "axs[2].set_ylabel(\"Density\", fontsize=12)\n",
    "\n",
    "# Save plot as PNG file\n",
    "path = './plots/'\n",
    "timestamp = dt.datetime.today().strftime('%Y-%m-%dT%H-%M-%S')\n",
    "plt.savefig(str(path + 'analysis_of_difference_between_measurementsplot_Q3_by_ITEMID_300-DPI_' + timestamp + '.png'), dpi=300, bbox_inches='tight')\n",
    "\n",
    "plt.show(fig)"
   ]
  },
  {
   "cell_type": "code",
   "execution_count": null,
   "metadata": {},
   "outputs": [],
   "source": [
    "# Analyze observable secons peak <10min\n",
    "chunk_analysis_data_10 = chunk_analysis_data[chunk_analysis_data[\"DIF_CHARTTIME_NEXT_MIN\"] <=10]\n",
    "chunk_analysis_data_10[\"DIF_CHARTTIME_NEXT_MIN\"].value_counts()\n",
    "# Second peak (next to peak at 60 min) occurs at 1 min"
   ]
  },
  {
   "source": [
    "### Analysis of Differences between Measurements above 75%"
   ],
   "cell_type": "markdown",
   "metadata": {}
  },
  {
   "cell_type": "code",
   "execution_count": null,
   "metadata": {},
   "outputs": [],
   "source": [
    "chunk_analysis_data_above_Q3 = chunk_analysis_data[chunk_analysis_data[\"DIF_CHARTTIME_NEXT_MIN\"] > 60]"
   ]
  },
  {
   "cell_type": "code",
   "execution_count": null,
   "metadata": {},
   "outputs": [],
   "source": [
    "chunk_analysis_data_above_Q3[\"DIF_CHARTTIME_NEXT_MIN\"].describe()\n",
    "# We could derive another rule - e.g at 120min"
   ]
  },
  {
   "cell_type": "code",
   "execution_count": null,
   "metadata": {},
   "outputs": [],
   "source": [
    "# Histograms - Stratified by ITEMID\n",
    "import matplotlib.pyplot as plt\n",
    "import seaborn as sns\n",
    "\n",
    "# Set variables\n",
    "title = \"Analysis of Difference between Measurements - > Q3\"\n",
    "xlabel = \"Difference between Measurements (min)\"\n",
    "plotdata = chunk_analysis_data_above_Q3\n",
    "xvalue = \"DIF_CHARTTIME_NEXT_MIN\"\n",
    "stratify_by = \"ITEMID\"\n",
    "\n",
    "sns.set_style(\"whitegrid\")\n",
    "fig, axs = plt.subplots(1, 3, figsize=(20, 5))\n",
    "fig.suptitle(title, fontweight='bold', color= 'black', fontsize=14, y=1)\n",
    "\n",
    "sns.histplot(ax=axs[0], data=plotdata, x=xvalue, hue=stratify_by, palette=[sns.color_palette(\"colorblind\")[0],sns.color_palette(\"colorblind\")[1],sns.color_palette(\"colorblind\")[2]])\n",
    "axs[0].set_title(\"Histogram (overlapping)\", fontsize=12)\n",
    "axs[0].set_xlabel(xlabel, fontsize=12)\n",
    "axs[0].set_ylabel(\"Count\", fontsize=12)\n",
    "\n",
    "sns.histplot(ax=axs[1], data=plotdata, x=xvalue, hue=stratify_by, multiple=\"stack\", palette=[sns.color_palette(\"colorblind\")[0],sns.color_palette(\"colorblind\")[1],sns.color_palette(\"colorblind\")[2]])\n",
    "axs[1].set_title(\"Histogram (stacked)\", fontsize=12)\n",
    "axs[1].set_xlabel(xlabel, fontsize=12)\n",
    "axs[1].set_ylabel(\"Count\", fontsize=12)\n",
    "\n",
    "sns.kdeplot(ax=axs[2], data=plotdata, x=xvalue, hue=stratify_by, palette=[sns.color_palette(\"colorblind\")[0],sns.color_palette(\"colorblind\")[1],sns.color_palette(\"colorblind\")[2]])\n",
    "axs[2].set_title(\"Kernel Density Estimate (KDE)\", fontsize=12)\n",
    "axs[2].set_xlabel(xlabel, fontsize=12)\n",
    "axs[2].set_ylabel(\"Density\", fontsize=12)\n",
    "\n",
    "# Save plot as PNG file\n",
    "path = './plots/'\n",
    "timestamp = dt.datetime.today().strftime('%Y-%m-%dT%H-%M-%S')\n",
    "plt.savefig(str(path + 'analysis_of_difference_between_measurementsplot_above_Q3_by_ITEMID_300-DPI_' + timestamp + '.png'), dpi=300, bbox_inches='tight')\n",
    "\n",
    "plt.show(fig)"
   ]
  },
  {
   "source": [
    "### Analyze amount of ICUSTAY_IDs that would be affected by a chunk rule "
   ],
   "cell_type": "markdown",
   "metadata": {}
  },
  {
   "source": [
    "First: Chunk after 60 min"
   ],
   "cell_type": "markdown",
   "metadata": {}
  },
  {
   "cell_type": "code",
   "execution_count": null,
   "metadata": {},
   "outputs": [],
   "source": [
    "len(chunk_analysis_data_above_Q3[\"ICUSTAY_ID\"].value_counts())"
   ]
  },
  {
   "source": [
    "Second: Chunk after 120 min"
   ],
   "cell_type": "markdown",
   "metadata": {}
  },
  {
   "cell_type": "code",
   "execution_count": null,
   "metadata": {},
   "outputs": [],
   "source": [
    "chunk_analysis_data_above_120 = chunk_analysis_data[chunk_analysis_data[\"DIF_CHARTTIME_NEXT_MIN\"] > 120]\n",
    "len(chunk_analysis_data_above_120[\"ICUSTAY_ID\"].value_counts())"
   ]
  }
 ]
}