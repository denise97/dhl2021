{
 "cells": [
  {
   "cell_type": "markdown",
   "metadata": {
    "pycharm": {
     "name": "#%% md\n"
    }
   },
   "source": [
    "# Sampling Frequencies of Cleaned CHARTEVENTS"
   ]
  },
  {
   "cell_type": "code",
   "execution_count": 1,
   "metadata": {
    "collapsed": false,
    "jupyter": {
     "outputs_hidden": false
    },
    "pycharm": {
     "name": "#%%\n"
    }
   },
   "outputs": [
    {
     "data": {
      "image/png": "[encoded data removed]",
      "text/plain": [
       "<Figure size 432x288 with 1 Axes>"
      ]
     },
     "metadata": {},
     "output_type": "display_data"
    },
    {
     "data": {
      "text/html": [
       "<div>\n",
       "<style scoped>\n",
       "    .dataframe tbody tr th:only-of-type {\n",
       "        vertical-align: middle;\n",
       "    }\n",
       "\n",
       "    .dataframe tbody tr th {\n",
       "        vertical-align: top;\n",
       "    }\n",
       "\n",
       "    .dataframe thead th {\n",
       "        text-align: right;\n",
       "    }\n",
       "</style>\n",
       "<table border=\"1\" class=\"dataframe\">\n",
       "  <thead>\n",
       "    <tr style=\"text-align: right;\">\n",
       "      <th></th>\n",
       "      <th>ITEMID</th>\n",
       "      <th>Number of Samples</th>\n",
       "      <th>Category</th>\n",
       "      <th>Vital Parameter</th>\n",
       "    </tr>\n",
       "  </thead>\n",
       "  <tbody>\n",
       "    <tr>\n",
       "      <th>2</th>\n",
       "      <td>220047.0</td>\n",
       "      <td>215789</td>\n",
       "      <td>Low Threshold</td>\n",
       "      <td>$HR$</td>\n",
       "    </tr>\n",
       "    <tr>\n",
       "      <th>1</th>\n",
       "      <td>220046.0</td>\n",
       "      <td>215643</td>\n",
       "      <td>High Threshold</td>\n",
       "      <td>$HR$</td>\n",
       "    </tr>\n",
       "    <tr>\n",
       "      <th>0</th>\n",
       "      <td>220045.0</td>\n",
       "      <td>2761421</td>\n",
       "      <td>Measurement</td>\n",
       "      <td>$HR$</td>\n",
       "    </tr>\n",
       "    <tr>\n",
       "      <th>7</th>\n",
       "      <td>223752.0</td>\n",
       "      <td>154424</td>\n",
       "      <td>Low Threshold</td>\n",
       "      <td>$NBP_s$</td>\n",
       "    </tr>\n",
       "    <tr>\n",
       "      <th>6</th>\n",
       "      <td>223751.0</td>\n",
       "      <td>154314</td>\n",
       "      <td>High Threshold</td>\n",
       "      <td>$NBP_s$</td>\n",
       "    </tr>\n",
       "    <tr>\n",
       "      <th>3</th>\n",
       "      <td>220179.0</td>\n",
       "      <td>1288822</td>\n",
       "      <td>Measurement</td>\n",
       "      <td>$NBP_s$</td>\n",
       "    </tr>\n",
       "    <tr>\n",
       "      <th>9</th>\n",
       "      <td>223770.0</td>\n",
       "      <td>213196</td>\n",
       "      <td>Low Threshold</td>\n",
       "      <td>$S_pO_2$</td>\n",
       "    </tr>\n",
       "    <tr>\n",
       "      <th>8</th>\n",
       "      <td>223769.0</td>\n",
       "      <td>212188</td>\n",
       "      <td>High Threshold</td>\n",
       "      <td>$S_pO_2$</td>\n",
       "    </tr>\n",
       "    <tr>\n",
       "      <th>5</th>\n",
       "      <td>220277.0</td>\n",
       "      <td>2669594</td>\n",
       "      <td>Measurement</td>\n",
       "      <td>$S_pO_2$</td>\n",
       "    </tr>\n",
       "    <tr>\n",
       "      <th>4</th>\n",
       "      <td>220180.0</td>\n",
       "      <td>1288254</td>\n",
       "      <td>NaN</td>\n",
       "      <td>NaN</td>\n",
       "    </tr>\n",
       "  </tbody>\n",
       "</table>\n",
       "</div>"
      ],
      "text/plain": [
       "     ITEMID  Number of Samples        Category Vital Parameter\n",
       "2  220047.0             215789   Low Threshold            $HR$\n",
       "1  220046.0             215643  High Threshold            $HR$\n",
       "0  220045.0            2761421     Measurement            $HR$\n",
       "7  223752.0             154424   Low Threshold         $NBP_s$\n",
       "6  223751.0             154314  High Threshold         $NBP_s$\n",
       "3  220179.0            1288822     Measurement         $NBP_s$\n",
       "9  223770.0             213196   Low Threshold        $S_pO_2$\n",
       "8  223769.0             212188  High Threshold        $S_pO_2$\n",
       "5  220277.0            2669594     Measurement        $S_pO_2$\n",
       "4  220180.0            1288254             NaN             NaN"
      ]
     },
     "execution_count": 1,
     "metadata": {},
     "output_type": "execute_result"
    }
   ],
   "source": [
    "import matplotlib.pyplot as plt\n",
    "import numpy as np\n",
    "import pandas as pd\n",
    "import seaborn as sns\n",
    "\n",
    "# Read cleaned chart events\n",
    "chartevents_clean = pd.read_parquet('../../data/chartevents_clean.parquet', engine='pyarrow')\n",
    "\n",
    "# Prepare plot data\n",
    "plotdata = chartevents_clean\\\n",
    "    .groupby(['ITEMID'])\\\n",
    "    .size()\\\n",
    "    .reset_index(name='Number of Samples')\n",
    "plotdata.sort_values(by=['Number of Samples'], inplace=True)\n",
    "\n",
    "# Add column for category (hue)\n",
    "plotdata.insert(loc=len(plotdata.columns), column='Category', value=np.nan)\n",
    "plotdata.loc[plotdata['ITEMID'].isin([220045, 220179, 220277]), 'Category'] = 'Measurement'\n",
    "plotdata.loc[plotdata['ITEMID'].isin([220046, 223751, 223769]), 'Category'] = 'High Threshold'\n",
    "plotdata.loc[plotdata['ITEMID'].isin([220047, 223752, 223770]), 'Category'] = 'Low Threshold'\n",
    "\n",
    "# Add column for parameter (x-axis label)\n",
    "plotdata.insert(loc=len(plotdata.columns), column='Vital Parameter', value=np.nan)\n",
    "plotdata.loc[plotdata['ITEMID'].isin([220045, 220046, 220047]), 'Vital Parameter'] = '$HR$'\n",
    "plotdata.loc[plotdata['ITEMID'].isin([220179, 223751, 223752]), 'Vital Parameter'] = '$NBP_s$'\n",
    "plotdata.loc[plotdata['ITEMID'].isin([220277, 223769, 223770]), 'Vital Parameter'] = '$S_pO_2$'\n",
    "\n",
    "sorter = ['Low Threshold', 'High Threshold', 'Measurement']\n",
    "sorterIndex = dict(zip(sorter, range(len(sorter))))\n",
    "plotdata['Category_Rank'] = plotdata['Category'].map(sorterIndex)\n",
    "plotdata.sort_values(['Vital Parameter', 'Category_Rank'] ,inplace=True)\n",
    "plotdata.drop('Category_Rank', 1, inplace = True)\n",
    "\n",
    "# Actual plot\n",
    "sns.set_style('whitegrid')\n",
    "fig, ax = plt.subplots(1, figsize=(6, 4))\n",
    "g = sns.barplot(\n",
    "    ax=ax,\n",
    "    data=plotdata,\n",
    "    x='Vital Parameter',\n",
    "    y='Number of Samples',\n",
    "    hue='Category',\n",
    "    palette=sns.color_palette('colorblind'))\n",
    "\n",
    "# Adjust texts and layout\n",
    "ax.set_title('Number of Samples for Measurements and Thresholds', fontsize=14, pad=20)\n",
    "ax.set_xlabel('Vital Parameter', fontsize=12)\n",
    "ax.set_ylabel('Number of Samples', fontsize=12)\n",
    "g.get_legend().set_title(None)\n",
    "plt.tight_layout()\n",
    "\n",
    "# Show plot and actual numbers\n",
    "plt.show(fig)\n",
    "#fig.savefig('../../plots/paper_sampling_frequencies_clean_chartevents.pdf')\n",
    "plotdata"
   ]
  },
  {
   "cell_type": "code",
   "execution_count": null,
   "metadata": {},
   "outputs": [],
   "source": []
  }
 ],
 "metadata": {
  "kernelspec": {
   "display_name": "Python 3",
   "language": "python",
   "name": "python3"
  },
  "language_info": {
   "codemirror_mode": {
    "name": "ipython",
    "version": 3
   },
   "file_extension": ".py",
   "mimetype": "text/x-python",
   "name": "python",
   "nbconvert_exporter": "python",
   "pygments_lexer": "ipython3",
   "version": "3.8.2"
  }
 },
 "nbformat": 4,
 "nbformat_minor": 4
}
