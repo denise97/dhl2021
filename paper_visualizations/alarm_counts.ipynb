{
 "cells": [
  {
   "cell_type": "markdown",
   "metadata": {},
   "source": [
    "# Alarm Count Visualizations\n",
    "\n",
    "The `alarm_data.csv` file contains all alarms of the cleaned CHARTEVENTS (`chartevents_clean.parquet`) and is available on the server in the folder `/data/alarms/`."
   ]
  },
  {
   "cell_type": "markdown",
   "metadata": {},
   "source": [
    "## Alarm Count by Vital Parameter and Alarm Type"
   ]
  },
  {
   "cell_type": "code",
   "execution_count": null,
   "metadata": {
    "collapsed": false,
    "jupyter": {
     "outputs_hidden": false
    },
    "pycharm": {
     "name": "#%%\n"
    }
   },
   "outputs": [],
   "source": [
    "import matplotlib.pyplot as plt\n",
    "import numpy as np\n",
    "import pandas as pd\n",
    "import seaborn as sns\n",
    "\n",
    "# Read alarm data\n",
    "alarm_data = pd.read_csv('../../data/alarms/alarm_data.csv')\n",
    "\n",
    "# Add column for label of ITEMID\n",
    "alarm_data.insert(loc=len(alarm_data.columns), column='ITEMID_LABEL', value=np.nan)\n",
    "alarm_data.loc[alarm_data['ITEMID'] == 220045, 'ITEMID_LABEL'] = '$HR$'\n",
    "alarm_data.loc[alarm_data['ITEMID'] == 220179, 'ITEMID_LABEL'] = '$NBP_s$'\n",
    "alarm_data.loc[alarm_data['ITEMID'] == 220277, 'ITEMID_LABEL'] = '$S_pO_2$'\n",
    "\n",
    "# Prepare plot data\n",
    "alarms_by_itemid_type = alarm_data\\\n",
    "    .groupby(['ITEMID_LABEL', 'THRESHOLD_TYPE'])\\\n",
    "    .size()\\\n",
    "    .reset_index(name='AlarmCount')\n",
    "alarms_by_itemid_type = alarms_by_itemid_type.pivot(index='ITEMID_LABEL', columns='THRESHOLD_TYPE', values='AlarmCount')\n",
    "\n",
    "# Actual plot\n",
    "sns.set_style('whitegrid')\n",
    "fig, ax = plt.subplots(1, figsize=(6, 4))\n",
    "x = np.arange(len(alarms_by_itemid_type.index))\n",
    "plt.bar(x - 0.1, alarms_by_itemid_type['LOW'], width=0.2, color=sns.color_palette('colorblind')[0])\n",
    "plt.bar(x + 0.1, alarms_by_itemid_type['HIGH'], width=0.2, color=sns.color_palette('colorblind')[1])\n",
    "# Now we only use the colorblind palette for consistency reasons, but these are the original colour strings from our slides (see \"Weekly_02\", slide 7):\n",
    "# LOW -> '#1D2F6F'\n",
    "# HIGH -> '#8390FA'\n",
    "\n",
    "# Add title, labels and legend\n",
    "plt.title('Alarm Counts by Vital Parameter and Alarm Type', fontsize=14)\n",
    "plt.xlabel('Vital Parameter', fontsize=12)\n",
    "plt.ylabel('Alarm Count', fontsize=12)\n",
    "plt.xticks(x, alarms_by_itemid_type.index)\n",
    "plt.legend(['LOW', 'HIGH'], loc='upper right', ncol=2)\n",
    "\n",
    "# Show figure and actual numbers\n",
    "plt.show()\n",
    "#fig.savefig('../../plots/paper_alarm_counts_parameter_type.pdf')\n",
    "alarms_by_itemid_type"
   ]
  },
  {
   "cell_type": "markdown",
   "metadata": {},
   "source": [
    "## Alarm Counts per ICU Stay ID"
   ]
  },
  {
   "cell_type": "code",
   "execution_count": null,
   "metadata": {
    "collapsed": false,
    "jupyter": {
     "outputs_hidden": false
    },
    "pycharm": {
     "name": "#%%\n"
    }
   },
   "outputs": [],
   "source": [
    "import matplotlib.pyplot as plt\n",
    "import pandas as pd\n",
    "import seaborn as sns\n",
    "\n",
    "# Read alarm data\n",
    "alarm_data = pd.read_csv('../../data/alarms/alarm_data.csv')\n",
    "\n",
    "# Prepare plot data\n",
    "alarms_by_icustay = alarm_data\\\n",
    "    .groupby(['ICUSTAY_ID'])\\\n",
    "    .size()\\\n",
    "    .reset_index(name='AlarmCount')\n",
    "\n",
    "# Actual plot\n",
    "sns.set_style('whitegrid')\n",
    "fig, ax = plt.subplots(1, figsize=(6, 4))\n",
    "sns.histplot(data=alarms_by_icustay, x='AlarmCount', palette=sns.color_palette('colorblind'))\n",
    "\n",
    "# Add title and adjust axes\n",
    "plt.title('Alarm Counts per ICU Stay ID', fontsize=14)\n",
    "plt.xlabel('Alarm Count', fontsize=12)\n",
    "plt.ylabel('Count', fontsize=12)\n",
    "plt.xlim(left=0)\n",
    "\n",
    "# Show figure and print some insights\n",
    "plt.show()\n",
    "print(f'On average there are about {round(alarms_by_icustay.AlarmCount.mean())} alarms per ICU stay.\\n')\n",
    "print(f'There are {(alarms_by_icustay.AlarmCount.values == 1).sum()} out of {len(alarms_by_icustay)} ICU stays with only one alarm.\\n')\n",
    "print(f'Most of the ICU stays have between {round(alarms_by_icustay.AlarmCount.quantile(.25))} (25th percentile) and {round(alarms_by_icustay.AlarmCount.quantile(.75))} (75th percentile) alarms.\\n')\n",
    "\n",
    "# Note: We did not use percentiles to identify outliers for the plot in our slides (see \"Weekly_02\", slide 8)\n",
    "outlier_percentile = .99\n",
    "num_outliers = len(alarms_by_icustay[alarms_by_icustay.AlarmCount > alarms_by_icustay.AlarmCount.quantile(outlier_percentile)])\n",
    "print(f'There are {num_outliers} outliers (over {outlier_percentile*100}th percentile), with {alarms_by_icustay.AlarmCount.max()} alarms being the maximum for one single ICU stay.\\n')\n",
    "\n",
    "# Plot alarm count per ICU stay without outliers (to have a more useful plot)\n",
    "if num_outliers > 0:\n",
    "    alarms_by_icustay_without_outliers = alarms_by_icustay[alarms_by_icustay.AlarmCount <= alarms_by_icustay.AlarmCount.quantile(outlier_percentile)]\n",
    "\n",
    "    # Actual plot\n",
    "    sns.set_style('whitegrid')\n",
    "    fig, ax = plt.subplots(1, figsize=(6, 4))\n",
    "    sns.histplot(data=alarms_by_icustay_without_outliers, x='AlarmCount', palette=sns.color_palette('colorblind'))\n",
    "\n",
    "    # Add title and adjust axes\n",
    "    plt.title('Alarm Counts per ICU Stay ID (without outliers)', fontsize=14)\n",
    "    plt.xlabel('Alarm Count', fontsize=12)\n",
    "    plt.ylabel('Count', fontsize=12)\n",
    "    plt.xlim(left=0)\n",
    "\n",
    "    # Show figure\n",
    "    plt.show()\n",
    "    #fig.savefig('../../plots/paper_alarm_counts_icu_stay.pdf')"
   ]
  }
 ],
 "metadata": {
  "kernelspec": {
   "display_name": "Python 3",
   "language": "python",
   "name": "python3"
  },
  "language_info": {
   "codemirror_mode": {
    "name": "ipython",
    "version": 3
   },
   "file_extension": ".py",
   "mimetype": "text/x-python",
   "name": "python",
   "nbconvert_exporter": "python",
   "pygments_lexer": "ipython3",
   "version": "3.8.2"
  }
 },
 "nbformat": 4,
 "nbformat_minor": 4
}