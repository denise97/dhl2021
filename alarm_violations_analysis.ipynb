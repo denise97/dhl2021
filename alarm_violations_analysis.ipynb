{
 "metadata": {
  "language_info": {
   "codemirror_mode": {
    "name": "ipython",
    "version": 3
   },
   "file_extension": ".py",
   "mimetype": "text/x-python",
   "name": "python",
   "nbconvert_exporter": "python",
   "pygments_lexer": "ipython3",
   "version": "3.7.4"
  },
  "orig_nbformat": 2,
  "kernelspec": {
   "name": "python3",
   "display_name": "Python 3.7.4 64-bit ('base': conda)",
   "metadata": {
    "interpreter": {
     "hash": "c24247fa39158f46a54dbb99bb8811b81cd84bf3c9aa6e8294d53a41a5837da9"
    }
   }
  }
 },
 "nbformat": 4,
 "nbformat_minor": 2,
 "cells": [
  {
   "cell_type": "code",
   "execution_count": null,
   "metadata": {},
   "outputs": [],
   "source": [
    "import pandas as pd\n",
    "\n",
    "PATH = ''\n",
    "\n",
    "ALARM_VIOLATIONS = pd.read_csv(PATH+'alarm_violations.csv')\n",
    "\n",
    "ALARM_VIOLATIONS.head()\n",
    "\n"
   ]
  },
  {
   "cell_type": "code",
   "execution_count": null,
   "metadata": {},
   "outputs": [],
   "source": [
    "ALARM_VIOLATIONS.head()\n"
   ]
  },
  {
   "cell_type": "code",
   "execution_count": null,
   "metadata": {},
   "outputs": [],
   "source": [
    "ALARM_VIOLATIONS['ITEMID']= ALARM_VIOLATIONS['ITEMID'].astype(str)\n",
    "ALARM_VIOLATIONS['ICUSTAY_ID']= ALARM_VIOLATIONS['ICUSTAY_ID'].astype(str)\n",
    "ALARM_VIOLATIONS.describe()"
   ]
  },
  {
   "source": [
    "### Wie viele unique ICU stays befinden sich in dem datenset?\n",
    "Es befinden sich 19 968 unique ICU Aufenthalte in dem datenset"
   ],
   "cell_type": "markdown",
   "metadata": {}
  },
  {
   "cell_type": "code",
   "execution_count": null,
   "metadata": {},
   "outputs": [],
   "source": [
    "\n",
    "unique_ICU_stays = ALARM_VIOLATIONS[\"ICUSTAY_ID\"].value_counts()\n",
    "len(unique_ICU_stays)\n"
   ]
  },
  {
   "source": [
    "### Wie häufig wird ein alarm ausgelöst? = row count alarm violations\n",
    "Es befinden sich 388 209 ausgelöste alarme in dem datenset"
   ],
   "cell_type": "markdown",
   "metadata": {}
  },
  {
   "cell_type": "code",
   "execution_count": null,
   "metadata": {},
   "outputs": [],
   "source": [
    "len(ALARM_VIOLATIONS)\n"
   ]
  },
  {
   "source": [
    "# Stratify Alarms by ITEMID and TYPE (HIGH/LOW)"
   ],
   "cell_type": "markdown",
   "metadata": {}
  },
  {
   "source": [
    "### Werden Alarme eher durch unterschreiten oder durch überschreiten der threshholds ausgelöst?"
   ],
   "cell_type": "markdown",
   "metadata": {}
  },
  {
   "cell_type": "code",
   "execution_count": null,
   "metadata": {},
   "outputs": [],
   "source": [
    "ALARM_VIOLATIONS_HIGH = ALARM_VIOLATIONS[(ALARM_VIOLATIONS['THRESHOLD_TYPE'] == 'HIGH')]\n",
    "print(\"High ALarms:\",len(ALARM_VIOLATIONS_HIGH))\n",
    "\n",
    "ALARM_VIOLATIONS_LOW = ALARM_VIOLATIONS[(ALARM_VIOLATIONS['THRESHOLD_TYPE'] == 'LOW')]\n",
    "print(\"Low ALarms:\",len(ALARM_VIOLATIONS_LOW))\n"
   ]
  },
  {
   "source": [
    "### Aufgeteilt nach ITEMD ID"
   ],
   "cell_type": "markdown",
   "metadata": {}
  },
  {
   "source": [
    "ALARM_VIOLATIONS_STRATFIED = ALARM_VIOLATIONS.groupby(['ITEMID','THRESHOLD_TYPE']).size().reset_index(name='count')\n",
    "print(ALARM_VIOLATIONS_STRATFIED)\n",
    "ALARM_VIOLATIONS_STRATFIED.dtypes"
   ],
   "cell_type": "code",
   "metadata": {},
   "execution_count": null,
   "outputs": []
  },
  {
   "source": [
    "### Visualisierung in Barcharts\n"
   ],
   "cell_type": "markdown",
   "metadata": {}
  },
  {
   "cell_type": "code",
   "execution_count": null,
   "metadata": {},
   "outputs": [],
   "source": [
    "import numpy as np\n",
    "\n",
    "ALARM_VIOLATIONS_STRATFIED_T= ALARM_VIOLATIONS_STRATFIED.pivot(index='ITEMID', columns='THRESHOLD_TYPE', values='count')\n",
    "ALARM_VIOLATIONS_STRATFIED_T\n"
   ]
  },
  {
   "cell_type": "code",
   "execution_count": null,
   "metadata": {},
   "outputs": [],
   "source": [
    "# define figure\n",
    "fig, ax = plt.subplots(1, figsize=(16, 6))\n",
    "# numerical x\n",
    "x = np.arange(0, len(ALARM_VIOLATIONS_STRATFIED_T.index))\n",
    "# plot bars\n",
    "plt.bar(x - 0.3, ALARM_VIOLATIONS_STRATFIED_T['LOW'], width = 0.2, color = '#1D2F6F')\n",
    "plt.bar(x - 0.1, ALARM_VIOLATIONS_STRATFIED_T['HIGH'], width = 0.2, color = '#8390FA')\n",
    "\n",
    "# x y details\n",
    "plt.xlabel('ITEM ID',fontsize=16)\n",
    "plt.ylabel('Alarm Counts',fontsize=16)\n",
    "plt.xticks(x, ALARM_VIOLATIONS_STRATFIED_T.index)\n",
    "\n",
    "# title and legend\n",
    "plt.title('Alarm Counts by Item Id and Type', fontsize=18)\n",
    "plt.legend(['LOW','HIGH'], loc='upper left', ncol = 2)\n",
    "\n",
    "plt.show()\n"
   ]
  },
  {
   "source": [
    "# Average # of Alarm Violations per ICU Stay\n",
    " Wie viele alarm violations haben wir pro ICU STAY?\n"
   ],
   "cell_type": "markdown",
   "metadata": {}
  },
  {
   "cell_type": "code",
   "execution_count": null,
   "metadata": {},
   "outputs": [],
   "source": [
    "\n",
    "unique_ICU_stays = ALARM_VIOLATIONS[\"ICUSTAY_ID\"].value_counts()\n",
    "\n",
    "# convert to data frame\n",
    "df_unique_ICU_stays = pd.DataFrame(unique_ICU_stays)\n",
    "df_unique_ICU_stays = df_unique_ICU_stays.reset_index()\n",
    "df_unique_ICU_stays.columns = ['ICUSTAY_ID','AlarmCount']\n",
    "df_unique_ICU_stays['ICUSTAY_ID']=df_unique_ICU_stays['ICUSTAY_ID'].str.rstrip('.0')\n",
    "df_unique_ICU_stays.describe()\n"
   ]
  },
  {
   "cell_type": "code",
   "execution_count": null,
   "metadata": {},
   "outputs": [],
   "source": [
    "mean_alarms_per_stay = df_unique_ICU_stays['AlarmCount'].mean()\n",
    "median_alarms_per_stay = df_unique_ICU_stays['AlarmCount'].median()\n",
    "min_alarms_per_stay = df_unique_ICU_stays['AlarmCount'].min()\n",
    "max_alarms_per_stay = df_unique_ICU_stays['AlarmCount'].max()\n",
    "print('Mean Alarms per Stay:',mean_alarms_per_stay)\n",
    "print('Median Alarms per Stay:',median_alarms_per_stay)\n",
    "print('Min Alarms per Stay:',min_alarms_per_stay)\n",
    "print('Max Alarms per Stay:',max_alarms_per_stay)"
   ]
  },
  {
   "source": [
    "### Visualisierung in Strip plots"
   ],
   "cell_type": "markdown",
   "metadata": {}
  },
  {
   "cell_type": "code",
   "execution_count": null,
   "metadata": {},
   "outputs": [],
   "source": [
    "count_alarm_numbers = df_unique_ICU_stays['AlarmCount'].value_counts()\n",
    "count_alarm_numbers\n",
    "# there were 2490 ICU stays with only one alarm "
   ]
  },
  {
   "cell_type": "code",
   "execution_count": null,
   "metadata": {},
   "outputs": [],
   "source": [
    "import seaborn as sns\n",
    "\n",
    "sns.set_style(\"whitegrid\")\n",
    "\n",
    "fig, ax = plt.subplots(1, figsize=(16, 6))\n",
    "\n",
    "sns.stripplot(data=df_unique_ICU_stays,x='AlarmCount')\n",
    "plt.title(\"Alarm Count - Scatter Plot\",fontsize=18)\n",
    "plt.xlabel(\"Alarm Count\",fontsize=16)\n",
    "\n",
    "plt.show()\n",
    "\n"
   ]
  },
  {
   "source": [
    "### Analyse der Alarm Counts per ICU Aufenthalt nach Item Id"
   ],
   "cell_type": "markdown",
   "metadata": {}
  },
  {
   "cell_type": "code",
   "execution_count": null,
   "metadata": {},
   "outputs": [],
   "source": [
    "# Create dataframe\n",
    "unique_ICU_stays_by_ItemId = ALARM_VIOLATIONS.groupby(['ITEMID','ICUSTAY_ID']).size().reset_index(name='AlarmCount')\n",
    "unique_ICU_stays_by_ItemId['ICUSTAY_ID']=unique_ICU_stays_by_ItemId['ICUSTAY_ID'].str.rstrip('.0')\n",
    "unique_ICU_stays_by_ItemId\n",
    "unique_ICU_stays_by_ItemId.sort_values(by=['AlarmCount'], inplace=True)\n",
    "unique_ICU_stays_by_ItemId\n",
    "# ICU Stay Id with highest Alarm Counts for Item Id 220277 equals the one above with ~14 000 alarms"
   ]
  },
  {
   "cell_type": "code",
   "execution_count": null,
   "metadata": {},
   "outputs": [],
   "source": [
    "unique_ICU_stays_by_220045= unique_ICU_stays_by_ItemId[(unique_ICU_stays_by_ItemId[\"ITEMID\"] ==\"220045\")]\n",
    "unique_ICU_stays_by_220045.describe()"
   ]
  },
  {
   "cell_type": "code",
   "execution_count": null,
   "metadata": {},
   "outputs": [],
   "source": [
    "unique_ICU_stays_by_220179= unique_ICU_stays_by_ItemId[(unique_ICU_stays_by_ItemId[\"ITEMID\"] ==\"220179\")]\n",
    "unique_ICU_stays_by_220179.describe()"
   ]
  },
  {
   "cell_type": "code",
   "execution_count": null,
   "metadata": {},
   "outputs": [],
   "source": [
    "unique_ICU_stays_by_220210= unique_ICU_stays_by_ItemId[(unique_ICU_stays_by_ItemId[\"ITEMID\"] ==\"220210\")]\n",
    "unique_ICU_stays_by_220210.describe()"
   ]
  },
  {
   "cell_type": "code",
   "execution_count": null,
   "metadata": {},
   "outputs": [],
   "source": [
    "unique_ICU_stays_by_220277= unique_ICU_stays_by_ItemId[(unique_ICU_stays_by_ItemId[\"ITEMID\"] ==\"220277\")]\n",
    "unique_ICU_stays_by_220277.describe()"
   ]
  },
  {
   "cell_type": "code",
   "execution_count": null,
   "metadata": {},
   "outputs": [],
   "source": [
    "unique_ICU_stays_by_224687= unique_ICU_stays_by_ItemId[(unique_ICU_stays_by_ItemId[\"ITEMID\"] ==\"224687\")]\n",
    "unique_ICU_stays_by_224687.describe()"
   ]
  },
  {
   "source": [
    "### Visualisierung in Strip plot"
   ],
   "cell_type": "markdown",
   "metadata": {}
  },
  {
   "cell_type": "code",
   "execution_count": null,
   "metadata": {},
   "outputs": [],
   "source": [
    "# define figure\n",
    "fig, ax = plt.subplots(1, figsize=(16, 6))\n",
    "# numerical x\n",
    "x = np.arange(0, len(ALARM_VIOLATIONS_STRATFIED_T.index))\n",
    "# plot bars\n",
    "plt.bar(x - 0.3, ALARM_VIOLATIONS_STRATFIED_T['LOW'], width = 0.2, color = '#1D2F6F')\n",
    "plt.bar(x - 0.1, ALARM_VIOLATIONS_STRATFIED_T['HIGH'], width = 0.2, color = '#8390FA')\n",
    "\n",
    "# x y details\n",
    "plt.xlabel('ITEM ID')\n",
    "plt.ylabel('Alarm Counts')\n",
    "plt.xticks(x, ALARM_VIOLATIONS_STRATFIED_T.index)\n",
    "\n",
    "# title and legend\n",
    "plt.title('Alarm Counts by Item Id and Type', loc ='left')\n",
    "plt.legend(['LOW','HIGH'], loc='upper left', ncol = 2)\n",
    "\n",
    "plt.show()"
   ]
  },
  {
   "cell_type": "code",
   "execution_count": null,
   "metadata": {},
   "outputs": [],
   "source": [
    "#Stratified by Item Id\n",
    "#sns.stripplot(x=\"sports\", y=\"QOL\", data=gold, ax=axs[0])\n",
    "#axs[0].set_title(\"sports scatter plot\")\n",
    "#axs[0].set_xlabel(\"sports (higher value means less sport)\")\n",
    "#%%\n",
    "sns.set_style(\"whitegrid\")\n",
    "\n",
    "fig, ax = plt.subplots(1, figsize=(16, 6))\n",
    "\n",
    "sns.stripplot(x=\"ITEMID\", y=\"AlarmCount\", data=unique_ICU_stays_by_ItemId)\n",
    "plt.title(\"Alarm Count by Item ID - Scatter Plot\",fontsize=18)\n",
    "plt.xlabel(\"Item Id\",fontsize=16)\n",
    "plt.ylabel(\"Alarm Count\",fontsize=16)\n",
    "plt.gca().set_ylim(bottom=0)\n",
    "plt.show()"
   ]
  },
  {
   "cell_type": "code",
   "execution_count": null,
   "metadata": {},
   "outputs": [],
   "source": [
    "ALARM_VIOLATIONS.head()"
   ]
  },
  {
   "source": [
    "# Analysis of Difference between actual values and thresholds"
   ],
   "cell_type": "markdown",
   "metadata": {}
  },
  {
   "cell_type": "code",
   "execution_count": null,
   "metadata": {},
   "outputs": [],
   "source": [
    "# create new column that shows the dif between actual and threshold\n",
    "ALARM_VIOLATIONS['DIF_ACTUAL_TH'] = ALARM_VIOLATIONS['VALUENUM'] - ALARM_VIOLATIONS['THRESHOLD_VALUE']\n",
    "ALARM_VIOLATIONS.head()\n",
    "\n"
   ]
  },
  {
   "cell_type": "code",
   "execution_count": null,
   "metadata": {},
   "outputs": [],
   "source": [
    "# analyze dif by item id\n",
    "dif_analysis = ALARM_VIOLATIONS.groupby('ITEMID').describe()\n",
    "dif_analysis = dif_analysis[\"DIF_ACTUAL_TH\"].round(2)\n",
    "dif_analysis"
   ]
  },
  {
   "source": [
    "## Analyze dif for each Item ID"
   ],
   "cell_type": "markdown",
   "metadata": {}
  },
  {
   "source": [
    "### 220045 - Heart Rate "
   ],
   "cell_type": "markdown",
   "metadata": {}
  },
  {
   "cell_type": "code",
   "execution_count": null,
   "metadata": {},
   "outputs": [],
   "source": [
    "ALARM_VIOLATIONS_220045 = ALARM_VIOLATIONS[(ALARM_VIOLATIONS['ITEMID'] == '220045')]\n",
    "ALARM_VIOLATIONS_220045"
   ]
  },
  {
   "cell_type": "code",
   "execution_count": null,
   "metadata": {},
   "outputs": [],
   "source": [
    "import matplotlib.pyplot as plt\n",
    "import seaborn as sns\n",
    "sns.set_style(\"whitegrid\")\n",
    "ALARM_VIOLATIONS_220045 = ALARM_VIOLATIONS[(ALARM_VIOLATIONS['ITEMID'] == '220045')]\n",
    "\n",
    "fig, axs = plt.subplots(1, 2, figsize=(25, 5))\n",
    "fig.suptitle(\"Difference Between Actual and Threshold - 220045\", fontsize=18)\n",
    "\n",
    "sns.stripplot(data=ALARM_VIOLATIONS_220045,x='THRESHOLD_TYPE', y='DIF_ACTUAL_TH', ax=axs[0])\n",
    "#axs[0].set_title(\"Difference Between Actual and Threshold - 220045 Scatter Plot\",fontsize=14)\n",
    "axs[0].set_ylabel(\"Difference Between Actual and Threshold\",fontsize=14)\n",
    "axs[0].set_xlabel(\"Threshold Type\",fontsize=14)\n",
    "\n",
    "sns.boxplot(data=ALARM_VIOLATIONS_220045,x='THRESHOLD_TYPE', y='DIF_ACTUAL_TH', ax=axs[1])\n",
    "#axs[1].set_title(\"Difference Between Actual and Threshold - 220045 Boxplot\")\n",
    "axs[1].set_ylabel(\"Difference Between Actual and Threshold\", fontsize=14)\n",
    "axs[1].set_xlabel(\"Threshold Type\",fontsize=14)\n",
    "\n",
    "#sns.histplot(data=ALARM_VIOLATIONS_220045, x='DIF_ACTUAL_TH', ax=axs[2])\n",
    "#axs[2].set_title(\"HR_violations_clean histogram\")\n",
    "#axs[2].set_xlabel(\"HR_violations_clean VALUENUM\")\n",
    "\n",
    "plt.show(fig)\n"
   ]
  },
  {
   "cell_type": "code",
   "execution_count": null,
   "metadata": {},
   "outputs": [],
   "source": [
    "ALARM_VIOLATIONS_220045.describe()\n",
    "ALARM_VIOLATIONS_220045_H = ALARM_VIOLATIONS_220045[(ALARM_VIOLATIONS_220045['THRESHOLD_TYPE'] == 'HIGH')]\n",
    "ALARM_VIOLATIONS_220045_H.describe()"
   ]
  },
  {
   "cell_type": "code",
   "execution_count": null,
   "metadata": {},
   "outputs": [],
   "source": [
    "ALARM_VIOLATIONS_220045_L = ALARM_VIOLATIONS_220045[(ALARM_VIOLATIONS_220045['THRESHOLD_TYPE'] == 'LOW')]\n",
    "ALARM_VIOLATIONS_220045_L.describe()"
   ]
  },
  {
   "source": [
    "### 220179 - Non Invasive Blood Pressure systolic"
   ],
   "cell_type": "markdown",
   "metadata": {}
  },
  {
   "cell_type": "code",
   "execution_count": null,
   "metadata": {},
   "outputs": [],
   "source": [
    "import matplotlib.pyplot as plt\n",
    "import seaborn as sns\n",
    "sns.set_style(\"whitegrid\")\n",
    "ALARM_VIOLATIONS_220179 = ALARM_VIOLATIONS[(ALARM_VIOLATIONS['ITEMID'] == '220179')]\n",
    "\n",
    "fig, axs = plt.subplots(1, 2, figsize=(25, 5))\n",
    "fig.suptitle(\"Difference Between Actual and Threshold - 220179\", fontsize=18)\n",
    "\n",
    "sns.stripplot(data=ALARM_VIOLATIONS_220179,x='THRESHOLD_TYPE', y='DIF_ACTUAL_TH', ax=axs[0])\n",
    "#axs[0].set_title(\"Difference Between Actual and Threshold - 220045 Scatter Plot\",fontsize=14)\n",
    "axs[0].set_ylabel(\"Difference Between Actual and Threshold\",fontsize=14)\n",
    "axs[0].set_xlabel(\"Threshold Type\",fontsize=14)\n",
    "\n",
    "sns.boxplot(data=ALARM_VIOLATIONS_220179,x='THRESHOLD_TYPE', y='DIF_ACTUAL_TH', ax=axs[1])\n",
    "#axs[1].set_title(\"Difference Between Actual and Threshold - 220045 Boxplot\")\n",
    "axs[1].set_ylabel(\"Difference Between Actual and Threshold\", fontsize=14)\n",
    "axs[1].set_xlabel(\"Threshold Type\",fontsize=14)\n",
    "\n",
    "#sns.histplot(data=ALARM_VIOLATIONS_220179, x='DIF_ACTUAL_TH', ax=axs[2])\n",
    "#axs[2].set_title(\"HR_violations_clean histogram\")\n",
    "#axs[2].set_xlabel(\"HR_violations_clean VALUENUM\")\n",
    "\n",
    "plt.show(fig)"
   ]
  },
  {
   "source": [
    "### 220210 - Respiratory Rate"
   ],
   "cell_type": "markdown",
   "metadata": {}
  },
  {
   "cell_type": "code",
   "execution_count": null,
   "metadata": {},
   "outputs": [],
   "source": [
    "import matplotlib.pyplot as plt\n",
    "import seaborn as sns\n",
    "sns.set_style(\"whitegrid\")\n",
    "ALARM_VIOLATIONS_220210 = ALARM_VIOLATIONS[(ALARM_VIOLATIONS['ITEMID'] == '220210')]\n",
    "\n",
    "fig, axs = plt.subplots(1, 2, figsize=(25, 5))\n",
    "fig.suptitle(\"Difference Between Actual and Threshold - 220210\", fontsize=18)\n",
    "\n",
    "sns.stripplot(data=ALARM_VIOLATIONS_220210,x='THRESHOLD_TYPE', y='DIF_ACTUAL_TH', ax=axs[0])\n",
    "#axs[0].set_title(\"Difference Between Actual and Threshold - 220045 Scatter Plot\",fontsize=14)\n",
    "axs[0].set_ylabel(\"Difference Between Actual and Threshold\",fontsize=14)\n",
    "axs[0].set_xlabel(\"Threshold Type\",fontsize=14)\n",
    "\n",
    "sns.boxplot(data=ALARM_VIOLATIONS_220210,x='THRESHOLD_TYPE', y='DIF_ACTUAL_TH', ax=axs[1])\n",
    "#axs[1].set_title(\"Difference Between Actual and Threshold - 220045 Boxplot\")\n",
    "axs[1].set_ylabel(\"Difference Between Actual and Threshold\", fontsize=14)\n",
    "axs[1].set_xlabel(\"Threshold Type\",fontsize=14)\n",
    "\n",
    "#sns.histplot(data=ALARM_VIOLATIONS_220210, x='DIF_ACTUAL_TH', ax=axs[2])\n",
    "#axs[2].set_title(\"HR_violations_clean histogram\")\n",
    "#axs[2].set_xlabel(\"HR_violations_clean VALUENUM\")\n",
    "\n",
    "plt.show(fig)"
   ]
  },
  {
   "source": [
    "### 220277 - O2 saturation pulseoxymetry"
   ],
   "cell_type": "markdown",
   "metadata": {}
  },
  {
   "cell_type": "code",
   "execution_count": null,
   "metadata": {},
   "outputs": [],
   "source": [
    "import matplotlib.pyplot as plt\n",
    "import seaborn as sns\n",
    "sns.set_style(\"whitegrid\")\n",
    "ALARM_VIOLATIONS_220277 = ALARM_VIOLATIONS[(ALARM_VIOLATIONS['ITEMID'] == '220277')]\n",
    "\n",
    "fig, axs = plt.subplots(1, 2, figsize=(25, 5))\n",
    "fig.suptitle(\"Difference Between Actual and Threshold - 220277\", fontsize=18)\n",
    "\n",
    "sns.stripplot(data=ALARM_VIOLATIONS_220277,x='THRESHOLD_TYPE', y='DIF_ACTUAL_TH', ax=axs[0])\n",
    "#axs[0].set_title(\"Difference Between Actual and Threshold - 220045 Scatter Plot\",fontsize=14)\n",
    "axs[0].set_ylabel(\"Difference Between Actual and Threshold\",fontsize=14)\n",
    "axs[0].set_xlabel(\"Threshold Type\",fontsize=14)\n",
    "\n",
    "sns.boxplot(data=ALARM_VIOLATIONS_220277,x='THRESHOLD_TYPE', y='DIF_ACTUAL_TH', ax=axs[1])\n",
    "#axs[1].set_title(\"Difference Between Actual and Threshold - 220045 Boxplot\")\n",
    "axs[1].set_ylabel(\"Difference Between Actual and Threshold\", fontsize=14)\n",
    "axs[1].set_xlabel(\"Threshold Type\",fontsize=14)\n",
    "\n",
    "#sns.histplot(data=ALARM_VIOLATIONS_220277, x='DIF_ACTUAL_TH', ax=axs[2])\n",
    "#axs[2].set_title(\"HR_violations_clean histogram\")\n",
    "#axs[2].set_xlabel(\"HR_violations_clean VALUENUM\")\n",
    "\n",
    "plt.show(fig)"
   ]
  },
  {
   "source": [
    "### 224687 - Minute Volume"
   ],
   "cell_type": "markdown",
   "metadata": {}
  },
  {
   "cell_type": "code",
   "execution_count": null,
   "metadata": {},
   "outputs": [],
   "source": [
    "import matplotlib.pyplot as plt\n",
    "import seaborn as sns\n",
    "sns.set_style(\"whitegrid\")\n",
    "ALARM_VIOLATIONS_224687 = ALARM_VIOLATIONS[(ALARM_VIOLATIONS['ITEMID'] == '224687')]\n",
    "\n",
    "fig, axs = plt.subplots(1, 2, figsize=(25, 5))\n",
    "fig.suptitle(\"Difference Between Actual and Threshold - 224687\", fontsize=18)\n",
    "\n",
    "sns.stripplot(data=ALARM_VIOLATIONS_224687,x='THRESHOLD_TYPE', y='DIF_ACTUAL_TH', ax=axs[0])\n",
    "#axs[0].set_title(\"Difference Between Actual and Threshold - 220045 Scatter Plot\",fontsize=14)\n",
    "axs[0].set_ylabel(\"Difference Between Actual and Threshold\",fontsize=14)\n",
    "axs[0].set_xlabel(\"Threshold Type\",fontsize=14)\n",
    "\n",
    "sns.boxplot(data=ALARM_VIOLATIONS_224687,x='THRESHOLD_TYPE', y='DIF_ACTUAL_TH', ax=axs[1])\n",
    "#axs[1].set_title(\"Difference Between Actual and Threshold - 220045 Boxplot\")\n",
    "axs[1].set_ylabel(\"Difference Between Actual and Threshold\", fontsize=14)\n",
    "axs[1].set_xlabel(\"Threshold Type\",fontsize=14)\n",
    "\n",
    "#sns.histplot(data=ALARM_VIOLATIONS_224687, x='DIF_ACTUAL_TH', ax=axs[2])\n",
    "#axs[2].set_title(\"HR_violations_clean histogram\")\n",
    "#axs[2].set_xlabel(\"HR_violations_clean VALUENUM\")\n",
    "\n",
    "plt.show(fig)"
   ]
  },
  {
   "cell_type": "code",
   "execution_count": null,
   "metadata": {},
   "outputs": [],
   "source": [
    "## Fragen die wir auf CHARTEVENTS beantworten müssen\n",
    "# Kann man anhand der Uhrzeit etwas ableiten? ZB nachts treten mehr alarms auf als tags?\n",
    "# Nach wie viel minuten wird im durchschnitt nach einstellung eines treshholds ein alarm ausgelöst, stratified nach ITEM ID?\n",
    "# These: \"Je häugifer pro Zeiteinheit die nurse den Treshhold anpasst, desto eher gibt es eine violation\"\n",
    "# Um Violation zu predicten, benötigen wir ein erweitertes Datenset (siehe) alarm_violations_extended_by_normal_measurements.png\n",
    "#Wir bräuchten auch den patienten wieder drin um die patienten demographics zu erhalten\n"
   ]
  }
 ]
}
