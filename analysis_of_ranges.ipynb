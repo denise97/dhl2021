{
 "cells": [
  {
   "cell_type": "markdown",
   "source": [
    "# Analysis of Measurement Values and Its Thresholds\n",
    "## Comparison of Original Values and Values in 'alarm_violations.csv'"
   ],
   "metadata": {
    "collapsed": false,
    "pycharm": {
     "name": "#%% md\n"
    }
   }
  },
  {
   "cell_type": "code",
   "execution_count": null,
   "outputs": [],
   "source": [
    "import math\n",
    "import pandas as pd\n",
    "\n",
    "CHUNK_SIZE = 1000\n",
    "NROWS = 1000000\n",
    "DATA_PATH = './mimic-iii-clinical-database-1.4/CHARTEVENTS.csv'\n",
    "\n",
    "csv_iter = pd.read_csv(DATA_PATH, iterator=True, chunksize=CHUNK_SIZE, nrows=NROWS, usecols=['ITEMID', 'VALUENUM'])\n",
    "\n",
    "chunks = [0] * math.ceil(NROWS / CHUNK_SIZE)\n",
    "\n",
    "for i, chunk in enumerate(csv_iter):\n",
    "    chunks[i] = chunk\n",
    "\n",
    "df = pd.concat(chunks, axis=0)\n",
    "del chunks"
   ],
   "metadata": {
    "collapsed": false,
    "pycharm": {
     "name": "#%%\n"
    }
   }
  },
  {
   "cell_type": "markdown",
   "source": [
    "### Analysis of Heart Rate"
   ],
   "metadata": {
    "collapsed": false
   }
  },
  {
   "cell_type": "code",
   "execution_count": null,
   "outputs": [],
   "source": [
    "hr_values = df[(df['ITEMID'] == 220045)]\n",
    "hr_values.VALUENUM.describe() # measurements range from -88 to 6,632"
   ],
   "metadata": {
    "collapsed": false,
    "pycharm": {
     "name": "#%%\n"
    }
   }
  },
  {
   "cell_type": "markdown",
   "source": [
    "The lower limit of the measurement values of the heart rate coincide with the ones in 'alarm_violations.csv', but the upper limit in the respective CSV is much higher (86,101). Additionally, the measured heart rate should be between 0 and at most 480 resp. 350."
   ],
   "metadata": {
    "collapsed": false
   }
  },
  {
   "cell_type": "code",
   "execution_count": null,
   "outputs": [],
   "source": [
    "hr_low = df[(df['ITEMID'] == 220047)]\n",
    "hr_low.VALUENUM.describe() # LOW thresholds range from 8 to 50,120"
   ],
   "metadata": {
    "collapsed": false,
    "pycharm": {
     "name": "#%%\n"
    }
   }
  },
  {
   "cell_type": "markdown",
   "source": [
    "These LOW thresholds of the heart rate coincide with the ones (10 to 85,160) generated in 'alarm_violations.csv', but both upper limits are definitely too high."
   ],
   "metadata": {
    "collapsed": false
   }
  },
  {
   "cell_type": "code",
   "execution_count": null,
   "outputs": [],
   "source": [
    "hr_high = df[(df['ITEMID'] == 220046)]\n",
    "hr_high.VALUENUM.describe() # HIGH thresholds range from 10 to 1,230"
   ],
   "metadata": {
    "collapsed": false,
    "pycharm": {
     "name": "#%%\n"
    }
   }
  },
  {
   "cell_type": "markdown",
   "source": [
    "These HIGH thresholds of the heart rate coincide with the ones (0 to 175) generated in 'alarm_violations.csv', but its upper limit is definitely too high."
   ],
   "metadata": {
    "collapsed": false
   }
  },
  {
   "cell_type": "markdown",
   "source": [
    "### Analysis of Systolic Blood Pressure\n",
    "\n",
    "Tbc."
   ],
   "metadata": {
    "collapsed": false
   }
  },
  {
   "cell_type": "markdown",
   "source": [
    "### Analysis of O2 Saturation"
   ],
   "metadata": {
    "collapsed": false
   }
  },
  {
   "cell_type": "code",
   "execution_count": null,
   "outputs": [],
   "source": [
    "o2sat_values = df[(df['ITEMID'] == 220277)]\n",
    "o2sat_values.VALUENUM.describe() # measurements range from 0 to 100"
   ],
   "metadata": {
    "collapsed": false,
    "pycharm": {
     "name": "#%%\n"
    }
   }
  },
  {
   "cell_type": "markdown",
   "source": [
    "In contrast to these values, the measurement values of the O2 saturation in 'alarm_violations.csv' go up until 1,000."
   ],
   "metadata": {
    "collapsed": false
   }
  },
  {
   "cell_type": "code",
   "execution_count": null,
   "outputs": [],
   "source": [
    "o2sat_low = df[(df['ITEMID'] == 223770)]\n",
    "o2sat_low.VALUENUM.describe() # LOW thresholds range from 2 to 90,100"
   ],
   "metadata": {
    "collapsed": false,
    "pycharm": {
     "name": "#%%\n"
    }
   }
  },
  {
   "cell_type": "markdown",
   "source": [
    "These LOW thresholds of the O2 saturation coincide with the ones (50 to 90,100) generated in 'alarm_violations.csv'. Nevertheless, the maximal LOW threshold should be at most 99 and thus much lower than 90,100."
   ],
   "metadata": {
    "collapsed": false
   }
  },
  {
   "cell_type": "code",
   "execution_count": null,
   "outputs": [],
   "source": [
    "o2sat_high = df[(df['ITEMID'] == 223769)]\n",
    "o2sat_high.VALUENUM.describe() # HIGH thresholds range from 10 to 1,000"
   ],
   "metadata": {
    "collapsed": false,
    "pycharm": {
     "name": "#%%\n"
    }
   }
  },
  {
   "cell_type": "markdown",
   "source": [
    "In contrast to these values, the HIGH thresholds of the O2 saturation in 'alarm_violations.csv' only go up until 100 and thus look plausible. Nevertheless, the maximal HIGH threshold should be at most 100."
   ],
   "metadata": {
    "collapsed": false
   }
  },
  {
   "cell_type": "markdown",
   "source": [
    "### Analysis of Respiratory Rate"
   ],
   "metadata": {
    "collapsed": false
   }
  },
  {
   "cell_type": "code",
   "execution_count": null,
   "outputs": [],
   "source": [
    "rr_values = df[(df['ITEMID'] == 220210)]\n",
    "rr_values.VALUENUM.describe() # measurements range from 0 to 200"
   ],
   "metadata": {
    "collapsed": false,
    "pycharm": {
     "name": "#%%\n"
    }
   }
  },
  {
   "cell_type": "markdown",
   "source": [
    "The measurement values of the respiratory rate in 'alarm_violations.csv' range from 0 to 2.35 million which completely contradicts the original values."
   ],
   "metadata": {
    "collapsed": false
   }
  },
  {
   "cell_type": "code",
   "execution_count": null,
   "outputs": [],
   "source": [
    "rr_low = df[(df['ITEMID'] == 224162)]\n",
    "rr_low.VALUENUM.describe() # LOW thresholds range from 0 to 93"
   ],
   "metadata": {
    "collapsed": false,
    "pycharm": {
     "name": "#%%\n"
    }
   }
  },
  {
   "cell_type": "markdown",
   "source": [
    "Maximal LOW threshold of the respiratory rate is 93 which speaks against the values in the million range from 'alarm_violations.csv'."
   ],
   "metadata": {
    "collapsed": false
   }
  },
  {
   "cell_type": "code",
   "execution_count": null,
   "outputs": [],
   "source": [
    "rr_high = df[(df['ITEMID'] == 224161)]\n",
    "rr_high.VALUENUM.describe() # HIGH thresholds range from 0 to 160"
   ],
   "metadata": {
    "collapsed": false,
    "pycharm": {
     "name": "#%%\n"
    }
   }
  },
  {
   "cell_type": "markdown",
   "source": [
    "The HIGH thresholds of the respiratory rate in 'alarm_violations.csv' range from 0 to 55 which is plausible regarding the range found in 'CHARTEVENTS.csv'."
   ],
   "metadata": {
    "collapsed": false
   }
  },
  {
   "cell_type": "markdown",
   "source": [
    "### Analysis of Minute Volume\n",
    "\n",
    "Tbc."
   ],
   "metadata": {
    "collapsed": false,
    "pycharm": {
     "name": "#%% md\n"
    }
   }
  }
 ],
 "metadata": {
  "kernelspec": {
   "display_name": "Python 3",
   "language": "python",
   "name": "python3"
  },
  "language_info": {
   "codemirror_mode": {
    "name": "ipython",
    "version": 2
   },
   "file_extension": ".py",
   "mimetype": "text/x-python",
   "name": "python",
   "nbconvert_exporter": "python",
   "pygments_lexer": "ipython2",
   "version": "2.7.6"
  }
 },
 "nbformat": 4,
 "nbformat_minor": 0
}