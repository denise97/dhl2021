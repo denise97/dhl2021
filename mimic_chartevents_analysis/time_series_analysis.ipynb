{
 "metadata": {
  "language_info": {
   "codemirror_mode": {
    "name": "ipython",
    "version": 3
   },
   "file_extension": ".py",
   "mimetype": "text/x-python",
   "name": "python",
   "nbconvert_exporter": "python",
   "pygments_lexer": "ipython3",
   "version": "3.9.0"
  },
  "orig_nbformat": 2,
  "kernelspec": {
   "name": "python390jvsc74a57bd0e2bfb1b1dd0bcdebdb315279aa118b1f834444d4ba3ba6d660e9f6ce7703f6a2",
   "display_name": "Python 3.9.0 64-bit"
  },
  "metadata": {
   "interpreter": {
    "hash": "e2bfb1b1dd0bcdebdb315279aa118b1f834444d4ba3ba6d660e9f6ce7703f6a2"
   }
  }
 },
 "nbformat": 4,
 "nbformat_minor": 2,
 "cells": [
  {
   "source": [
    "# Time Series Analysis\n",
    "\n",
    "Document is still in progress. It currently includes a mixture of a) time series visualization and b) an approach to extract alarm violations (different from what Jonas did, as far as I know).\n",
    "\n",
    "I will tidy it up later and put the time series plot to into the templates for plots document."
   ],
   "cell_type": "markdown",
   "metadata": {}
  },
  {
   "cell_type": "code",
   "execution_count": null,
   "metadata": {},
   "outputs": [],
   "source": [
    "# Read CHARTEVENTS into Dask DataFrame (parallel DataFrame composed of many smaller Pandas DataFrames)\n",
    "import dask.dataframe as dd\n",
    "chartevents = dd.read_csv('./mimic/CHARTEVENTS.csv', dtype={\n",
    "    'ICUSTAY_ID': 'float64','CGID': 'float64','ERROR': 'float64','STOPPED': 'object','VALUE': 'object','WARNING': 'float64','RESULTSTATUS': 'object'})\n",
    "chartevents.head()"
   ]
  },
  {
   "cell_type": "code",
   "execution_count": null,
   "metadata": {},
   "outputs": [],
   "source": [
    "# Select only the first partition of the chartevents Dask DataFrame (to save computation time when testing the plot) \n",
    "import pandas as pd\n",
    "chartevents_subset = pd.DataFrame(chartevents.get_partition(1).compute())\n",
    "display(chartevents_subset)"
   ]
  },
  {
   "cell_type": "code",
   "execution_count": null,
   "metadata": {},
   "outputs": [],
   "source": [
    "# Create subset for Heart Rate values and thresholds using the respective ITEMIDs\n",
    "chartevents_subset_HR = chartevents_subset[(chartevents_subset[\"ITEMID\"].isin([220045,220046,220047]))]"
   ]
  },
  {
   "cell_type": "code",
   "execution_count": null,
   "metadata": {},
   "outputs": [],
   "source": [
    "# For testing the visualization, an ICU Stay is now selected that has enough data points for a meaningful visualization.\n",
    "\n",
    "# Create data frame with new column EVENTCOUNT, which counts how often an ITEMID has occurred per ICUSTAY_ID.\n",
    "events_per_icustay = chartevents_subset_HR.groupby(['ICUSTAY_ID','ITEMID']).size().reset_index(name='EVENTCOUNT')\n",
    "\n",
    "# Arrange data using pivot\n",
    "events_per_icustay = events_per_icustay.pivot('ICUSTAY_ID','ITEMID')\n",
    "\n",
    "display(events_per_icustay)"
   ]
  },
  {
   "cell_type": "code",
   "execution_count": null,
   "metadata": {},
   "outputs": [],
   "source": [
    "# Show those ICU stays where between 50 and 500 heart rate values have been recorded and ...\n",
    "# ... at least 2 HIGH heart rate alarms have been set (not triggered!) and ...\n",
    "# ... at least 2 LOW heart rate alarms have been set (not triggered!).\n",
    "# Sort descending by the number of recorded heart rate values.\n",
    "events_per_icustay[ \n",
    "    (events_per_icustay[('EVENTCOUNT', 220045)] > 50) & \n",
    "    (events_per_icustay[('EVENTCOUNT', 220045)] < 500) & \n",
    "    (events_per_icustay[('EVENTCOUNT', 220046)] > 2) & \n",
    "    (events_per_icustay[('EVENTCOUNT', 220047)] > 2) \n",
    "    ].sort_values(by=('EVENTCOUNT', 220045), ascending=False)"
   ]
  },
  {
   "cell_type": "code",
   "execution_count": null,
   "metadata": {},
   "outputs": [],
   "source": [
    "# ICUSTAY_ID \"208809.0\" is selected for further visualization.\n",
    "\n",
    "# Example some high and low heart rate alarms: ICUSTAY_ID \"231056.0\"\n",
    "# Example many high and low heart rate alarms: ICUSTAY_ID \"208809.0\"\n",
    "# Example single high heart rate alarm:  \"227109.0\"\n",
    "# Example many high heart rate alarms: ICUSTAY_ID \"238757.0\" and \"203317.0\"\n",
    "# Example many low heart rate alarms: ICUSTAY_ID \"266167.0\"\n",
    "# Example low sample rate for vital parameter: ICUSTAY_ID \"211792.0\"\n",
    "# Example flipped alarm thresholds (probalby wrong input by ICU staff): ICUSTAY_ID \"234196.0\"\n",
    "\n",
    "selected_icustay = chartevents_subset_HR[(chartevents_subset_HR[\"ICUSTAY_ID\"] == 208809.0)].copy()\n",
    "display(selected_icustay)"
   ]
  },
  {
   "cell_type": "code",
   "execution_count": null,
   "metadata": {},
   "outputs": [],
   "source": [
    "# Add new column with ITEMID_LABEL, which can be used for the legend of the plot.\n",
    "import numpy as np\n",
    "selected_icustay['ITEMID_LABEL'] = np.nan\n",
    "selected_icustay['ITEMID_LABEL'] = np.where((selected_icustay['ITEMID'] == 220045) & (selected_icustay['ITEMID_LABEL'] != np.nan), \"Heart Rate (bpm)\", selected_icustay['ITEMID_LABEL'])\n",
    "selected_icustay['ITEMID_LABEL'] = np.where((selected_icustay['ITEMID'] == 220046) & (selected_icustay['ITEMID_LABEL'] != np.nan), \"Alarm threshold: high heart rate (bpm)\", selected_icustay['ITEMID_LABEL'])\n",
    "selected_icustay['ITEMID_LABEL'] = np.where((selected_icustay['ITEMID'] == 220047) & (selected_icustay['ITEMID_LABEL'] != np.nan), \"Alarm threshold: low heart rate (bpm)\", selected_icustay['ITEMID_LABEL'])\n",
    "display(selected_icustay)\n",
    "\n",
    "# Convert CHARTTIME to datetime\n",
    "selected_icustay['CHARTTIME'] = pd.to_datetime(selected_icustay['CHARTTIME'])"
   ]
  },
  {
   "cell_type": "code",
   "execution_count": null,
   "metadata": {},
   "outputs": [],
   "source": [
    "import seaborn as sns\n",
    "import matplotlib.pyplot as plt\n",
    "import numpy as np\n",
    "\n",
    "# Set variables\n",
    "title = \"History of heart rate of ICU stay <insert>\"\n",
    "xlabel = \"Time\"\n",
    "ylabel = \"Beats per minute\"\n",
    "plotdata = selected_icustay\n",
    "xvalue = \"CHARTTIME\"\n",
    "yvalue = \"VALUENUM\"\n",
    "huevalue = \"ITEMID_LABEL\"\n",
    "\n",
    "# Config figure\n",
    "sns.set_style(\"whitegrid\")\n",
    "fig, ax = plt.subplots(\n",
    "    figsize = (11, 5), \n",
    "    dpi = 72 # e.g. 72 for screen, 300 for print\n",
    "    )\n",
    "ax = sns.lineplot(\n",
    "    data = plotdata, \n",
    "    x = xvalue,\n",
    "    y = yvalue, \n",
    "    hue = huevalue,\n",
    "    style= huevalue,\n",
    "    drawstyle = 'steps-post', # Interpolate missing values by using the last available value\n",
    "    markers = ['p','^','v'],\n",
    "    markersize = 5,\n",
    "    dashes = False,\n",
    "    palette = [sns.color_palette(\"colorblind\")[0],sns.color_palette(\"colorblind\")[1],sns.color_palette(\"colorblind\")[2]]\n",
    "    )\n",
    "\n",
    "plt.legend(title = None, bbox_to_anchor=(1.02, 0.3), loc='upper left', borderaxespad=0)\n",
    "ax.set_title(title, fontweight='bold', color= 'black', fontsize=14, y=1.05)\n",
    "ax.set_xlabel(xlabel, fontsize=12, labelpad=15)\n",
    "ax.set_ylabel(ylabel, fontsize=12, labelpad=15)\n",
    "plt.xticks(rotation = 90)\n",
    "\n",
    "# Plot figure\n",
    "plt.show(fig)"
   ]
  },
  {
   "source": [
    "## Identify Alarm Violations"
   ],
   "cell_type": "markdown",
   "metadata": {}
  },
  {
   "cell_type": "code",
   "execution_count": null,
   "metadata": {},
   "outputs": [],
   "source": [
    "# Create a time-indexed data frame that allows to identify intersection, i.e. triggered alarms a.k.a alarm violations\n",
    " \n",
    "# Firstly, create time-indexed pandas seriesDas\n",
    "value_series = selected_icustay[(selected_icustay[\"ITEMID\"] == 220045)][['CHARTTIME','VALUENUM']].set_index('CHARTTIME').squeeze().rename(\"VALUE\")\n",
    "threshold_high_series = selected_icustay[(selected_icustay[\"ITEMID\"] == 220046)][['CHARTTIME','VALUENUM']].set_index('CHARTTIME').squeeze().rename(\"THRESHOLD_HIGH\")\n",
    "threshold_low_series = selected_icustay[(selected_icustay[\"ITEMID\"] == 220047)][['CHARTTIME','VALUENUM']].set_index('CHARTTIME').squeeze().rename(\"THRESHOLD_LOW\")\n",
    "# Secondly, merge series to data frame using pd.concat\n",
    "timeseries = pd.concat([value_series, threshold_high_series, threshold_low_series], axis=1).copy()\n",
    "display(timeseries)"
   ]
  },
  {
   "cell_type": "code",
   "execution_count": null,
   "metadata": {},
   "outputs": [],
   "source": [
    "# Interpolate missing values by using the last available value\n",
    "# If there is no previous value available, no value will be inserted during the interpolation. The value remains NaN. This is to be expected for alarm limits in the beginning of the time series, since they are likely to be set after the first vital sign values have been recorded.\n",
    "timeseries['THRESHOLD_HIGH'] = timeseries['THRESHOLD_HIGH'].interpolate('pad')\n",
    "timeseries['THRESHOLD_LOW'] = timeseries['THRESHOLD_LOW'].interpolate('pad')\n",
    "# I am not sure if we should interpolate the values of the vital parameter. I think rather not, since these may have changed since the last recorded measurement (as opposed to the alarm limits for which changes are always recorded).\n",
    "# timeseries['VALUE'] = timeseries['VALUE'].interpolate('pad') \n",
    "display(timeseries)"
   ]
  },
  {
   "cell_type": "code",
   "execution_count": null,
   "metadata": {},
   "outputs": [],
   "source": [
    "# Add columns containing the differences between the measured value and the currently valid threshold \n",
    "timeseries['DIF_VALUE_HIGH'] = timeseries.VALUE - timeseries.THRESHOLD_HIGH\n",
    "timeseries['DIF_VALUE_LOW'] = timeseries.VALUE - timeseries.THRESHOLD_LOW\n",
    "display(timeseries)"
   ]
  },
  {
   "cell_type": "code",
   "execution_count": null,
   "metadata": {},
   "outputs": [],
   "source": [
    "# Identify triggered alarms (a.k.a. alarm violations) for threshold of type HIGH\n",
    "alarm_too_high = timeseries[(timeseries[\"DIF_VALUE_HIGH\"] >= 0)][['VALUE','THRESHOLD_HIGH','DIF_VALUE_HIGH']]\n",
    "alarm_too_high"
   ]
  },
  {
   "cell_type": "code",
   "execution_count": null,
   "metadata": {},
   "outputs": [],
   "source": [
    "# Identify triggered alarms (a.k.a. alarm violations) for threshold of type LOW\n",
    "alarm_too_low = timeseries[(timeseries[\"DIF_VALUE_LOW\"] <= 0)][['VALUE','THRESHOLD_LOW','DIF_VALUE_LOW']]\n",
    "alarm_too_low"
   ]
  },
  {
   "cell_type": "code",
   "execution_count": null,
   "metadata": {},
   "outputs": [],
   "source": [
    "# Complete plot by displaying the triggered alarms (only possible if the alarms have been identified and are available as data frame)\n",
    "\n",
    "import seaborn as sns\n",
    "import matplotlib.pyplot as plt\n",
    "import numpy as np\n",
    "\n",
    "# Set variables\n",
    "title = \"History of heart rate of ICU stay <insert>\"\n",
    "xlabel = \"Time\"\n",
    "ylabel = \"Beats per minute\"\n",
    "plotdata = selected_icustay\n",
    "xvalue = \"CHARTTIME\"\n",
    "yvalue = \"VALUENUM\"\n",
    "huevalue = \"ITEMID_LABEL\"\n",
    "\n",
    "# Config figure\n",
    "sns.set_style(\"whitegrid\")\n",
    "fig, ax = plt.subplots(\n",
    "    figsize = (11, 5), \n",
    "    dpi = 72 # e.g. 72 for screen, 300 for print\n",
    "    )\n",
    "ax = sns.lineplot(\n",
    "    data = plotdata, \n",
    "    x = xvalue,\n",
    "    y = yvalue, \n",
    "    hue = huevalue,\n",
    "    style= huevalue,\n",
    "    drawstyle = 'steps-post', # Interpolate missing values by using the last available value\n",
    "    markers = ['p','^','v'],\n",
    "    markersize = 5,\n",
    "    dashes = False,\n",
    "    palette = [sns.color_palette(\"colorblind\")[0],sns.color_palette(\"colorblind\")[1],sns.color_palette(\"colorblind\")[2]]\n",
    "    )\n",
    "\n",
    "# Add HIGH alarm indicators\n",
    "# Add vertical lines\n",
    "if len(alarm_too_high.index)>0 and len(alarm_too_high.index)<11: # Only if between 1 and 11 alarms occur (otherwise the diagram gest too busy)\n",
    "\n",
    "    for idx, item in enumerate(alarm_too_high.index):\n",
    "        if idx == 0: # Add label only for the first line of the alarm type (can probably be solved more elegantly)\n",
    "            plt.axvline(item, linestyle='dotted', color=sns.color_palette(\"colorblind\")[1], alpha=0.8, zorder=0, label='Triggered alarm: heart rate too high')\n",
    "        else:\n",
    "            plt.axvline(item, linestyle='dotted', color=sns.color_palette(\"colorblind\")[1], alpha=0.8, zorder=0)\n",
    "else:\n",
    "   None\n",
    "# Add x axis tick for vertical lines (by getting current tick locations and append this array)\n",
    "# if len(alarm_too_high.index)== 1: # Only if exactly 1 alarm occurs (otherwise the diagram gest too busy)\n",
    "#     x_ticks = np.append(\n",
    "#         ax.get_xticks(),\n",
    "#         ((np.datetime_as_string(np.array(alarm_too_high.index), unit='m')).astype(np.datetime64)).astype(float)/60/24 # Converts the values from the alarm time index to float.\n",
    "#         # While the plot is based on days (converted to float), the alarm times are first read to the minute and then converted to days because the plot expects days (converted to float).\n",
    "#         )\n",
    "#     ax.set_xticks(x_ticks)\n",
    "# else:\n",
    "#    None\n",
    "\n",
    "# Add LOW alarm indicators\n",
    "# Add vertical lines\n",
    "if len(alarm_too_low.index)>0 and len(alarm_too_low.index)<11: # Only if between 1 and 11 alarms occur (otherwise the diagram gest too busy)\n",
    "\n",
    "    for idx, item in enumerate(alarm_too_low.index):\n",
    "        if idx == 0: # Add label only for the first line of the alarm type (can probably be solved more elegantly)\n",
    "            plt.axvline(item, linestyle='dotted', color=sns.color_palette(\"colorblind\")[2], alpha=0.8, zorder=0, label='Triggered alarm: heart rate too low')\n",
    "        else:\n",
    "            plt.axvline(item, linestyle='dotted', color=sns.color_palette(\"colorblind\")[2], alpha=0.8, zorder=0)\n",
    "else:\n",
    "   None\n",
    "# Add x axis tick for vertical lines (by getting current tick locations and append this array)\n",
    "# if len(alarm_too_low.index)== 1: # Only if exactly 1 alarm occurs (otherwise the diagram gest too busy)\n",
    "#     x_ticks = np.append(\n",
    "#         ax.get_xticks(),\n",
    "#         ((np.datetime_as_string(np.array(alarm_too_low.index), unit='m')).astype(np.datetime64)).astype(float)/60/24 # Converts the values from the alarm time index to float.\n",
    "#         # While the plot is based on days (converted to float), the alarm times are first read to the minute and then converted to days because the plot expects days (converted to float).\n",
    "#         )\n",
    "#     ax.set_xticks(x_ticks)\n",
    "# else:\n",
    "#    None\n",
    "\n",
    "plt.legend(title = None, bbox_to_anchor=(1.02, 0.3), loc='upper left', borderaxespad=0)\n",
    "ax.set_title(title, fontweight='bold', color= 'black', fontsize=14, y=1.05)\n",
    "ax.set_xlabel(xlabel, fontsize=12, labelpad=15)\n",
    "ax.set_ylabel(ylabel, fontsize=12, labelpad=15)\n",
    "plt.xticks(rotation = 90)\n",
    "\n",
    "# Plot figure\n",
    "plt.show(fig)"
   ]
  }
 ]
}