{
 "metadata": {
  "language_info": {
   "codemirror_mode": {
    "name": "ipython",
    "version": 3
   },
   "file_extension": ".py",
   "mimetype": "text/x-python",
   "name": "python",
   "nbconvert_exporter": "python",
   "pygments_lexer": "ipython3",
   "version": "3.7.4"
  },
  "orig_nbformat": 2,
  "kernelspec": {
   "name": "python374jvsc74a57bd0c24247fa39158f46a54dbb99bb8811b81cd84bf3c9aa6e8294d53a41a5837da9",
   "display_name": "Python 3.7.4 64-bit ('base': conda)"
  }
 },
 "nbformat": 4,
 "nbformat_minor": 2,
 "cells": [
  {
   "source": [
    "# Creation of Sampling Rate for Vital Parameter"
   ],
   "cell_type": "markdown",
   "metadata": {}
  },
  {
   "source": [
    "Aim: Analyze Sampling Rates by ICUSTAY ID an ITEMID to generate an overview\n",
    "\n",
    "The sampling rate describes the average of vital parameter measurements obtained in one hour for a specific vital parameter - The threshold values are not analyzed\n",
    "\n",
    "Structure of the new data frame (sampling_rates_for_icustay_itemid.parquet):\n",
    "* ICUSTAY_ID\n",
    "* ITEMID\n",
    "* CHARTTIME_MIN -> minimum timestamp for that ICUSTAY_ID - ITEMID. \"When was the first measurement of this parameter conducted for this ICUSTAY_ID?\"\n",
    "* CHARTTIME_MAX -> maximum timestamp for that ICUSTAY_ID - ITEMID. \"When was the last measurement of this parameter conducted for this ICUSTAY_ID?\"\n",
    "* ICUSTAY_DURATION(h) -> timedelta between first and last timestamp for that ICUSTAY_ID - ITEMID. \"How much time has passed between the first and the last measurement in hours?\"\n",
    "* VALUENUM_COUNT -> number of measurements for this ICUSTAY_ID - ITEMID. \"How many measurements are available over the entire period for this parameter for this ICUSTAY_ID?\"\n",
    "* SAMPLING_RATE -> number of measurements for this ICUSTAY_ID - ITEMID divided by the timedelta between first and last timestamp for that ICUSTAY_ID - ITEMID in hours. \"How many measurements were obtained on average per hour for this ICUSTAY_ID - ITEMID?\""
   ],
   "cell_type": "markdown",
   "metadata": {}
  },
  {
   "source": [
    "## Load and Prepare Data\n",
    "\n",
    "First, a filter is being applied to chartevents that filters on relevant ICUSTAY IDs and ITEM IDs."
   ],
   "cell_type": "markdown",
   "metadata": {}
  },
  {
   "cell_type": "code",
   "execution_count": 1,
   "metadata": {},
   "outputs": [],
   "source": [
    "import pandas as pd\n",
    "import pyarrow as pa\n",
    "\n",
    "# Read chartevents_subset from parquet file to pandas data frame\n",
    "chartevents_subset = pd.read_parquet('./data/chartevents_subset.parquet', engine='pyarrow')\n",
    "unique_icu_stays = pd.read_parquet('./data/unique_icustays_in_chartevents_subset.parquet', engine='pyarrow')"
   ]
  },
  {
   "cell_type": "code",
   "execution_count": 2,
   "metadata": {},
   "outputs": [],
   "source": [
    "# Select relevant ICUSTAY_IDs for analysis - only the ones appearing for the analyzed ITEM IDs\n",
    "icustayid_filter = unique_icu_stays.ICUSTAY_ID\n",
    "\n",
    "# Filter by ICU_stay\n",
    "sampling_rate_data = chartevents_subset[chartevents_subset.ICUSTAY_ID.isin(icustayid_filter)].copy()"
   ]
  },
  {
   "cell_type": "code",
   "execution_count": 3,
   "metadata": {},
   "outputs": [],
   "source": [
    "# Sampling Rate Analysis is only being conducted on the vital parameters, not thresholds\n",
    "# Filter for ITEMIDs that refer to vital parameter \n",
    "# Heart Rate: 220045 | NBP: 220179 | O2: 220277\n",
    "itemids_for_values_filter = [220045, 220179, 220277]\n",
    "sampling_rate_data = sampling_rate_data[sampling_rate_data.ITEMID.isin(itemids_for_values_filter)].copy()\n"
   ]
  },
  {
   "source": [
    "## Fill Sampling Rate Data Frame\n",
    "\n",
    "Calculate the relevant columns with groupby statements, as this turned out to be much faster than a for-loop.\n",
    "One row is being generated per ICUSTAY_ID - ITEMID combination."
   ],
   "cell_type": "markdown",
   "metadata": {}
  },
  {
   "cell_type": "code",
   "execution_count": 4,
   "metadata": {},
   "outputs": [
    {
     "output_type": "execute_result",
     "data": {
      "text/plain": [
       "70015"
      ]
     },
     "metadata": {},
     "execution_count": 4
    }
   ],
   "source": [
    "# Calculate CHARTTIME_MIN for each ICUSTAYID - ITEMID combination\n",
    "sampling_rate_data_min = sampling_rate_data.groupby(['ICUSTAY_ID','ITEMID'])['CHARTTIME'].min()\n",
    "sampling_rate_data_min_df = sampling_rate_data_min.to_frame()\n",
    "sampling_rate_data_min_df.reset_index(inplace=True)\n",
    "sampling_rate_data_min_df = sampling_rate_data_min_df.rename(columns = {'CHARTTIME':'CHARTTIME_MIN'})\n",
    "len(sampling_rate_data_min_df)"
   ]
  },
  {
   "cell_type": "code",
   "execution_count": 5,
   "metadata": {},
   "outputs": [
    {
     "output_type": "execute_result",
     "data": {
      "text/plain": [
       "70015"
      ]
     },
     "metadata": {},
     "execution_count": 5
    }
   ],
   "source": [
    "# Calculate CHARTTIME_MAX for each ICUSTAYID - ITEMID combination\n",
    "sampling_rate_data_max = sampling_rate_data.groupby(['ICUSTAY_ID','ITEMID'])['CHARTTIME'].max()\n",
    "sampling_rate_data_max_df = sampling_rate_data_max.to_frame()\n",
    "sampling_rate_data_max_df.reset_index(inplace=True)\n",
    "sampling_rate_data_max_df = sampling_rate_data_max_df.rename(columns = {'CHARTTIME':'CHARTTIME_MAX'})\n",
    "len(sampling_rate_data_max_df)"
   ]
  },
  {
   "cell_type": "code",
   "execution_count": 6,
   "metadata": {},
   "outputs": [],
   "source": [
    "# Calculate VALUENUM_COUNT for each ICUSTAYID - ITEMID combination\n",
    "sampling_rate_data_count = sampling_rate_data[['ICUSTAY_ID','ITEMID','VALUENUM']].copy()\n",
    "sampling_rate_data_count = sampling_rate_data_count.groupby(['ICUSTAY_ID','ITEMID']).count()\n",
    "sampling_rate_data_count = sampling_rate_data_count.rename(columns = {'VALUENUM':'VALUENUM_COUNT'})\n",
    "sampling_rate_data_count = sampling_rate_data_count.reset_index()\n"
   ]
  },
  {
   "cell_type": "code",
   "execution_count": 8,
   "metadata": {},
   "outputs": [
    {
     "output_type": "execute_result",
     "data": {
      "text/plain": [
       "   ICUSTAY_ID    ITEMID       CHARTTIME_MIN       CHARTTIME_MAX  \\\n",
       "0    200001.0  220045.0 2181-11-25 19:06:00 2181-11-28 20:00:00   \n",
       "1    200001.0  220179.0 2181-11-25 19:08:00 2181-11-28 20:00:00   \n",
       "2    200001.0  220277.0 2181-11-25 19:14:00 2181-11-28 20:00:00   \n",
       "3    200010.0  220045.0 2132-08-05 00:39:00 2132-08-05 21:00:00   \n",
       "4    200010.0  220179.0 2132-08-05 00:40:00 2132-08-05 21:17:00   \n",
       "\n",
       "   VALUENUM_COUNT  \n",
       "0              99  \n",
       "1              31  \n",
       "2              96  \n",
       "3              23  \n",
       "4              21  "
      ],
      "text/html": "<div>\n<style scoped>\n    .dataframe tbody tr th:only-of-type {\n        vertical-align: middle;\n    }\n\n    .dataframe tbody tr th {\n        vertical-align: top;\n    }\n\n    .dataframe thead th {\n        text-align: right;\n    }\n</style>\n<table border=\"1\" class=\"dataframe\">\n  <thead>\n    <tr style=\"text-align: right;\">\n      <th></th>\n      <th>ICUSTAY_ID</th>\n      <th>ITEMID</th>\n      <th>CHARTTIME_MIN</th>\n      <th>CHARTTIME_MAX</th>\n      <th>VALUENUM_COUNT</th>\n    </tr>\n  </thead>\n  <tbody>\n    <tr>\n      <th>0</th>\n      <td>200001.0</td>\n      <td>220045.0</td>\n      <td>2181-11-25 19:06:00</td>\n      <td>2181-11-28 20:00:00</td>\n      <td>99</td>\n    </tr>\n    <tr>\n      <th>1</th>\n      <td>200001.0</td>\n      <td>220179.0</td>\n      <td>2181-11-25 19:08:00</td>\n      <td>2181-11-28 20:00:00</td>\n      <td>31</td>\n    </tr>\n    <tr>\n      <th>2</th>\n      <td>200001.0</td>\n      <td>220277.0</td>\n      <td>2181-11-25 19:14:00</td>\n      <td>2181-11-28 20:00:00</td>\n      <td>96</td>\n    </tr>\n    <tr>\n      <th>3</th>\n      <td>200010.0</td>\n      <td>220045.0</td>\n      <td>2132-08-05 00:39:00</td>\n      <td>2132-08-05 21:00:00</td>\n      <td>23</td>\n    </tr>\n    <tr>\n      <th>4</th>\n      <td>200010.0</td>\n      <td>220179.0</td>\n      <td>2132-08-05 00:40:00</td>\n      <td>2132-08-05 21:17:00</td>\n      <td>21</td>\n    </tr>\n  </tbody>\n</table>\n</div>"
     },
     "metadata": {},
     "execution_count": 8
    }
   ],
   "source": [
    "# Merge together by ICUSTAYID, ITEMID\n",
    "# Resulting data frame columns: ICUSTAY_ID, ITEMID, CHARTTIME_MIN, CHARTTIME_MAX, VALUENUM_COUNT\n",
    "sampling_rates_for_icustay_itemid = pd.merge(sampling_rate_data_min_df, sampling_rate_data_max_df,  how='left', on=['ICUSTAY_ID','ITEMID'])\n",
    "sampling_rates_for_icustay_itemid = pd.merge(sampling_rates_for_icustay_itemid,sampling_rate_data_count,how='left', on=['ICUSTAY_ID','ITEMID'])\n",
    "len(sampling_rates_for_icustay_itemid)\n",
    "sampling_rates_for_icustay_itemid.head()"
   ]
  },
  {
   "cell_type": "code",
   "execution_count": null,
   "metadata": {},
   "outputs": [],
   "source": [
    "import datetime as dt\n",
    "# Calculate ICUSTAY_DURATION(h) for each ICUSTAYID - ITEMID combination\n",
    "sampling_rates_for_icustay_itemid['ICUSTAY_DURATION'] = sampling_rates_for_icustay_itemid['CHARTTIME_MAX']-sampling_rates_for_icustay_itemid['CHARTTIME_MIN']\n",
    "sampling_rates_for_icustay_itemid['ICUSTAY_DURATION(s)'] = sampling_rates_for_icustay_itemid['ICUSTAY_DURATION'].dt.total_seconds()\n",
    "sampling_rates_for_icustay_itemid['ICUSTAY_DURATION(h)'] = divmod(sampling_rates_for_icustay_itemid['ICUSTAY_DURATION(s)'], 3600)[0]\n",
    "\n",
    "#drop helper columns\n",
    "sampling_rates_for_icustay_itemid = sampling_rates_for_icustay_itemid.drop(columns=['ICUSTAY_DURATION','ICUSTAY_DURATION(s)'])"
   ]
  },
  {
   "cell_type": "code",
   "execution_count": null,
   "metadata": {},
   "outputs": [],
   "source": [
    "import numpy as np\n",
    "# Calculate SAMPLING_RATE for each ICUSTAYID - ITEMID combination\n",
    "# If the ICUSTAY_DURATION(h) is zero, take VALUENUM_COUNT as SAMPLING_RATE to not divide by 0\n",
    "sampling_rates_for_icustay_itemid['SAMPLING_RATE'] = np.where(sampling_rates_for_icustay_itemid['ICUSTAY_DURATION(h)'] == 0,sampling_rates_for_icustay_itemid['VALUENUM_COUNT'],(sampling_rates_for_icustay_itemid['VALUENUM_COUNT']/sampling_rates_for_icustay_itemid['ICUSTAY_DURATION(h)']))\n",
    "         "
   ]
  },
  {
   "source": [
    "## Save Data Frame to parquet File"
   ],
   "cell_type": "markdown",
   "metadata": {}
  },
  {
   "cell_type": "code",
   "execution_count": null,
   "metadata": {},
   "outputs": [],
   "source": [
    "import pandas as pd\n",
    "import pyarrow as pa\n",
    "import numpy as np\n",
    "# Save sampling_rates_for_icustay_itemid as parquet file\n",
    "pd.DataFrame(sampling_rates_for_icustay_itemid).to_parquet('./data/sampling_rates_for_icustay_itemid.parquet', engine='pyarrow')"
   ]
  }
 ]
}