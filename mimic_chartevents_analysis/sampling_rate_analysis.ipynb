{
 "metadata": {
  "language_info": {
   "codemirror_mode": {
    "name": "ipython",
    "version": 3
   },
   "file_extension": ".py",
   "mimetype": "text/x-python",
   "name": "python",
   "nbconvert_exporter": "python",
   "pygments_lexer": "ipython3",
   "version": "3.7.4"
  },
  "orig_nbformat": 2,
  "kernelspec": {
   "name": "python374jvsc74a57bd0c24247fa39158f46a54dbb99bb8811b81cd84bf3c9aa6e8294d53a41a5837da9",
   "display_name": "Python 3.7.4 64-bit ('base': conda)"
  }
 },
 "nbformat": 4,
 "nbformat_minor": 2,
 "cells": [
  {
   "source": [
    "# Analysis of Sampling Rate"
   ],
   "cell_type": "markdown",
   "metadata": {}
  },
  {
   "source": [
    "Aim: Analyze Sampling Rates by ICUSTAY ID an Item Id to generate an overview"
   ],
   "cell_type": "markdown",
   "metadata": {}
  },
  {
   "source": [
    "## Load and Prepare Data"
   ],
   "cell_type": "markdown",
   "metadata": {}
  },
  {
   "cell_type": "code",
   "execution_count": null,
   "metadata": {},
   "outputs": [],
   "source": [
    "import pandas as pd\n",
    "import pyarrow as pa\n",
    "\n",
    "# Read chartevents_subset from parquet file to pandas data frame\n",
    "chartevents_subset = pd.read_parquet('./data/chartevents_subset.parquet', engine='pyarrow')\n",
    "unique_icu_stays = pd.read_parquet('./data/unique_icustays_in_chartevents_subset.parquet', engine='pyarrow')"
   ]
  },
  {
   "cell_type": "code",
   "execution_count": null,
   "metadata": {},
   "outputs": [],
   "source": [
    "#select ICU_stay ids for analysis\n",
    "icustayid_filter = unique_icu_stays.ICUSTAY_ID\n",
    "\n",
    "# Filter by ICU_stay\n",
    "sampling_rate_data = chartevents_subset[chartevents_subset.ICUSTAY_ID.isin(icustayid_filter)].copy()"
   ]
  },
  {
   "cell_type": "code",
   "execution_count": null,
   "metadata": {},
   "outputs": [],
   "source": [
    "# Sampling Rate Analysis is only being conducted on the values, not thresholds\n",
    "# Filter for item ids that refer to value\n",
    "itemids_for_values_filter = [220045, 220179, 220277]\n",
    "sampling_rate_data = sampling_rate_data[sampling_rate_data.ITEMID.isin(itemids_for_values_filter)].copy()\n",
    "\n",
    "#Create empty data frame that will hold the sampling rate for each selected icu stay and item id\n",
    "sampling_rates_for_icustay_itemid = pd.DataFrame(columns=[\"ICUSTAY_ID\", \"ITEMID\",\"FIRST_TSP\",\"LAST_TSP\",\"ICUSTAY_DURATION(h)\",\"N_MEASUREMENTS\",\"SAMPLING_RATE\"])"
   ]
  },
  {
   "source": [],
   "cell_type": "markdown",
   "metadata": {}
  },
  {
   "source": [
    "## Generate Data Frame with Sampling Rate"
   ],
   "cell_type": "markdown",
   "metadata": {}
  },
  {
   "cell_type": "code",
   "execution_count": null,
   "metadata": {},
   "outputs": [],
   "source": [
    "# Calculate min timestamp\n",
    "sampling_rate_data_min = sampling_rate_data.groupby(['ICUSTAY_ID','ITEMID'])['CHARTTIME'].min()\n",
    "sampling_rate_data_min_df = sampling_rate_data_min.to_frame()\n",
    "sampling_rate_data_min_df.reset_index(inplace=True)\n",
    "sampling_rate_data_min_df = sampling_rate_data_min_df.rename(columns = {'CHARTTIME':'CHARTTIME_MIN'})\n",
    "len(sampling_rate_data_min_df)"
   ]
  },
  {
   "cell_type": "code",
   "execution_count": null,
   "metadata": {},
   "outputs": [],
   "source": [
    "# Calculate max timestamp\n",
    "sampling_rate_data_max = sampling_rate_data.groupby(['ICUSTAY_ID','ITEMID'])['CHARTTIME'].max()\n",
    "sampling_rate_data_max_df = sampling_rate_data_max.to_frame()\n",
    "sampling_rate_data_max_df.reset_index(inplace=True)\n",
    "sampling_rate_data_max_df = sampling_rate_data_max_df.rename(columns = {'CHARTTIME':'CHARTTIME_MAX'})\n",
    "len(sampling_rate_data_max_df)"
   ]
  },
  {
   "cell_type": "code",
   "execution_count": null,
   "metadata": {},
   "outputs": [],
   "source": [
    "# Calculate N_MEASUREMENTS\n",
    "# For each ICUSTAY_ID-ITEMID combination, compute the number of available values as VALUENUM_COUNT\n",
    "# Reduce to relevant columns\n",
    "sampling_rate_data_count = sampling_rate_data[['ICUSTAY_ID','ITEMID','VALUENUM']].copy()\n",
    "sampling_rate_data_count = sampling_rate_data_count.groupby(['ICUSTAY_ID','ITEMID']).count()\n",
    "sampling_rate_data_count = sampling_rate_data_count.rename(columns = {'VALUENUM':'VALUENUM_COUNT'})\n",
    "sampling_rate_data_count = sampling_rate_data_count.reset_index()\n",
    "display(sampling_rate_data_count)"
   ]
  },
  {
   "cell_type": "code",
   "execution_count": null,
   "metadata": {},
   "outputs": [],
   "source": [
    "# Merge together by ICUSTAYID, ITEMID\n",
    "sampling_rates_for_icustay_itemid = pd.merge(sampling_rate_data_min_df, sampling_rate_data_max_df,  how='left', on=['ICUSTAY_ID','ITEMID'])\n",
    "sampling_rates_for_icustay_itemid = pd.merge(sampling_rates_for_icustay_itemid,sampling_rate_data_count,how='left', on=['ICUSTAY_ID','ITEMID'])\n",
    "len(min_max_charttime_for_icustay_itemid)"
   ]
  },
  {
   "cell_type": "code",
   "execution_count": null,
   "metadata": {},
   "outputs": [],
   "source": [
    "import datetime as dt\n",
    "# Calculate ICUSTAY_ID duration\n",
    "sampling_rates_for_icustay_itemid['ICUSTAY_DURATION'] = sampling_rates_for_icustay_itemid['CHARTTIME_MAX']-sampling_rates_for_icustay_itemid['CHARTTIME_MIN']\n",
    "sampling_rates_for_icustay_itemid['ICUSTAY_DURATION(s)'] = sampling_rates_for_icustay_itemid['ICUSTAY_DURATION'].dt.total_seconds()\n",
    "sampling_rates_for_icustay_itemid['ICUSTAY_DURATION(h)'] = divmod(sampling_rates_for_icustay_itemid['ICUSTAY_DURATION(s)'], 3600)[0]"
   ]
  },
  {
   "cell_type": "code",
   "execution_count": null,
   "metadata": {},
   "outputs": [],
   "source": [
    "sampling_rates_for_icustay_itemid = sampling_rates_for_icustay_itemid.drop(columns=['ICUSTAY_DURATION','ICUSTAY_DURATION(s)'])"
   ]
  },
  {
   "cell_type": "code",
   "execution_count": null,
   "metadata": {},
   "outputs": [],
   "source": [
    "import numpy as np\n",
    "sampling_rates_for_icustay_itemid['SAMPLING_RATE'] = np.where(sampling_rates_for_icustay_itemid['ICUSTAY_DURATION(h)'] == 0,sampling_rates_for_icustay_itemid['VALUENUM_COUNT'],(sampling_rates_for_icustay_itemid['VALUENUM_COUNT']/sampling_rates_for_icustay_itemid['ICUSTAY_DURATION(h)']))\n",
    "\n",
    "         "
   ]
  },
  {
   "cell_type": "code",
   "execution_count": null,
   "metadata": {},
   "outputs": [],
   "source": [
    "import pandas as pd\n",
    "import pyarrow as pa\n",
    "import numpy as np\n",
    "# Save chartevents_subset as parquet file\n",
    "pd.DataFrame(sampling_rates_for_icustay_itemid).to_parquet('./data/sampling_rates_for_icustay_itemid.parquet', engine='pyarrow')"
   ]
  },
  {
   "source": [
    "## Sampling Rate - Visualizations"
   ],
   "cell_type": "markdown",
   "metadata": {}
  },
  {
   "cell_type": "code",
   "execution_count": null,
   "metadata": {},
   "outputs": [],
   "source": [
    "import pandas as pd\n",
    "import pyarrow as pa\n",
    "\n",
    "# Read chartevents_subset from parquet file to pandas data frame\n",
    "sampling_rates_for_icustay_itemid = pd.read_parquet('./data/sampling_rates_for_icustay_itemid.parquet', engine='pyarrow')"
   ]
  },
  {
   "cell_type": "code",
   "execution_count": null,
   "metadata": {},
   "outputs": [],
   "source": [
    "# create subsets for item Ids\n",
    "sampling_rates_for_icustay_HR = sampling_rates_for_icustay_itemid[sampling_rates_for_icustay_itemid['ITEMID'] == 220045]\n",
    "sampling_rates_for_icustay_O2 = sampling_rates_for_icustay_itemid[sampling_rates_for_icustay_itemid['ITEMID'] == 220277]\n",
    "sampling_rates_for_icustay_NBP = sampling_rates_for_icustay_itemid[sampling_rates_for_icustay_itemid['ITEMID'] == 220179]"
   ]
  },
  {
   "source": [
    "## Plot the sampling rate by Item Id"
   ],
   "cell_type": "markdown",
   "metadata": {}
  },
  {
   "cell_type": "code",
   "execution_count": null,
   "metadata": {},
   "outputs": [],
   "source": [
    "# Imports\n",
    "import seaborn as sns\n",
    "import matplotlib.pyplot as plt\n",
    "\n",
    "# Set variables\n",
    "title = \"Sampling Rate by Item Id\"\n",
    "xlabel = \"Item Id\"\n",
    "ylabel = \"Avg. # of samples obtained in 1 hour\"\n",
    "plotdata = sampling_rates_for_icustay_itemid\n",
    "xvalue = \"ITEMID\"\n",
    "yvalue = \"SAMPLING_RATE\"\n",
    "\n",
    "# Config figure\n",
    "sns.set_style(\"whitegrid\")\n",
    "fig, ax = plt.subplots(\n",
    "    figsize = (10, 5), \n",
    "    dpi = 72 # e.g. 72 for screen, 300 for print\n",
    "    )\n",
    "ax = sns.boxplot( # Insert on of: sns.stripplot , sns.boxplot , sns.violinplot\n",
    "    data = plotdata, \n",
    "    x = xvalue,\n",
    "    y = yvalue, # Comment out if no stratification is to be performed based on yvalue\n",
    "    palette = sns.color_palette(\"colorblind\")\n",
    "    )\n",
    "ax.set_title(title, fontweight='bold', color= 'black', fontsize=14, y=1.05)\n",
    "ax.set_xlabel(xlabel, fontsize=12, labelpad=15)\n",
    "ax.set_ylabel(ylabel, fontsize=12, labelpad=15) # Comment out if no stratification is to be performed based on yvalue\n",
    "ax.grid(b=True, which='both')\n",
    "ax.margins(.1)\n",
    "\n",
    "# Plot figure\n",
    "plt.show(fig)"
   ]
  },
  {
   "cell_type": "code",
   "execution_count": null,
   "metadata": {},
   "outputs": [],
   "source": [
    "sampling_rates_for_icustay_HR.describe()"
   ]
  },
  {
   "cell_type": "code",
   "execution_count": null,
   "metadata": {},
   "outputs": [],
   "source": [
    "sampling_rates_for_icustay_NBP.describe()"
   ]
  },
  {
   "cell_type": "code",
   "execution_count": null,
   "metadata": {},
   "outputs": [],
   "source": [
    "sampling_rates_for_icustay_O2.describe()"
   ]
  },
  {
   "source": [
    "## Validate Data"
   ],
   "cell_type": "markdown",
   "metadata": {}
  },
  {
   "source": [
    "# check icus stays where we see nan values\n",
    "\n",
    "sampling_rate_nan = sampling_rates_for_icustay_itemid[sampling_rates_for_icustay_itemid['FIRST_TSP'].isnull()]\n",
    "sampling_rate_nan['ICUSTAY_ID'].value_counts()\n",
    "# we have 306 unique ICU Stays for which at least one parameter is missing\n",
    "\n"
   ],
   "cell_type": "code",
   "metadata": {},
   "execution_count": null,
   "outputs": []
  },
  {
   "cell_type": "code",
   "execution_count": null,
   "metadata": {},
   "outputs": [],
   "source": [
    "# Check for ICU STay: 204787 and ITEM ID:220179\n",
    "# Sampling Data Frame shows \n",
    "selected_icustay = sampling_rate_data[(sampling_rate_data['ICUSTAY_ID']==204787) & (sampling_rate_data['ITEMID']==220179)]"
   ]
  },
  {
   "cell_type": "code",
   "execution_count": null,
   "metadata": {},
   "outputs": [],
   "source": [
    "import seaborn as sns\n",
    "import matplotlib.pyplot as plt\n",
    "import numpy as np\n",
    "\n",
    "# Set variables\n",
    "title = \"History of Non Invasive Blood Pressure systolic of ICU stay 253126\"\n",
    "xlabel = \"Time\"\n",
    "ylabel = \"mmHg\"\n",
    "plotdata = selected_icustay\n",
    "xvalue = \"CHARTTIME\"\n",
    "yvalue = \"VALUENUM\"\n",
    "#huevalue = \"ITEMID_LABEL\"\n",
    "\n",
    "# Config figure\n",
    "sns.set_style(\"whitegrid\")\n",
    "fig, ax = plt.subplots(\n",
    "    figsize = (11, 5), \n",
    "    dpi = 72 # e.g. 72 for screen, 300 for print\n",
    "    )\n",
    "ax = sns.lineplot(\n",
    "    data = plotdata, \n",
    "    x = xvalue,\n",
    "    y = yvalue, \n",
    "    #hue = huevalue,\n",
    "    #style= huevalue,\n",
    "    drawstyle = 'steps-post', # Interpolate missing values by using the last available value\n",
    "    markers = ['p','^','v'],\n",
    "    markersize = 5,\n",
    "    dashes = False,\n",
    "    #palette = [sns.color_palette(\"colorblind\")[0],sns.color_palette(\"colorblind\")[1],sns.color_palette(\"colorblind\")[2]]\n",
    "    )\n",
    "\n",
    "plt.legend(title = None, bbox_to_anchor=(1.02, 0.3), loc='upper left', borderaxespad=0)\n",
    "ax.set_title(title, fontweight='bold', color= 'black', fontsize=14, y=1.05)\n",
    "ax.set_xlabel(xlabel, fontsize=12, labelpad=15)\n",
    "ax.set_ylabel(ylabel, fontsize=12, labelpad=15)\n",
    "plt.xticks(rotation = 90)\n",
    "\n",
    "# Plot figure\n",
    "plt.show(fig)"
   ]
  }
 ]
}