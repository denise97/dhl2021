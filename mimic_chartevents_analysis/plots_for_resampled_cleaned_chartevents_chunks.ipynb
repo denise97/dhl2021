{
 "metadata": {
  "language_info": {
   "codemirror_mode": {
    "name": "ipython",
    "version": 3
   },
   "file_extension": ".py",
   "mimetype": "text/x-python",
   "name": "python",
   "nbconvert_exporter": "python",
   "pygments_lexer": "ipython3",
   "version": "3.9.0"
  },
  "orig_nbformat": 2,
  "kernelspec": {
   "name": "python390jvsc74a57bd0e2bfb1b1dd0bcdebdb315279aa118b1f834444d4ba3ba6d660e9f6ce7703f6a2",
   "display_name": "Python 3.9.0 64-bit"
  },
  "metadata": {
   "interpreter": {
    "hash": "e2bfb1b1dd0bcdebdb315279aa118b1f834444d4ba3ba6d660e9f6ce7703f6a2"
   }
  }
 },
 "nbformat": 4,
 "nbformat_minor": 2,
 "cells": [
  {
   "source": [
    "# Plots for resampled cleaned chartevents chunks\n",
    "\n",
    "Script for creating time series plots, which allow to compare vital parameter values series before and after resampling."
   ],
   "cell_type": "markdown",
   "metadata": {}
  },
  {
   "cell_type": "code",
   "execution_count": null,
   "metadata": {},
   "outputs": [],
   "source": [
    "import pandas as pd\n",
    "import pyarrow as pa\n",
    "\n",
    "# Read from parquet files\n",
    "chartevents_before = pd.read_parquet('../data/chartevents_clean_values_and_thresholds_with_chunkid_65.parquet', engine='pyarrow')\n",
    "chartevents_resampled_median = pd.read_parquet('../data/chartevents_clean_values_and_thresholds_with_chunkid_65_resampled_median.parquet', engine='pyarrow')\n",
    "chartevents_resampled_mean = pd.read_parquet('../data/chartevents_clean_values_and_thresholds_with_chunkid_65_resampled_mean.parquet', engine='pyarrow')"
   ]
  },
  {
   "cell_type": "code",
   "execution_count": null,
   "metadata": {},
   "outputs": [],
   "source": [
    "chunkid = '226799.0_220045.0_2153-07-31 08:10:00' # Selection of a single chunk\n",
    "# Chunk IDs of other examples:\n",
    "# '260223.0_220045.0_2156-07-22 06:49:00'\n",
    "# '203164.0_220045.0_2178-02-08 03:00:00'\n",
    "# '296490.0_220045.0_2192-09-26 23:51:00'\n",
    "# '226799.0_220045.0_2153-07-31 08:10:00'\n",
    "\n",
    "itemid = 220045\n",
    "\n",
    "before = chartevents_before[\n",
    "    (chartevents_before.CHUNK_ID_FILLED_TH == chunkid) & (chartevents_before.ITEMID == itemid)][\n",
    "    ['CHARTTIME','VALUENUM_CLEAN']].sort_values(by=['CHARTTIME'])\n",
    "\n",
    "after_median = chartevents_resampled_median[(chartevents_resampled_median.CHUNK_ID_FILLED_TH == chunkid) & (chartevents_resampled_median.ITEMID == itemid)][\n",
    "    ['CHARTTIME','VALUENUM_CLEAN']].sort_values(by=['CHARTTIME']).rename(columns={\"VALUENUM_CLEAN\": \"MEDIAN\"}).set_index('CHARTTIME')\n",
    "\n",
    "after_mean = chartevents_resampled_mean[(chartevents_resampled_mean.CHUNK_ID_FILLED_TH == chunkid) & (chartevents_resampled_mean.ITEMID == itemid)][\n",
    "    ['CHARTTIME','VALUENUM_CLEAN']].sort_values(by=['CHARTTIME']).rename(columns={\"VALUENUM_CLEAN\": \"MEAN\"}).set_index('CHARTTIME')"
   ]
  },
  {
   "cell_type": "code",
   "execution_count": null,
   "metadata": {},
   "outputs": [],
   "source": [
    "merged_resampling_methods = pd.concat([after_median,after_mean],axis=1)\n",
    "\n",
    "# Melt for seaborn plot\n",
    "after = pd.melt(merged_resampling_methods.reset_index(),'CHARTTIME')\n",
    "after = after.sort_values(by=['CHARTTIME']).rename(columns={\"variable\": \"RESAMPLING_METHOD\", \"value\": \"VALUENUM_CLEAN\"}).reset_index(drop=True)"
   ]
  },
  {
   "cell_type": "code",
   "execution_count": null,
   "metadata": {},
   "outputs": [],
   "source": [
    "import seaborn as sns\n",
    "import matplotlib.pyplot as plt\n",
    "import numpy as np\n",
    "import datetime as dt\n",
    "\n",
    "sns.set_style(\"whitegrid\")\n",
    "\n",
    "fig, axs = plt.subplots(\n",
    "    2,\n",
    "    1,\n",
    "    figsize = (15, 8),\n",
    "    sharex = True,\n",
    "    dpi = 72 # e.g. 72 for screen, 300 for print\n",
    "    )\n",
    "fig.suptitle(str(\"CHUNK ID: \"+str(chunkid)), fontweight='bold', color= 'black', fontsize=14, y=0.95)\n",
    "# fig.subplots_adjust(hspace = 0.6)\n",
    "\n",
    "ylimits = (min(before.VALUENUM_CLEAN)-5, max(before.VALUENUM_CLEAN)+5)\n",
    "\n",
    "ax = sns.lineplot(\n",
    "    ax = axs[0],\n",
    "    data = before,\n",
    "    x = \"CHARTTIME\",\n",
    "    y = \"VALUENUM_CLEAN\",\n",
    "    drawstyle = 'steps-post', # Interpolate missing values by using the last available value\n",
    "    marker=\"o\",\n",
    "    markersize = 5,\n",
    "    dashes = False,\n",
    "    palette = [sns.color_palette(\"colorblind\")[0]]\n",
    "        )\n",
    "axs[0].set_ylim(ylimits)\n",
    "axs[0].set_title(\"Heart Rate - Before Resampling\", fontweight='bold', color= 'black', fontsize=12, y=1.025)\n",
    "axs[0].set_xlabel(\"Time\", fontsize=12, labelpad=15)\n",
    "axs[0].set_ylabel(\"Beats per minute\", fontsize=12, labelpad=15)\n",
    "axs[0].tick_params(axis=\"x\", rotation=90)\n",
    "\n",
    "ax = sns.lineplot(\n",
    "    ax = axs[1],\n",
    "    data = after,\n",
    "    x = \"CHARTTIME\",\n",
    "    y = \"VALUENUM_CLEAN\",\n",
    "    hue = \"RESAMPLING_METHOD\",\n",
    "    drawstyle = 'steps-post', # Interpolate missing values by using the last available value\n",
    "    marker=\"o\",\n",
    "    markersize = 5,\n",
    "    dashes = False,\n",
    "    palette = [sns.color_palette(\"colorblind\")[0],sns.color_palette(\"colorblind\")[1]]\n",
    "        )\n",
    "axs[1].legend(loc='center left', bbox_to_anchor=(1, 0.5))\n",
    "axs[1].set_ylim(ylimits)\n",
    "axs[1].set_title(\"Heart Rate - After Resampling\", fontweight='bold', color= 'black', fontsize=12, y=1.025)\n",
    "axs[1].set_xlabel(\"Time\", fontsize=12, labelpad=15)\n",
    "axs[1].set_ylabel(\"Beats per minute\", fontsize=12, labelpad=15)\n",
    "axs[1].tick_params(axis=\"x\", rotation=90)\n",
    "\n",
    "path = '../plots_week07/'\n",
    "timestamp = dt.datetime.today().strftime('%Y-%m-%dT%H-%M-%S')\n",
    "plt.savefig(str(path + '_resampling_plot_' + timestamp + '.png'), dpi=300, bbox_inches='tight')\n",
    "\n",
    "# plt.show(fig)"
   ]
  }
 ]
}