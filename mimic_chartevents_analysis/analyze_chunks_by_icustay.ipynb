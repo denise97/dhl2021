{
 "metadata": {
  "language_info": {
   "codemirror_mode": {
    "name": "ipython",
    "version": 3
   },
   "file_extension": ".py",
   "mimetype": "text/x-python",
   "name": "python",
   "nbconvert_exporter": "python",
   "pygments_lexer": "ipython3",
   "version": "3.7.4"
  },
  "orig_nbformat": 2,
  "kernelspec": {
   "name": "python374jvsc74a57bd0c24247fa39158f46a54dbb99bb8811b81cd84bf3c9aa6e8294d53a41a5837da9",
   "display_name": "Python 3.7.4 64-bit ('base': conda)"
  }
 },
 "nbformat": 4,
 "nbformat_minor": 2,
 "cells": [
  {
   "source": [
    "# Generate Overview of Parameter Specific CHunking by ICUSTAY_ID"
   ],
   "cell_type": "markdown",
   "metadata": {}
  },
  {
   "source": [
    "## Load Data"
   ],
   "cell_type": "markdown",
   "metadata": {}
  },
  {
   "cell_type": "code",
   "execution_count": null,
   "metadata": {},
   "outputs": [],
   "source": [
    "import pandas as pd\n",
    "import pyarrow as pa\n",
    "\n",
    "# Read chartevent_subset_values_with_chunkid_65 from parquet file to pandas data frame\n",
    "chunk_analysis_data = pd.read_parquet('./data/chartevent_subset_values_with_chunkid_65.parquet', engine='pyarrow')\n",
    "chunk_analysis_data = chunk_analysis_data.rename(columns={\"CHUNK_ID_FILLED\":\"CHUNK_ID\"})"
   ]
  },
  {
   "source": [
    "## Analyze # of CHUNKIDs per ICUSTAY_ID"
   ],
   "cell_type": "markdown",
   "metadata": {}
  },
  {
   "cell_type": "code",
   "execution_count": null,
   "metadata": {},
   "outputs": [],
   "source": [
    "chunk_count_by_icustay = chunk_analysis_data[['ICUSTAY_ID','CHUNK_ID']]\n",
    "chunk_count_by_icustay=chunk_count_by_icustay.drop_duplicates()\n",
    "chunk_count_by_icustay = chunk_count_by_icustay.groupby(['ICUSTAY_ID']).count()\n",
    "\n",
    "chunk_count_by_icustay = chunk_count_by_icustay.rename(columns = {'CHUNK_ID':'CHUNK_ID_COUNT'})\n",
    "chunk_count_by_icustay = chunk_count_by_icustay.reset_index()\n",
    "display(chunk_count_by_icustay)"
   ]
  },
  {
   "cell_type": "code",
   "execution_count": null,
   "metadata": {},
   "outputs": [],
   "source": [
    "chunk_count_by_icustay.describe()\n",
    "# On Average, we have 13 Chunks per ICUSTAY_ID, 9 Chunks when looking at the median\n"
   ]
  },
  {
   "source": [
    "## Analyze # of CHUNKIDs per ICUSTAY_ID, stratified by ITEMID"
   ],
   "cell_type": "markdown",
   "metadata": {}
  },
  {
   "cell_type": "code",
   "execution_count": null,
   "metadata": {},
   "outputs": [],
   "source": [
    "# Generate CHUNK_ID_COUNT by ICUSTAY_ID - ITEMID\n",
    "chunk_count_by_icustay_itemid = chunk_analysis_data[['ICUSTAY_ID','ITEMID','CHUNK_ID']]\n",
    "chunk_count_by_icustay_itemid = chunk_count_by_icustay_itemid.drop_duplicates()\n",
    "chunk_count_by_icustay_itemid = chunk_count_by_icustay_itemid.groupby(['ICUSTAY_ID','ITEMID']).count()\n",
    "\n",
    "chunk_count_by_icustay_itemid = chunk_count_by_icustay_itemid.rename(columns = {'CHUNK_ID':'CHUNK_ID_COUNT'})\n",
    "chunk_count_by_icustay_itemid = chunk_count_by_icustay_itemid.reset_index()\n",
    "display(chunk_count_by_icustay_itemid)"
   ]
  },
  {
   "cell_type": "code",
   "execution_count": null,
   "metadata": {},
   "outputs": [],
   "source": [
    "# Perform descriptive statistics on CHUNK_ID_COUNT\n",
    "chunk_count_by_icustay_itemid_describe = chunk_count_by_icustay_itemid.groupby(['ITEMID'])['CHUNK_ID_COUNT'].describe()\n",
    "chunk_count_by_icustay_itemid_describe\n",
    "# Most Chunks refer to NBP "
   ]
  },
  {
   "cell_type": "code",
   "execution_count": null,
   "metadata": {},
   "outputs": [],
   "source": [
    "# Visualize above findings in a boxplot\n",
    "# Convert ITEMID to String\n",
    "chunk_count_by_icustay_itemid['ITEMID'] = chunk_count_by_icustay_itemid['ITEMID'].astype(str)\n",
    "\n",
    "# Imports\n",
    "import seaborn as sns\n",
    "import matplotlib.pyplot as plt\n",
    "\n",
    "# Set variables\n",
    "title = \"Chunk Analysis by ICUSTAY and ITEMID\"\n",
    "xlabel = \"Count of Chunks per ICUSTAY\"\n",
    "ylabel = \"ITEMID\"\n",
    "plotdata = chunk_count_by_icustay_itemid\n",
    "xvalue = \"CHUNK_ID_COUNT\"\n",
    "yvalue = \"ITEMID\"\n",
    "\n",
    "# Config figure\n",
    "sns.set_style(\"whitegrid\")\n",
    "fig, ax = plt.subplots(\n",
    "    figsize = (10, 5), \n",
    "    dpi = 72 \n",
    "    )\n",
    "ax = sns.boxplot( \n",
    "    data = plotdata, \n",
    "    x = xvalue,\n",
    "    y = yvalue, \n",
    "    palette = sns.color_palette(\"colorblind\")\n",
    "    )\n",
    "ax.set_title(title, fontweight='bold', color= 'black', fontsize=14, y=1.05)\n",
    "ax.set_xlabel(xlabel, fontsize=12, labelpad=15)\n",
    "ax.set_ylabel(ylabel, fontsize=12, labelpad=15) \n",
    "ax.grid(b=True, which='both')\n",
    "ax.margins(.1)\n",
    "\n",
    "# Plot figure\n",
    "plt.show(fig)"
   ]
  }
 ]
}